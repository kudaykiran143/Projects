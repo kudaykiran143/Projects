{
  "nbformat": 4,
  "nbformat_minor": 0,
  "metadata": {
    "colab": {
      "provenance": [],
      "toc_visible": true,
      "include_colab_link": true
    },
    "kernelspec": {
      "name": "python3",
      "display_name": "Python 3"
    },
    "language_info": {
      "name": "python"
    }
  },
  "cells": [
    {
      "cell_type": "markdown",
      "metadata": {
        "id": "view-in-github",
        "colab_type": "text"
      },
      "source": [
        "<a href=\"https://colab.research.google.com/github/kudaykiran143/Projects/blob/main/Heart_attack_prediction.ipynb\" target=\"_parent\"><img src=\"https://colab.research.google.com/assets/colab-badge.svg\" alt=\"Open In Colab\"/></a>"
      ]
    },
    {
      "cell_type": "markdown",
      "source": [
        "Project Presentation Link"
      ],
      "metadata": {
        "id": "RuhxvNbjvwoF"
      }
    },
    {
      "cell_type": "markdown",
      "source": [
        "https://drive.google.com/file/d/1zKlp2QbKn9HLuVaUjl4Sl0BTfl2m6QNZ/view?usp=sharing"
      ],
      "metadata": {
        "id": "EC9OtHKkv-Kq"
      }
    },
    {
      "cell_type": "markdown",
      "source": [
        "#Importing the libraries and dataset"
      ],
      "metadata": {
        "id": "8q7tKA1RMwQe"
      }
    },
    {
      "cell_type": "markdown",
      "source": [],
      "metadata": {
        "id": "9h0n90QGvwKC"
      }
    },
    {
      "cell_type": "code",
      "source": [
        "import numpy as np\n",
        "import pandas as pd\n",
        "import matplotlib.pyplot as plt\n",
        "import seaborn as sns\n"
      ],
      "metadata": {
        "id": "zqbMONiVMugi"
      },
      "execution_count": null,
      "outputs": []
    },
    {
      "cell_type": "markdown",
      "source": [],
      "metadata": {
        "id": "xSLJBx3Gvt-E"
      }
    },
    {
      "cell_type": "code",
      "source": [
        "data=pd.read_csv(\"heart.xlsx - heart.csv\")\n",
        "data"
      ],
      "metadata": {
        "colab": {
          "base_uri": "https://localhost:8080/",
          "height": 424
        },
        "id": "gXsHH_uBNMgD",
        "outputId": "f5b9a31d-5a82-40d9-8bbf-9f6341f8137e"
      },
      "execution_count": null,
      "outputs": [
        {
          "output_type": "execute_result",
          "data": {
            "text/plain": [
              "     age  sex  cp  trtbps  chol  fbs  restecg  thalachh  exng  oldpeak  slp  \\\n",
              "0     63    1   3     145   233    1        0       150     0      2.3    0   \n",
              "1     37    1   2     130   250    0        1       187     0      3.5    0   \n",
              "2     41    0   1     130   204    0        0       172     0      1.4    2   \n",
              "3     56    1   1     120   236    0        1       178     0      0.8    2   \n",
              "4     57    0   0     120   354    0        1       163     1      0.6    2   \n",
              "..   ...  ...  ..     ...   ...  ...      ...       ...   ...      ...  ...   \n",
              "298   57    0   0     140   241    0        1       123     1      0.2    1   \n",
              "299   45    1   3     110   264    0        1       132     0      1.2    1   \n",
              "300   68    1   0     144   193    1        1       141     0      3.4    1   \n",
              "301   57    1   0     130   131    0        1       115     1      1.2    1   \n",
              "302   57    0   1     130   236    0        0       174     0      0.0    1   \n",
              "\n",
              "     caa  thall  output  \n",
              "0      0      1       1  \n",
              "1      0      2       1  \n",
              "2      0      2       1  \n",
              "3      0      2       1  \n",
              "4      0      2       1  \n",
              "..   ...    ...     ...  \n",
              "298    0      3       0  \n",
              "299    0      3       0  \n",
              "300    2      3       0  \n",
              "301    1      3       0  \n",
              "302    1      2       0  \n",
              "\n",
              "[303 rows x 14 columns]"
            ],
            "text/html": [
              "\n",
              "  <div id=\"df-1acf942a-c684-42d9-a9d0-b72872f30adf\">\n",
              "    <div class=\"colab-df-container\">\n",
              "      <div>\n",
              "<style scoped>\n",
              "    .dataframe tbody tr th:only-of-type {\n",
              "        vertical-align: middle;\n",
              "    }\n",
              "\n",
              "    .dataframe tbody tr th {\n",
              "        vertical-align: top;\n",
              "    }\n",
              "\n",
              "    .dataframe thead th {\n",
              "        text-align: right;\n",
              "    }\n",
              "</style>\n",
              "<table border=\"1\" class=\"dataframe\">\n",
              "  <thead>\n",
              "    <tr style=\"text-align: right;\">\n",
              "      <th></th>\n",
              "      <th>age</th>\n",
              "      <th>sex</th>\n",
              "      <th>cp</th>\n",
              "      <th>trtbps</th>\n",
              "      <th>chol</th>\n",
              "      <th>fbs</th>\n",
              "      <th>restecg</th>\n",
              "      <th>thalachh</th>\n",
              "      <th>exng</th>\n",
              "      <th>oldpeak</th>\n",
              "      <th>slp</th>\n",
              "      <th>caa</th>\n",
              "      <th>thall</th>\n",
              "      <th>output</th>\n",
              "    </tr>\n",
              "  </thead>\n",
              "  <tbody>\n",
              "    <tr>\n",
              "      <th>0</th>\n",
              "      <td>63</td>\n",
              "      <td>1</td>\n",
              "      <td>3</td>\n",
              "      <td>145</td>\n",
              "      <td>233</td>\n",
              "      <td>1</td>\n",
              "      <td>0</td>\n",
              "      <td>150</td>\n",
              "      <td>0</td>\n",
              "      <td>2.3</td>\n",
              "      <td>0</td>\n",
              "      <td>0</td>\n",
              "      <td>1</td>\n",
              "      <td>1</td>\n",
              "    </tr>\n",
              "    <tr>\n",
              "      <th>1</th>\n",
              "      <td>37</td>\n",
              "      <td>1</td>\n",
              "      <td>2</td>\n",
              "      <td>130</td>\n",
              "      <td>250</td>\n",
              "      <td>0</td>\n",
              "      <td>1</td>\n",
              "      <td>187</td>\n",
              "      <td>0</td>\n",
              "      <td>3.5</td>\n",
              "      <td>0</td>\n",
              "      <td>0</td>\n",
              "      <td>2</td>\n",
              "      <td>1</td>\n",
              "    </tr>\n",
              "    <tr>\n",
              "      <th>2</th>\n",
              "      <td>41</td>\n",
              "      <td>0</td>\n",
              "      <td>1</td>\n",
              "      <td>130</td>\n",
              "      <td>204</td>\n",
              "      <td>0</td>\n",
              "      <td>0</td>\n",
              "      <td>172</td>\n",
              "      <td>0</td>\n",
              "      <td>1.4</td>\n",
              "      <td>2</td>\n",
              "      <td>0</td>\n",
              "      <td>2</td>\n",
              "      <td>1</td>\n",
              "    </tr>\n",
              "    <tr>\n",
              "      <th>3</th>\n",
              "      <td>56</td>\n",
              "      <td>1</td>\n",
              "      <td>1</td>\n",
              "      <td>120</td>\n",
              "      <td>236</td>\n",
              "      <td>0</td>\n",
              "      <td>1</td>\n",
              "      <td>178</td>\n",
              "      <td>0</td>\n",
              "      <td>0.8</td>\n",
              "      <td>2</td>\n",
              "      <td>0</td>\n",
              "      <td>2</td>\n",
              "      <td>1</td>\n",
              "    </tr>\n",
              "    <tr>\n",
              "      <th>4</th>\n",
              "      <td>57</td>\n",
              "      <td>0</td>\n",
              "      <td>0</td>\n",
              "      <td>120</td>\n",
              "      <td>354</td>\n",
              "      <td>0</td>\n",
              "      <td>1</td>\n",
              "      <td>163</td>\n",
              "      <td>1</td>\n",
              "      <td>0.6</td>\n",
              "      <td>2</td>\n",
              "      <td>0</td>\n",
              "      <td>2</td>\n",
              "      <td>1</td>\n",
              "    </tr>\n",
              "    <tr>\n",
              "      <th>...</th>\n",
              "      <td>...</td>\n",
              "      <td>...</td>\n",
              "      <td>...</td>\n",
              "      <td>...</td>\n",
              "      <td>...</td>\n",
              "      <td>...</td>\n",
              "      <td>...</td>\n",
              "      <td>...</td>\n",
              "      <td>...</td>\n",
              "      <td>...</td>\n",
              "      <td>...</td>\n",
              "      <td>...</td>\n",
              "      <td>...</td>\n",
              "      <td>...</td>\n",
              "    </tr>\n",
              "    <tr>\n",
              "      <th>298</th>\n",
              "      <td>57</td>\n",
              "      <td>0</td>\n",
              "      <td>0</td>\n",
              "      <td>140</td>\n",
              "      <td>241</td>\n",
              "      <td>0</td>\n",
              "      <td>1</td>\n",
              "      <td>123</td>\n",
              "      <td>1</td>\n",
              "      <td>0.2</td>\n",
              "      <td>1</td>\n",
              "      <td>0</td>\n",
              "      <td>3</td>\n",
              "      <td>0</td>\n",
              "    </tr>\n",
              "    <tr>\n",
              "      <th>299</th>\n",
              "      <td>45</td>\n",
              "      <td>1</td>\n",
              "      <td>3</td>\n",
              "      <td>110</td>\n",
              "      <td>264</td>\n",
              "      <td>0</td>\n",
              "      <td>1</td>\n",
              "      <td>132</td>\n",
              "      <td>0</td>\n",
              "      <td>1.2</td>\n",
              "      <td>1</td>\n",
              "      <td>0</td>\n",
              "      <td>3</td>\n",
              "      <td>0</td>\n",
              "    </tr>\n",
              "    <tr>\n",
              "      <th>300</th>\n",
              "      <td>68</td>\n",
              "      <td>1</td>\n",
              "      <td>0</td>\n",
              "      <td>144</td>\n",
              "      <td>193</td>\n",
              "      <td>1</td>\n",
              "      <td>1</td>\n",
              "      <td>141</td>\n",
              "      <td>0</td>\n",
              "      <td>3.4</td>\n",
              "      <td>1</td>\n",
              "      <td>2</td>\n",
              "      <td>3</td>\n",
              "      <td>0</td>\n",
              "    </tr>\n",
              "    <tr>\n",
              "      <th>301</th>\n",
              "      <td>57</td>\n",
              "      <td>1</td>\n",
              "      <td>0</td>\n",
              "      <td>130</td>\n",
              "      <td>131</td>\n",
              "      <td>0</td>\n",
              "      <td>1</td>\n",
              "      <td>115</td>\n",
              "      <td>1</td>\n",
              "      <td>1.2</td>\n",
              "      <td>1</td>\n",
              "      <td>1</td>\n",
              "      <td>3</td>\n",
              "      <td>0</td>\n",
              "    </tr>\n",
              "    <tr>\n",
              "      <th>302</th>\n",
              "      <td>57</td>\n",
              "      <td>0</td>\n",
              "      <td>1</td>\n",
              "      <td>130</td>\n",
              "      <td>236</td>\n",
              "      <td>0</td>\n",
              "      <td>0</td>\n",
              "      <td>174</td>\n",
              "      <td>0</td>\n",
              "      <td>0.0</td>\n",
              "      <td>1</td>\n",
              "      <td>1</td>\n",
              "      <td>2</td>\n",
              "      <td>0</td>\n",
              "    </tr>\n",
              "  </tbody>\n",
              "</table>\n",
              "<p>303 rows × 14 columns</p>\n",
              "</div>\n",
              "      <button class=\"colab-df-convert\" onclick=\"convertToInteractive('df-1acf942a-c684-42d9-a9d0-b72872f30adf')\"\n",
              "              title=\"Convert this dataframe to an interactive table.\"\n",
              "              style=\"display:none;\">\n",
              "        \n",
              "  <svg xmlns=\"http://www.w3.org/2000/svg\" height=\"24px\"viewBox=\"0 0 24 24\"\n",
              "       width=\"24px\">\n",
              "    <path d=\"M0 0h24v24H0V0z\" fill=\"none\"/>\n",
              "    <path d=\"M18.56 5.44l.94 2.06.94-2.06 2.06-.94-2.06-.94-.94-2.06-.94 2.06-2.06.94zm-11 1L8.5 8.5l.94-2.06 2.06-.94-2.06-.94L8.5 2.5l-.94 2.06-2.06.94zm10 10l.94 2.06.94-2.06 2.06-.94-2.06-.94-.94-2.06-.94 2.06-2.06.94z\"/><path d=\"M17.41 7.96l-1.37-1.37c-.4-.4-.92-.59-1.43-.59-.52 0-1.04.2-1.43.59L10.3 9.45l-7.72 7.72c-.78.78-.78 2.05 0 2.83L4 21.41c.39.39.9.59 1.41.59.51 0 1.02-.2 1.41-.59l7.78-7.78 2.81-2.81c.8-.78.8-2.07 0-2.86zM5.41 20L4 18.59l7.72-7.72 1.47 1.35L5.41 20z\"/>\n",
              "  </svg>\n",
              "      </button>\n",
              "      \n",
              "  <style>\n",
              "    .colab-df-container {\n",
              "      display:flex;\n",
              "      flex-wrap:wrap;\n",
              "      gap: 12px;\n",
              "    }\n",
              "\n",
              "    .colab-df-convert {\n",
              "      background-color: #E8F0FE;\n",
              "      border: none;\n",
              "      border-radius: 50%;\n",
              "      cursor: pointer;\n",
              "      display: none;\n",
              "      fill: #1967D2;\n",
              "      height: 32px;\n",
              "      padding: 0 0 0 0;\n",
              "      width: 32px;\n",
              "    }\n",
              "\n",
              "    .colab-df-convert:hover {\n",
              "      background-color: #E2EBFA;\n",
              "      box-shadow: 0px 1px 2px rgba(60, 64, 67, 0.3), 0px 1px 3px 1px rgba(60, 64, 67, 0.15);\n",
              "      fill: #174EA6;\n",
              "    }\n",
              "\n",
              "    [theme=dark] .colab-df-convert {\n",
              "      background-color: #3B4455;\n",
              "      fill: #D2E3FC;\n",
              "    }\n",
              "\n",
              "    [theme=dark] .colab-df-convert:hover {\n",
              "      background-color: #434B5C;\n",
              "      box-shadow: 0px 1px 3px 1px rgba(0, 0, 0, 0.15);\n",
              "      filter: drop-shadow(0px 1px 2px rgba(0, 0, 0, 0.3));\n",
              "      fill: #FFFFFF;\n",
              "    }\n",
              "  </style>\n",
              "\n",
              "      <script>\n",
              "        const buttonEl =\n",
              "          document.querySelector('#df-1acf942a-c684-42d9-a9d0-b72872f30adf button.colab-df-convert');\n",
              "        buttonEl.style.display =\n",
              "          google.colab.kernel.accessAllowed ? 'block' : 'none';\n",
              "\n",
              "        async function convertToInteractive(key) {\n",
              "          const element = document.querySelector('#df-1acf942a-c684-42d9-a9d0-b72872f30adf');\n",
              "          const dataTable =\n",
              "            await google.colab.kernel.invokeFunction('convertToInteractive',\n",
              "                                                     [key], {});\n",
              "          if (!dataTable) return;\n",
              "\n",
              "          const docLinkHtml = 'Like what you see? Visit the ' +\n",
              "            '<a target=\"_blank\" href=https://colab.research.google.com/notebooks/data_table.ipynb>data table notebook</a>'\n",
              "            + ' to learn more about interactive tables.';\n",
              "          element.innerHTML = '';\n",
              "          dataTable['output_type'] = 'display_data';\n",
              "          await google.colab.output.renderOutput(dataTable, element);\n",
              "          const docLink = document.createElement('div');\n",
              "          docLink.innerHTML = docLinkHtml;\n",
              "          element.appendChild(docLink);\n",
              "        }\n",
              "      </script>\n",
              "    </div>\n",
              "  </div>\n",
              "  "
            ]
          },
          "metadata": {},
          "execution_count": 112
        }
      ]
    },
    {
      "cell_type": "code",
      "source": [
        "data.head()"
      ],
      "metadata": {
        "colab": {
          "base_uri": "https://localhost:8080/",
          "height": 206
        },
        "id": "hLJK-1mIOtMz",
        "outputId": "d970a199-e169-4e0a-93b0-52107680343e"
      },
      "execution_count": null,
      "outputs": [
        {
          "output_type": "execute_result",
          "data": {
            "text/plain": [
              "   age  sex  cp  trtbps  chol  fbs  restecg  thalachh  exng  oldpeak  slp  \\\n",
              "0   63    1   3     145   233    1        0       150     0      2.3    0   \n",
              "1   37    1   2     130   250    0        1       187     0      3.5    0   \n",
              "2   41    0   1     130   204    0        0       172     0      1.4    2   \n",
              "3   56    1   1     120   236    0        1       178     0      0.8    2   \n",
              "4   57    0   0     120   354    0        1       163     1      0.6    2   \n",
              "\n",
              "   caa  thall  output  \n",
              "0    0      1       1  \n",
              "1    0      2       1  \n",
              "2    0      2       1  \n",
              "3    0      2       1  \n",
              "4    0      2       1  "
            ],
            "text/html": [
              "\n",
              "  <div id=\"df-3465a074-a523-43b2-a07e-b522f1fe4e1c\">\n",
              "    <div class=\"colab-df-container\">\n",
              "      <div>\n",
              "<style scoped>\n",
              "    .dataframe tbody tr th:only-of-type {\n",
              "        vertical-align: middle;\n",
              "    }\n",
              "\n",
              "    .dataframe tbody tr th {\n",
              "        vertical-align: top;\n",
              "    }\n",
              "\n",
              "    .dataframe thead th {\n",
              "        text-align: right;\n",
              "    }\n",
              "</style>\n",
              "<table border=\"1\" class=\"dataframe\">\n",
              "  <thead>\n",
              "    <tr style=\"text-align: right;\">\n",
              "      <th></th>\n",
              "      <th>age</th>\n",
              "      <th>sex</th>\n",
              "      <th>cp</th>\n",
              "      <th>trtbps</th>\n",
              "      <th>chol</th>\n",
              "      <th>fbs</th>\n",
              "      <th>restecg</th>\n",
              "      <th>thalachh</th>\n",
              "      <th>exng</th>\n",
              "      <th>oldpeak</th>\n",
              "      <th>slp</th>\n",
              "      <th>caa</th>\n",
              "      <th>thall</th>\n",
              "      <th>output</th>\n",
              "    </tr>\n",
              "  </thead>\n",
              "  <tbody>\n",
              "    <tr>\n",
              "      <th>0</th>\n",
              "      <td>63</td>\n",
              "      <td>1</td>\n",
              "      <td>3</td>\n",
              "      <td>145</td>\n",
              "      <td>233</td>\n",
              "      <td>1</td>\n",
              "      <td>0</td>\n",
              "      <td>150</td>\n",
              "      <td>0</td>\n",
              "      <td>2.3</td>\n",
              "      <td>0</td>\n",
              "      <td>0</td>\n",
              "      <td>1</td>\n",
              "      <td>1</td>\n",
              "    </tr>\n",
              "    <tr>\n",
              "      <th>1</th>\n",
              "      <td>37</td>\n",
              "      <td>1</td>\n",
              "      <td>2</td>\n",
              "      <td>130</td>\n",
              "      <td>250</td>\n",
              "      <td>0</td>\n",
              "      <td>1</td>\n",
              "      <td>187</td>\n",
              "      <td>0</td>\n",
              "      <td>3.5</td>\n",
              "      <td>0</td>\n",
              "      <td>0</td>\n",
              "      <td>2</td>\n",
              "      <td>1</td>\n",
              "    </tr>\n",
              "    <tr>\n",
              "      <th>2</th>\n",
              "      <td>41</td>\n",
              "      <td>0</td>\n",
              "      <td>1</td>\n",
              "      <td>130</td>\n",
              "      <td>204</td>\n",
              "      <td>0</td>\n",
              "      <td>0</td>\n",
              "      <td>172</td>\n",
              "      <td>0</td>\n",
              "      <td>1.4</td>\n",
              "      <td>2</td>\n",
              "      <td>0</td>\n",
              "      <td>2</td>\n",
              "      <td>1</td>\n",
              "    </tr>\n",
              "    <tr>\n",
              "      <th>3</th>\n",
              "      <td>56</td>\n",
              "      <td>1</td>\n",
              "      <td>1</td>\n",
              "      <td>120</td>\n",
              "      <td>236</td>\n",
              "      <td>0</td>\n",
              "      <td>1</td>\n",
              "      <td>178</td>\n",
              "      <td>0</td>\n",
              "      <td>0.8</td>\n",
              "      <td>2</td>\n",
              "      <td>0</td>\n",
              "      <td>2</td>\n",
              "      <td>1</td>\n",
              "    </tr>\n",
              "    <tr>\n",
              "      <th>4</th>\n",
              "      <td>57</td>\n",
              "      <td>0</td>\n",
              "      <td>0</td>\n",
              "      <td>120</td>\n",
              "      <td>354</td>\n",
              "      <td>0</td>\n",
              "      <td>1</td>\n",
              "      <td>163</td>\n",
              "      <td>1</td>\n",
              "      <td>0.6</td>\n",
              "      <td>2</td>\n",
              "      <td>0</td>\n",
              "      <td>2</td>\n",
              "      <td>1</td>\n",
              "    </tr>\n",
              "  </tbody>\n",
              "</table>\n",
              "</div>\n",
              "      <button class=\"colab-df-convert\" onclick=\"convertToInteractive('df-3465a074-a523-43b2-a07e-b522f1fe4e1c')\"\n",
              "              title=\"Convert this dataframe to an interactive table.\"\n",
              "              style=\"display:none;\">\n",
              "        \n",
              "  <svg xmlns=\"http://www.w3.org/2000/svg\" height=\"24px\"viewBox=\"0 0 24 24\"\n",
              "       width=\"24px\">\n",
              "    <path d=\"M0 0h24v24H0V0z\" fill=\"none\"/>\n",
              "    <path d=\"M18.56 5.44l.94 2.06.94-2.06 2.06-.94-2.06-.94-.94-2.06-.94 2.06-2.06.94zm-11 1L8.5 8.5l.94-2.06 2.06-.94-2.06-.94L8.5 2.5l-.94 2.06-2.06.94zm10 10l.94 2.06.94-2.06 2.06-.94-2.06-.94-.94-2.06-.94 2.06-2.06.94z\"/><path d=\"M17.41 7.96l-1.37-1.37c-.4-.4-.92-.59-1.43-.59-.52 0-1.04.2-1.43.59L10.3 9.45l-7.72 7.72c-.78.78-.78 2.05 0 2.83L4 21.41c.39.39.9.59 1.41.59.51 0 1.02-.2 1.41-.59l7.78-7.78 2.81-2.81c.8-.78.8-2.07 0-2.86zM5.41 20L4 18.59l7.72-7.72 1.47 1.35L5.41 20z\"/>\n",
              "  </svg>\n",
              "      </button>\n",
              "      \n",
              "  <style>\n",
              "    .colab-df-container {\n",
              "      display:flex;\n",
              "      flex-wrap:wrap;\n",
              "      gap: 12px;\n",
              "    }\n",
              "\n",
              "    .colab-df-convert {\n",
              "      background-color: #E8F0FE;\n",
              "      border: none;\n",
              "      border-radius: 50%;\n",
              "      cursor: pointer;\n",
              "      display: none;\n",
              "      fill: #1967D2;\n",
              "      height: 32px;\n",
              "      padding: 0 0 0 0;\n",
              "      width: 32px;\n",
              "    }\n",
              "\n",
              "    .colab-df-convert:hover {\n",
              "      background-color: #E2EBFA;\n",
              "      box-shadow: 0px 1px 2px rgba(60, 64, 67, 0.3), 0px 1px 3px 1px rgba(60, 64, 67, 0.15);\n",
              "      fill: #174EA6;\n",
              "    }\n",
              "\n",
              "    [theme=dark] .colab-df-convert {\n",
              "      background-color: #3B4455;\n",
              "      fill: #D2E3FC;\n",
              "    }\n",
              "\n",
              "    [theme=dark] .colab-df-convert:hover {\n",
              "      background-color: #434B5C;\n",
              "      box-shadow: 0px 1px 3px 1px rgba(0, 0, 0, 0.15);\n",
              "      filter: drop-shadow(0px 1px 2px rgba(0, 0, 0, 0.3));\n",
              "      fill: #FFFFFF;\n",
              "    }\n",
              "  </style>\n",
              "\n",
              "      <script>\n",
              "        const buttonEl =\n",
              "          document.querySelector('#df-3465a074-a523-43b2-a07e-b522f1fe4e1c button.colab-df-convert');\n",
              "        buttonEl.style.display =\n",
              "          google.colab.kernel.accessAllowed ? 'block' : 'none';\n",
              "\n",
              "        async function convertToInteractive(key) {\n",
              "          const element = document.querySelector('#df-3465a074-a523-43b2-a07e-b522f1fe4e1c');\n",
              "          const dataTable =\n",
              "            await google.colab.kernel.invokeFunction('convertToInteractive',\n",
              "                                                     [key], {});\n",
              "          if (!dataTable) return;\n",
              "\n",
              "          const docLinkHtml = 'Like what you see? Visit the ' +\n",
              "            '<a target=\"_blank\" href=https://colab.research.google.com/notebooks/data_table.ipynb>data table notebook</a>'\n",
              "            + ' to learn more about interactive tables.';\n",
              "          element.innerHTML = '';\n",
              "          dataTable['output_type'] = 'display_data';\n",
              "          await google.colab.output.renderOutput(dataTable, element);\n",
              "          const docLink = document.createElement('div');\n",
              "          docLink.innerHTML = docLinkHtml;\n",
              "          element.appendChild(docLink);\n",
              "        }\n",
              "      </script>\n",
              "    </div>\n",
              "  </div>\n",
              "  "
            ]
          },
          "metadata": {},
          "execution_count": 113
        }
      ]
    },
    {
      "cell_type": "code",
      "source": [
        "data.tail()"
      ],
      "metadata": {
        "colab": {
          "base_uri": "https://localhost:8080/",
          "height": 206
        },
        "id": "P2MZRDYdOw49",
        "outputId": "d10de8ff-3fbb-4a79-9e93-7730b234f35b"
      },
      "execution_count": null,
      "outputs": [
        {
          "output_type": "execute_result",
          "data": {
            "text/plain": [
              "     age  sex  cp  trtbps  chol  fbs  restecg  thalachh  exng  oldpeak  slp  \\\n",
              "298   57    0   0     140   241    0        1       123     1      0.2    1   \n",
              "299   45    1   3     110   264    0        1       132     0      1.2    1   \n",
              "300   68    1   0     144   193    1        1       141     0      3.4    1   \n",
              "301   57    1   0     130   131    0        1       115     1      1.2    1   \n",
              "302   57    0   1     130   236    0        0       174     0      0.0    1   \n",
              "\n",
              "     caa  thall  output  \n",
              "298    0      3       0  \n",
              "299    0      3       0  \n",
              "300    2      3       0  \n",
              "301    1      3       0  \n",
              "302    1      2       0  "
            ],
            "text/html": [
              "\n",
              "  <div id=\"df-706027c9-7abc-4b2d-b964-93e1aab83174\">\n",
              "    <div class=\"colab-df-container\">\n",
              "      <div>\n",
              "<style scoped>\n",
              "    .dataframe tbody tr th:only-of-type {\n",
              "        vertical-align: middle;\n",
              "    }\n",
              "\n",
              "    .dataframe tbody tr th {\n",
              "        vertical-align: top;\n",
              "    }\n",
              "\n",
              "    .dataframe thead th {\n",
              "        text-align: right;\n",
              "    }\n",
              "</style>\n",
              "<table border=\"1\" class=\"dataframe\">\n",
              "  <thead>\n",
              "    <tr style=\"text-align: right;\">\n",
              "      <th></th>\n",
              "      <th>age</th>\n",
              "      <th>sex</th>\n",
              "      <th>cp</th>\n",
              "      <th>trtbps</th>\n",
              "      <th>chol</th>\n",
              "      <th>fbs</th>\n",
              "      <th>restecg</th>\n",
              "      <th>thalachh</th>\n",
              "      <th>exng</th>\n",
              "      <th>oldpeak</th>\n",
              "      <th>slp</th>\n",
              "      <th>caa</th>\n",
              "      <th>thall</th>\n",
              "      <th>output</th>\n",
              "    </tr>\n",
              "  </thead>\n",
              "  <tbody>\n",
              "    <tr>\n",
              "      <th>298</th>\n",
              "      <td>57</td>\n",
              "      <td>0</td>\n",
              "      <td>0</td>\n",
              "      <td>140</td>\n",
              "      <td>241</td>\n",
              "      <td>0</td>\n",
              "      <td>1</td>\n",
              "      <td>123</td>\n",
              "      <td>1</td>\n",
              "      <td>0.2</td>\n",
              "      <td>1</td>\n",
              "      <td>0</td>\n",
              "      <td>3</td>\n",
              "      <td>0</td>\n",
              "    </tr>\n",
              "    <tr>\n",
              "      <th>299</th>\n",
              "      <td>45</td>\n",
              "      <td>1</td>\n",
              "      <td>3</td>\n",
              "      <td>110</td>\n",
              "      <td>264</td>\n",
              "      <td>0</td>\n",
              "      <td>1</td>\n",
              "      <td>132</td>\n",
              "      <td>0</td>\n",
              "      <td>1.2</td>\n",
              "      <td>1</td>\n",
              "      <td>0</td>\n",
              "      <td>3</td>\n",
              "      <td>0</td>\n",
              "    </tr>\n",
              "    <tr>\n",
              "      <th>300</th>\n",
              "      <td>68</td>\n",
              "      <td>1</td>\n",
              "      <td>0</td>\n",
              "      <td>144</td>\n",
              "      <td>193</td>\n",
              "      <td>1</td>\n",
              "      <td>1</td>\n",
              "      <td>141</td>\n",
              "      <td>0</td>\n",
              "      <td>3.4</td>\n",
              "      <td>1</td>\n",
              "      <td>2</td>\n",
              "      <td>3</td>\n",
              "      <td>0</td>\n",
              "    </tr>\n",
              "    <tr>\n",
              "      <th>301</th>\n",
              "      <td>57</td>\n",
              "      <td>1</td>\n",
              "      <td>0</td>\n",
              "      <td>130</td>\n",
              "      <td>131</td>\n",
              "      <td>0</td>\n",
              "      <td>1</td>\n",
              "      <td>115</td>\n",
              "      <td>1</td>\n",
              "      <td>1.2</td>\n",
              "      <td>1</td>\n",
              "      <td>1</td>\n",
              "      <td>3</td>\n",
              "      <td>0</td>\n",
              "    </tr>\n",
              "    <tr>\n",
              "      <th>302</th>\n",
              "      <td>57</td>\n",
              "      <td>0</td>\n",
              "      <td>1</td>\n",
              "      <td>130</td>\n",
              "      <td>236</td>\n",
              "      <td>0</td>\n",
              "      <td>0</td>\n",
              "      <td>174</td>\n",
              "      <td>0</td>\n",
              "      <td>0.0</td>\n",
              "      <td>1</td>\n",
              "      <td>1</td>\n",
              "      <td>2</td>\n",
              "      <td>0</td>\n",
              "    </tr>\n",
              "  </tbody>\n",
              "</table>\n",
              "</div>\n",
              "      <button class=\"colab-df-convert\" onclick=\"convertToInteractive('df-706027c9-7abc-4b2d-b964-93e1aab83174')\"\n",
              "              title=\"Convert this dataframe to an interactive table.\"\n",
              "              style=\"display:none;\">\n",
              "        \n",
              "  <svg xmlns=\"http://www.w3.org/2000/svg\" height=\"24px\"viewBox=\"0 0 24 24\"\n",
              "       width=\"24px\">\n",
              "    <path d=\"M0 0h24v24H0V0z\" fill=\"none\"/>\n",
              "    <path d=\"M18.56 5.44l.94 2.06.94-2.06 2.06-.94-2.06-.94-.94-2.06-.94 2.06-2.06.94zm-11 1L8.5 8.5l.94-2.06 2.06-.94-2.06-.94L8.5 2.5l-.94 2.06-2.06.94zm10 10l.94 2.06.94-2.06 2.06-.94-2.06-.94-.94-2.06-.94 2.06-2.06.94z\"/><path d=\"M17.41 7.96l-1.37-1.37c-.4-.4-.92-.59-1.43-.59-.52 0-1.04.2-1.43.59L10.3 9.45l-7.72 7.72c-.78.78-.78 2.05 0 2.83L4 21.41c.39.39.9.59 1.41.59.51 0 1.02-.2 1.41-.59l7.78-7.78 2.81-2.81c.8-.78.8-2.07 0-2.86zM5.41 20L4 18.59l7.72-7.72 1.47 1.35L5.41 20z\"/>\n",
              "  </svg>\n",
              "      </button>\n",
              "      \n",
              "  <style>\n",
              "    .colab-df-container {\n",
              "      display:flex;\n",
              "      flex-wrap:wrap;\n",
              "      gap: 12px;\n",
              "    }\n",
              "\n",
              "    .colab-df-convert {\n",
              "      background-color: #E8F0FE;\n",
              "      border: none;\n",
              "      border-radius: 50%;\n",
              "      cursor: pointer;\n",
              "      display: none;\n",
              "      fill: #1967D2;\n",
              "      height: 32px;\n",
              "      padding: 0 0 0 0;\n",
              "      width: 32px;\n",
              "    }\n",
              "\n",
              "    .colab-df-convert:hover {\n",
              "      background-color: #E2EBFA;\n",
              "      box-shadow: 0px 1px 2px rgba(60, 64, 67, 0.3), 0px 1px 3px 1px rgba(60, 64, 67, 0.15);\n",
              "      fill: #174EA6;\n",
              "    }\n",
              "\n",
              "    [theme=dark] .colab-df-convert {\n",
              "      background-color: #3B4455;\n",
              "      fill: #D2E3FC;\n",
              "    }\n",
              "\n",
              "    [theme=dark] .colab-df-convert:hover {\n",
              "      background-color: #434B5C;\n",
              "      box-shadow: 0px 1px 3px 1px rgba(0, 0, 0, 0.15);\n",
              "      filter: drop-shadow(0px 1px 2px rgba(0, 0, 0, 0.3));\n",
              "      fill: #FFFFFF;\n",
              "    }\n",
              "  </style>\n",
              "\n",
              "      <script>\n",
              "        const buttonEl =\n",
              "          document.querySelector('#df-706027c9-7abc-4b2d-b964-93e1aab83174 button.colab-df-convert');\n",
              "        buttonEl.style.display =\n",
              "          google.colab.kernel.accessAllowed ? 'block' : 'none';\n",
              "\n",
              "        async function convertToInteractive(key) {\n",
              "          const element = document.querySelector('#df-706027c9-7abc-4b2d-b964-93e1aab83174');\n",
              "          const dataTable =\n",
              "            await google.colab.kernel.invokeFunction('convertToInteractive',\n",
              "                                                     [key], {});\n",
              "          if (!dataTable) return;\n",
              "\n",
              "          const docLinkHtml = 'Like what you see? Visit the ' +\n",
              "            '<a target=\"_blank\" href=https://colab.research.google.com/notebooks/data_table.ipynb>data table notebook</a>'\n",
              "            + ' to learn more about interactive tables.';\n",
              "          element.innerHTML = '';\n",
              "          dataTable['output_type'] = 'display_data';\n",
              "          await google.colab.output.renderOutput(dataTable, element);\n",
              "          const docLink = document.createElement('div');\n",
              "          docLink.innerHTML = docLinkHtml;\n",
              "          element.appendChild(docLink);\n",
              "        }\n",
              "      </script>\n",
              "    </div>\n",
              "  </div>\n",
              "  "
            ]
          },
          "metadata": {},
          "execution_count": 114
        }
      ]
    },
    {
      "cell_type": "code",
      "source": [
        "data.describe()"
      ],
      "metadata": {
        "colab": {
          "base_uri": "https://localhost:8080/",
          "height": 300
        },
        "id": "sgov5-PbNV9q",
        "outputId": "9d91f291-e084-4157-960e-4782076a3927"
      },
      "execution_count": null,
      "outputs": [
        {
          "output_type": "execute_result",
          "data": {
            "text/plain": [
              "              age         sex          cp      trtbps        chol         fbs  \\\n",
              "count  303.000000  303.000000  303.000000  303.000000  303.000000  303.000000   \n",
              "mean    54.366337    0.683168    0.966997  131.623762  246.264026    0.148515   \n",
              "std      9.082101    0.466011    1.032052   17.538143   51.830751    0.356198   \n",
              "min     29.000000    0.000000    0.000000   94.000000  126.000000    0.000000   \n",
              "25%     47.500000    0.000000    0.000000  120.000000  211.000000    0.000000   \n",
              "50%     55.000000    1.000000    1.000000  130.000000  240.000000    0.000000   \n",
              "75%     61.000000    1.000000    2.000000  140.000000  274.500000    0.000000   \n",
              "max     77.000000    1.000000    3.000000  200.000000  564.000000    1.000000   \n",
              "\n",
              "          restecg    thalachh        exng     oldpeak         slp         caa  \\\n",
              "count  303.000000  303.000000  303.000000  303.000000  303.000000  303.000000   \n",
              "mean     0.528053  149.646865    0.326733    1.039604    1.399340    0.729373   \n",
              "std      0.525860   22.905161    0.469794    1.161075    0.616226    1.022606   \n",
              "min      0.000000   71.000000    0.000000    0.000000    0.000000    0.000000   \n",
              "25%      0.000000  133.500000    0.000000    0.000000    1.000000    0.000000   \n",
              "50%      1.000000  153.000000    0.000000    0.800000    1.000000    0.000000   \n",
              "75%      1.000000  166.000000    1.000000    1.600000    2.000000    1.000000   \n",
              "max      2.000000  202.000000    1.000000    6.200000    2.000000    4.000000   \n",
              "\n",
              "            thall      output  \n",
              "count  303.000000  303.000000  \n",
              "mean     2.313531    0.544554  \n",
              "std      0.612277    0.498835  \n",
              "min      0.000000    0.000000  \n",
              "25%      2.000000    0.000000  \n",
              "50%      2.000000    1.000000  \n",
              "75%      3.000000    1.000000  \n",
              "max      3.000000    1.000000  "
            ],
            "text/html": [
              "\n",
              "  <div id=\"df-998aa321-fff0-44c0-a4d1-bd02ea0f779f\">\n",
              "    <div class=\"colab-df-container\">\n",
              "      <div>\n",
              "<style scoped>\n",
              "    .dataframe tbody tr th:only-of-type {\n",
              "        vertical-align: middle;\n",
              "    }\n",
              "\n",
              "    .dataframe tbody tr th {\n",
              "        vertical-align: top;\n",
              "    }\n",
              "\n",
              "    .dataframe thead th {\n",
              "        text-align: right;\n",
              "    }\n",
              "</style>\n",
              "<table border=\"1\" class=\"dataframe\">\n",
              "  <thead>\n",
              "    <tr style=\"text-align: right;\">\n",
              "      <th></th>\n",
              "      <th>age</th>\n",
              "      <th>sex</th>\n",
              "      <th>cp</th>\n",
              "      <th>trtbps</th>\n",
              "      <th>chol</th>\n",
              "      <th>fbs</th>\n",
              "      <th>restecg</th>\n",
              "      <th>thalachh</th>\n",
              "      <th>exng</th>\n",
              "      <th>oldpeak</th>\n",
              "      <th>slp</th>\n",
              "      <th>caa</th>\n",
              "      <th>thall</th>\n",
              "      <th>output</th>\n",
              "    </tr>\n",
              "  </thead>\n",
              "  <tbody>\n",
              "    <tr>\n",
              "      <th>count</th>\n",
              "      <td>303.000000</td>\n",
              "      <td>303.000000</td>\n",
              "      <td>303.000000</td>\n",
              "      <td>303.000000</td>\n",
              "      <td>303.000000</td>\n",
              "      <td>303.000000</td>\n",
              "      <td>303.000000</td>\n",
              "      <td>303.000000</td>\n",
              "      <td>303.000000</td>\n",
              "      <td>303.000000</td>\n",
              "      <td>303.000000</td>\n",
              "      <td>303.000000</td>\n",
              "      <td>303.000000</td>\n",
              "      <td>303.000000</td>\n",
              "    </tr>\n",
              "    <tr>\n",
              "      <th>mean</th>\n",
              "      <td>54.366337</td>\n",
              "      <td>0.683168</td>\n",
              "      <td>0.966997</td>\n",
              "      <td>131.623762</td>\n",
              "      <td>246.264026</td>\n",
              "      <td>0.148515</td>\n",
              "      <td>0.528053</td>\n",
              "      <td>149.646865</td>\n",
              "      <td>0.326733</td>\n",
              "      <td>1.039604</td>\n",
              "      <td>1.399340</td>\n",
              "      <td>0.729373</td>\n",
              "      <td>2.313531</td>\n",
              "      <td>0.544554</td>\n",
              "    </tr>\n",
              "    <tr>\n",
              "      <th>std</th>\n",
              "      <td>9.082101</td>\n",
              "      <td>0.466011</td>\n",
              "      <td>1.032052</td>\n",
              "      <td>17.538143</td>\n",
              "      <td>51.830751</td>\n",
              "      <td>0.356198</td>\n",
              "      <td>0.525860</td>\n",
              "      <td>22.905161</td>\n",
              "      <td>0.469794</td>\n",
              "      <td>1.161075</td>\n",
              "      <td>0.616226</td>\n",
              "      <td>1.022606</td>\n",
              "      <td>0.612277</td>\n",
              "      <td>0.498835</td>\n",
              "    </tr>\n",
              "    <tr>\n",
              "      <th>min</th>\n",
              "      <td>29.000000</td>\n",
              "      <td>0.000000</td>\n",
              "      <td>0.000000</td>\n",
              "      <td>94.000000</td>\n",
              "      <td>126.000000</td>\n",
              "      <td>0.000000</td>\n",
              "      <td>0.000000</td>\n",
              "      <td>71.000000</td>\n",
              "      <td>0.000000</td>\n",
              "      <td>0.000000</td>\n",
              "      <td>0.000000</td>\n",
              "      <td>0.000000</td>\n",
              "      <td>0.000000</td>\n",
              "      <td>0.000000</td>\n",
              "    </tr>\n",
              "    <tr>\n",
              "      <th>25%</th>\n",
              "      <td>47.500000</td>\n",
              "      <td>0.000000</td>\n",
              "      <td>0.000000</td>\n",
              "      <td>120.000000</td>\n",
              "      <td>211.000000</td>\n",
              "      <td>0.000000</td>\n",
              "      <td>0.000000</td>\n",
              "      <td>133.500000</td>\n",
              "      <td>0.000000</td>\n",
              "      <td>0.000000</td>\n",
              "      <td>1.000000</td>\n",
              "      <td>0.000000</td>\n",
              "      <td>2.000000</td>\n",
              "      <td>0.000000</td>\n",
              "    </tr>\n",
              "    <tr>\n",
              "      <th>50%</th>\n",
              "      <td>55.000000</td>\n",
              "      <td>1.000000</td>\n",
              "      <td>1.000000</td>\n",
              "      <td>130.000000</td>\n",
              "      <td>240.000000</td>\n",
              "      <td>0.000000</td>\n",
              "      <td>1.000000</td>\n",
              "      <td>153.000000</td>\n",
              "      <td>0.000000</td>\n",
              "      <td>0.800000</td>\n",
              "      <td>1.000000</td>\n",
              "      <td>0.000000</td>\n",
              "      <td>2.000000</td>\n",
              "      <td>1.000000</td>\n",
              "    </tr>\n",
              "    <tr>\n",
              "      <th>75%</th>\n",
              "      <td>61.000000</td>\n",
              "      <td>1.000000</td>\n",
              "      <td>2.000000</td>\n",
              "      <td>140.000000</td>\n",
              "      <td>274.500000</td>\n",
              "      <td>0.000000</td>\n",
              "      <td>1.000000</td>\n",
              "      <td>166.000000</td>\n",
              "      <td>1.000000</td>\n",
              "      <td>1.600000</td>\n",
              "      <td>2.000000</td>\n",
              "      <td>1.000000</td>\n",
              "      <td>3.000000</td>\n",
              "      <td>1.000000</td>\n",
              "    </tr>\n",
              "    <tr>\n",
              "      <th>max</th>\n",
              "      <td>77.000000</td>\n",
              "      <td>1.000000</td>\n",
              "      <td>3.000000</td>\n",
              "      <td>200.000000</td>\n",
              "      <td>564.000000</td>\n",
              "      <td>1.000000</td>\n",
              "      <td>2.000000</td>\n",
              "      <td>202.000000</td>\n",
              "      <td>1.000000</td>\n",
              "      <td>6.200000</td>\n",
              "      <td>2.000000</td>\n",
              "      <td>4.000000</td>\n",
              "      <td>3.000000</td>\n",
              "      <td>1.000000</td>\n",
              "    </tr>\n",
              "  </tbody>\n",
              "</table>\n",
              "</div>\n",
              "      <button class=\"colab-df-convert\" onclick=\"convertToInteractive('df-998aa321-fff0-44c0-a4d1-bd02ea0f779f')\"\n",
              "              title=\"Convert this dataframe to an interactive table.\"\n",
              "              style=\"display:none;\">\n",
              "        \n",
              "  <svg xmlns=\"http://www.w3.org/2000/svg\" height=\"24px\"viewBox=\"0 0 24 24\"\n",
              "       width=\"24px\">\n",
              "    <path d=\"M0 0h24v24H0V0z\" fill=\"none\"/>\n",
              "    <path d=\"M18.56 5.44l.94 2.06.94-2.06 2.06-.94-2.06-.94-.94-2.06-.94 2.06-2.06.94zm-11 1L8.5 8.5l.94-2.06 2.06-.94-2.06-.94L8.5 2.5l-.94 2.06-2.06.94zm10 10l.94 2.06.94-2.06 2.06-.94-2.06-.94-.94-2.06-.94 2.06-2.06.94z\"/><path d=\"M17.41 7.96l-1.37-1.37c-.4-.4-.92-.59-1.43-.59-.52 0-1.04.2-1.43.59L10.3 9.45l-7.72 7.72c-.78.78-.78 2.05 0 2.83L4 21.41c.39.39.9.59 1.41.59.51 0 1.02-.2 1.41-.59l7.78-7.78 2.81-2.81c.8-.78.8-2.07 0-2.86zM5.41 20L4 18.59l7.72-7.72 1.47 1.35L5.41 20z\"/>\n",
              "  </svg>\n",
              "      </button>\n",
              "      \n",
              "  <style>\n",
              "    .colab-df-container {\n",
              "      display:flex;\n",
              "      flex-wrap:wrap;\n",
              "      gap: 12px;\n",
              "    }\n",
              "\n",
              "    .colab-df-convert {\n",
              "      background-color: #E8F0FE;\n",
              "      border: none;\n",
              "      border-radius: 50%;\n",
              "      cursor: pointer;\n",
              "      display: none;\n",
              "      fill: #1967D2;\n",
              "      height: 32px;\n",
              "      padding: 0 0 0 0;\n",
              "      width: 32px;\n",
              "    }\n",
              "\n",
              "    .colab-df-convert:hover {\n",
              "      background-color: #E2EBFA;\n",
              "      box-shadow: 0px 1px 2px rgba(60, 64, 67, 0.3), 0px 1px 3px 1px rgba(60, 64, 67, 0.15);\n",
              "      fill: #174EA6;\n",
              "    }\n",
              "\n",
              "    [theme=dark] .colab-df-convert {\n",
              "      background-color: #3B4455;\n",
              "      fill: #D2E3FC;\n",
              "    }\n",
              "\n",
              "    [theme=dark] .colab-df-convert:hover {\n",
              "      background-color: #434B5C;\n",
              "      box-shadow: 0px 1px 3px 1px rgba(0, 0, 0, 0.15);\n",
              "      filter: drop-shadow(0px 1px 2px rgba(0, 0, 0, 0.3));\n",
              "      fill: #FFFFFF;\n",
              "    }\n",
              "  </style>\n",
              "\n",
              "      <script>\n",
              "        const buttonEl =\n",
              "          document.querySelector('#df-998aa321-fff0-44c0-a4d1-bd02ea0f779f button.colab-df-convert');\n",
              "        buttonEl.style.display =\n",
              "          google.colab.kernel.accessAllowed ? 'block' : 'none';\n",
              "\n",
              "        async function convertToInteractive(key) {\n",
              "          const element = document.querySelector('#df-998aa321-fff0-44c0-a4d1-bd02ea0f779f');\n",
              "          const dataTable =\n",
              "            await google.colab.kernel.invokeFunction('convertToInteractive',\n",
              "                                                     [key], {});\n",
              "          if (!dataTable) return;\n",
              "\n",
              "          const docLinkHtml = 'Like what you see? Visit the ' +\n",
              "            '<a target=\"_blank\" href=https://colab.research.google.com/notebooks/data_table.ipynb>data table notebook</a>'\n",
              "            + ' to learn more about interactive tables.';\n",
              "          element.innerHTML = '';\n",
              "          dataTable['output_type'] = 'display_data';\n",
              "          await google.colab.output.renderOutput(dataTable, element);\n",
              "          const docLink = document.createElement('div');\n",
              "          docLink.innerHTML = docLinkHtml;\n",
              "          element.appendChild(docLink);\n",
              "        }\n",
              "      </script>\n",
              "    </div>\n",
              "  </div>\n",
              "  "
            ]
          },
          "metadata": {},
          "execution_count": 115
        }
      ]
    },
    {
      "cell_type": "code",
      "source": [
        "data.info()\n"
      ],
      "metadata": {
        "colab": {
          "base_uri": "https://localhost:8080/"
        },
        "id": "IGKQ9IvKNZuc",
        "outputId": "0b180830-144b-4a88-ba09-ae1d67dad389"
      },
      "execution_count": null,
      "outputs": [
        {
          "output_type": "stream",
          "name": "stdout",
          "text": [
            "<class 'pandas.core.frame.DataFrame'>\n",
            "RangeIndex: 303 entries, 0 to 302\n",
            "Data columns (total 14 columns):\n",
            " #   Column    Non-Null Count  Dtype  \n",
            "---  ------    --------------  -----  \n",
            " 0   age       303 non-null    int64  \n",
            " 1   sex       303 non-null    int64  \n",
            " 2   cp        303 non-null    int64  \n",
            " 3   trtbps    303 non-null    int64  \n",
            " 4   chol      303 non-null    int64  \n",
            " 5   fbs       303 non-null    int64  \n",
            " 6   restecg   303 non-null    int64  \n",
            " 7   thalachh  303 non-null    int64  \n",
            " 8   exng      303 non-null    int64  \n",
            " 9   oldpeak   303 non-null    float64\n",
            " 10  slp       303 non-null    int64  \n",
            " 11  caa       303 non-null    int64  \n",
            " 12  thall     303 non-null    int64  \n",
            " 13  output    303 non-null    int64  \n",
            "dtypes: float64(1), int64(13)\n",
            "memory usage: 33.3 KB\n"
          ]
        }
      ]
    },
    {
      "cell_type": "code",
      "source": [],
      "metadata": {
        "id": "aJpA0GKZNctO"
      },
      "execution_count": null,
      "outputs": []
    },
    {
      "cell_type": "markdown",
      "source": [
        "#Data cleaning"
      ],
      "metadata": {
        "id": "3E4NZujeNhAD"
      }
    },
    {
      "cell_type": "code",
      "source": [
        "data.isna().sum()"
      ],
      "metadata": {
        "colab": {
          "base_uri": "https://localhost:8080/"
        },
        "id": "XLzFAF_xNjgP",
        "outputId": "ea4ff15a-d470-44f2-839f-b3e49bbebbd3"
      },
      "execution_count": null,
      "outputs": [
        {
          "output_type": "execute_result",
          "data": {
            "text/plain": [
              "age         0\n",
              "sex         0\n",
              "cp          0\n",
              "trtbps      0\n",
              "chol        0\n",
              "fbs         0\n",
              "restecg     0\n",
              "thalachh    0\n",
              "exng        0\n",
              "oldpeak     0\n",
              "slp         0\n",
              "caa         0\n",
              "thall       0\n",
              "output      0\n",
              "dtype: int64"
            ]
          },
          "metadata": {},
          "execution_count": 117
        }
      ]
    },
    {
      "cell_type": "code",
      "source": [
        "plt.figure(figsize=(10,10))\n",
        "p = sns.boxplot(data = data,orient = 'v',width=0.8)\n",
        "plt.xticks(rotation=90)"
      ],
      "metadata": {
        "colab": {
          "base_uri": "https://localhost:8080/",
          "height": 660
        },
        "id": "Z0h6YBWiNntv",
        "outputId": "9214bc3e-fa10-49cd-b853-15cac789290c"
      },
      "execution_count": null,
      "outputs": [
        {
          "output_type": "execute_result",
          "data": {
            "text/plain": [
              "(array([ 0,  1,  2,  3,  4,  5,  6,  7,  8,  9, 10, 11, 12, 13]),\n",
              " <a list of 14 Text major ticklabel objects>)"
            ]
          },
          "metadata": {},
          "execution_count": 118
        },
        {
          "output_type": "display_data",
          "data": {
            "text/plain": [
              "<Figure size 720x720 with 1 Axes>"
            ],
            "image/png": "[encoded data removed]"
          },
          "metadata": {}
        }
      ]
    },
    {
      "cell_type": "code",
      "source": [
        "q3 = data['trtbps'].quantile(.75)\n",
        "q1 = data['trtbps'].quantile(.25)\n",
        "iqr = q3-q1\n",
        "iqr"
      ],
      "metadata": {
        "colab": {
          "base_uri": "https://localhost:8080/"
        },
        "id": "EtlzezQZNulr",
        "outputId": "2c0f3282-9537-4bc8-8099-e2feebd7c2b0"
      },
      "execution_count": null,
      "outputs": [
        {
          "output_type": "execute_result",
          "data": {
            "text/plain": [
              "20.0"
            ]
          },
          "metadata": {},
          "execution_count": 119
        }
      ]
    },
    {
      "cell_type": "code",
      "source": [
        "upperrange = q3+1.5*iqr\n",
        "bottomrange = q1-1.5*iqr\n",
        "data = data[(data['trtbps']>bottomrange) & (data['trtbps']<upperrange)] \n",
        "sns.boxplot(data=data,x='trtbps')"
      ],
      "metadata": {
        "colab": {
          "base_uri": "https://localhost:8080/",
          "height": 405
        },
        "id": "R-rsbptQN0uO",
        "outputId": "83fb628f-d85c-4917-d6b1-60ad2c74122b"
      },
      "execution_count": null,
      "outputs": [
        {
          "output_type": "execute_result",
          "data": {
            "text/plain": [
              "<matplotlib.axes._subplots.AxesSubplot at 0x7fd664d09710>"
            ]
          },
          "metadata": {},
          "execution_count": 120
        },
        {
          "output_type": "display_data",
          "data": {
            "text/plain": [
              "<Figure size 720x432 with 1 Axes>"
            ],
            "image/png": "[encoded data removed]"
          },
          "metadata": {}
        }
      ]
    },
    {
      "cell_type": "code",
      "source": [
        "q3 = data['chol'].quantile(.75)\n",
        "q1 = data['chol'].quantile(.25)\n",
        "iqr = q3-q1\n",
        "iqr"
      ],
      "metadata": {
        "colab": {
          "base_uri": "https://localhost:8080/"
        },
        "id": "LqoqnWw5N47M",
        "outputId": "a73f97a4-27b6-4eb7-ff06-d8f849c720a4"
      },
      "execution_count": null,
      "outputs": [
        {
          "output_type": "execute_result",
          "data": {
            "text/plain": [
              "62.75"
            ]
          },
          "metadata": {},
          "execution_count": 121
        }
      ]
    },
    {
      "cell_type": "code",
      "source": [
        "upperrange = q3+1.5*iqr\n",
        "bottomrange = q1-1.5*iqr\n",
        "data = data[(data['chol']>bottomrange) & (data['chol']<upperrange)] \n",
        "sns.boxplot(data=data,x='chol')"
      ],
      "metadata": {
        "colab": {
          "base_uri": "https://localhost:8080/",
          "height": 405
        },
        "id": "tBUKi-zXN8WB",
        "outputId": "99275554-4897-4b95-e068-a862505d109e"
      },
      "execution_count": null,
      "outputs": [
        {
          "output_type": "execute_result",
          "data": {
            "text/plain": [
              "<matplotlib.axes._subplots.AxesSubplot at 0x7fd664c72310>"
            ]
          },
          "metadata": {},
          "execution_count": 122
        },
        {
          "output_type": "display_data",
          "data": {
            "text/plain": [
              "<Figure size 720x432 with 1 Axes>"
            ],
            "image/png": "[encoded data removed]"
          },
          "metadata": {}
        }
      ]
    },
    {
      "cell_type": "code",
      "source": [
        "q3 = data['thalachh'].quantile(.75)\n",
        "q1 = data['thalachh'].quantile(.25)\n",
        "iqr = q3-q1\n",
        "iqr"
      ],
      "metadata": {
        "colab": {
          "base_uri": "https://localhost:8080/"
        },
        "id": "pXanqVQeN_r_",
        "outputId": "47843882-3b52-4f32-e86f-a686158b2ac3"
      },
      "execution_count": null,
      "outputs": [
        {
          "output_type": "execute_result",
          "data": {
            "text/plain": [
              "36.0"
            ]
          },
          "metadata": {},
          "execution_count": 123
        }
      ]
    },
    {
      "cell_type": "code",
      "source": [
        "upperrange = q3+1.5*iqr\n",
        "bottomrange = q1-1.5*iqr\n",
        "data = data[(data['thalachh']>bottomrange) & (data['thalachh']<upperrange)] \n",
        "sns.boxplot(data=data,x='thalachh')"
      ],
      "metadata": {
        "colab": {
          "base_uri": "https://localhost:8080/",
          "height": 405
        },
        "id": "0pI1IqfMODa-",
        "outputId": "f641a616-9d0b-4cf8-9875-0197886bce28"
      },
      "execution_count": null,
      "outputs": [
        {
          "output_type": "execute_result",
          "data": {
            "text/plain": [
              "<matplotlib.axes._subplots.AxesSubplot at 0x7fd664bee3d0>"
            ]
          },
          "metadata": {},
          "execution_count": 124
        },
        {
          "output_type": "display_data",
          "data": {
            "text/plain": [
              "<Figure size 720x432 with 1 Axes>"
            ],
            "image/png": "[encoded data removed]"
          },
          "metadata": {}
        }
      ]
    },
    {
      "cell_type": "code",
      "source": [
        "plt.figure(figsize=(10,10))\n",
        "p = sns.boxplot(data = data,orient = 'v',width=0.8)\n",
        "plt.xticks(rotation=90)"
      ],
      "metadata": {
        "colab": {
          "base_uri": "https://localhost:8080/",
          "height": 660
        },
        "id": "71ORY4s2OG3G",
        "outputId": "10167d22-174d-498a-86bf-51639bf0ef06"
      },
      "execution_count": null,
      "outputs": [
        {
          "output_type": "execute_result",
          "data": {
            "text/plain": [
              "(array([ 0,  1,  2,  3,  4,  5,  6,  7,  8,  9, 10, 11, 12, 13]),\n",
              " <a list of 14 Text major ticklabel objects>)"
            ]
          },
          "metadata": {},
          "execution_count": 125
        },
        {
          "output_type": "display_data",
          "data": {
            "text/plain": [
              "<Figure size 720x720 with 1 Axes>"
            ],
            "image/png": "[encoded data removed]"
          },
          "metadata": {}
        }
      ]
    },
    {
      "cell_type": "code",
      "source": [
        "data.shape"
      ],
      "metadata": {
        "colab": {
          "base_uri": "https://localhost:8080/"
        },
        "id": "f93_7p8nOMNW",
        "outputId": "07c7cc3e-aa16-4d02-935f-50dc3ae7c972"
      },
      "execution_count": null,
      "outputs": [
        {
          "output_type": "execute_result",
          "data": {
            "text/plain": [
              "(284, 14)"
            ]
          },
          "metadata": {},
          "execution_count": 126
        }
      ]
    },
    {
      "cell_type": "markdown",
      "source": [
        "#Exploratory data analysis"
      ],
      "metadata": {
        "id": "5r83v2xeObNr"
      }
    },
    {
      "cell_type": "code",
      "source": [
        "plt.rcParams['figure.figsize']=(10,6)\n",
        "sns.set_style('darkgrid')\n",
        "sns.countplot(x='output',data=data)"
      ],
      "metadata": {
        "colab": {
          "base_uri": "https://localhost:8080/",
          "height": 405
        },
        "id": "AooVneXrOenk",
        "outputId": "ba2e0379-93e9-4627-b7f2-d5baa7107e5d"
      },
      "execution_count": null,
      "outputs": [
        {
          "output_type": "execute_result",
          "data": {
            "text/plain": [
              "<matplotlib.axes._subplots.AxesSubplot at 0x7fd6649f6990>"
            ]
          },
          "metadata": {},
          "execution_count": 127
        },
        {
          "output_type": "display_data",
          "data": {
            "text/plain": [
              "<Figure size 720x432 with 1 Axes>"
            ],
            "image/png": "[encoded data removed]"
          },
          "metadata": {}
        }
      ]
    },
    {
      "cell_type": "markdown",
      "source": [
        "We have more records of heart attack occuring instances"
      ],
      "metadata": {
        "id": "cnEbyuYQPAEK"
      }
    },
    {
      "cell_type": "code",
      "source": [
        "sns.countplot(x='sex',hue='output',data=data)"
      ],
      "metadata": {
        "colab": {
          "base_uri": "https://localhost:8080/",
          "height": 405
        },
        "id": "uqW0C5ApPIDJ",
        "outputId": "c9c979ff-f091-442b-b253-a68670dab714"
      },
      "execution_count": null,
      "outputs": [
        {
          "output_type": "execute_result",
          "data": {
            "text/plain": [
              "<matplotlib.axes._subplots.AxesSubplot at 0x7fd664969310>"
            ]
          },
          "metadata": {},
          "execution_count": 128
        },
        {
          "output_type": "display_data",
          "data": {
            "text/plain": [
              "<Figure size 720x432 with 1 Axes>"
            ],
            "image/png": "[encoded data removed]"
          },
          "metadata": {}
        }
      ]
    },
    {
      "cell_type": "markdown",
      "source": [
        "We obsererve that men have more chances of getting a heart attack"
      ],
      "metadata": {
        "id": "NnJOLhbcPR1H"
      }
    },
    {
      "cell_type": "code",
      "source": [
        "sns.countplot(x='exng',hue='output',data=data)\n"
      ],
      "metadata": {
        "colab": {
          "base_uri": "https://localhost:8080/",
          "height": 405
        },
        "id": "yHaMX6XsPYQ6",
        "outputId": "788ca32a-6631-4ac7-ca6d-b584c76c7676"
      },
      "execution_count": null,
      "outputs": [
        {
          "output_type": "execute_result",
          "data": {
            "text/plain": [
              "<matplotlib.axes._subplots.AxesSubplot at 0x7fd66492b610>"
            ]
          },
          "metadata": {},
          "execution_count": 129
        },
        {
          "output_type": "display_data",
          "data": {
            "text/plain": [
              "<Figure size 720x432 with 1 Axes>"
            ],
            "image/png": "[encoded data removed]"
          },
          "metadata": {}
        }
      ]
    },
    {
      "cell_type": "markdown",
      "source": [
        "More heart attacks occured when the person was idle"
      ],
      "metadata": {
        "id": "EoM3kFKVPo7L"
      }
    },
    {
      "cell_type": "code",
      "source": [
        "sns.countplot(x='cp',data=data)"
      ],
      "metadata": {
        "colab": {
          "base_uri": "https://localhost:8080/",
          "height": 405
        },
        "id": "WwExM6NQPoYk",
        "outputId": "67efcc7b-d7ca-4456-d320-1d133602794c"
      },
      "execution_count": null,
      "outputs": [
        {
          "output_type": "execute_result",
          "data": {
            "text/plain": [
              "<matplotlib.axes._subplots.AxesSubplot at 0x7fd6648c49d0>"
            ]
          },
          "metadata": {},
          "execution_count": 130
        },
        {
          "output_type": "display_data",
          "data": {
            "text/plain": [
              "<Figure size 720x432 with 1 Axes>"
            ],
            "image/png": "[encoded data removed]"
          },
          "metadata": {}
        }
      ]
    },
    {
      "cell_type": "markdown",
      "source": [
        "There are more chances of heart attack when a person is under typical angina "
      ],
      "metadata": {
        "id": "lc31qpwLP2pW"
      }
    },
    {
      "cell_type": "code",
      "source": [
        "sns.countplot('output', data=data, hue='cp')"
      ],
      "metadata": {
        "colab": {
          "base_uri": "https://localhost:8080/",
          "height": 460
        },
        "id": "8ewXtnylP61s",
        "outputId": "9ff27739-0369-43cd-8bd5-ec28f0887d62"
      },
      "execution_count": null,
      "outputs": [
        {
          "output_type": "stream",
          "name": "stderr",
          "text": [
            "/usr/local/lib/python3.7/dist-packages/seaborn/_decorators.py:43: FutureWarning: Pass the following variable as a keyword arg: x. From version 0.12, the only valid positional argument will be `data`, and passing other arguments without an explicit keyword will result in an error or misinterpretation.\n",
            "  FutureWarning\n"
          ]
        },
        {
          "output_type": "execute_result",
          "data": {
            "text/plain": [
              "<matplotlib.axes._subplots.AxesSubplot at 0x7fd66481e890>"
            ]
          },
          "metadata": {},
          "execution_count": 131
        },
        {
          "output_type": "display_data",
          "data": {
            "text/plain": [
              "<Figure size 720x432 with 1 Axes>"
            ],
            "image/png": "[encoded data removed]"
          },
          "metadata": {}
        }
      ]
    },
    {
      "cell_type": "markdown",
      "source": [
        "People who has level 0 of chest pain has low chance, and people who has level 2 of chest pain has more chance"
      ],
      "metadata": {
        "id": "I4bPnKKaQZVU"
      }
    },
    {
      "cell_type": "code",
      "source": [
        "labels = ['No', 'Yes']\n",
        "y_data = data.groupby('output')['output'].count()\n",
        "plt.pie(y_data,labels=labels, autopct='%.0f%%')\n",
        "plt.show()"
      ],
      "metadata": {
        "colab": {
          "base_uri": "https://localhost:8080/",
          "height": 357
        },
        "id": "HDlU52thQfcC",
        "outputId": "7345f042-8e8e-46e8-d17d-c12a590e0060"
      },
      "execution_count": null,
      "outputs": [
        {
          "output_type": "display_data",
          "data": {
            "text/plain": [
              "<Figure size 720x432 with 1 Axes>"
            ],
            "image/png": "[encoded data removed]"
          },
          "metadata": {}
        }
      ]
    },
    {
      "cell_type": "code",
      "source": [
        "fig, ax = plt.subplots(1, 1, figsize=(10,10))\n",
        "sns.countplot(x=data['age'])\n",
        "ax.set_xlabel(\"Age\", fontsize=24)\n",
        "ax.set_ylabel(\"Count\", fontsize=24)\n",
        "ax.set_title(\"Patient Count Per Age\", fontsize=24)\n",
        "plt.show()"
      ],
      "metadata": {
        "colab": {
          "base_uri": "https://localhost:8080/",
          "height": 645
        },
        "id": "FrfGAJSoQ4rO",
        "outputId": "37481c40-6d01-4bbe-c0e4-9e0afc69a3a7"
      },
      "execution_count": null,
      "outputs": [
        {
          "output_type": "display_data",
          "data": {
            "text/plain": [
              "<Figure size 720x720 with 1 Axes>"
            ],
            "image/png": "[encoded data removed]"
          },
          "metadata": {}
        }
      ]
    },
    {
      "cell_type": "markdown",
      "source": [
        "Age group of 50-60 had the highest frequency"
      ],
      "metadata": {
        "id": "njxWiwYuRwu3"
      }
    },
    {
      "cell_type": "code",
      "source": [
        "plt.subplots(figsize=(10,10))\n",
        "sns.heatmap(data.corr(), annot = True, fmt = '0.0%')\n",
        "plt.show"
      ],
      "metadata": {
        "colab": {
          "base_uri": "https://localhost:8080/",
          "height": 646
        },
        "id": "ErGlPmLzR2Vs",
        "outputId": "42456217-1ac2-4af2-b4c5-41a596a48906"
      },
      "execution_count": null,
      "outputs": [
        {
          "output_type": "execute_result",
          "data": {
            "text/plain": [
              "<function matplotlib.pyplot.show(*args, **kw)>"
            ]
          },
          "metadata": {},
          "execution_count": 134
        },
        {
          "output_type": "display_data",
          "data": {
            "text/plain": [
              "<Figure size 720x720 with 2 Axes>"
            ],
            "image/png": "[encoded data removed]"
          },
          "metadata": {}
        }
      ]
    },
    {
      "cell_type": "markdown",
      "source": [
        "#Logistic Regression"
      ],
      "metadata": {
        "id": "kpMbrdEaR4Cw"
      }
    },
    {
      "cell_type": "code",
      "source": [
        "from sklearn.model_selection import train_test_split\n",
        "from sklearn.linear_model import LogisticRegression\n",
        "from sklearn.metrics import confusion_matrix\n",
        "from sklearn.metrics import accuracy_score\n",
        "from sklearn.metrics import mean_squared_error\n",
        "from sklearn.metrics import r2_score\n",
        "from sklearn.metrics import classification_report\n",
        "from sklearn import metrics\n",
        "from sklearn.metrics import classification_report\n",
        "from sklearn.preprocessing import OneHotEncoder\n",
        "from sklearn.feature_selection import RFE\n",
        "import statsmodels.api as sm\n",
        "from sklearn.metrics import recall_score\n"
      ],
      "metadata": {
        "id": "2Sk7AMsMR9rI"
      },
      "execution_count": null,
      "outputs": []
    },
    {
      "cell_type": "code",
      "source": [
        "y = data['output']\n",
        "x = data.drop(['output'],axis=1)"
      ],
      "metadata": {
        "id": "JwTxWFDjSLax"
      },
      "execution_count": null,
      "outputs": []
    },
    {
      "cell_type": "code",
      "source": [
        "x_train, x_test, y_train, y_test = train_test_split(x, y, random_state=0, train_size = .80)"
      ],
      "metadata": {
        "id": "OMOEoxQ8SOwu"
      },
      "execution_count": null,
      "outputs": []
    },
    {
      "cell_type": "code",
      "source": [
        "lreg = LogisticRegression()"
      ],
      "metadata": {
        "id": "CT9PL03xSSk0"
      },
      "execution_count": null,
      "outputs": []
    },
    {
      "cell_type": "code",
      "source": [
        "lreg.fit(x_train,y_train)"
      ],
      "metadata": {
        "colab": {
          "base_uri": "https://localhost:8080/"
        },
        "id": "QgxzHiEmSV1h",
        "outputId": "9b1ef1fc-7d8f-4aea-bf64-37f74cfeb84e"
      },
      "execution_count": null,
      "outputs": [
        {
          "output_type": "stream",
          "name": "stderr",
          "text": [
            "/usr/local/lib/python3.7/dist-packages/sklearn/linear_model/_logistic.py:818: ConvergenceWarning: lbfgs failed to converge (status=1):\n",
            "STOP: TOTAL NO. of ITERATIONS REACHED LIMIT.\n",
            "\n",
            "Increase the number of iterations (max_iter) or scale the data as shown in:\n",
            "    https://scikit-learn.org/stable/modules/preprocessing.html\n",
            "Please also refer to the documentation for alternative solver options:\n",
            "    https://scikit-learn.org/stable/modules/linear_model.html#logistic-regression\n",
            "  extra_warning_msg=_LOGISTIC_SOLVER_CONVERGENCE_MSG,\n"
          ]
        },
        {
          "output_type": "execute_result",
          "data": {
            "text/plain": [
              "LogisticRegression()"
            ]
          },
          "metadata": {},
          "execution_count": 139
        }
      ]
    },
    {
      "cell_type": "code",
      "source": [
        "pred2 = lreg.predict(x_test)\n",
        "pred2"
      ],
      "metadata": {
        "colab": {
          "base_uri": "https://localhost:8080/"
        },
        "id": "xjx7I8TeSdQn",
        "outputId": "b277df07-d305-4f31-de1d-a43fce0bf776"
      },
      "execution_count": null,
      "outputs": [
        {
          "output_type": "execute_result",
          "data": {
            "text/plain": [
              "array([1, 1, 1, 0, 1, 0, 0, 1, 1, 0, 1, 0, 1, 0, 1, 0, 0, 1, 1, 1, 1, 0,\n",
              "       0, 0, 1, 1, 1, 0, 0, 1, 1, 1, 1, 1, 0, 1, 1, 1, 0, 1, 1, 0, 0, 0,\n",
              "       1, 0, 0, 1, 0, 0, 1, 1, 1, 1, 1, 0, 0])"
            ]
          },
          "metadata": {},
          "execution_count": 140
        }
      ]
    },
    {
      "cell_type": "code",
      "source": [
        "accuracy_score(y_test,pred2)*100"
      ],
      "metadata": {
        "colab": {
          "base_uri": "https://localhost:8080/"
        },
        "id": "DqhNUllpSey4",
        "outputId": "542b0df1-0f16-41f0-ea65-96401a880aa7"
      },
      "execution_count": null,
      "outputs": [
        {
          "output_type": "execute_result",
          "data": {
            "text/plain": [
              "87.71929824561403"
            ]
          },
          "metadata": {},
          "execution_count": 141
        }
      ]
    },
    {
      "cell_type": "markdown",
      "source": [
        "Accuracy of 91.2% after trying different models"
      ],
      "metadata": {
        "id": "7Xi73L51SnMW"
      }
    },
    {
      "cell_type": "code",
      "source": [
        "cm = confusion_matrix(y_test,pred2)\n",
        "conf_matrix=pd.DataFrame(data=cm,columns=['Predicted:0','Predicted:1'],index=['Actual:0','Actual:1'])\n",
        "plt.figure(figsize = (8,5))\n",
        "sns.heatmap(conf_matrix, annot=True,fmt='d')"
      ],
      "metadata": {
        "colab": {
          "base_uri": "https://localhost:8080/",
          "height": 337
        },
        "id": "ixQqPiZYXr2G",
        "outputId": "fbf79d3b-cc51-4bf0-b974-72486c9b2e61"
      },
      "execution_count": null,
      "outputs": [
        {
          "output_type": "execute_result",
          "data": {
            "text/plain": [
              "<matplotlib.axes._subplots.AxesSubplot at 0x7fd664413350>"
            ]
          },
          "metadata": {},
          "execution_count": 142
        },
        {
          "output_type": "display_data",
          "data": {
            "text/plain": [
              "<Figure size 576x360 with 2 Axes>"
            ],
            "image/png": "[encoded data removed]"
          },
          "metadata": {}
        }
      ]
    },
    {
      "cell_type": "markdown",
      "source": [
        "#Neural Networks"
      ],
      "metadata": {
        "id": "iW5pT0EsTi_8"
      }
    },
    {
      "cell_type": "code",
      "source": [
        "data.shape"
      ],
      "metadata": {
        "colab": {
          "base_uri": "https://localhost:8080/"
        },
        "id": "IhIAfqTkTnfJ",
        "outputId": "3ffc2672-af7f-4dbe-e17e-f7aeee0a2735"
      },
      "execution_count": null,
      "outputs": [
        {
          "output_type": "execute_result",
          "data": {
            "text/plain": [
              "(284, 14)"
            ]
          },
          "metadata": {},
          "execution_count": 143
        }
      ]
    },
    {
      "cell_type": "code",
      "source": [
        "import tensorflow as tf"
      ],
      "metadata": {
        "id": "u4IxpFzLgdIj"
      },
      "execution_count": null,
      "outputs": []
    },
    {
      "cell_type": "code",
      "source": [
        "x= data.drop(\"output\", axis=1)\n",
        "y=data[\"output\"]"
      ],
      "metadata": {
        "id": "0MCNGb_LhgeF"
      },
      "execution_count": null,
      "outputs": []
    },
    {
      "cell_type": "code",
      "source": [
        "from sklearn.model_selection import train_test_split\n",
        "x_train, x_test, y_train, y_test= train_test_split(x, y, test_size=0.2, random_state=42)\n",
        "y_test\n"
      ],
      "metadata": {
        "colab": {
          "base_uri": "https://localhost:8080/"
        },
        "id": "XrAeVJEPfu5_",
        "outputId": "0b00c046-2551-4a99-a774-a5aaf4cfac92"
      },
      "execution_count": null,
      "outputs": [
        {
          "output_type": "execute_result",
          "data": {
            "text/plain": [
              "10     1\n",
              "270    0\n",
              "164    1\n",
              "218    0\n",
              "77     1\n",
              "245    0\n",
              "281    0\n",
              "177    0\n",
              "44     1\n",
              "237    0\n",
              "48     1\n",
              "284    0\n",
              "149    1\n",
              "175    0\n",
              "5      1\n",
              "229    0\n",
              "243    0\n",
              "146    1\n",
              "161    1\n",
              "35     1\n",
              "115    1\n",
              "62     1\n",
              "70     1\n",
              "230    0\n",
              "58     1\n",
              "97     1\n",
              "79     1\n",
              "294    0\n",
              "290    0\n",
              "114    1\n",
              "263    0\n",
              "165    0\n",
              "174    0\n",
              "47     1\n",
              "81     1\n",
              "217    0\n",
              "68     1\n",
              "84     1\n",
              "186    0\n",
              "193    0\n",
              "32     1\n",
              "23     1\n",
              "25     1\n",
              "138    1\n",
              "75     1\n",
              "211    0\n",
              "236    0\n",
              "261    0\n",
              "93     1\n",
              "212    0\n",
              "279    0\n",
              "182    0\n",
              "95     1\n",
              "6      1\n",
              "132    1\n",
              "271    0\n",
              "301    0\n",
              "Name: output, dtype: int64"
            ]
          },
          "metadata": {},
          "execution_count": 146
        }
      ]
    },
    {
      "cell_type": "code",
      "source": [
        "tf.random.set_seed(42)\n",
        "\n",
        "# STEP1: Creating the model\n",
        "\n",
        "model= tf.keras.Sequential([\n",
        "                            tf.keras.layers.Dense(12, activation='relu'),\n",
        "                            tf.keras.layers.Dense(6, activation='relu'),\n",
        "                            tf.keras.layers.Dense(3, activation='relu'),\n",
        "                            tf.keras.layers.Dense(1, activation='sigmoid')\n",
        "])\n",
        "\n",
        "# STEP2: Compiling the model\n",
        "\n",
        "model.compile(loss= tf.keras.losses.binary_crossentropy,\n",
        "              optimizer= tf.keras.optimizers.Adam(lr=0.01),\n",
        "              metrics= [tf.keras.metrics.BinaryAccuracy(name='accuracy'),\n",
        "                        tf.keras.metrics.Precision(name='precision'),\n",
        "                        tf.keras.metrics.Recall(name='a=recall')\n",
        "              ]\n",
        "              )\n",
        "\n",
        "# STEP3: Fit the model\n",
        "\n",
        "history= model.fit(x_train, y_train, epochs= 500)"
      ],
      "metadata": {
        "colab": {
          "base_uri": "https://localhost:8080/"
        },
        "id": "VfsL7RktSh9O",
        "outputId": "30f4245e-7928-40dd-c891-803493045a4c"
      },
      "execution_count": null,
      "outputs": [
        {
          "output_type": "stream",
          "name": "stdout",
          "text": [
            "Epoch 1/500\n"
          ]
        },
        {
          "output_type": "stream",
          "name": "stderr",
          "text": [
            "/usr/local/lib/python3.7/dist-packages/keras/optimizer_v2/adam.py:105: UserWarning: The `lr` argument is deprecated, use `learning_rate` instead.\n",
            "  super(Adam, self).__init__(name, **kwargs)\n"
          ]
        },
        {
          "output_type": "stream",
          "name": "stdout",
          "text": [
            "8/8 [==============================] - 1s 5ms/step - loss: 4.3794 - accuracy: 0.4934 - precision: 0.5607 - a=recall: 0.4688\n",
            "Epoch 2/500\n",
            "8/8 [==============================] - 0s 4ms/step - loss: 2.4879 - accuracy: 0.5066 - precision: 0.5635 - a=recall: 0.5547\n",
            "Epoch 3/500\n",
            "8/8 [==============================] - 0s 4ms/step - loss: 1.4515 - accuracy: 0.5859 - precision: 0.5914 - a=recall: 0.8594\n",
            "Epoch 4/500\n",
            "8/8 [==============================] - 0s 4ms/step - loss: 1.5614 - accuracy: 0.4449 - precision: 0.5156 - a=recall: 0.2578\n",
            "Epoch 5/500\n",
            "8/8 [==============================] - 0s 5ms/step - loss: 1.1756 - accuracy: 0.5903 - precision: 0.5916 - a=recall: 0.8828\n",
            "Epoch 6/500\n",
            "8/8 [==============================] - 0s 4ms/step - loss: 0.7111 - accuracy: 0.6784 - precision: 0.7165 - a=recall: 0.7109\n",
            "Epoch 7/500\n",
            "8/8 [==============================] - 0s 4ms/step - loss: 0.6716 - accuracy: 0.6784 - precision: 0.6871 - a=recall: 0.7891\n",
            "Epoch 8/500\n",
            "8/8 [==============================] - 0s 4ms/step - loss: 0.7226 - accuracy: 0.6564 - precision: 0.6524 - a=recall: 0.8359\n",
            "Epoch 9/500\n",
            "8/8 [==============================] - 0s 3ms/step - loss: 0.5929 - accuracy: 0.7181 - precision: 0.7353 - a=recall: 0.7812\n",
            "Epoch 10/500\n",
            "8/8 [==============================] - 0s 3ms/step - loss: 0.6146 - accuracy: 0.7225 - precision: 0.7928 - a=recall: 0.6875\n",
            "Epoch 11/500\n",
            "8/8 [==============================] - 0s 4ms/step - loss: 0.6580 - accuracy: 0.6608 - precision: 0.7073 - a=recall: 0.6797\n",
            "Epoch 12/500\n",
            "8/8 [==============================] - 0s 3ms/step - loss: 0.7215 - accuracy: 0.6740 - precision: 0.6687 - a=recall: 0.8359\n",
            "Epoch 13/500\n",
            "8/8 [==============================] - 0s 5ms/step - loss: 0.5706 - accuracy: 0.7313 - precision: 0.7107 - a=recall: 0.8828\n",
            "Epoch 14/500\n",
            "8/8 [==============================] - 0s 2ms/step - loss: 0.5084 - accuracy: 0.7489 - precision: 0.7710 - a=recall: 0.7891\n",
            "Epoch 15/500\n",
            "8/8 [==============================] - 0s 2ms/step - loss: 0.4946 - accuracy: 0.7577 - precision: 0.7417 - a=recall: 0.8750\n",
            "Epoch 16/500\n",
            "8/8 [==============================] - 0s 2ms/step - loss: 0.5375 - accuracy: 0.7181 - precision: 0.7319 - a=recall: 0.7891\n",
            "Epoch 17/500\n",
            "8/8 [==============================] - 0s 2ms/step - loss: 0.4933 - accuracy: 0.7665 - precision: 0.8000 - a=recall: 0.7812\n",
            "Epoch 18/500\n",
            "8/8 [==============================] - 0s 2ms/step - loss: 0.4671 - accuracy: 0.7885 - precision: 0.7817 - a=recall: 0.8672\n",
            "Epoch 19/500\n",
            "8/8 [==============================] - 0s 3ms/step - loss: 0.4911 - accuracy: 0.7489 - precision: 0.7448 - a=recall: 0.8438\n",
            "Epoch 20/500\n",
            "8/8 [==============================] - 0s 2ms/step - loss: 0.5068 - accuracy: 0.7313 - precision: 0.7638 - a=recall: 0.7578\n",
            "Epoch 21/500\n",
            "8/8 [==============================] - 0s 3ms/step - loss: 0.5018 - accuracy: 0.7445 - precision: 0.7692 - a=recall: 0.7812\n",
            "Epoch 22/500\n",
            "8/8 [==============================] - 0s 2ms/step - loss: 0.5527 - accuracy: 0.7357 - precision: 0.7361 - a=recall: 0.8281\n",
            "Epoch 23/500\n",
            "8/8 [==============================] - 0s 3ms/step - loss: 0.5282 - accuracy: 0.7225 - precision: 0.6946 - a=recall: 0.9062\n",
            "Epoch 24/500\n",
            "8/8 [==============================] - 0s 3ms/step - loss: 0.5630 - accuracy: 0.7313 - precision: 0.7680 - a=recall: 0.7500\n",
            "Epoch 25/500\n",
            "8/8 [==============================] - 0s 3ms/step - loss: 0.5125 - accuracy: 0.7313 - precision: 0.8317 - a=recall: 0.6562\n",
            "Epoch 26/500\n",
            "8/8 [==============================] - 0s 3ms/step - loss: 0.5193 - accuracy: 0.7313 - precision: 0.7445 - a=recall: 0.7969\n",
            "Epoch 27/500\n",
            "8/8 [==============================] - 0s 3ms/step - loss: 0.4709 - accuracy: 0.7753 - precision: 0.7619 - a=recall: 0.8750\n",
            "Epoch 28/500\n",
            "8/8 [==============================] - 0s 3ms/step - loss: 0.4471 - accuracy: 0.7930 - precision: 0.7872 - a=recall: 0.8672\n",
            "Epoch 29/500\n",
            "8/8 [==============================] - 0s 3ms/step - loss: 0.4374 - accuracy: 0.8150 - precision: 0.7945 - a=recall: 0.9062\n",
            "Epoch 30/500\n",
            "8/8 [==============================] - 0s 3ms/step - loss: 0.4162 - accuracy: 0.8150 - precision: 0.7986 - a=recall: 0.8984\n",
            "Epoch 31/500\n",
            "8/8 [==============================] - 0s 2ms/step - loss: 0.4245 - accuracy: 0.8150 - precision: 0.7986 - a=recall: 0.8984\n",
            "Epoch 32/500\n",
            "8/8 [==============================] - 0s 3ms/step - loss: 0.4059 - accuracy: 0.8238 - precision: 0.8188 - a=recall: 0.8828\n",
            "Epoch 33/500\n",
            "8/8 [==============================] - 0s 2ms/step - loss: 0.4063 - accuracy: 0.8194 - precision: 0.8129 - a=recall: 0.8828\n",
            "Epoch 34/500\n",
            "8/8 [==============================] - 0s 3ms/step - loss: 0.4383 - accuracy: 0.8150 - precision: 0.8116 - a=recall: 0.8750\n",
            "Epoch 35/500\n",
            "8/8 [==============================] - 0s 3ms/step - loss: 0.4536 - accuracy: 0.8018 - precision: 0.8074 - a=recall: 0.8516\n",
            "Epoch 36/500\n",
            "8/8 [==============================] - 0s 3ms/step - loss: 0.4381 - accuracy: 0.8282 - precision: 0.7947 - a=recall: 0.9375\n",
            "Epoch 37/500\n",
            "8/8 [==============================] - 0s 3ms/step - loss: 0.3953 - accuracy: 0.8370 - precision: 0.8321 - a=recall: 0.8906\n",
            "Epoch 38/500\n",
            "8/8 [==============================] - 0s 2ms/step - loss: 0.4510 - accuracy: 0.7753 - precision: 0.7730 - a=recall: 0.8516\n",
            "Epoch 39/500\n",
            "8/8 [==============================] - 0s 3ms/step - loss: 0.5924 - accuracy: 0.7269 - precision: 0.7260 - a=recall: 0.8281\n",
            "Epoch 40/500\n",
            "8/8 [==============================] - 0s 2ms/step - loss: 0.4423 - accuracy: 0.8194 - precision: 0.7919 - a=recall: 0.9219\n",
            "Epoch 41/500\n",
            "8/8 [==============================] - 0s 2ms/step - loss: 0.4474 - accuracy: 0.8018 - precision: 0.8074 - a=recall: 0.8516\n",
            "Epoch 42/500\n",
            "8/8 [==============================] - 0s 3ms/step - loss: 0.3970 - accuracy: 0.8018 - precision: 0.8217 - a=recall: 0.8281\n",
            "Epoch 43/500\n",
            "8/8 [==============================] - 0s 3ms/step - loss: 0.4024 - accuracy: 0.8106 - precision: 0.8102 - a=recall: 0.8672\n",
            "Epoch 44/500\n",
            "8/8 [==============================] - 0s 2ms/step - loss: 0.4080 - accuracy: 0.8106 - precision: 0.7972 - a=recall: 0.8906\n",
            "Epoch 45/500\n",
            "8/8 [==============================] - 0s 3ms/step - loss: 0.3752 - accuracy: 0.8458 - precision: 0.8252 - a=recall: 0.9219\n",
            "Epoch 46/500\n",
            "8/8 [==============================] - 0s 2ms/step - loss: 0.4772 - accuracy: 0.7797 - precision: 0.8250 - a=recall: 0.7734\n",
            "Epoch 47/500\n",
            "8/8 [==============================] - 0s 4ms/step - loss: 0.4142 - accuracy: 0.8062 - precision: 0.8333 - a=recall: 0.8203\n",
            "Epoch 48/500\n",
            "8/8 [==============================] - 0s 3ms/step - loss: 0.4343 - accuracy: 0.8194 - precision: 0.8000 - a=recall: 0.9062\n",
            "Epoch 49/500\n",
            "8/8 [==============================] - 0s 3ms/step - loss: 0.5202 - accuracy: 0.7841 - precision: 0.7724 - a=recall: 0.8750\n",
            "Epoch 50/500\n",
            "8/8 [==============================] - 0s 3ms/step - loss: 0.5112 - accuracy: 0.7489 - precision: 0.8142 - a=recall: 0.7188\n",
            "Epoch 51/500\n",
            "8/8 [==============================] - 0s 3ms/step - loss: 0.5505 - accuracy: 0.7621 - precision: 0.7643 - a=recall: 0.8359\n",
            "Epoch 52/500\n",
            "8/8 [==============================] - 0s 3ms/step - loss: 0.3898 - accuracy: 0.8194 - precision: 0.7806 - a=recall: 0.9453\n",
            "Epoch 53/500\n",
            "8/8 [==============================] - 0s 3ms/step - loss: 0.4231 - accuracy: 0.8106 - precision: 0.8400 - a=recall: 0.8203\n",
            "Epoch 54/500\n",
            "8/8 [==============================] - 0s 2ms/step - loss: 0.3953 - accuracy: 0.8238 - precision: 0.8056 - a=recall: 0.9062\n",
            "Epoch 55/500\n",
            "8/8 [==============================] - 0s 3ms/step - loss: 0.4372 - accuracy: 0.8062 - precision: 0.7917 - a=recall: 0.8906\n",
            "Epoch 56/500\n",
            "8/8 [==============================] - 0s 3ms/step - loss: 0.5592 - accuracy: 0.7269 - precision: 0.8837 - a=recall: 0.5938\n",
            "Epoch 57/500\n",
            "8/8 [==============================] - 0s 3ms/step - loss: 0.4612 - accuracy: 0.8106 - precision: 0.8400 - a=recall: 0.8203\n",
            "Epoch 58/500\n",
            "8/8 [==============================] - 0s 2ms/step - loss: 0.3980 - accuracy: 0.8194 - precision: 0.7919 - a=recall: 0.9219\n",
            "Epoch 59/500\n",
            "8/8 [==============================] - 0s 2ms/step - loss: 0.4766 - accuracy: 0.7489 - precision: 0.8515 - a=recall: 0.6719\n",
            "Epoch 60/500\n",
            "8/8 [==============================] - 0s 3ms/step - loss: 0.5408 - accuracy: 0.7533 - precision: 0.7338 - a=recall: 0.8828\n",
            "Epoch 61/500\n",
            "8/8 [==============================] - 0s 3ms/step - loss: 0.4317 - accuracy: 0.8282 - precision: 0.7947 - a=recall: 0.9375\n",
            "Epoch 62/500\n",
            "8/8 [==============================] - 0s 3ms/step - loss: 0.3940 - accuracy: 0.8326 - precision: 0.8750 - a=recall: 0.8203\n",
            "Epoch 63/500\n",
            "8/8 [==============================] - 0s 3ms/step - loss: 0.4362 - accuracy: 0.7930 - precision: 0.7485 - a=recall: 0.9531\n",
            "Epoch 64/500\n",
            "8/8 [==============================] - 0s 2ms/step - loss: 0.5609 - accuracy: 0.7093 - precision: 0.8229 - a=recall: 0.6172\n",
            "Epoch 65/500\n",
            "8/8 [==============================] - 0s 3ms/step - loss: 0.4324 - accuracy: 0.7841 - precision: 0.7762 - a=recall: 0.8672\n",
            "Epoch 66/500\n",
            "8/8 [==============================] - 0s 3ms/step - loss: 0.4088 - accuracy: 0.8238 - precision: 0.8333 - a=recall: 0.8594\n",
            "Epoch 67/500\n",
            "8/8 [==============================] - 0s 3ms/step - loss: 0.4006 - accuracy: 0.8282 - precision: 0.8069 - a=recall: 0.9141\n",
            "Epoch 68/500\n",
            "8/8 [==============================] - 0s 2ms/step - loss: 0.3762 - accuracy: 0.8414 - precision: 0.8194 - a=recall: 0.9219\n",
            "Epoch 69/500\n",
            "8/8 [==============================] - 0s 2ms/step - loss: 0.3809 - accuracy: 0.8414 - precision: 0.8108 - a=recall: 0.9375\n",
            "Epoch 70/500\n",
            "8/8 [==============================] - 0s 2ms/step - loss: 0.3620 - accuracy: 0.8370 - precision: 0.8273 - a=recall: 0.8984\n",
            "Epoch 71/500\n",
            "8/8 [==============================] - 0s 3ms/step - loss: 0.3565 - accuracy: 0.8414 - precision: 0.8151 - a=recall: 0.9297\n",
            "Epoch 72/500\n",
            "8/8 [==============================] - 0s 3ms/step - loss: 0.3516 - accuracy: 0.8590 - precision: 0.8429 - a=recall: 0.9219\n",
            "Epoch 73/500\n",
            "8/8 [==============================] - 0s 3ms/step - loss: 0.3507 - accuracy: 0.8502 - precision: 0.8406 - a=recall: 0.9062\n",
            "Epoch 74/500\n",
            "8/8 [==============================] - 0s 3ms/step - loss: 0.3524 - accuracy: 0.8458 - precision: 0.8252 - a=recall: 0.9219\n",
            "Epoch 75/500\n",
            "8/8 [==============================] - 0s 2ms/step - loss: 0.3478 - accuracy: 0.8590 - precision: 0.8429 - a=recall: 0.9219\n",
            "Epoch 76/500\n",
            "8/8 [==============================] - 0s 3ms/step - loss: 0.3578 - accuracy: 0.8458 - precision: 0.8079 - a=recall: 0.9531\n",
            "Epoch 77/500\n",
            "8/8 [==============================] - 0s 3ms/step - loss: 0.3861 - accuracy: 0.8282 - precision: 0.8201 - a=recall: 0.8906\n",
            "Epoch 78/500\n",
            "8/8 [==============================] - 0s 3ms/step - loss: 0.3633 - accuracy: 0.8370 - precision: 0.8583 - a=recall: 0.8516\n",
            "Epoch 79/500\n",
            "8/8 [==============================] - 0s 3ms/step - loss: 0.3779 - accuracy: 0.8150 - precision: 0.7945 - a=recall: 0.9062\n",
            "Epoch 80/500\n",
            "8/8 [==============================] - 0s 2ms/step - loss: 0.3657 - accuracy: 0.8414 - precision: 0.8067 - a=recall: 0.9453\n",
            "Epoch 81/500\n",
            "8/8 [==============================] - 0s 2ms/step - loss: 0.3549 - accuracy: 0.8370 - precision: 0.8473 - a=recall: 0.8672\n",
            "Epoch 82/500\n",
            "8/8 [==============================] - 0s 3ms/step - loss: 0.3616 - accuracy: 0.8370 - precision: 0.8421 - a=recall: 0.8750\n",
            "Epoch 83/500\n",
            "8/8 [==============================] - 0s 2ms/step - loss: 0.3936 - accuracy: 0.8062 - precision: 0.8684 - a=recall: 0.7734\n",
            "Epoch 84/500\n",
            "8/8 [==============================] - 0s 3ms/step - loss: 0.4085 - accuracy: 0.8282 - precision: 0.8156 - a=recall: 0.8984\n",
            "Epoch 85/500\n",
            "8/8 [==============================] - 0s 3ms/step - loss: 0.3756 - accuracy: 0.8546 - precision: 0.8417 - a=recall: 0.9141\n",
            "Epoch 86/500\n",
            "8/8 [==============================] - 0s 4ms/step - loss: 0.3623 - accuracy: 0.8370 - precision: 0.8182 - a=recall: 0.9141\n",
            "Epoch 87/500\n",
            "8/8 [==============================] - 0s 3ms/step - loss: 0.3510 - accuracy: 0.8590 - precision: 0.8380 - a=recall: 0.9297\n",
            "Epoch 88/500\n",
            "8/8 [==============================] - 0s 3ms/step - loss: 0.3971 - accuracy: 0.8282 - precision: 0.8870 - a=recall: 0.7969\n",
            "Epoch 89/500\n",
            "8/8 [==============================] - 0s 3ms/step - loss: 0.4506 - accuracy: 0.8106 - precision: 0.7931 - a=recall: 0.8984\n",
            "Epoch 90/500\n",
            "8/8 [==============================] - 0s 3ms/step - loss: 0.3580 - accuracy: 0.8502 - precision: 0.8456 - a=recall: 0.8984\n",
            "Epoch 91/500\n",
            "8/8 [==============================] - 0s 3ms/step - loss: 0.3550 - accuracy: 0.8590 - precision: 0.8429 - a=recall: 0.9219\n",
            "Epoch 92/500\n",
            "8/8 [==============================] - 0s 3ms/step - loss: 0.3429 - accuracy: 0.8502 - precision: 0.8310 - a=recall: 0.9219\n",
            "Epoch 93/500\n",
            "8/8 [==============================] - 0s 3ms/step - loss: 0.3547 - accuracy: 0.8414 - precision: 0.8485 - a=recall: 0.8750\n",
            "Epoch 94/500\n",
            "8/8 [==============================] - 0s 4ms/step - loss: 0.3455 - accuracy: 0.8546 - precision: 0.8740 - a=recall: 0.8672\n",
            "Epoch 95/500\n",
            "8/8 [==============================] - 0s 3ms/step - loss: 0.3993 - accuracy: 0.8062 - precision: 0.8500 - a=recall: 0.7969\n",
            "Epoch 96/500\n",
            "8/8 [==============================] - 0s 3ms/step - loss: 0.5852 - accuracy: 0.7533 - precision: 0.7222 - a=recall: 0.9141\n",
            "Epoch 97/500\n",
            "8/8 [==============================] - 0s 3ms/step - loss: 0.3839 - accuracy: 0.8326 - precision: 0.8516 - a=recall: 0.8516\n",
            "Epoch 98/500\n",
            "8/8 [==============================] - 0s 3ms/step - loss: 0.3883 - accuracy: 0.8282 - precision: 0.8560 - a=recall: 0.8359\n",
            "Epoch 99/500\n",
            "8/8 [==============================] - 0s 3ms/step - loss: 0.3894 - accuracy: 0.8194 - precision: 0.7771 - a=recall: 0.9531\n",
            "Epoch 100/500\n",
            "8/8 [==============================] - 0s 3ms/step - loss: 0.3442 - accuracy: 0.8634 - precision: 0.8647 - a=recall: 0.8984\n",
            "Epoch 101/500\n",
            "8/8 [==============================] - 0s 3ms/step - loss: 0.3483 - accuracy: 0.8458 - precision: 0.8298 - a=recall: 0.9141\n",
            "Epoch 102/500\n",
            "8/8 [==============================] - 0s 3ms/step - loss: 0.3546 - accuracy: 0.8326 - precision: 0.8409 - a=recall: 0.8672\n",
            "Epoch 103/500\n",
            "8/8 [==============================] - 0s 3ms/step - loss: 0.3555 - accuracy: 0.8458 - precision: 0.8163 - a=recall: 0.9375\n",
            "Epoch 104/500\n",
            "8/8 [==============================] - 0s 4ms/step - loss: 0.3418 - accuracy: 0.8678 - precision: 0.8603 - a=recall: 0.9141\n",
            "Epoch 105/500\n",
            "8/8 [==============================] - 0s 3ms/step - loss: 0.3364 - accuracy: 0.8590 - precision: 0.8380 - a=recall: 0.9297\n",
            "Epoch 106/500\n",
            "8/8 [==============================] - 0s 3ms/step - loss: 0.3566 - accuracy: 0.8502 - precision: 0.8672 - a=recall: 0.8672\n",
            "Epoch 107/500\n",
            "8/8 [==============================] - 0s 3ms/step - loss: 0.3604 - accuracy: 0.8414 - precision: 0.8710 - a=recall: 0.8438\n",
            "Epoch 108/500\n",
            "8/8 [==============================] - 0s 3ms/step - loss: 0.4585 - accuracy: 0.8018 - precision: 0.7643 - a=recall: 0.9375\n",
            "Epoch 109/500\n",
            "8/8 [==============================] - 0s 3ms/step - loss: 0.3996 - accuracy: 0.8238 - precision: 0.7973 - a=recall: 0.9219\n",
            "Epoch 110/500\n",
            "8/8 [==============================] - 0s 3ms/step - loss: 0.4126 - accuracy: 0.7930 - precision: 0.8649 - a=recall: 0.7500\n",
            "Epoch 111/500\n",
            "8/8 [==============================] - 0s 3ms/step - loss: 0.3638 - accuracy: 0.8458 - precision: 0.8780 - a=recall: 0.8438\n",
            "Epoch 112/500\n",
            "8/8 [==============================] - 0s 3ms/step - loss: 0.3465 - accuracy: 0.8590 - precision: 0.8478 - a=recall: 0.9141\n",
            "Epoch 113/500\n",
            "8/8 [==============================] - 0s 3ms/step - loss: 0.3361 - accuracy: 0.8590 - precision: 0.8380 - a=recall: 0.9297\n",
            "Epoch 114/500\n",
            "8/8 [==============================] - 0s 3ms/step - loss: 0.3434 - accuracy: 0.8678 - precision: 0.8603 - a=recall: 0.9141\n",
            "Epoch 115/500\n",
            "8/8 [==============================] - 0s 3ms/step - loss: 0.3612 - accuracy: 0.8414 - precision: 0.8239 - a=recall: 0.9141\n",
            "Epoch 116/500\n",
            "8/8 [==============================] - 0s 3ms/step - loss: 0.3445 - accuracy: 0.8678 - precision: 0.8403 - a=recall: 0.9453\n",
            "Epoch 117/500\n",
            "8/8 [==============================] - 0s 3ms/step - loss: 0.3620 - accuracy: 0.8326 - precision: 0.9018 - a=recall: 0.7891\n",
            "Epoch 118/500\n",
            "8/8 [==============================] - 0s 3ms/step - loss: 0.4043 - accuracy: 0.8150 - precision: 0.7867 - a=recall: 0.9219\n",
            "Epoch 119/500\n",
            "8/8 [==============================] - 0s 3ms/step - loss: 0.4767 - accuracy: 0.7709 - precision: 0.8393 - a=recall: 0.7344\n",
            "Epoch 120/500\n",
            "8/8 [==============================] - 0s 3ms/step - loss: 0.3857 - accuracy: 0.8326 - precision: 0.8462 - a=recall: 0.8594\n",
            "Epoch 121/500\n",
            "8/8 [==============================] - 0s 3ms/step - loss: 0.3838 - accuracy: 0.8326 - precision: 0.8082 - a=recall: 0.9219\n",
            "Epoch 122/500\n",
            "8/8 [==============================] - 0s 3ms/step - loss: 0.3518 - accuracy: 0.8590 - precision: 0.8333 - a=recall: 0.9375\n",
            "Epoch 123/500\n",
            "8/8 [==============================] - 0s 3ms/step - loss: 0.4713 - accuracy: 0.7665 - precision: 0.8947 - a=recall: 0.6641\n",
            "Epoch 124/500\n",
            "8/8 [==============================] - 0s 3ms/step - loss: 0.4322 - accuracy: 0.7885 - precision: 0.7410 - a=recall: 0.9609\n",
            "Epoch 125/500\n",
            "8/8 [==============================] - 0s 3ms/step - loss: 0.3751 - accuracy: 0.8282 - precision: 0.8397 - a=recall: 0.8594\n",
            "Epoch 126/500\n",
            "8/8 [==============================] - 0s 3ms/step - loss: 0.3808 - accuracy: 0.8370 - precision: 0.7974 - a=recall: 0.9531\n",
            "Epoch 127/500\n",
            "8/8 [==============================] - 0s 3ms/step - loss: 0.3603 - accuracy: 0.8194 - precision: 0.8372 - a=recall: 0.8438\n",
            "Epoch 128/500\n",
            "8/8 [==============================] - 0s 3ms/step - loss: 0.3702 - accuracy: 0.8458 - precision: 0.8345 - a=recall: 0.9062\n",
            "Epoch 129/500\n",
            "8/8 [==============================] - 0s 3ms/step - loss: 0.3484 - accuracy: 0.8546 - precision: 0.8322 - a=recall: 0.9297\n",
            "Epoch 130/500\n",
            "8/8 [==============================] - 0s 3ms/step - loss: 0.4087 - accuracy: 0.8282 - precision: 0.9083 - a=recall: 0.7734\n",
            "Epoch 131/500\n",
            "8/8 [==============================] - 0s 3ms/step - loss: 0.3528 - accuracy: 0.8326 - precision: 0.8516 - a=recall: 0.8516\n",
            "Epoch 132/500\n",
            "8/8 [==============================] - 0s 3ms/step - loss: 0.3584 - accuracy: 0.8194 - precision: 0.8480 - a=recall: 0.8281\n",
            "Epoch 133/500\n",
            "8/8 [==============================] - 0s 3ms/step - loss: 0.3411 - accuracy: 0.8546 - precision: 0.8626 - a=recall: 0.8828\n",
            "Epoch 134/500\n",
            "8/8 [==============================] - 0s 4ms/step - loss: 0.4284 - accuracy: 0.8062 - precision: 0.7625 - a=recall: 0.9531\n",
            "Epoch 135/500\n",
            "8/8 [==============================] - 0s 3ms/step - loss: 0.3673 - accuracy: 0.8546 - precision: 0.8467 - a=recall: 0.9062\n",
            "Epoch 136/500\n",
            "8/8 [==============================] - 0s 3ms/step - loss: 0.3472 - accuracy: 0.8722 - precision: 0.8613 - a=recall: 0.9219\n",
            "Epoch 137/500\n",
            "8/8 [==============================] - 0s 3ms/step - loss: 0.3419 - accuracy: 0.8590 - precision: 0.8333 - a=recall: 0.9375\n",
            "Epoch 138/500\n",
            "8/8 [==============================] - 0s 4ms/step - loss: 0.3976 - accuracy: 0.8150 - precision: 0.8644 - a=recall: 0.7969\n",
            "Epoch 139/500\n",
            "8/8 [==============================] - 0s 3ms/step - loss: 0.4003 - accuracy: 0.8458 - precision: 0.8908 - a=recall: 0.8281\n",
            "Epoch 140/500\n",
            "8/8 [==============================] - 0s 3ms/step - loss: 0.3632 - accuracy: 0.8502 - precision: 0.8092 - a=recall: 0.9609\n",
            "Epoch 141/500\n",
            "8/8 [==============================] - 0s 3ms/step - loss: 0.3412 - accuracy: 0.8634 - precision: 0.8440 - a=recall: 0.9297\n",
            "Epoch 142/500\n",
            "8/8 [==============================] - 0s 3ms/step - loss: 0.3691 - accuracy: 0.8106 - precision: 0.8899 - a=recall: 0.7578\n",
            "Epoch 143/500\n",
            "8/8 [==============================] - 0s 4ms/step - loss: 0.5677 - accuracy: 0.7621 - precision: 0.7102 - a=recall: 0.9766\n",
            "Epoch 144/500\n",
            "8/8 [==============================] - 0s 3ms/step - loss: 0.5589 - accuracy: 0.7093 - precision: 0.9844 - a=recall: 0.4922\n",
            "Epoch 145/500\n",
            "8/8 [==============================] - 0s 3ms/step - loss: 0.4794 - accuracy: 0.7709 - precision: 0.7235 - a=recall: 0.9609\n",
            "Epoch 146/500\n",
            "8/8 [==============================] - 0s 3ms/step - loss: 0.3881 - accuracy: 0.8238 - precision: 0.8438 - a=recall: 0.8438\n",
            "Epoch 147/500\n",
            "8/8 [==============================] - 0s 4ms/step - loss: 0.3532 - accuracy: 0.8590 - precision: 0.8429 - a=recall: 0.9219\n",
            "Epoch 148/500\n",
            "8/8 [==============================] - 0s 3ms/step - loss: 0.3590 - accuracy: 0.8370 - precision: 0.8095 - a=recall: 0.9297\n",
            "Epoch 149/500\n",
            "8/8 [==============================] - 0s 3ms/step - loss: 0.3917 - accuracy: 0.8106 - precision: 0.8761 - a=recall: 0.7734\n",
            "Epoch 150/500\n",
            "8/8 [==============================] - 0s 3ms/step - loss: 0.3769 - accuracy: 0.8282 - precision: 0.7871 - a=recall: 0.9531\n",
            "Epoch 151/500\n",
            "8/8 [==============================] - 0s 4ms/step - loss: 0.3530 - accuracy: 0.8370 - precision: 0.8527 - a=recall: 0.8594\n",
            "Epoch 152/500\n",
            "8/8 [==============================] - 0s 3ms/step - loss: 0.3743 - accuracy: 0.8238 - precision: 0.8607 - a=recall: 0.8203\n",
            "Epoch 153/500\n",
            "8/8 [==============================] - 0s 3ms/step - loss: 0.3382 - accuracy: 0.8546 - precision: 0.8276 - a=recall: 0.9375\n",
            "Epoch 154/500\n",
            "8/8 [==============================] - 0s 3ms/step - loss: 0.3394 - accuracy: 0.8634 - precision: 0.8593 - a=recall: 0.9062\n",
            "Epoch 155/500\n",
            "8/8 [==============================] - 0s 4ms/step - loss: 0.3425 - accuracy: 0.8590 - precision: 0.8429 - a=recall: 0.9219\n",
            "Epoch 156/500\n",
            "8/8 [==============================] - 0s 3ms/step - loss: 0.3332 - accuracy: 0.8546 - precision: 0.8369 - a=recall: 0.9219\n",
            "Epoch 157/500\n",
            "8/8 [==============================] - 0s 3ms/step - loss: 0.3430 - accuracy: 0.8590 - precision: 0.8288 - a=recall: 0.9453\n",
            "Epoch 158/500\n",
            "8/8 [==============================] - 0s 3ms/step - loss: 0.3424 - accuracy: 0.8326 - precision: 0.8462 - a=recall: 0.8594\n",
            "Epoch 159/500\n",
            "8/8 [==============================] - 0s 4ms/step - loss: 0.3650 - accuracy: 0.8370 - precision: 0.8138 - a=recall: 0.9219\n",
            "Epoch 160/500\n",
            "8/8 [==============================] - 0s 5ms/step - loss: 0.3509 - accuracy: 0.8546 - precision: 0.8188 - a=recall: 0.9531\n",
            "Epoch 161/500\n",
            "8/8 [==============================] - 0s 3ms/step - loss: 0.3350 - accuracy: 0.8767 - precision: 0.8676 - a=recall: 0.9219\n",
            "Epoch 162/500\n",
            "8/8 [==============================] - 0s 3ms/step - loss: 0.3285 - accuracy: 0.8678 - precision: 0.8551 - a=recall: 0.9219\n",
            "Epoch 163/500\n",
            "8/8 [==============================] - 0s 4ms/step - loss: 0.3411 - accuracy: 0.8590 - precision: 0.8243 - a=recall: 0.9531\n",
            "Epoch 164/500\n",
            "8/8 [==============================] - 0s 4ms/step - loss: 0.3786 - accuracy: 0.8238 - precision: 0.8667 - a=recall: 0.8125\n",
            "Epoch 165/500\n",
            "8/8 [==============================] - 0s 3ms/step - loss: 0.4058 - accuracy: 0.8282 - precision: 0.8803 - a=recall: 0.8047\n",
            "Epoch 166/500\n",
            "8/8 [==============================] - 0s 4ms/step - loss: 0.3812 - accuracy: 0.8238 - precision: 0.7821 - a=recall: 0.9531\n",
            "Epoch 167/500\n",
            "8/8 [==============================] - 0s 5ms/step - loss: 0.3722 - accuracy: 0.8414 - precision: 0.8770 - a=recall: 0.8359\n",
            "Epoch 168/500\n",
            "8/8 [==============================] - 0s 3ms/step - loss: 0.3534 - accuracy: 0.8458 - precision: 0.8163 - a=recall: 0.9375\n",
            "Epoch 169/500\n",
            "8/8 [==============================] - 0s 3ms/step - loss: 0.3300 - accuracy: 0.8634 - precision: 0.8593 - a=recall: 0.9062\n",
            "Epoch 170/500\n",
            "8/8 [==============================] - 0s 4ms/step - loss: 0.4256 - accuracy: 0.8150 - precision: 0.7688 - a=recall: 0.9609\n",
            "Epoch 171/500\n",
            "8/8 [==============================] - 0s 3ms/step - loss: 0.3774 - accuracy: 0.8150 - precision: 0.8359 - a=recall: 0.8359\n",
            "Epoch 172/500\n",
            "8/8 [==============================] - 0s 3ms/step - loss: 0.3552 - accuracy: 0.8326 - precision: 0.8358 - a=recall: 0.8750\n",
            "Epoch 173/500\n",
            "8/8 [==============================] - 0s 3ms/step - loss: 0.3610 - accuracy: 0.8502 - precision: 0.8264 - a=recall: 0.9297\n",
            "Epoch 174/500\n",
            "8/8 [==============================] - 0s 3ms/step - loss: 0.3365 - accuracy: 0.8767 - precision: 0.8521 - a=recall: 0.9453\n",
            "Epoch 175/500\n",
            "8/8 [==============================] - 0s 3ms/step - loss: 0.3783 - accuracy: 0.8458 - precision: 0.8121 - a=recall: 0.9453\n",
            "Epoch 176/500\n",
            "8/8 [==============================] - 0s 3ms/step - loss: 0.3385 - accuracy: 0.8370 - precision: 0.8583 - a=recall: 0.8516\n",
            "Epoch 177/500\n",
            "8/8 [==============================] - 0s 3ms/step - loss: 0.3904 - accuracy: 0.8458 - precision: 0.8121 - a=recall: 0.9453\n",
            "Epoch 178/500\n",
            "8/8 [==============================] - 0s 3ms/step - loss: 0.3463 - accuracy: 0.8458 - precision: 0.8496 - a=recall: 0.8828\n",
            "Epoch 179/500\n",
            "8/8 [==============================] - 0s 4ms/step - loss: 0.3537 - accuracy: 0.8458 - precision: 0.8121 - a=recall: 0.9453\n",
            "Epoch 180/500\n",
            "8/8 [==============================] - 0s 3ms/step - loss: 0.3480 - accuracy: 0.8282 - precision: 0.8870 - a=recall: 0.7969\n",
            "Epoch 181/500\n",
            "8/8 [==============================] - 0s 3ms/step - loss: 0.3759 - accuracy: 0.8458 - precision: 0.8207 - a=recall: 0.9297\n",
            "Epoch 182/500\n",
            "8/8 [==============================] - 0s 3ms/step - loss: 0.3537 - accuracy: 0.8458 - precision: 0.8298 - a=recall: 0.9141\n",
            "Epoch 183/500\n",
            "8/8 [==============================] - 0s 3ms/step - loss: 0.3562 - accuracy: 0.8282 - precision: 0.8678 - a=recall: 0.8203\n",
            "Epoch 184/500\n",
            "8/8 [==============================] - 0s 3ms/step - loss: 0.3478 - accuracy: 0.8634 - precision: 0.8299 - a=recall: 0.9531\n",
            "Epoch 185/500\n",
            "8/8 [==============================] - 0s 3ms/step - loss: 0.3362 - accuracy: 0.8590 - precision: 0.8429 - a=recall: 0.9219\n",
            "Epoch 186/500\n",
            "8/8 [==============================] - 0s 3ms/step - loss: 0.3397 - accuracy: 0.8458 - precision: 0.8298 - a=recall: 0.9141\n",
            "Epoch 187/500\n",
            "8/8 [==============================] - 0s 3ms/step - loss: 0.3489 - accuracy: 0.8458 - precision: 0.8298 - a=recall: 0.9141\n",
            "Epoch 188/500\n",
            "8/8 [==============================] - 0s 3ms/step - loss: 0.3498 - accuracy: 0.8502 - precision: 0.8615 - a=recall: 0.8750\n",
            "Epoch 189/500\n",
            "8/8 [==============================] - 0s 3ms/step - loss: 0.3692 - accuracy: 0.8282 - precision: 0.8938 - a=recall: 0.7891\n",
            "Epoch 190/500\n",
            "8/8 [==============================] - 0s 3ms/step - loss: 0.3455 - accuracy: 0.8370 - precision: 0.8227 - a=recall: 0.9062\n",
            "Epoch 191/500\n",
            "8/8 [==============================] - 0s 3ms/step - loss: 0.3526 - accuracy: 0.8414 - precision: 0.8239 - a=recall: 0.9141\n",
            "Epoch 192/500\n",
            "8/8 [==============================] - 0s 4ms/step - loss: 0.3381 - accuracy: 0.8502 - precision: 0.8507 - a=recall: 0.8906\n",
            "Epoch 193/500\n",
            "8/8 [==============================] - 0s 3ms/step - loss: 0.3412 - accuracy: 0.8634 - precision: 0.8540 - a=recall: 0.9141\n",
            "Epoch 194/500\n",
            "8/8 [==============================] - 0s 3ms/step - loss: 0.3694 - accuracy: 0.8458 - precision: 0.8039 - a=recall: 0.9609\n",
            "Epoch 195/500\n",
            "8/8 [==============================] - 0s 4ms/step - loss: 0.3262 - accuracy: 0.8502 - precision: 0.8561 - a=recall: 0.8828\n",
            "Epoch 196/500\n",
            "8/8 [==============================] - 0s 3ms/step - loss: 0.3614 - accuracy: 0.8634 - precision: 0.8540 - a=recall: 0.9141\n",
            "Epoch 197/500\n",
            "8/8 [==============================] - 0s 3ms/step - loss: 0.3289 - accuracy: 0.8502 - precision: 0.8357 - a=recall: 0.9141\n",
            "Epoch 198/500\n",
            "8/8 [==============================] - 0s 4ms/step - loss: 0.3429 - accuracy: 0.8282 - precision: 0.8201 - a=recall: 0.8906\n",
            "Epoch 199/500\n",
            "8/8 [==============================] - 0s 3ms/step - loss: 0.3819 - accuracy: 0.8106 - precision: 0.8899 - a=recall: 0.7578\n",
            "Epoch 200/500\n",
            "8/8 [==============================] - 0s 4ms/step - loss: 0.3479 - accuracy: 0.8282 - precision: 0.8296 - a=recall: 0.8750\n",
            "Epoch 201/500\n",
            "8/8 [==============================] - 0s 5ms/step - loss: 0.3460 - accuracy: 0.8590 - precision: 0.8380 - a=recall: 0.9297\n",
            "Epoch 202/500\n",
            "8/8 [==============================] - 0s 4ms/step - loss: 0.3411 - accuracy: 0.8502 - precision: 0.8456 - a=recall: 0.8984\n",
            "Epoch 203/500\n",
            "8/8 [==============================] - 0s 3ms/step - loss: 0.3817 - accuracy: 0.8370 - precision: 0.8013 - a=recall: 0.9453\n",
            "Epoch 204/500\n",
            "8/8 [==============================] - 0s 3ms/step - loss: 0.3314 - accuracy: 0.8502 - precision: 0.8507 - a=recall: 0.8906\n",
            "Epoch 205/500\n",
            "8/8 [==============================] - 0s 3ms/step - loss: 0.3465 - accuracy: 0.8546 - precision: 0.8276 - a=recall: 0.9375\n",
            "Epoch 206/500\n",
            "8/8 [==============================] - 0s 3ms/step - loss: 0.3681 - accuracy: 0.8458 - precision: 0.8444 - a=recall: 0.8906\n",
            "Epoch 207/500\n",
            "8/8 [==============================] - 0s 3ms/step - loss: 0.3628 - accuracy: 0.8238 - precision: 0.8860 - a=recall: 0.7891\n",
            "Epoch 208/500\n",
            "8/8 [==============================] - 0s 3ms/step - loss: 0.4068 - accuracy: 0.8238 - precision: 0.7821 - a=recall: 0.9531\n",
            "Epoch 209/500\n",
            "8/8 [==============================] - 0s 3ms/step - loss: 0.3692 - accuracy: 0.8282 - precision: 0.8938 - a=recall: 0.7891\n",
            "Epoch 210/500\n",
            "8/8 [==============================] - 0s 3ms/step - loss: 0.3868 - accuracy: 0.8326 - precision: 0.8000 - a=recall: 0.9375\n",
            "Epoch 211/500\n",
            "8/8 [==============================] - 0s 3ms/step - loss: 0.4320 - accuracy: 0.7753 - precision: 0.8889 - a=recall: 0.6875\n",
            "Epoch 212/500\n",
            "8/8 [==============================] - 0s 3ms/step - loss: 0.4026 - accuracy: 0.8150 - precision: 0.7792 - a=recall: 0.9375\n",
            "Epoch 213/500\n",
            "8/8 [==============================] - 0s 3ms/step - loss: 0.3763 - accuracy: 0.8018 - precision: 0.8268 - a=recall: 0.8203\n",
            "Epoch 214/500\n",
            "8/8 [==============================] - 0s 3ms/step - loss: 0.3322 - accuracy: 0.8590 - precision: 0.8429 - a=recall: 0.9219\n",
            "Epoch 215/500\n",
            "8/8 [==============================] - 0s 3ms/step - loss: 0.3499 - accuracy: 0.8414 - precision: 0.8770 - a=recall: 0.8359\n",
            "Epoch 216/500\n",
            "8/8 [==============================] - 0s 3ms/step - loss: 0.3543 - accuracy: 0.8326 - precision: 0.8125 - a=recall: 0.9141\n",
            "Epoch 217/500\n",
            "8/8 [==============================] - 0s 3ms/step - loss: 0.3364 - accuracy: 0.8546 - precision: 0.8862 - a=recall: 0.8516\n",
            "Epoch 218/500\n",
            "8/8 [==============================] - 0s 3ms/step - loss: 0.4413 - accuracy: 0.8194 - precision: 0.7702 - a=recall: 0.9688\n",
            "Epoch 219/500\n",
            "8/8 [==============================] - 0s 4ms/step - loss: 0.4001 - accuracy: 0.8062 - precision: 0.9038 - a=recall: 0.7344\n",
            "Epoch 220/500\n",
            "8/8 [==============================] - 0s 3ms/step - loss: 0.4357 - accuracy: 0.8062 - precision: 0.7561 - a=recall: 0.9688\n",
            "Epoch 221/500\n",
            "8/8 [==============================] - 0s 3ms/step - loss: 0.4020 - accuracy: 0.7974 - precision: 0.8942 - a=recall: 0.7266\n",
            "Epoch 222/500\n",
            "8/8 [==============================] - 0s 3ms/step - loss: 0.4025 - accuracy: 0.8370 - precision: 0.7974 - a=recall: 0.9531\n",
            "Epoch 223/500\n",
            "8/8 [==============================] - 0s 3ms/step - loss: 0.3541 - accuracy: 0.8414 - precision: 0.8770 - a=recall: 0.8359\n",
            "Epoch 224/500\n",
            "8/8 [==============================] - 0s 3ms/step - loss: 0.3263 - accuracy: 0.8590 - precision: 0.8429 - a=recall: 0.9219\n",
            "Epoch 225/500\n",
            "8/8 [==============================] - 0s 3ms/step - loss: 0.3351 - accuracy: 0.8590 - precision: 0.8380 - a=recall: 0.9297\n",
            "Epoch 226/500\n",
            "8/8 [==============================] - 0s 3ms/step - loss: 0.3306 - accuracy: 0.8546 - precision: 0.8322 - a=recall: 0.9297\n",
            "Epoch 227/500\n",
            "8/8 [==============================] - 0s 3ms/step - loss: 0.3287 - accuracy: 0.8634 - precision: 0.8540 - a=recall: 0.9141\n",
            "Epoch 228/500\n",
            "8/8 [==============================] - 0s 3ms/step - loss: 0.3240 - accuracy: 0.8678 - precision: 0.8551 - a=recall: 0.9219\n",
            "Epoch 229/500\n",
            "8/8 [==============================] - 0s 3ms/step - loss: 0.3843 - accuracy: 0.8238 - precision: 0.8284 - a=recall: 0.8672\n",
            "Epoch 230/500\n",
            "8/8 [==============================] - 0s 3ms/step - loss: 0.3333 - accuracy: 0.8414 - precision: 0.8710 - a=recall: 0.8438\n",
            "Epoch 231/500\n",
            "8/8 [==============================] - 0s 3ms/step - loss: 0.3256 - accuracy: 0.8546 - precision: 0.8519 - a=recall: 0.8984\n",
            "Epoch 232/500\n",
            "8/8 [==============================] - 0s 3ms/step - loss: 0.3375 - accuracy: 0.8458 - precision: 0.8550 - a=recall: 0.8750\n",
            "Epoch 233/500\n",
            "8/8 [==============================] - 0s 3ms/step - loss: 0.3425 - accuracy: 0.8546 - precision: 0.8276 - a=recall: 0.9375\n",
            "Epoch 234/500\n",
            "8/8 [==============================] - 0s 3ms/step - loss: 0.3294 - accuracy: 0.8678 - precision: 0.8403 - a=recall: 0.9453\n",
            "Epoch 235/500\n",
            "8/8 [==============================] - 0s 3ms/step - loss: 0.3336 - accuracy: 0.8767 - precision: 0.9032 - a=recall: 0.8750\n",
            "Epoch 236/500\n",
            "8/8 [==============================] - 0s 4ms/step - loss: 0.3371 - accuracy: 0.8634 - precision: 0.8345 - a=recall: 0.9453\n",
            "Epoch 237/500\n",
            "8/8 [==============================] - 0s 3ms/step - loss: 0.3639 - accuracy: 0.8370 - precision: 0.8824 - a=recall: 0.8203\n",
            "Epoch 238/500\n",
            "8/8 [==============================] - 0s 3ms/step - loss: 0.3515 - accuracy: 0.8238 - precision: 0.8548 - a=recall: 0.8281\n",
            "Epoch 239/500\n",
            "8/8 [==============================] - 0s 3ms/step - loss: 0.3889 - accuracy: 0.8282 - precision: 0.7834 - a=recall: 0.9609\n",
            "Epoch 240/500\n",
            "8/8 [==============================] - 0s 3ms/step - loss: 0.3855 - accuracy: 0.8238 - precision: 0.8607 - a=recall: 0.8203\n",
            "Epoch 241/500\n",
            "8/8 [==============================] - 0s 3ms/step - loss: 0.4049 - accuracy: 0.7709 - precision: 0.8725 - a=recall: 0.6953\n",
            "Epoch 242/500\n",
            "8/8 [==============================] - 0s 3ms/step - loss: 0.4127 - accuracy: 0.8106 - precision: 0.7640 - a=recall: 0.9609\n",
            "Epoch 243/500\n",
            "8/8 [==============================] - 0s 3ms/step - loss: 0.3536 - accuracy: 0.8370 - precision: 0.8760 - a=recall: 0.8281\n",
            "Epoch 244/500\n",
            "8/8 [==============================] - 0s 3ms/step - loss: 0.3271 - accuracy: 0.8546 - precision: 0.8369 - a=recall: 0.9219\n",
            "Epoch 245/500\n",
            "8/8 [==============================] - 0s 3ms/step - loss: 0.3272 - accuracy: 0.8546 - precision: 0.8626 - a=recall: 0.8828\n",
            "Epoch 246/500\n",
            "8/8 [==============================] - 0s 3ms/step - loss: 0.3198 - accuracy: 0.8634 - precision: 0.8440 - a=recall: 0.9297\n",
            "Epoch 247/500\n",
            "8/8 [==============================] - 0s 3ms/step - loss: 0.3623 - accuracy: 0.8326 - precision: 0.8814 - a=recall: 0.8125\n",
            "Epoch 248/500\n",
            "8/8 [==============================] - 0s 3ms/step - loss: 0.3571 - accuracy: 0.8502 - precision: 0.8406 - a=recall: 0.9062\n",
            "Epoch 249/500\n",
            "8/8 [==============================] - 0s 4ms/step - loss: 0.3273 - accuracy: 0.8458 - precision: 0.8780 - a=recall: 0.8438\n",
            "Epoch 250/500\n",
            "8/8 [==============================] - 0s 3ms/step - loss: 0.3296 - accuracy: 0.8546 - precision: 0.8369 - a=recall: 0.9219\n",
            "Epoch 251/500\n",
            "8/8 [==============================] - 0s 4ms/step - loss: 0.3666 - accuracy: 0.8414 - precision: 0.8239 - a=recall: 0.9141\n",
            "Epoch 252/500\n",
            "8/8 [==============================] - 0s 3ms/step - loss: 0.3580 - accuracy: 0.8238 - precision: 0.8729 - a=recall: 0.8047\n",
            "Epoch 253/500\n",
            "8/8 [==============================] - 0s 4ms/step - loss: 0.3397 - accuracy: 0.8590 - precision: 0.8478 - a=recall: 0.9141\n",
            "Epoch 254/500\n",
            "8/8 [==============================] - 0s 3ms/step - loss: 0.3483 - accuracy: 0.8326 - precision: 0.8629 - a=recall: 0.8359\n",
            "Epoch 255/500\n",
            "8/8 [==============================] - 0s 3ms/step - loss: 0.3600 - accuracy: 0.8326 - precision: 0.8750 - a=recall: 0.8203\n",
            "Epoch 256/500\n",
            "8/8 [==============================] - 0s 4ms/step - loss: 0.3627 - accuracy: 0.8414 - precision: 0.8151 - a=recall: 0.9297\n",
            "Epoch 257/500\n",
            "8/8 [==============================] - 0s 3ms/step - loss: 0.3787 - accuracy: 0.8326 - precision: 0.7961 - a=recall: 0.9453\n",
            "Epoch 258/500\n",
            "8/8 [==============================] - 0s 3ms/step - loss: 0.3531 - accuracy: 0.8326 - precision: 0.8814 - a=recall: 0.8125\n",
            "Epoch 259/500\n",
            "8/8 [==============================] - 0s 3ms/step - loss: 0.3865 - accuracy: 0.8238 - precision: 0.7895 - a=recall: 0.9375\n",
            "Epoch 260/500\n",
            "8/8 [==============================] - 0s 3ms/step - loss: 0.3834 - accuracy: 0.8238 - precision: 0.9074 - a=recall: 0.7656\n",
            "Epoch 261/500\n",
            "8/8 [==============================] - 0s 3ms/step - loss: 0.3512 - accuracy: 0.8414 - precision: 0.8067 - a=recall: 0.9453\n",
            "Epoch 262/500\n",
            "8/8 [==============================] - 0s 6ms/step - loss: 0.4542 - accuracy: 0.7841 - precision: 0.9438 - a=recall: 0.6562\n",
            "Epoch 263/500\n",
            "8/8 [==============================] - 0s 4ms/step - loss: 0.3658 - accuracy: 0.8458 - precision: 0.8121 - a=recall: 0.9453\n",
            "Epoch 264/500\n",
            "8/8 [==============================] - 0s 3ms/step - loss: 0.3354 - accuracy: 0.8590 - precision: 0.8333 - a=recall: 0.9375\n",
            "Epoch 265/500\n",
            "8/8 [==============================] - 0s 3ms/step - loss: 0.3260 - accuracy: 0.8634 - precision: 0.8702 - a=recall: 0.8906\n",
            "Epoch 266/500\n",
            "8/8 [==============================] - 0s 4ms/step - loss: 0.3310 - accuracy: 0.8458 - precision: 0.8605 - a=recall: 0.8672\n",
            "Epoch 267/500\n",
            "8/8 [==============================] - 0s 3ms/step - loss: 0.3477 - accuracy: 0.8282 - precision: 0.8248 - a=recall: 0.8828\n",
            "Epoch 268/500\n",
            "8/8 [==============================] - 0s 3ms/step - loss: 0.3258 - accuracy: 0.8590 - precision: 0.8582 - a=recall: 0.8984\n",
            "Epoch 269/500\n",
            "8/8 [==============================] - 0s 3ms/step - loss: 0.3569 - accuracy: 0.8546 - precision: 0.8862 - a=recall: 0.8516\n",
            "Epoch 270/500\n",
            "8/8 [==============================] - 0s 3ms/step - loss: 0.3591 - accuracy: 0.8634 - precision: 0.8489 - a=recall: 0.9219\n",
            "Epoch 271/500\n",
            "8/8 [==============================] - 0s 3ms/step - loss: 0.3517 - accuracy: 0.8502 - precision: 0.8561 - a=recall: 0.8828\n",
            "Epoch 272/500\n",
            "8/8 [==============================] - 0s 3ms/step - loss: 0.3465 - accuracy: 0.8502 - precision: 0.8357 - a=recall: 0.9141\n",
            "Epoch 273/500\n",
            "8/8 [==============================] - 0s 3ms/step - loss: 0.3456 - accuracy: 0.8546 - precision: 0.8231 - a=recall: 0.9453\n",
            "Epoch 274/500\n",
            "8/8 [==============================] - 0s 3ms/step - loss: 0.3390 - accuracy: 0.8502 - precision: 0.8507 - a=recall: 0.8906\n",
            "Epoch 275/500\n",
            "8/8 [==============================] - 0s 3ms/step - loss: 0.3767 - accuracy: 0.8414 - precision: 0.8151 - a=recall: 0.9297\n",
            "Epoch 276/500\n",
            "8/8 [==============================] - 0s 3ms/step - loss: 0.3256 - accuracy: 0.8458 - precision: 0.8444 - a=recall: 0.8906\n",
            "Epoch 277/500\n",
            "8/8 [==============================] - 0s 4ms/step - loss: 0.3386 - accuracy: 0.8546 - precision: 0.8626 - a=recall: 0.8828\n",
            "Epoch 278/500\n",
            "8/8 [==============================] - 0s 4ms/step - loss: 0.3502 - accuracy: 0.8326 - precision: 0.8409 - a=recall: 0.8672\n",
            "Epoch 279/500\n",
            "8/8 [==============================] - 0s 3ms/step - loss: 0.4079 - accuracy: 0.8282 - precision: 0.7947 - a=recall: 0.9375\n",
            "Epoch 280/500\n",
            "8/8 [==============================] - 0s 3ms/step - loss: 0.3435 - accuracy: 0.8370 - precision: 0.8370 - a=recall: 0.8828\n",
            "Epoch 281/500\n",
            "8/8 [==============================] - 0s 3ms/step - loss: 0.3632 - accuracy: 0.8370 - precision: 0.8095 - a=recall: 0.9297\n",
            "Epoch 282/500\n",
            "8/8 [==============================] - 0s 4ms/step - loss: 0.3291 - accuracy: 0.8546 - precision: 0.8417 - a=recall: 0.9141\n",
            "Epoch 283/500\n",
            "8/8 [==============================] - 0s 3ms/step - loss: 0.3137 - accuracy: 0.8458 - precision: 0.8345 - a=recall: 0.9062\n",
            "Epoch 284/500\n",
            "8/8 [==============================] - 0s 3ms/step - loss: 0.3135 - accuracy: 0.8722 - precision: 0.8960 - a=recall: 0.8750\n",
            "Epoch 285/500\n",
            "8/8 [==============================] - 0s 3ms/step - loss: 0.3584 - accuracy: 0.8502 - precision: 0.8133 - a=recall: 0.9531\n",
            "Epoch 286/500\n",
            "8/8 [==============================] - 0s 4ms/step - loss: 0.3712 - accuracy: 0.8546 - precision: 0.9524 - a=recall: 0.7812\n",
            "Epoch 287/500\n",
            "8/8 [==============================] - 0s 3ms/step - loss: 0.4226 - accuracy: 0.8150 - precision: 0.7905 - a=recall: 0.9141\n",
            "Epoch 288/500\n",
            "8/8 [==============================] - 0s 4ms/step - loss: 0.3458 - accuracy: 0.8326 - precision: 0.8409 - a=recall: 0.8672\n",
            "Epoch 289/500\n",
            "8/8 [==============================] - 0s 3ms/step - loss: 0.3096 - accuracy: 0.8502 - precision: 0.8456 - a=recall: 0.8984\n",
            "Epoch 290/500\n",
            "8/8 [==============================] - 0s 3ms/step - loss: 0.3351 - accuracy: 0.8414 - precision: 0.8333 - a=recall: 0.8984\n",
            "Epoch 291/500\n",
            "8/8 [==============================] - 0s 3ms/step - loss: 0.3182 - accuracy: 0.8634 - precision: 0.8440 - a=recall: 0.9297\n",
            "Epoch 292/500\n",
            "8/8 [==============================] - 0s 3ms/step - loss: 0.3177 - accuracy: 0.8546 - precision: 0.8467 - a=recall: 0.9062\n",
            "Epoch 293/500\n",
            "8/8 [==============================] - 0s 3ms/step - loss: 0.3180 - accuracy: 0.8722 - precision: 0.8462 - a=recall: 0.9453\n",
            "Epoch 294/500\n",
            "8/8 [==============================] - 0s 3ms/step - loss: 0.3909 - accuracy: 0.7797 - precision: 0.8980 - a=recall: 0.6875\n",
            "Epoch 295/500\n",
            "8/8 [==============================] - 0s 3ms/step - loss: 0.3945 - accuracy: 0.8194 - precision: 0.7736 - a=recall: 0.9609\n",
            "Epoch 296/500\n",
            "8/8 [==============================] - 0s 3ms/step - loss: 0.3434 - accuracy: 0.8370 - precision: 0.8640 - a=recall: 0.8438\n",
            "Epoch 297/500\n",
            "8/8 [==============================] - 0s 3ms/step - loss: 0.3226 - accuracy: 0.8634 - precision: 0.8540 - a=recall: 0.9141\n",
            "Epoch 298/500\n",
            "8/8 [==============================] - 0s 3ms/step - loss: 0.3288 - accuracy: 0.8546 - precision: 0.8800 - a=recall: 0.8594\n",
            "Epoch 299/500\n",
            "8/8 [==============================] - 0s 3ms/step - loss: 0.3453 - accuracy: 0.8546 - precision: 0.9130 - a=recall: 0.8203\n",
            "Epoch 300/500\n",
            "8/8 [==============================] - 0s 3ms/step - loss: 0.3409 - accuracy: 0.8502 - precision: 0.8219 - a=recall: 0.9375\n",
            "Epoch 301/500\n",
            "8/8 [==============================] - 0s 3ms/step - loss: 0.3055 - accuracy: 0.8546 - precision: 0.8626 - a=recall: 0.8828\n",
            "Epoch 302/500\n",
            "8/8 [==============================] - 0s 3ms/step - loss: 0.3288 - accuracy: 0.8546 - precision: 0.8369 - a=recall: 0.9219\n",
            "Epoch 303/500\n",
            "8/8 [==============================] - 0s 3ms/step - loss: 0.3204 - accuracy: 0.8722 - precision: 0.8613 - a=recall: 0.9219\n",
            "Epoch 304/500\n",
            "8/8 [==============================] - 0s 3ms/step - loss: 0.3157 - accuracy: 0.8502 - precision: 0.8507 - a=recall: 0.8906\n",
            "Epoch 305/500\n",
            "8/8 [==============================] - 0s 4ms/step - loss: 0.3213 - accuracy: 0.8634 - precision: 0.8440 - a=recall: 0.9297\n",
            "Epoch 306/500\n",
            "8/8 [==============================] - 0s 3ms/step - loss: 0.3097 - accuracy: 0.8634 - precision: 0.8440 - a=recall: 0.9297\n",
            "Epoch 307/500\n",
            "8/8 [==============================] - 0s 3ms/step - loss: 0.3330 - accuracy: 0.8546 - precision: 0.8992 - a=recall: 0.8359\n",
            "Epoch 308/500\n",
            "8/8 [==============================] - 0s 3ms/step - loss: 0.3097 - accuracy: 0.8590 - precision: 0.8810 - a=recall: 0.8672\n",
            "Epoch 309/500\n",
            "8/8 [==============================] - 0s 4ms/step - loss: 0.3499 - accuracy: 0.8502 - precision: 0.8133 - a=recall: 0.9531\n",
            "Epoch 310/500\n",
            "8/8 [==============================] - 0s 3ms/step - loss: 0.3241 - accuracy: 0.8502 - precision: 0.8917 - a=recall: 0.8359\n",
            "Epoch 311/500\n",
            "8/8 [==============================] - 0s 3ms/step - loss: 0.3393 - accuracy: 0.8634 - precision: 0.8345 - a=recall: 0.9453\n",
            "Epoch 312/500\n",
            "8/8 [==============================] - 0s 3ms/step - loss: 0.3748 - accuracy: 0.8150 - precision: 0.8981 - a=recall: 0.7578\n",
            "Epoch 313/500\n",
            "8/8 [==============================] - 0s 3ms/step - loss: 0.3420 - accuracy: 0.8634 - precision: 0.8593 - a=recall: 0.9062\n",
            "Epoch 314/500\n",
            "8/8 [==============================] - 0s 3ms/step - loss: 0.3676 - accuracy: 0.8326 - precision: 0.8750 - a=recall: 0.8203\n",
            "Epoch 315/500\n",
            "8/8 [==============================] - 0s 3ms/step - loss: 0.3238 - accuracy: 0.8590 - precision: 0.8529 - a=recall: 0.9062\n",
            "Epoch 316/500\n",
            "8/8 [==============================] - 0s 3ms/step - loss: 0.3600 - accuracy: 0.8502 - precision: 0.8176 - a=recall: 0.9453\n",
            "Epoch 317/500\n",
            "8/8 [==============================] - 0s 3ms/step - loss: 0.4899 - accuracy: 0.7533 - precision: 0.8673 - a=recall: 0.6641\n",
            "Epoch 318/500\n",
            "8/8 [==============================] - 0s 3ms/step - loss: 0.4257 - accuracy: 0.8018 - precision: 0.7546 - a=recall: 0.9609\n",
            "Epoch 319/500\n",
            "8/8 [==============================] - 0s 3ms/step - loss: 0.3348 - accuracy: 0.8590 - precision: 0.9068 - a=recall: 0.8359\n",
            "Epoch 320/500\n",
            "8/8 [==============================] - 0s 3ms/step - loss: 0.3120 - accuracy: 0.8546 - precision: 0.8369 - a=recall: 0.9219\n",
            "Epoch 321/500\n",
            "8/8 [==============================] - 0s 4ms/step - loss: 0.3243 - accuracy: 0.8370 - precision: 0.8182 - a=recall: 0.9141\n",
            "Epoch 322/500\n",
            "8/8 [==============================] - 0s 3ms/step - loss: 0.3273 - accuracy: 0.8458 - precision: 0.8720 - a=recall: 0.8516\n",
            "Epoch 323/500\n",
            "8/8 [==============================] - 0s 3ms/step - loss: 0.3245 - accuracy: 0.8458 - precision: 0.8345 - a=recall: 0.9062\n",
            "Epoch 324/500\n",
            "8/8 [==============================] - 0s 3ms/step - loss: 0.3274 - accuracy: 0.8634 - precision: 0.8299 - a=recall: 0.9531\n",
            "Epoch 325/500\n",
            "8/8 [==============================] - 0s 3ms/step - loss: 0.3220 - accuracy: 0.8546 - precision: 0.8862 - a=recall: 0.8516\n",
            "Epoch 326/500\n",
            "8/8 [==============================] - 0s 7ms/step - loss: 0.3051 - accuracy: 0.8590 - precision: 0.8478 - a=recall: 0.9141\n",
            "Epoch 327/500\n",
            "8/8 [==============================] - 0s 5ms/step - loss: 0.3114 - accuracy: 0.8502 - precision: 0.8561 - a=recall: 0.8828\n",
            "Epoch 328/500\n",
            "8/8 [==============================] - 0s 3ms/step - loss: 0.3190 - accuracy: 0.8458 - precision: 0.8780 - a=recall: 0.8438\n",
            "Epoch 329/500\n",
            "8/8 [==============================] - 0s 3ms/step - loss: 0.3290 - accuracy: 0.8458 - precision: 0.8298 - a=recall: 0.9141\n",
            "Epoch 330/500\n",
            "8/8 [==============================] - 0s 4ms/step - loss: 0.3248 - accuracy: 0.8678 - precision: 0.8403 - a=recall: 0.9453\n",
            "Epoch 331/500\n",
            "8/8 [==============================] - 0s 3ms/step - loss: 0.4924 - accuracy: 0.7401 - precision: 0.9157 - a=recall: 0.5938\n",
            "Epoch 332/500\n",
            "8/8 [==============================] - 0s 3ms/step - loss: 0.4585 - accuracy: 0.8106 - precision: 0.7640 - a=recall: 0.9609\n",
            "Epoch 333/500\n",
            "8/8 [==============================] - 0s 3ms/step - loss: 0.3789 - accuracy: 0.8282 - precision: 0.8618 - a=recall: 0.8281\n",
            "Epoch 334/500\n",
            "8/8 [==============================] - 0s 3ms/step - loss: 0.3167 - accuracy: 0.8678 - precision: 0.8500 - a=recall: 0.9297\n",
            "Epoch 335/500\n",
            "8/8 [==============================] - 0s 3ms/step - loss: 0.3098 - accuracy: 0.8502 - precision: 0.8456 - a=recall: 0.8984\n",
            "Epoch 336/500\n",
            "8/8 [==============================] - 0s 4ms/step - loss: 0.3347 - accuracy: 0.8282 - precision: 0.8678 - a=recall: 0.8203\n",
            "Epoch 337/500\n",
            "8/8 [==============================] - 0s 3ms/step - loss: 0.3250 - accuracy: 0.8326 - precision: 0.8358 - a=recall: 0.8750\n",
            "Epoch 338/500\n",
            "8/8 [==============================] - 0s 3ms/step - loss: 0.3617 - accuracy: 0.8458 - precision: 0.8121 - a=recall: 0.9453\n",
            "Epoch 339/500\n",
            "8/8 [==============================] - 0s 3ms/step - loss: 0.3968 - accuracy: 0.8150 - precision: 0.9216 - a=recall: 0.7344\n",
            "Epoch 340/500\n",
            "8/8 [==============================] - 0s 3ms/step - loss: 0.3877 - accuracy: 0.8414 - precision: 0.8026 - a=recall: 0.9531\n",
            "Epoch 341/500\n",
            "8/8 [==============================] - 0s 3ms/step - loss: 0.3540 - accuracy: 0.8634 - precision: 0.8540 - a=recall: 0.9141\n",
            "Epoch 342/500\n",
            "8/8 [==============================] - 0s 3ms/step - loss: 0.3710 - accuracy: 0.8370 - precision: 0.7935 - a=recall: 0.9609\n",
            "Epoch 343/500\n",
            "8/8 [==============================] - 0s 4ms/step - loss: 0.3823 - accuracy: 0.8106 - precision: 0.8972 - a=recall: 0.7500\n",
            "Epoch 344/500\n",
            "8/8 [==============================] - 0s 4ms/step - loss: 0.4683 - accuracy: 0.7930 - precision: 0.7580 - a=recall: 0.9297\n",
            "Epoch 345/500\n",
            "8/8 [==============================] - 0s 4ms/step - loss: 0.3555 - accuracy: 0.8326 - precision: 0.8689 - a=recall: 0.8281\n",
            "Epoch 346/500\n",
            "8/8 [==============================] - 0s 4ms/step - loss: 0.3952 - accuracy: 0.8150 - precision: 0.7905 - a=recall: 0.9141\n",
            "Epoch 347/500\n",
            "8/8 [==============================] - 0s 4ms/step - loss: 0.3291 - accuracy: 0.8546 - precision: 0.8417 - a=recall: 0.9141\n",
            "Epoch 348/500\n",
            "8/8 [==============================] - 0s 4ms/step - loss: 0.3487 - accuracy: 0.8502 - precision: 0.8672 - a=recall: 0.8672\n",
            "Epoch 349/500\n",
            "8/8 [==============================] - 0s 4ms/step - loss: 0.3240 - accuracy: 0.8634 - precision: 0.8440 - a=recall: 0.9297\n",
            "Epoch 350/500\n",
            "8/8 [==============================] - 0s 4ms/step - loss: 0.3371 - accuracy: 0.8458 - precision: 0.8550 - a=recall: 0.8750\n",
            "Epoch 351/500\n",
            "8/8 [==============================] - 0s 4ms/step - loss: 0.3562 - accuracy: 0.8458 - precision: 0.8908 - a=recall: 0.8281\n",
            "Epoch 352/500\n",
            "8/8 [==============================] - 0s 5ms/step - loss: 0.3366 - accuracy: 0.8634 - precision: 0.8647 - a=recall: 0.8984\n",
            "Epoch 353/500\n",
            "8/8 [==============================] - 0s 5ms/step - loss: 0.3451 - accuracy: 0.8546 - precision: 0.8188 - a=recall: 0.9531\n",
            "Epoch 354/500\n",
            "8/8 [==============================] - 0s 4ms/step - loss: 0.3311 - accuracy: 0.8546 - precision: 0.8467 - a=recall: 0.9062\n",
            "Epoch 355/500\n",
            "8/8 [==============================] - 0s 4ms/step - loss: 0.3567 - accuracy: 0.8150 - precision: 0.8909 - a=recall: 0.7656\n",
            "Epoch 356/500\n",
            "8/8 [==============================] - 0s 4ms/step - loss: 0.3560 - accuracy: 0.8414 - precision: 0.8239 - a=recall: 0.9141\n",
            "Epoch 357/500\n",
            "8/8 [==============================] - 0s 4ms/step - loss: 0.3447 - accuracy: 0.8502 - precision: 0.8456 - a=recall: 0.8984\n",
            "Epoch 358/500\n",
            "8/8 [==============================] - 0s 3ms/step - loss: 0.3739 - accuracy: 0.8414 - precision: 0.8770 - a=recall: 0.8359\n",
            "Epoch 359/500\n",
            "8/8 [==============================] - 0s 3ms/step - loss: 0.3383 - accuracy: 0.8414 - precision: 0.8382 - a=recall: 0.8906\n",
            "Epoch 360/500\n",
            "8/8 [==============================] - 0s 3ms/step - loss: 0.3252 - accuracy: 0.8458 - precision: 0.8298 - a=recall: 0.9141\n",
            "Epoch 361/500\n",
            "8/8 [==============================] - 0s 3ms/step - loss: 0.3179 - accuracy: 0.8326 - precision: 0.8409 - a=recall: 0.8672\n",
            "Epoch 362/500\n",
            "8/8 [==============================] - 0s 3ms/step - loss: 0.3177 - accuracy: 0.8546 - precision: 0.8417 - a=recall: 0.9141\n",
            "Epoch 363/500\n",
            "8/8 [==============================] - 0s 3ms/step - loss: 0.3415 - accuracy: 0.8590 - precision: 0.8333 - a=recall: 0.9375\n",
            "Epoch 364/500\n",
            "8/8 [==============================] - 0s 5ms/step - loss: 0.5220 - accuracy: 0.7489 - precision: 0.9080 - a=recall: 0.6172\n",
            "Epoch 365/500\n",
            "8/8 [==============================] - 0s 4ms/step - loss: 0.5227 - accuracy: 0.7797 - precision: 0.7241 - a=recall: 0.9844\n",
            "Epoch 366/500\n",
            "8/8 [==============================] - 0s 3ms/step - loss: 0.4858 - accuracy: 0.7401 - precision: 0.9259 - a=recall: 0.5859\n",
            "Epoch 367/500\n",
            "8/8 [==============================] - 0s 4ms/step - loss: 0.3951 - accuracy: 0.8282 - precision: 0.7834 - a=recall: 0.9609\n",
            "Epoch 368/500\n",
            "8/8 [==============================] - 0s 5ms/step - loss: 0.3455 - accuracy: 0.8414 - precision: 0.8594 - a=recall: 0.8594\n",
            "Epoch 369/500\n",
            "8/8 [==============================] - 0s 4ms/step - loss: 0.3836 - accuracy: 0.8282 - precision: 0.7908 - a=recall: 0.9453\n",
            "Epoch 370/500\n",
            "8/8 [==============================] - 0s 4ms/step - loss: 0.3529 - accuracy: 0.8370 - precision: 0.8889 - a=recall: 0.8125\n",
            "Epoch 371/500\n",
            "8/8 [==============================] - 0s 4ms/step - loss: 0.3429 - accuracy: 0.8326 - precision: 0.8409 - a=recall: 0.8672\n",
            "Epoch 372/500\n",
            "8/8 [==============================] - 0s 3ms/step - loss: 0.3746 - accuracy: 0.8458 - precision: 0.8079 - a=recall: 0.9531\n",
            "Epoch 373/500\n",
            "8/8 [==============================] - 0s 3ms/step - loss: 0.3251 - accuracy: 0.8458 - precision: 0.8394 - a=recall: 0.8984\n",
            "Epoch 374/500\n",
            "8/8 [==============================] - 0s 3ms/step - loss: 0.3812 - accuracy: 0.8414 - precision: 0.8651 - a=recall: 0.8516\n",
            "Epoch 375/500\n",
            "8/8 [==============================] - 0s 4ms/step - loss: 0.3596 - accuracy: 0.8326 - precision: 0.8879 - a=recall: 0.8047\n",
            "Epoch 376/500\n",
            "8/8 [==============================] - 0s 4ms/step - loss: 0.4075 - accuracy: 0.8458 - precision: 0.8121 - a=recall: 0.9453\n",
            "Epoch 377/500\n",
            "8/8 [==============================] - 0s 3ms/step - loss: 0.3296 - accuracy: 0.8634 - precision: 0.8760 - a=recall: 0.8828\n",
            "Epoch 378/500\n",
            "8/8 [==============================] - 0s 4ms/step - loss: 0.3431 - accuracy: 0.8590 - precision: 0.8288 - a=recall: 0.9453\n",
            "Epoch 379/500\n",
            "8/8 [==============================] - 0s 3ms/step - loss: 0.3140 - accuracy: 0.8546 - precision: 0.8571 - a=recall: 0.8906\n",
            "Epoch 380/500\n",
            "8/8 [==============================] - 0s 3ms/step - loss: 0.3521 - accuracy: 0.8502 - precision: 0.8133 - a=recall: 0.9531\n",
            "Epoch 381/500\n",
            "8/8 [==============================] - 0s 3ms/step - loss: 0.3747 - accuracy: 0.8282 - precision: 0.9159 - a=recall: 0.7656\n",
            "Epoch 382/500\n",
            "8/8 [==============================] - 0s 3ms/step - loss: 0.3498 - accuracy: 0.8458 - precision: 0.8252 - a=recall: 0.9219\n",
            "Epoch 383/500\n",
            "8/8 [==============================] - 0s 3ms/step - loss: 0.3307 - accuracy: 0.8414 - precision: 0.8382 - a=recall: 0.8906\n",
            "Epoch 384/500\n",
            "8/8 [==============================] - 0s 3ms/step - loss: 0.3167 - accuracy: 0.8546 - precision: 0.8276 - a=recall: 0.9375\n",
            "Epoch 385/500\n",
            "8/8 [==============================] - 0s 3ms/step - loss: 0.3112 - accuracy: 0.8590 - precision: 0.8333 - a=recall: 0.9375\n",
            "Epoch 386/500\n",
            "8/8 [==============================] - 0s 3ms/step - loss: 0.3099 - accuracy: 0.8722 - precision: 0.8561 - a=recall: 0.9297\n",
            "Epoch 387/500\n",
            "8/8 [==============================] - 0s 3ms/step - loss: 0.3137 - accuracy: 0.8634 - precision: 0.8943 - a=recall: 0.8594\n",
            "Epoch 388/500\n",
            "8/8 [==============================] - 0s 3ms/step - loss: 0.3059 - accuracy: 0.8634 - precision: 0.8345 - a=recall: 0.9453\n",
            "Epoch 389/500\n",
            "8/8 [==============================] - 0s 3ms/step - loss: 0.3628 - accuracy: 0.8282 - precision: 0.8870 - a=recall: 0.7969\n",
            "Epoch 390/500\n",
            "8/8 [==============================] - 0s 3ms/step - loss: 0.3090 - accuracy: 0.8722 - precision: 0.8462 - a=recall: 0.9453\n",
            "Epoch 391/500\n",
            "8/8 [==============================] - 0s 3ms/step - loss: 0.3058 - accuracy: 0.8546 - precision: 0.8626 - a=recall: 0.8828\n",
            "Epoch 392/500\n",
            "8/8 [==============================] - 0s 4ms/step - loss: 0.3060 - accuracy: 0.8458 - precision: 0.8444 - a=recall: 0.8906\n",
            "Epoch 393/500\n",
            "8/8 [==============================] - 0s 4ms/step - loss: 0.3016 - accuracy: 0.8502 - precision: 0.8507 - a=recall: 0.8906\n",
            "Epoch 394/500\n",
            "8/8 [==============================] - 0s 4ms/step - loss: 0.3147 - accuracy: 0.8590 - precision: 0.8380 - a=recall: 0.9297\n",
            "Epoch 395/500\n",
            "8/8 [==============================] - 0s 3ms/step - loss: 0.5422 - accuracy: 0.7489 - precision: 0.9277 - a=recall: 0.6016\n",
            "Epoch 396/500\n",
            "8/8 [==============================] - 0s 3ms/step - loss: 0.4105 - accuracy: 0.8062 - precision: 0.7593 - a=recall: 0.9609\n",
            "Epoch 397/500\n",
            "8/8 [==============================] - 0s 3ms/step - loss: 0.4489 - accuracy: 0.8282 - precision: 0.8803 - a=recall: 0.8047\n",
            "Epoch 398/500\n",
            "8/8 [==============================] - 0s 3ms/step - loss: 0.4467 - accuracy: 0.7974 - precision: 0.9556 - a=recall: 0.6719\n",
            "Epoch 399/500\n",
            "8/8 [==============================] - 0s 3ms/step - loss: 0.3553 - accuracy: 0.8414 - precision: 0.8239 - a=recall: 0.9141\n",
            "Epoch 400/500\n",
            "8/8 [==============================] - 0s 3ms/step - loss: 0.3398 - accuracy: 0.8678 - precision: 0.8551 - a=recall: 0.9219\n",
            "Epoch 401/500\n",
            "8/8 [==============================] - 0s 4ms/step - loss: 0.3230 - accuracy: 0.8590 - precision: 0.8692 - a=recall: 0.8828\n",
            "Epoch 402/500\n",
            "8/8 [==============================] - 0s 3ms/step - loss: 0.3607 - accuracy: 0.8326 - precision: 0.8879 - a=recall: 0.8047\n",
            "Epoch 403/500\n",
            "8/8 [==============================] - 0s 3ms/step - loss: 0.3481 - accuracy: 0.8546 - precision: 0.8862 - a=recall: 0.8516\n",
            "Epoch 404/500\n",
            "8/8 [==============================] - 0s 3ms/step - loss: 0.3561 - accuracy: 0.8590 - precision: 0.8243 - a=recall: 0.9531\n",
            "Epoch 405/500\n",
            "8/8 [==============================] - 0s 3ms/step - loss: 0.3280 - accuracy: 0.8282 - precision: 0.8739 - a=recall: 0.8125\n",
            "Epoch 406/500\n",
            "8/8 [==============================] - 0s 3ms/step - loss: 0.3275 - accuracy: 0.8546 - precision: 0.8231 - a=recall: 0.9453\n",
            "Epoch 407/500\n",
            "8/8 [==============================] - 0s 3ms/step - loss: 0.3121 - accuracy: 0.8502 - precision: 0.8507 - a=recall: 0.8906\n",
            "Epoch 408/500\n",
            "8/8 [==============================] - 0s 3ms/step - loss: 0.3046 - accuracy: 0.8590 - precision: 0.8429 - a=recall: 0.9219\n",
            "Epoch 409/500\n",
            "8/8 [==============================] - 0s 3ms/step - loss: 0.3023 - accuracy: 0.8590 - precision: 0.8429 - a=recall: 0.9219\n",
            "Epoch 410/500\n",
            "8/8 [==============================] - 0s 3ms/step - loss: 0.3061 - accuracy: 0.8590 - precision: 0.8429 - a=recall: 0.9219\n",
            "Epoch 411/500\n",
            "8/8 [==============================] - 0s 3ms/step - loss: 0.3002 - accuracy: 0.8546 - precision: 0.8682 - a=recall: 0.8750\n",
            "Epoch 412/500\n",
            "8/8 [==============================] - 0s 3ms/step - loss: 0.3389 - accuracy: 0.8546 - precision: 0.8146 - a=recall: 0.9609\n",
            "Epoch 413/500\n",
            "8/8 [==============================] - 0s 3ms/step - loss: 0.5020 - accuracy: 0.7577 - precision: 0.9506 - a=recall: 0.6016\n",
            "Epoch 414/500\n",
            "8/8 [==============================] - 0s 3ms/step - loss: 0.3449 - accuracy: 0.8502 - precision: 0.8092 - a=recall: 0.9609\n",
            "Epoch 415/500\n",
            "8/8 [==============================] - 0s 3ms/step - loss: 0.3402 - accuracy: 0.8634 - precision: 0.9292 - a=recall: 0.8203\n",
            "Epoch 416/500\n",
            "8/8 [==============================] - 0s 3ms/step - loss: 0.3380 - accuracy: 0.8590 - precision: 0.8288 - a=recall: 0.9453\n",
            "Epoch 417/500\n",
            "8/8 [==============================] - 0s 3ms/step - loss: 0.3470 - accuracy: 0.8502 - precision: 0.9052 - a=recall: 0.8203\n",
            "Epoch 418/500\n",
            "8/8 [==============================] - 0s 3ms/step - loss: 0.3433 - accuracy: 0.8546 - precision: 0.8322 - a=recall: 0.9297\n",
            "Epoch 419/500\n",
            "8/8 [==============================] - 0s 3ms/step - loss: 0.3249 - accuracy: 0.8546 - precision: 0.8276 - a=recall: 0.9375\n",
            "Epoch 420/500\n",
            "8/8 [==============================] - 0s 3ms/step - loss: 0.3099 - accuracy: 0.8634 - precision: 0.8593 - a=recall: 0.9062\n",
            "Epoch 421/500\n",
            "8/8 [==============================] - 0s 3ms/step - loss: 0.3066 - accuracy: 0.8590 - precision: 0.8636 - a=recall: 0.8906\n",
            "Epoch 422/500\n",
            "8/8 [==============================] - 0s 3ms/step - loss: 0.3077 - accuracy: 0.8546 - precision: 0.8322 - a=recall: 0.9297\n",
            "Epoch 423/500\n",
            "8/8 [==============================] - 0s 4ms/step - loss: 0.3715 - accuracy: 0.8370 - precision: 0.9027 - a=recall: 0.7969\n",
            "Epoch 424/500\n",
            "8/8 [==============================] - 0s 4ms/step - loss: 0.3696 - accuracy: 0.8194 - precision: 0.8042 - a=recall: 0.8984\n",
            "Epoch 425/500\n",
            "8/8 [==============================] - 0s 3ms/step - loss: 0.3150 - accuracy: 0.8634 - precision: 0.8540 - a=recall: 0.9141\n",
            "Epoch 426/500\n",
            "8/8 [==============================] - 0s 4ms/step - loss: 0.3084 - accuracy: 0.8678 - precision: 0.8500 - a=recall: 0.9297\n",
            "Epoch 427/500\n",
            "8/8 [==============================] - 0s 3ms/step - loss: 0.3122 - accuracy: 0.8678 - precision: 0.8889 - a=recall: 0.8750\n",
            "Epoch 428/500\n",
            "8/8 [==============================] - 0s 3ms/step - loss: 0.3166 - accuracy: 0.8634 - precision: 0.8489 - a=recall: 0.9219\n",
            "Epoch 429/500\n",
            "8/8 [==============================] - 0s 3ms/step - loss: 0.3095 - accuracy: 0.8546 - precision: 0.8571 - a=recall: 0.8906\n",
            "Epoch 430/500\n",
            "8/8 [==============================] - 0s 3ms/step - loss: 0.3128 - accuracy: 0.8546 - precision: 0.8571 - a=recall: 0.8906\n",
            "Epoch 431/500\n",
            "8/8 [==============================] - 0s 3ms/step - loss: 0.2950 - accuracy: 0.8634 - precision: 0.8760 - a=recall: 0.8828\n",
            "Epoch 432/500\n",
            "8/8 [==============================] - 0s 3ms/step - loss: 0.3056 - accuracy: 0.8502 - precision: 0.8310 - a=recall: 0.9219\n",
            "Epoch 433/500\n",
            "8/8 [==============================] - 0s 3ms/step - loss: 0.3059 - accuracy: 0.8590 - precision: 0.8810 - a=recall: 0.8672\n",
            "Epoch 434/500\n",
            "8/8 [==============================] - 0s 3ms/step - loss: 0.3030 - accuracy: 0.8590 - precision: 0.8636 - a=recall: 0.8906\n",
            "Epoch 435/500\n",
            "8/8 [==============================] - 0s 3ms/step - loss: 0.3140 - accuracy: 0.8502 - precision: 0.8264 - a=recall: 0.9297\n",
            "Epoch 436/500\n",
            "8/8 [==============================] - 0s 4ms/step - loss: 0.3047 - accuracy: 0.8326 - precision: 0.8571 - a=recall: 0.8438\n",
            "Epoch 437/500\n",
            "8/8 [==============================] - 0s 4ms/step - loss: 0.3331 - accuracy: 0.8458 - precision: 0.8207 - a=recall: 0.9297\n",
            "Epoch 438/500\n",
            "8/8 [==============================] - 0s 3ms/step - loss: 0.3665 - accuracy: 0.8282 - precision: 0.9009 - a=recall: 0.7812\n",
            "Epoch 439/500\n",
            "8/8 [==============================] - 0s 3ms/step - loss: 0.4175 - accuracy: 0.8150 - precision: 0.7688 - a=recall: 0.9609\n",
            "Epoch 440/500\n",
            "8/8 [==============================] - 0s 3ms/step - loss: 0.4581 - accuracy: 0.7621 - precision: 0.9512 - a=recall: 0.6094\n",
            "Epoch 441/500\n",
            "8/8 [==============================] - 0s 3ms/step - loss: 0.3781 - accuracy: 0.8458 - precision: 0.8039 - a=recall: 0.9609\n",
            "Epoch 442/500\n",
            "8/8 [==============================] - 0s 3ms/step - loss: 0.3146 - accuracy: 0.8634 - precision: 0.8819 - a=recall: 0.8750\n",
            "Epoch 443/500\n",
            "8/8 [==============================] - 0s 4ms/step - loss: 0.3306 - accuracy: 0.8634 - precision: 0.9076 - a=recall: 0.8438\n",
            "Epoch 444/500\n",
            "8/8 [==============================] - 0s 3ms/step - loss: 0.3548 - accuracy: 0.8370 - precision: 0.8957 - a=recall: 0.8047\n",
            "Epoch 445/500\n",
            "8/8 [==============================] - 0s 4ms/step - loss: 0.3423 - accuracy: 0.8678 - precision: 0.8356 - a=recall: 0.9531\n",
            "Epoch 446/500\n",
            "8/8 [==============================] - 0s 3ms/step - loss: 0.3261 - accuracy: 0.8414 - precision: 0.8382 - a=recall: 0.8906\n",
            "Epoch 447/500\n",
            "8/8 [==============================] - 0s 3ms/step - loss: 0.3291 - accuracy: 0.8458 - precision: 0.8720 - a=recall: 0.8516\n",
            "Epoch 448/500\n",
            "8/8 [==============================] - 0s 3ms/step - loss: 0.3361 - accuracy: 0.8370 - precision: 0.8473 - a=recall: 0.8672\n",
            "Epoch 449/500\n",
            "8/8 [==============================] - 0s 4ms/step - loss: 0.3603 - accuracy: 0.8238 - precision: 0.7785 - a=recall: 0.9609\n",
            "Epoch 450/500\n",
            "8/8 [==============================] - 0s 3ms/step - loss: 0.4116 - accuracy: 0.8150 - precision: 0.9388 - a=recall: 0.7188\n",
            "Epoch 451/500\n",
            "8/8 [==============================] - 0s 4ms/step - loss: 0.4427 - accuracy: 0.8106 - precision: 0.7607 - a=recall: 0.9688\n",
            "Epoch 452/500\n",
            "8/8 [==============================] - 0s 3ms/step - loss: 0.3950 - accuracy: 0.8150 - precision: 0.9388 - a=recall: 0.7188\n",
            "Epoch 453/500\n",
            "8/8 [==============================] - 0s 4ms/step - loss: 0.4636 - accuracy: 0.8062 - precision: 0.7561 - a=recall: 0.9688\n",
            "Epoch 454/500\n",
            "8/8 [==============================] - 0s 3ms/step - loss: 0.3518 - accuracy: 0.8546 - precision: 0.8276 - a=recall: 0.9375\n",
            "Epoch 455/500\n",
            "8/8 [==============================] - 0s 3ms/step - loss: 0.3298 - accuracy: 0.8414 - precision: 0.8770 - a=recall: 0.8359\n",
            "Epoch 456/500\n",
            "8/8 [==============================] - 0s 3ms/step - loss: 0.3390 - accuracy: 0.8414 - precision: 0.8382 - a=recall: 0.8906\n",
            "Epoch 457/500\n",
            "8/8 [==============================] - 0s 3ms/step - loss: 0.3567 - accuracy: 0.8546 - precision: 0.8146 - a=recall: 0.9609\n",
            "Epoch 458/500\n",
            "8/8 [==============================] - 0s 3ms/step - loss: 0.3718 - accuracy: 0.8414 - precision: 0.8382 - a=recall: 0.8906\n",
            "Epoch 459/500\n",
            "8/8 [==============================] - 0s 3ms/step - loss: 0.3449 - accuracy: 0.8634 - precision: 0.8760 - a=recall: 0.8828\n",
            "Epoch 460/500\n",
            "8/8 [==============================] - 0s 3ms/step - loss: 0.3411 - accuracy: 0.8546 - precision: 0.8417 - a=recall: 0.9141\n",
            "Epoch 461/500\n",
            "8/8 [==============================] - 0s 3ms/step - loss: 0.3162 - accuracy: 0.8458 - precision: 0.8720 - a=recall: 0.8516\n",
            "Epoch 462/500\n",
            "8/8 [==============================] - 0s 4ms/step - loss: 0.3146 - accuracy: 0.8546 - precision: 0.8626 - a=recall: 0.8828\n",
            "Epoch 463/500\n",
            "8/8 [==============================] - 0s 3ms/step - loss: 0.3711 - accuracy: 0.8370 - precision: 0.7974 - a=recall: 0.9531\n",
            "Epoch 464/500\n",
            "8/8 [==============================] - 0s 3ms/step - loss: 0.3253 - accuracy: 0.8590 - precision: 0.8429 - a=recall: 0.9219\n",
            "Epoch 465/500\n",
            "8/8 [==============================] - 0s 3ms/step - loss: 0.3196 - accuracy: 0.8590 - precision: 0.8380 - a=recall: 0.9297\n",
            "Epoch 466/500\n",
            "8/8 [==============================] - 0s 3ms/step - loss: 0.3213 - accuracy: 0.8458 - precision: 0.8394 - a=recall: 0.8984\n",
            "Epoch 467/500\n",
            "8/8 [==============================] - 0s 3ms/step - loss: 0.3159 - accuracy: 0.8502 - precision: 0.8456 - a=recall: 0.8984\n",
            "Epoch 468/500\n",
            "8/8 [==============================] - 0s 3ms/step - loss: 0.3077 - accuracy: 0.8546 - precision: 0.8626 - a=recall: 0.8828\n",
            "Epoch 469/500\n",
            "8/8 [==============================] - 0s 3ms/step - loss: 0.3740 - accuracy: 0.8150 - precision: 0.9216 - a=recall: 0.7344\n",
            "Epoch 470/500\n",
            "8/8 [==============================] - 0s 4ms/step - loss: 0.4476 - accuracy: 0.8150 - precision: 0.7654 - a=recall: 0.9688\n",
            "Epoch 471/500\n",
            "8/8 [==============================] - 0s 3ms/step - loss: 0.3598 - accuracy: 0.8282 - precision: 0.8560 - a=recall: 0.8359\n",
            "Epoch 472/500\n",
            "8/8 [==============================] - 0s 3ms/step - loss: 0.3397 - accuracy: 0.8590 - precision: 0.9138 - a=recall: 0.8281\n",
            "Epoch 473/500\n",
            "8/8 [==============================] - 0s 5ms/step - loss: 0.3699 - accuracy: 0.8370 - precision: 0.8182 - a=recall: 0.9141\n",
            "Epoch 474/500\n",
            "8/8 [==============================] - 0s 3ms/step - loss: 0.3231 - accuracy: 0.8590 - precision: 0.8333 - a=recall: 0.9375\n",
            "Epoch 475/500\n",
            "8/8 [==============================] - 0s 5ms/step - loss: 0.3236 - accuracy: 0.8546 - precision: 0.8231 - a=recall: 0.9453\n",
            "Epoch 476/500\n",
            "8/8 [==============================] - 0s 5ms/step - loss: 0.3237 - accuracy: 0.8326 - precision: 0.8358 - a=recall: 0.8750\n",
            "Epoch 477/500\n",
            "8/8 [==============================] - 0s 4ms/step - loss: 0.3058 - accuracy: 0.8458 - precision: 0.8444 - a=recall: 0.8906\n",
            "Epoch 478/500\n",
            "8/8 [==============================] - 0s 4ms/step - loss: 0.3289 - accuracy: 0.8590 - precision: 0.8243 - a=recall: 0.9531\n",
            "Epoch 479/500\n",
            "8/8 [==============================] - 0s 4ms/step - loss: 0.3227 - accuracy: 0.8546 - precision: 0.8467 - a=recall: 0.9062\n",
            "Epoch 480/500\n",
            "8/8 [==============================] - 0s 4ms/step - loss: 0.3014 - accuracy: 0.8678 - precision: 0.8451 - a=recall: 0.9375\n",
            "Epoch 481/500\n",
            "8/8 [==============================] - 0s 4ms/step - loss: 0.3064 - accuracy: 0.8678 - precision: 0.8500 - a=recall: 0.9297\n",
            "Epoch 482/500\n",
            "8/8 [==============================] - 0s 4ms/step - loss: 0.3143 - accuracy: 0.8326 - precision: 0.8750 - a=recall: 0.8203\n",
            "Epoch 483/500\n",
            "8/8 [==============================] - 0s 3ms/step - loss: 0.3159 - accuracy: 0.8546 - precision: 0.8276 - a=recall: 0.9375\n",
            "Epoch 484/500\n",
            "8/8 [==============================] - 0s 4ms/step - loss: 0.3249 - accuracy: 0.8414 - precision: 0.8239 - a=recall: 0.9141\n",
            "Epoch 485/500\n",
            "8/8 [==============================] - 0s 4ms/step - loss: 0.3595 - accuracy: 0.8282 - precision: 0.9238 - a=recall: 0.7578\n",
            "Epoch 486/500\n",
            "8/8 [==============================] - 0s 4ms/step - loss: 0.3795 - accuracy: 0.8414 - precision: 0.8151 - a=recall: 0.9297\n",
            "Epoch 487/500\n",
            "8/8 [==============================] - 0s 4ms/step - loss: 0.3256 - accuracy: 0.8546 - precision: 0.8369 - a=recall: 0.9219\n",
            "Epoch 488/500\n",
            "8/8 [==============================] - 0s 4ms/step - loss: 0.3273 - accuracy: 0.8282 - precision: 0.8870 - a=recall: 0.7969\n",
            "Epoch 489/500\n",
            "8/8 [==============================] - 0s 4ms/step - loss: 0.3828 - accuracy: 0.8370 - precision: 0.7935 - a=recall: 0.9609\n",
            "Epoch 490/500\n",
            "8/8 [==============================] - 0s 4ms/step - loss: 0.3775 - accuracy: 0.8194 - precision: 0.9223 - a=recall: 0.7422\n",
            "Epoch 491/500\n",
            "8/8 [==============================] - 0s 4ms/step - loss: 0.3401 - accuracy: 0.8590 - precision: 0.8200 - a=recall: 0.9609\n",
            "Epoch 492/500\n",
            "8/8 [==============================] - 0s 4ms/step - loss: 0.3045 - accuracy: 0.8678 - precision: 0.8603 - a=recall: 0.9141\n",
            "Epoch 493/500\n",
            "8/8 [==============================] - 0s 3ms/step - loss: 0.3631 - accuracy: 0.8326 - precision: 0.9167 - a=recall: 0.7734\n",
            "Epoch 494/500\n",
            "8/8 [==============================] - 0s 3ms/step - loss: 0.3717 - accuracy: 0.8326 - precision: 0.8261 - a=recall: 0.8906\n",
            "Epoch 495/500\n",
            "8/8 [==============================] - 0s 4ms/step - loss: 0.3222 - accuracy: 0.8458 - precision: 0.8207 - a=recall: 0.9297\n",
            "Epoch 496/500\n",
            "8/8 [==============================] - 0s 4ms/step - loss: 0.3161 - accuracy: 0.8502 - precision: 0.8730 - a=recall: 0.8594\n",
            "Epoch 497/500\n",
            "8/8 [==============================] - 0s 4ms/step - loss: 0.3297 - accuracy: 0.8590 - precision: 0.8288 - a=recall: 0.9453\n",
            "Epoch 498/500\n",
            "8/8 [==============================] - 0s 4ms/step - loss: 0.3107 - accuracy: 0.8546 - precision: 0.8862 - a=recall: 0.8516\n",
            "Epoch 499/500\n",
            "8/8 [==============================] - 0s 4ms/step - loss: 0.3491 - accuracy: 0.8458 - precision: 0.8163 - a=recall: 0.9375\n",
            "Epoch 500/500\n",
            "8/8 [==============================] - 0s 5ms/step - loss: 0.2973 - accuracy: 0.8546 - precision: 0.8467 - a=recall: 0.9062\n"
          ]
        }
      ]
    },
    {
      "cell_type": "code",
      "source": [
        "model.evaluate(x_test,y_test)"
      ],
      "metadata": {
        "colab": {
          "base_uri": "https://localhost:8080/"
        },
        "id": "poscEuSAhMil",
        "outputId": "e21ff95b-23d3-49a6-84d1-e08d573d2329"
      },
      "execution_count": null,
      "outputs": [
        {
          "output_type": "stream",
          "name": "stdout",
          "text": [
            "2/2 [==============================] - 1s 6ms/step - loss: 0.5972 - accuracy: 0.8596 - precision: 0.8235 - a=recall: 0.9333\n"
          ]
        },
        {
          "output_type": "execute_result",
          "data": {
            "text/plain": [
              "[0.597173810005188, 0.859649121761322, 0.8235294222831726, 0.9333333373069763]"
            ]
          },
          "metadata": {},
          "execution_count": 148
        }
      ]
    },
    {
      "cell_type": "code",
      "source": [
        "pd.DataFrame(history.history).plot()\n"
      ],
      "metadata": {
        "colab": {
          "base_uri": "https://localhost:8080/",
          "height": 391
        },
        "id": "FRBeQFSvz0PG",
        "outputId": "ebc9a836-4f24-449e-be9f-4cd0ca616530"
      },
      "execution_count": null,
      "outputs": [
        {
          "output_type": "execute_result",
          "data": {
            "text/plain": [
              "<matplotlib.axes._subplots.AxesSubplot at 0x7fd672a31c50>"
            ]
          },
          "metadata": {},
          "execution_count": 149
        },
        {
          "output_type": "display_data",
          "data": {
            "text/plain": [
              "<Figure size 720x432 with 1 Axes>"
            ],
            "image/png": "[encoded data removed]"
          },
          "metadata": {}
        }
      ]
    },
    {
      "cell_type": "markdown",
      "source": [
        "Best accuracy- 0.8424"
      ],
      "metadata": {
        "id": "f-acvMhO0DwH"
      }
    },
    {
      "cell_type": "code",
      "source": [],
      "metadata": {
        "id": "DNQT633p0Jza"
      },
      "execution_count": null,
      "outputs": []
    },
    {
      "cell_type": "markdown",
      "source": [
        "#Decision Tree"
      ],
      "metadata": {
        "id": "13-cS0pf0LAQ"
      }
    },
    {
      "cell_type": "code",
      "source": [
        "from sklearn.metrics import classification_report, accuracy_score\n",
        "from sklearn.neighbors import KNeighborsClassifier\n",
        "from sklearn import tree\n",
        "from sklearn.svm import SVC\n",
        "from sklearn.model_selection import GridSearchCV\n",
        "from sklearn.tree import DecisionTreeClassifier"
      ],
      "metadata": {
        "id": "_wMeoLAA1vkx"
      },
      "execution_count": null,
      "outputs": []
    },
    {
      "cell_type": "code",
      "source": [
        "clf = tree.DecisionTreeClassifier(random_state=0)\n",
        "clf.fit(x_train, y_train)\n",
        "DecisionTreeClassifier(random_state=0)\n",
        "y_pred = clf.predict(x_test)\n",
        "clfAcc = accuracy_score(y_test,y_pred)\n",
        "clfAcc"
      ],
      "metadata": {
        "colab": {
          "base_uri": "https://localhost:8080/"
        },
        "id": "ZWKJIxw81VtN",
        "outputId": "b8c30400-c755-4f72-a4a7-658765049142"
      },
      "execution_count": null,
      "outputs": [
        {
          "output_type": "execute_result",
          "data": {
            "text/plain": [
              "0.8245614035087719"
            ]
          },
          "metadata": {},
          "execution_count": 151
        }
      ]
    },
    {
      "cell_type": "code",
      "source": [
        "plt.figure(figsize=(15,8))\n",
        "from sklearn import tree\n",
        "\n",
        "tree.plot_tree(clf.fit(x_train, y_train))"
      ],
      "metadata": {
        "id": "EUPsk6D614dB",
        "colab": {
          "base_uri": "https://localhost:8080/",
          "height": 1000
        },
        "outputId": "6ab9e8d5-e511-47ec-eb2e-7460650ce04e"
      },
      "execution_count": null,
      "outputs": [
        {
          "output_type": "execute_result",
          "data": {
            "text/plain": [
              "[Text(0.6006944444444444, 0.9444444444444444, 'X[12] <= 2.5\\ngini = 0.492\\nsamples = 227\\nvalue = [99, 128]'),\n",
              " Text(0.3402777777777778, 0.8333333333333334, 'X[11] <= 0.5\\ngini = 0.37\\nsamples = 143\\nvalue = [35, 108]'),\n",
              " Text(0.20833333333333334, 0.7222222222222222, 'X[9] <= 1.7\\ngini = 0.141\\nsamples = 92\\nvalue = [7, 85]'),\n",
              " Text(0.1111111111111111, 0.6111111111111112, 'X[3] <= 158.0\\ngini = 0.072\\nsamples = 80\\nvalue = [3, 77]'),\n",
              " Text(0.05555555555555555, 0.5, 'X[8] <= 0.5\\ngini = 0.05\\nsamples = 78\\nvalue = [2, 76]'),\n",
              " Text(0.027777777777777776, 0.3888888888888889, 'gini = 0.0\\nsamples = 69\\nvalue = [0, 69]'),\n",
              " Text(0.08333333333333333, 0.3888888888888889, 'X[0] <= 59.5\\ngini = 0.346\\nsamples = 9\\nvalue = [2, 7]'),\n",
              " Text(0.05555555555555555, 0.2777777777777778, 'gini = 0.0\\nsamples = 7\\nvalue = [0, 7]'),\n",
              " Text(0.1111111111111111, 0.2777777777777778, 'gini = 0.0\\nsamples = 2\\nvalue = [2, 0]'),\n",
              " Text(0.16666666666666666, 0.5, 'X[0] <= 62.0\\ngini = 0.5\\nsamples = 2\\nvalue = [1, 1]'),\n",
              " Text(0.1388888888888889, 0.3888888888888889, 'gini = 0.0\\nsamples = 1\\nvalue = [1, 0]'),\n",
              " Text(0.19444444444444445, 0.3888888888888889, 'gini = 0.0\\nsamples = 1\\nvalue = [0, 1]'),\n",
              " Text(0.3055555555555556, 0.6111111111111112, 'X[4] <= 267.0\\ngini = 0.444\\nsamples = 12\\nvalue = [4, 8]'),\n",
              " Text(0.2777777777777778, 0.5, 'X[9] <= 3.55\\ngini = 0.32\\nsamples = 10\\nvalue = [2, 8]'),\n",
              " Text(0.25, 0.3888888888888889, 'X[4] <= 196.5\\ngini = 0.198\\nsamples = 9\\nvalue = [1, 8]'),\n",
              " Text(0.2222222222222222, 0.2777777777777778, 'gini = 0.0\\nsamples = 1\\nvalue = [1, 0]'),\n",
              " Text(0.2777777777777778, 0.2777777777777778, 'gini = 0.0\\nsamples = 8\\nvalue = [0, 8]'),\n",
              " Text(0.3055555555555556, 0.3888888888888889, 'gini = 0.0\\nsamples = 1\\nvalue = [1, 0]'),\n",
              " Text(0.3333333333333333, 0.5, 'gini = 0.0\\nsamples = 2\\nvalue = [2, 0]'),\n",
              " Text(0.4722222222222222, 0.7222222222222222, 'X[2] <= 0.5\\ngini = 0.495\\nsamples = 51\\nvalue = [28, 23]'),\n",
              " Text(0.4166666666666667, 0.6111111111111112, 'X[1] <= 0.5\\ngini = 0.236\\nsamples = 22\\nvalue = [19, 3]'),\n",
              " Text(0.3888888888888889, 0.5, 'X[3] <= 134.0\\ngini = 0.48\\nsamples = 5\\nvalue = [2, 3]'),\n",
              " Text(0.3611111111111111, 0.3888888888888889, 'gini = 0.0\\nsamples = 3\\nvalue = [0, 3]'),\n",
              " Text(0.4166666666666667, 0.3888888888888889, 'gini = 0.0\\nsamples = 2\\nvalue = [2, 0]'),\n",
              " Text(0.4444444444444444, 0.5, 'gini = 0.0\\nsamples = 17\\nvalue = [17, 0]'),\n",
              " Text(0.5277777777777778, 0.6111111111111112, 'X[12] <= 1.5\\ngini = 0.428\\nsamples = 29\\nvalue = [9, 20]'),\n",
              " Text(0.5, 0.5, 'gini = 0.0\\nsamples = 3\\nvalue = [3, 0]'),\n",
              " Text(0.5555555555555556, 0.5, 'X[0] <= 55.5\\ngini = 0.355\\nsamples = 26\\nvalue = [6, 20]'),\n",
              " Text(0.5, 0.3888888888888889, 'X[4] <= 162.0\\ngini = 0.142\\nsamples = 13\\nvalue = [1, 12]'),\n",
              " Text(0.4722222222222222, 0.2777777777777778, 'gini = 0.0\\nsamples = 1\\nvalue = [1, 0]'),\n",
              " Text(0.5277777777777778, 0.2777777777777778, 'gini = 0.0\\nsamples = 12\\nvalue = [0, 12]'),\n",
              " Text(0.6111111111111112, 0.3888888888888889, 'X[0] <= 59.5\\ngini = 0.473\\nsamples = 13\\nvalue = [5, 8]'),\n",
              " Text(0.5833333333333334, 0.2777777777777778, 'gini = 0.0\\nsamples = 4\\nvalue = [4, 0]'),\n",
              " Text(0.6388888888888888, 0.2777777777777778, 'X[9] <= 0.8\\ngini = 0.198\\nsamples = 9\\nvalue = [1, 8]'),\n",
              " Text(0.6111111111111112, 0.16666666666666666, 'gini = 0.0\\nsamples = 7\\nvalue = [0, 7]'),\n",
              " Text(0.6666666666666666, 0.16666666666666666, 'X[3] <= 139.0\\ngini = 0.5\\nsamples = 2\\nvalue = [1, 1]'),\n",
              " Text(0.6388888888888888, 0.05555555555555555, 'gini = 0.0\\nsamples = 1\\nvalue = [1, 0]'),\n",
              " Text(0.6944444444444444, 0.05555555555555555, 'gini = 0.0\\nsamples = 1\\nvalue = [0, 1]'),\n",
              " Text(0.8611111111111112, 0.8333333333333334, 'X[2] <= 0.5\\ngini = 0.363\\nsamples = 84\\nvalue = [64, 20]'),\n",
              " Text(0.8055555555555556, 0.7222222222222222, 'X[9] <= 0.65\\ngini = 0.165\\nsamples = 55\\nvalue = [50, 5]'),\n",
              " Text(0.7777777777777778, 0.6111111111111112, 'X[9] <= 0.3\\ngini = 0.43\\nsamples = 16\\nvalue = [11, 5]'),\n",
              " Text(0.75, 0.5, 'X[7] <= 114.0\\ngini = 0.337\\nsamples = 14\\nvalue = [11, 3]'),\n",
              " Text(0.7222222222222222, 0.3888888888888889, 'gini = 0.0\\nsamples = 1\\nvalue = [0, 1]'),\n",
              " Text(0.7777777777777778, 0.3888888888888889, 'X[4] <= 217.0\\ngini = 0.26\\nsamples = 13\\nvalue = [11, 2]'),\n",
              " Text(0.75, 0.2777777777777778, 'X[4] <= 192.0\\ngini = 0.5\\nsamples = 4\\nvalue = [2, 2]'),\n",
              " Text(0.7222222222222222, 0.16666666666666666, 'gini = 0.0\\nsamples = 2\\nvalue = [2, 0]'),\n",
              " Text(0.7777777777777778, 0.16666666666666666, 'gini = 0.0\\nsamples = 2\\nvalue = [0, 2]'),\n",
              " Text(0.8055555555555556, 0.2777777777777778, 'gini = 0.0\\nsamples = 9\\nvalue = [9, 0]'),\n",
              " Text(0.8055555555555556, 0.5, 'gini = 0.0\\nsamples = 2\\nvalue = [0, 2]'),\n",
              " Text(0.8333333333333334, 0.6111111111111112, 'gini = 0.0\\nsamples = 39\\nvalue = [39, 0]'),\n",
              " Text(0.9166666666666666, 0.7222222222222222, 'X[9] <= 0.25\\ngini = 0.499\\nsamples = 29\\nvalue = [14, 15]'),\n",
              " Text(0.8888888888888888, 0.6111111111111112, 'gini = 0.0\\nsamples = 7\\nvalue = [0, 7]'),\n",
              " Text(0.9444444444444444, 0.6111111111111112, 'X[9] <= 1.95\\ngini = 0.463\\nsamples = 22\\nvalue = [14, 8]'),\n",
              " Text(0.9166666666666666, 0.5, 'X[7] <= 142.5\\ngini = 0.5\\nsamples = 16\\nvalue = [8, 8]'),\n",
              " Text(0.8888888888888888, 0.3888888888888889, 'gini = 0.0\\nsamples = 4\\nvalue = [4, 0]'),\n",
              " Text(0.9444444444444444, 0.3888888888888889, 'X[9] <= 1.1\\ngini = 0.444\\nsamples = 12\\nvalue = [4, 8]'),\n",
              " Text(0.9166666666666666, 0.2777777777777778, 'X[3] <= 126.5\\ngini = 0.49\\nsamples = 7\\nvalue = [4, 3]'),\n",
              " Text(0.8888888888888888, 0.16666666666666666, 'X[3] <= 114.0\\ngini = 0.375\\nsamples = 4\\nvalue = [1, 3]'),\n",
              " Text(0.8611111111111112, 0.05555555555555555, 'gini = 0.0\\nsamples = 1\\nvalue = [1, 0]'),\n",
              " Text(0.9166666666666666, 0.05555555555555555, 'gini = 0.0\\nsamples = 3\\nvalue = [0, 3]'),\n",
              " Text(0.9444444444444444, 0.16666666666666666, 'gini = 0.0\\nsamples = 3\\nvalue = [3, 0]'),\n",
              " Text(0.9722222222222222, 0.2777777777777778, 'gini = 0.0\\nsamples = 5\\nvalue = [0, 5]'),\n",
              " Text(0.9722222222222222, 0.5, 'gini = 0.0\\nsamples = 6\\nvalue = [6, 0]')]"
            ]
          },
          "metadata": {},
          "execution_count": 152
        },
        {
          "output_type": "display_data",
          "data": {
            "text/plain": [
              "<Figure size 1080x576 with 1 Axes>"
            ],
            "image/png": "[encoded data removed]"
          },
          "metadata": {}
        }
      ]
    },
    {
      "cell_type": "markdown",
      "source": [],
      "metadata": {
        "id": "2ly3tY854c4B"
      }
    },
    {
      "cell_type": "markdown",
      "source": [
        "#Bagging"
      ],
      "metadata": {
        "id": "bqzUYBsi4eoq"
      }
    },
    {
      "cell_type": "code",
      "source": [
        "from sklearn.ensemble import BaggingClassifier"
      ],
      "metadata": {
        "id": "TLM3E6iRiBc7"
      },
      "execution_count": null,
      "outputs": []
    },
    {
      "cell_type": "code",
      "source": [
        "bag_model = BaggingClassifier(\n",
        "base_estimator=BaggingClassifier(), \n",
        "n_estimators=1000, \n",
        "max_samples=0.8, \n",
        "bootstrap=True,\n",
        "oob_score=True,\n",
        "random_state=42\n",
        ")"
      ],
      "metadata": {
        "id": "NBpYy5Qn4v8Z"
      },
      "execution_count": null,
      "outputs": []
    },
    {
      "cell_type": "code",
      "source": [
        "l=bag_model.fit(x_train, y_train)"
      ],
      "metadata": {
        "id": "OKFUO0-y4-74"
      },
      "execution_count": null,
      "outputs": []
    },
    {
      "cell_type": "code",
      "source": [
        "acc = metrics.accuracy_score(y_test, l.predict(x_test))\n",
        "\n",
        "print(\"The accuracy is: {:.4f}\".format(acc))"
      ],
      "metadata": {
        "colab": {
          "base_uri": "https://localhost:8080/"
        },
        "id": "RnNWA9Ud5JWc",
        "outputId": "d71db66a-9fb2-44fa-f3b4-8828f77e5d0c"
      },
      "execution_count": null,
      "outputs": [
        {
          "output_type": "stream",
          "name": "stdout",
          "text": [
            "The accuracy is: 0.8421\n"
          ]
        }
      ]
    },
    {
      "cell_type": "code",
      "source": [],
      "metadata": {
        "id": "c_p7wIjoJRNo"
      },
      "execution_count": null,
      "outputs": []
    },
    {
      "cell_type": "markdown",
      "source": [
        "#Boosting"
      ],
      "metadata": {
        "id": "koT1W6ZHJS4v"
      }
    },
    {
      "cell_type": "markdown",
      "source": [
        "AdaBoost"
      ],
      "metadata": {
        "id": "p_Nzz3RgKZBQ"
      }
    },
    {
      "cell_type": "code",
      "source": [
        "from sklearn.ensemble import AdaBoostClassifier"
      ],
      "metadata": {
        "id": "0q7n0HQZJVzE"
      },
      "execution_count": null,
      "outputs": []
    },
    {
      "cell_type": "code",
      "source": [
        "abr=AdaBoostClassifier(n_estimators=1000, learning_rate=0.05,random_state=100)\n",
        "abr.fit(x_train,y_train)"
      ],
      "metadata": {
        "colab": {
          "base_uri": "https://localhost:8080/"
        },
        "id": "9M2rq03JJraB",
        "outputId": "d227a843-7843-439f-b846-9171820a0122"
      },
      "execution_count": null,
      "outputs": [
        {
          "output_type": "execute_result",
          "data": {
            "text/plain": [
              "AdaBoostClassifier(learning_rate=0.05, n_estimators=1000, random_state=100)"
            ]
          },
          "metadata": {},
          "execution_count": 158
        }
      ]
    },
    {
      "cell_type": "code",
      "source": [
        "y_pred= abr.predict(x_test)\n",
        "accuracy_score(y_test,y_pred)"
      ],
      "metadata": {
        "colab": {
          "base_uri": "https://localhost:8080/"
        },
        "id": "I3KKxnGXJ-pu",
        "outputId": "d56ad94d-fa65-4a62-b79c-b9458e888d75"
      },
      "execution_count": null,
      "outputs": [
        {
          "output_type": "execute_result",
          "data": {
            "text/plain": [
              "0.8245614035087719"
            ]
          },
          "metadata": {},
          "execution_count": 159
        }
      ]
    },
    {
      "cell_type": "markdown",
      "source": [
        "GradientBoost"
      ],
      "metadata": {
        "id": "odN99UYnKbzE"
      }
    },
    {
      "cell_type": "code",
      "source": [
        "from sklearn.ensemble import GradientBoostingClassifier"
      ],
      "metadata": {
        "id": "6neeCsS0KOBF"
      },
      "execution_count": null,
      "outputs": []
    },
    {
      "cell_type": "code",
      "source": [
        "gbc= GradientBoostingClassifier(n_estimators=1000, learning_rate=0.05,random_state=100, max_features=5)\n",
        "gbc.fit(x_train,y_train)"
      ],
      "metadata": {
        "colab": {
          "base_uri": "https://localhost:8080/"
        },
        "id": "VqWQOF2bKoxp",
        "outputId": "0ff11fc8-efb0-4afe-c402-6c22beaa3c03"
      },
      "execution_count": null,
      "outputs": [
        {
          "output_type": "execute_result",
          "data": {
            "text/plain": [
              "GradientBoostingClassifier(learning_rate=0.05, max_features=5,\n",
              "                           n_estimators=1000, random_state=100)"
            ]
          },
          "metadata": {},
          "execution_count": 161
        }
      ]
    },
    {
      "cell_type": "code",
      "source": [
        "y_pred=gbc.predict(x_test)\n",
        "accuracy_score(y_test,y_pred)"
      ],
      "metadata": {
        "colab": {
          "base_uri": "https://localhost:8080/"
        },
        "id": "eOBiyr6EK6b7",
        "outputId": "92cb5adc-c475-4c78-af3d-1e52dea8060a"
      },
      "execution_count": null,
      "outputs": [
        {
          "output_type": "execute_result",
          "data": {
            "text/plain": [
              "0.8070175438596491"
            ]
          },
          "metadata": {},
          "execution_count": 162
        }
      ]
    },
    {
      "cell_type": "markdown",
      "source": [
        "XGBoost"
      ],
      "metadata": {
        "id": "kttej1wwLHMp"
      }
    },
    {
      "cell_type": "code",
      "source": [
        "from xgboost import XGBClassifier"
      ],
      "metadata": {
        "id": "cnu2_7m9LZeu"
      },
      "execution_count": null,
      "outputs": []
    },
    {
      "cell_type": "code",
      "source": [
        "clf = XGBClassifier(n_estimators=1000, random_state=100)\n",
        "clf.fit(x_train,y_train)\n"
      ],
      "metadata": {
        "colab": {
          "base_uri": "https://localhost:8080/"
        },
        "id": "0A8xipIMLMsU",
        "outputId": "37df4088-948b-4d57-f842-73618b12ee15"
      },
      "execution_count": null,
      "outputs": [
        {
          "output_type": "execute_result",
          "data": {
            "text/plain": [
              "XGBClassifier(n_estimators=1000, random_state=100)"
            ]
          },
          "metadata": {},
          "execution_count": 164
        }
      ]
    },
    {
      "cell_type": "code",
      "source": [
        "y_pred - clf.predict(x_test)\n",
        "y_pred"
      ],
      "metadata": {
        "colab": {
          "base_uri": "https://localhost:8080/"
        },
        "id": "1F31py3tMPpI",
        "outputId": "0ee2e69f-ea5a-473f-92b1-20560a74f868"
      },
      "execution_count": null,
      "outputs": [
        {
          "output_type": "execute_result",
          "data": {
            "text/plain": [
              "array([1, 0, 1, 0, 1, 1, 1, 1, 1, 0, 1, 0, 1, 0, 1, 0, 0, 1, 1, 1, 1, 1,\n",
              "       0, 1, 1, 0, 1, 0, 0, 1, 0, 0, 0, 1, 1, 0, 1, 1, 0, 0, 1, 0, 1, 0,\n",
              "       1, 0, 0, 0, 1, 0, 0, 1, 0, 0, 1, 0, 0])"
            ]
          },
          "metadata": {},
          "execution_count": 165
        }
      ]
    },
    {
      "cell_type": "code",
      "source": [
        "accuracy_score(y_test,y_pred)"
      ],
      "metadata": {
        "colab": {
          "base_uri": "https://localhost:8080/"
        },
        "id": "UlaYM-_5MV6y",
        "outputId": "860cdad2-e314-4311-84a5-41639736ab93"
      },
      "execution_count": null,
      "outputs": [
        {
          "output_type": "execute_result",
          "data": {
            "text/plain": [
              "0.8070175438596491"
            ]
          },
          "metadata": {},
          "execution_count": 166
        }
      ]
    },
    {
      "cell_type": "markdown",
      "source": [
        "#Random Forest"
      ],
      "metadata": {
        "id": "5jLJTs2198JK"
      }
    },
    {
      "cell_type": "code",
      "source": [
        "from sklearn.ensemble import RandomForestClassifier\n",
        "model=RandomForestClassifier()\n",
        "model.fit(x_train,y_train)"
      ],
      "metadata": {
        "colab": {
          "base_uri": "https://localhost:8080/"
        },
        "id": "LtDh0Z-N-ApM",
        "outputId": "5f2766e1-9533-401f-9cc5-b522bd1d3455"
      },
      "execution_count": null,
      "outputs": [
        {
          "output_type": "execute_result",
          "data": {
            "text/plain": [
              "RandomForestClassifier()"
            ]
          },
          "metadata": {},
          "execution_count": 167
        }
      ]
    },
    {
      "cell_type": "code",
      "source": [
        "model=RandomForestClassifier(n_estimators=50)\n",
        "model.fit(x_train,y_train)\n",
        "model.score(x_test,y_test)"
      ],
      "metadata": {
        "colab": {
          "base_uri": "https://localhost:8080/"
        },
        "id": "fKkr_ukA-Gwr",
        "outputId": "b5b56d9d-067d-400a-8cac-81e9d083c74c"
      },
      "execution_count": null,
      "outputs": [
        {
          "output_type": "execute_result",
          "data": {
            "text/plain": [
              "0.8070175438596491"
            ]
          },
          "metadata": {},
          "execution_count": 168
        }
      ]
    },
    {
      "cell_type": "code",
      "source": [
        "y_predicted=model.predict(x_test)"
      ],
      "metadata": {
        "id": "qVO_cJoX-V1b"
      },
      "execution_count": null,
      "outputs": []
    },
    {
      "cell_type": "code",
      "source": [
        "from sklearn.metrics import confusion_matrix"
      ],
      "metadata": {
        "id": "ee59wIgp-gw1"
      },
      "execution_count": null,
      "outputs": []
    },
    {
      "cell_type": "code",
      "source": [
        "confusion=confusion_matrix(y_test,y_predicted)"
      ],
      "metadata": {
        "id": "qQQHHsnc-lP4"
      },
      "execution_count": null,
      "outputs": []
    },
    {
      "cell_type": "code",
      "source": [
        "confusion"
      ],
      "metadata": {
        "colab": {
          "base_uri": "https://localhost:8080/"
        },
        "id": "c6AP9L3G-p5D",
        "outputId": "16fefe4f-28fd-4c83-b9da-d26b2e85537f"
      },
      "execution_count": null,
      "outputs": [
        {
          "output_type": "execute_result",
          "data": {
            "text/plain": [
              "array([[22,  5],\n",
              "       [ 6, 24]])"
            ]
          },
          "metadata": {},
          "execution_count": 172
        }
      ]
    },
    {
      "cell_type": "code",
      "source": [
        "import matplotlib.pyplot as plt\n",
        "import seaborn as sn\n",
        "sn.heatmap(confusion,annot=True)\n",
        "plt.xlabel('predicted')\n",
        "plt.ylabel('truth')"
      ],
      "metadata": {
        "colab": {
          "base_uri": "https://localhost:8080/",
          "height": 405
        },
        "id": "hyrMLRiX-uPl",
        "outputId": "fe187e63-8328-485f-f2af-53ca53238518"
      },
      "execution_count": null,
      "outputs": [
        {
          "output_type": "execute_result",
          "data": {
            "text/plain": [
              "Text(69.0, 0.5, 'truth')"
            ]
          },
          "metadata": {},
          "execution_count": 173
        },
        {
          "output_type": "display_data",
          "data": {
            "text/plain": [
              "<Figure size 720x432 with 2 Axes>"
            ],
            "image/png": "[encoded data removed]"
          },
          "metadata": {}
        }
      ]
    },
    {
      "cell_type": "markdown",
      "source": [
        "#KNN"
      ],
      "metadata": {
        "id": "l5Od_kj4h1er"
      }
    },
    {
      "cell_type": "code",
      "source": [
        "from sklearn.neighbors import KNeighborsClassifier"
      ],
      "metadata": {
        "id": "o1ro4P1gh1NK"
      },
      "execution_count": null,
      "outputs": []
    },
    {
      "cell_type": "code",
      "source": [
        "knn = KNeighborsClassifier(n_neighbors=5)"
      ],
      "metadata": {
        "id": "shkBtT4rh82U"
      },
      "execution_count": null,
      "outputs": []
    },
    {
      "cell_type": "code",
      "source": [
        "knn.fit(x_train,y_train)"
      ],
      "metadata": {
        "colab": {
          "base_uri": "https://localhost:8080/"
        },
        "id": "QymDyrKoiAH3",
        "outputId": "afe4d821-359a-41e6-e82f-3bdf479450ee"
      },
      "execution_count": null,
      "outputs": [
        {
          "output_type": "execute_result",
          "data": {
            "text/plain": [
              "KNeighborsClassifier()"
            ]
          },
          "metadata": {},
          "execution_count": 176
        }
      ]
    },
    {
      "cell_type": "code",
      "source": [
        "knn.score(x_test,y_test)"
      ],
      "metadata": {
        "colab": {
          "base_uri": "https://localhost:8080/"
        },
        "id": "UizPKqlwiEmX",
        "outputId": "89bb652f-2bd8-4dfc-dbd6-c3c4054c2fc4"
      },
      "execution_count": null,
      "outputs": [
        {
          "output_type": "execute_result",
          "data": {
            "text/plain": [
              "0.6140350877192983"
            ]
          },
          "metadata": {},
          "execution_count": 177
        }
      ]
    },
    {
      "cell_type": "code",
      "source": [
        "results = knn.predict(x_test)"
      ],
      "metadata": {
        "id": "mz_uft_MiKCx"
      },
      "execution_count": null,
      "outputs": []
    },
    {
      "cell_type": "code",
      "source": [],
      "metadata": {
        "id": "aGpuVD0MiO9n"
      },
      "execution_count": null,
      "outputs": []
    },
    {
      "cell_type": "markdown",
      "source": [
        "Validation\n"
      ],
      "metadata": {
        "id": "H3sefK77iTTZ"
      }
    },
    {
      "cell_type": "code",
      "source": [
        "print(pd.crosstab(y_test, results, rownames=['Real'], colnames=['Predicted'], margins=True, margins_name='total'))"
      ],
      "metadata": {
        "colab": {
          "base_uri": "https://localhost:8080/"
        },
        "id": "8pK3jtiYiU65",
        "outputId": "1708a7a7-17a6-452e-b312-101d2360fb49"
      },
      "execution_count": null,
      "outputs": [
        {
          "output_type": "stream",
          "name": "stdout",
          "text": [
            "Predicted   0   1  total\n",
            "Real                    \n",
            "0          13  14     27\n",
            "1           8  22     30\n",
            "total      21  36     57\n"
          ]
        }
      ]
    },
    {
      "cell_type": "code",
      "source": [
        "from sklearn.model_selection import cross_val_score"
      ],
      "metadata": {
        "id": "RzZqcerCiYEN"
      },
      "execution_count": null,
      "outputs": []
    },
    {
      "cell_type": "code",
      "source": [
        "scores = cross_val_score(knn, data.drop('output',axis=1), data.output, cv=5, scoring='accuracy')\n",
        "scores"
      ],
      "metadata": {
        "colab": {
          "base_uri": "https://localhost:8080/"
        },
        "id": "yTKdV7C0icDo",
        "outputId": "250e5a42-d0d6-415a-e8eb-b414e73ddc1c"
      },
      "execution_count": null,
      "outputs": [
        {
          "output_type": "execute_result",
          "data": {
            "text/plain": [
              "array([0.63157895, 0.61403509, 0.59649123, 0.70175439, 0.66071429])"
            ]
          },
          "metadata": {},
          "execution_count": 181
        }
      ]
    },
    {
      "cell_type": "code",
      "source": [
        "var =\"%\", print(\"Accuracy for Cross Validation: %0.1f\" % (scores.mean()*100),\"(+/- %0.1f)\" % (scores.std() * 100))"
      ],
      "metadata": {
        "colab": {
          "base_uri": "https://localhost:8080/"
        },
        "id": "7vhHTLsViizS",
        "outputId": "d588d62a-a2d4-4089-d6ee-5a55f4c73dfa"
      },
      "execution_count": null,
      "outputs": [
        {
          "output_type": "stream",
          "name": "stdout",
          "text": [
            "Accuracy for Cross Validation: 64.1 (+/- 3.7)\n"
          ]
        }
      ]
    },
    {
      "cell_type": "code",
      "source": [
        "k_list = list(range(1,50))"
      ],
      "metadata": {
        "id": "ZL3PZVyCinzZ"
      },
      "execution_count": null,
      "outputs": []
    },
    {
      "cell_type": "code",
      "source": [
        "k_values = dict(n_neighbors=k_list)\n",
        "print(k_values.keys()),\n",
        "print(k_values.values())"
      ],
      "metadata": {
        "colab": {
          "base_uri": "https://localhost:8080/"
        },
        "id": "KdtmWrKmirhd",
        "outputId": "0fdb5cc4-0824-4624-fcf4-98294a1b94df"
      },
      "execution_count": null,
      "outputs": [
        {
          "output_type": "stream",
          "name": "stdout",
          "text": [
            "dict_keys(['n_neighbors'])\n",
            "dict_values([[1, 2, 3, 4, 5, 6, 7, 8, 9, 10, 11, 12, 13, 14, 15, 16, 17, 18, 19, 20, 21, 22, 23, 24, 25, 26, 27, 28, 29, 30, 31, 32, 33, 34, 35, 36, 37, 38, 39, 40, 41, 42, 43, 44, 45, 46, 47, 48, 49]])\n"
          ]
        }
      ]
    },
    {
      "cell_type": "code",
      "source": [
        "from sklearn.model_selection import GridSearchCV"
      ],
      "metadata": {
        "id": "GmenbnFHi2Pu"
      },
      "execution_count": null,
      "outputs": []
    },
    {
      "cell_type": "code",
      "source": [
        "grid = GridSearchCV(knn, k_values, cv=5, scoring='accuracy')"
      ],
      "metadata": {
        "id": "C1v6nA5zi41X"
      },
      "execution_count": null,
      "outputs": []
    },
    {
      "cell_type": "code",
      "source": [
        "grid.fit(data.drop('output', axis=1), data.output)"
      ],
      "metadata": {
        "colab": {
          "base_uri": "https://localhost:8080/"
        },
        "id": "LD4kdmc8iu8b",
        "outputId": "ba9b983a-3d46-4c2c-9110-fe2bcd318f2c"
      },
      "execution_count": null,
      "outputs": [
        {
          "output_type": "execute_result",
          "data": {
            "text/plain": [
              "GridSearchCV(cv=5, estimator=KNeighborsClassifier(),\n",
              "             param_grid={'n_neighbors': [1, 2, 3, 4, 5, 6, 7, 8, 9, 10, 11, 12,\n",
              "                                         13, 14, 15, 16, 17, 18, 19, 20, 21, 22,\n",
              "                                         23, 24, 25, 26, 27, 28, 29, 30, ...]},\n",
              "             scoring='accuracy')"
            ]
          },
          "metadata": {},
          "execution_count": 187
        }
      ]
    },
    {
      "cell_type": "code",
      "source": [
        "grid.cv_results_\n",
        "grid_table = pd.DataFrame(grid.cv_results_)\n",
        "grid_table.head()"
      ],
      "metadata": {
        "colab": {
          "base_uri": "https://localhost:8080/",
          "height": 357
        },
        "id": "kCwBqrTKjBPw",
        "outputId": "c169b4c1-fca6-4e09-839e-f53bc6c98ca1"
      },
      "execution_count": null,
      "outputs": [
        {
          "output_type": "execute_result",
          "data": {
            "text/plain": [
              "   mean_fit_time  std_fit_time  mean_score_time  std_score_time  \\\n",
              "0       0.002927      0.000886         0.004429        0.001151   \n",
              "1       0.002778      0.000555         0.004151        0.000389   \n",
              "2       0.003101      0.000900         0.004841        0.001288   \n",
              "3       0.002593      0.000485         0.005076        0.001046   \n",
              "4       0.002148      0.000015         0.003588        0.000045   \n",
              "\n",
              "  param_n_neighbors              params  split0_test_score  split1_test_score  \\\n",
              "0                 1  {'n_neighbors': 1}           0.684211           0.491228   \n",
              "1                 2  {'n_neighbors': 2}           0.614035           0.473684   \n",
              "2                 3  {'n_neighbors': 3}           0.684211           0.578947   \n",
              "3                 4  {'n_neighbors': 4}           0.596491           0.561404   \n",
              "4                 5  {'n_neighbors': 5}           0.631579           0.614035   \n",
              "\n",
              "   split2_test_score  split3_test_score  split4_test_score  mean_test_score  \\\n",
              "0           0.543860           0.701754           0.607143         0.605639   \n",
              "1           0.543860           0.649123           0.535714         0.563283   \n",
              "2           0.561404           0.701754           0.642857         0.633835   \n",
              "3           0.578947           0.666667           0.589286         0.598559   \n",
              "4           0.596491           0.701754           0.660714         0.640915   \n",
              "\n",
              "   std_test_score  rank_test_score  \n",
              "0        0.080400               47  \n",
              "1        0.061822               49  \n",
              "2        0.055662               46  \n",
              "3        0.036039               48  \n",
              "4        0.037085               43  "
            ],
            "text/html": [
              "\n",
              "  <div id=\"df-c5a81d6e-8ed1-469b-a15f-c0b0d7ebce6d\">\n",
              "    <div class=\"colab-df-container\">\n",
              "      <div>\n",
              "<style scoped>\n",
              "    .dataframe tbody tr th:only-of-type {\n",
              "        vertical-align: middle;\n",
              "    }\n",
              "\n",
              "    .dataframe tbody tr th {\n",
              "        vertical-align: top;\n",
              "    }\n",
              "\n",
              "    .dataframe thead th {\n",
              "        text-align: right;\n",
              "    }\n",
              "</style>\n",
              "<table border=\"1\" class=\"dataframe\">\n",
              "  <thead>\n",
              "    <tr style=\"text-align: right;\">\n",
              "      <th></th>\n",
              "      <th>mean_fit_time</th>\n",
              "      <th>std_fit_time</th>\n",
              "      <th>mean_score_time</th>\n",
              "      <th>std_score_time</th>\n",
              "      <th>param_n_neighbors</th>\n",
              "      <th>params</th>\n",
              "      <th>split0_test_score</th>\n",
              "      <th>split1_test_score</th>\n",
              "      <th>split2_test_score</th>\n",
              "      <th>split3_test_score</th>\n",
              "      <th>split4_test_score</th>\n",
              "      <th>mean_test_score</th>\n",
              "      <th>std_test_score</th>\n",
              "      <th>rank_test_score</th>\n",
              "    </tr>\n",
              "  </thead>\n",
              "  <tbody>\n",
              "    <tr>\n",
              "      <th>0</th>\n",
              "      <td>0.002927</td>\n",
              "      <td>0.000886</td>\n",
              "      <td>0.004429</td>\n",
              "      <td>0.001151</td>\n",
              "      <td>1</td>\n",
              "      <td>{'n_neighbors': 1}</td>\n",
              "      <td>0.684211</td>\n",
              "      <td>0.491228</td>\n",
              "      <td>0.543860</td>\n",
              "      <td>0.701754</td>\n",
              "      <td>0.607143</td>\n",
              "      <td>0.605639</td>\n",
              "      <td>0.080400</td>\n",
              "      <td>47</td>\n",
              "    </tr>\n",
              "    <tr>\n",
              "      <th>1</th>\n",
              "      <td>0.002778</td>\n",
              "      <td>0.000555</td>\n",
              "      <td>0.004151</td>\n",
              "      <td>0.000389</td>\n",
              "      <td>2</td>\n",
              "      <td>{'n_neighbors': 2}</td>\n",
              "      <td>0.614035</td>\n",
              "      <td>0.473684</td>\n",
              "      <td>0.543860</td>\n",
              "      <td>0.649123</td>\n",
              "      <td>0.535714</td>\n",
              "      <td>0.563283</td>\n",
              "      <td>0.061822</td>\n",
              "      <td>49</td>\n",
              "    </tr>\n",
              "    <tr>\n",
              "      <th>2</th>\n",
              "      <td>0.003101</td>\n",
              "      <td>0.000900</td>\n",
              "      <td>0.004841</td>\n",
              "      <td>0.001288</td>\n",
              "      <td>3</td>\n",
              "      <td>{'n_neighbors': 3}</td>\n",
              "      <td>0.684211</td>\n",
              "      <td>0.578947</td>\n",
              "      <td>0.561404</td>\n",
              "      <td>0.701754</td>\n",
              "      <td>0.642857</td>\n",
              "      <td>0.633835</td>\n",
              "      <td>0.055662</td>\n",
              "      <td>46</td>\n",
              "    </tr>\n",
              "    <tr>\n",
              "      <th>3</th>\n",
              "      <td>0.002593</td>\n",
              "      <td>0.000485</td>\n",
              "      <td>0.005076</td>\n",
              "      <td>0.001046</td>\n",
              "      <td>4</td>\n",
              "      <td>{'n_neighbors': 4}</td>\n",
              "      <td>0.596491</td>\n",
              "      <td>0.561404</td>\n",
              "      <td>0.578947</td>\n",
              "      <td>0.666667</td>\n",
              "      <td>0.589286</td>\n",
              "      <td>0.598559</td>\n",
              "      <td>0.036039</td>\n",
              "      <td>48</td>\n",
              "    </tr>\n",
              "    <tr>\n",
              "      <th>4</th>\n",
              "      <td>0.002148</td>\n",
              "      <td>0.000015</td>\n",
              "      <td>0.003588</td>\n",
              "      <td>0.000045</td>\n",
              "      <td>5</td>\n",
              "      <td>{'n_neighbors': 5}</td>\n",
              "      <td>0.631579</td>\n",
              "      <td>0.614035</td>\n",
              "      <td>0.596491</td>\n",
              "      <td>0.701754</td>\n",
              "      <td>0.660714</td>\n",
              "      <td>0.640915</td>\n",
              "      <td>0.037085</td>\n",
              "      <td>43</td>\n",
              "    </tr>\n",
              "  </tbody>\n",
              "</table>\n",
              "</div>\n",
              "      <button class=\"colab-df-convert\" onclick=\"convertToInteractive('df-c5a81d6e-8ed1-469b-a15f-c0b0d7ebce6d')\"\n",
              "              title=\"Convert this dataframe to an interactive table.\"\n",
              "              style=\"display:none;\">\n",
              "        \n",
              "  <svg xmlns=\"http://www.w3.org/2000/svg\" height=\"24px\"viewBox=\"0 0 24 24\"\n",
              "       width=\"24px\">\n",
              "    <path d=\"M0 0h24v24H0V0z\" fill=\"none\"/>\n",
              "    <path d=\"M18.56 5.44l.94 2.06.94-2.06 2.06-.94-2.06-.94-.94-2.06-.94 2.06-2.06.94zm-11 1L8.5 8.5l.94-2.06 2.06-.94-2.06-.94L8.5 2.5l-.94 2.06-2.06.94zm10 10l.94 2.06.94-2.06 2.06-.94-2.06-.94-.94-2.06-.94 2.06-2.06.94z\"/><path d=\"M17.41 7.96l-1.37-1.37c-.4-.4-.92-.59-1.43-.59-.52 0-1.04.2-1.43.59L10.3 9.45l-7.72 7.72c-.78.78-.78 2.05 0 2.83L4 21.41c.39.39.9.59 1.41.59.51 0 1.02-.2 1.41-.59l7.78-7.78 2.81-2.81c.8-.78.8-2.07 0-2.86zM5.41 20L4 18.59l7.72-7.72 1.47 1.35L5.41 20z\"/>\n",
              "  </svg>\n",
              "      </button>\n",
              "      \n",
              "  <style>\n",
              "    .colab-df-container {\n",
              "      display:flex;\n",
              "      flex-wrap:wrap;\n",
              "      gap: 12px;\n",
              "    }\n",
              "\n",
              "    .colab-df-convert {\n",
              "      background-color: #E8F0FE;\n",
              "      border: none;\n",
              "      border-radius: 50%;\n",
              "      cursor: pointer;\n",
              "      display: none;\n",
              "      fill: #1967D2;\n",
              "      height: 32px;\n",
              "      padding: 0 0 0 0;\n",
              "      width: 32px;\n",
              "    }\n",
              "\n",
              "    .colab-df-convert:hover {\n",
              "      background-color: #E2EBFA;\n",
              "      box-shadow: 0px 1px 2px rgba(60, 64, 67, 0.3), 0px 1px 3px 1px rgba(60, 64, 67, 0.15);\n",
              "      fill: #174EA6;\n",
              "    }\n",
              "\n",
              "    [theme=dark] .colab-df-convert {\n",
              "      background-color: #3B4455;\n",
              "      fill: #D2E3FC;\n",
              "    }\n",
              "\n",
              "    [theme=dark] .colab-df-convert:hover {\n",
              "      background-color: #434B5C;\n",
              "      box-shadow: 0px 1px 3px 1px rgba(0, 0, 0, 0.15);\n",
              "      filter: drop-shadow(0px 1px 2px rgba(0, 0, 0, 0.3));\n",
              "      fill: #FFFFFF;\n",
              "    }\n",
              "  </style>\n",
              "\n",
              "      <script>\n",
              "        const buttonEl =\n",
              "          document.querySelector('#df-c5a81d6e-8ed1-469b-a15f-c0b0d7ebce6d button.colab-df-convert');\n",
              "        buttonEl.style.display =\n",
              "          google.colab.kernel.accessAllowed ? 'block' : 'none';\n",
              "\n",
              "        async function convertToInteractive(key) {\n",
              "          const element = document.querySelector('#df-c5a81d6e-8ed1-469b-a15f-c0b0d7ebce6d');\n",
              "          const dataTable =\n",
              "            await google.colab.kernel.invokeFunction('convertToInteractive',\n",
              "                                                     [key], {});\n",
              "          if (!dataTable) return;\n",
              "\n",
              "          const docLinkHtml = 'Like what you see? Visit the ' +\n",
              "            '<a target=\"_blank\" href=https://colab.research.google.com/notebooks/data_table.ipynb>data table notebook</a>'\n",
              "            + ' to learn more about interactive tables.';\n",
              "          element.innerHTML = '';\n",
              "          dataTable['output_type'] = 'display_data';\n",
              "          await google.colab.output.renderOutput(dataTable, element);\n",
              "          const docLink = document.createElement('div');\n",
              "          docLink.innerHTML = docLinkHtml;\n",
              "          element.appendChild(docLink);\n",
              "        }\n",
              "      </script>\n",
              "    </div>\n",
              "  </div>\n",
              "  "
            ]
          },
          "metadata": {},
          "execution_count": 188
        }
      ]
    },
    {
      "cell_type": "code",
      "source": [
        "for key in grid.cv_results_.keys():\n",
        "  print(key) "
      ],
      "metadata": {
        "colab": {
          "base_uri": "https://localhost:8080/"
        },
        "id": "6SQZOAqcjFFq",
        "outputId": "9fc97812-17bf-48cf-dac4-53316f58dad1"
      },
      "execution_count": null,
      "outputs": [
        {
          "output_type": "stream",
          "name": "stdout",
          "text": [
            "mean_fit_time\n",
            "std_fit_time\n",
            "mean_score_time\n",
            "std_score_time\n",
            "param_n_neighbors\n",
            "params\n",
            "split0_test_score\n",
            "split1_test_score\n",
            "split2_test_score\n",
            "split3_test_score\n",
            "split4_test_score\n",
            "mean_test_score\n",
            "std_test_score\n",
            "rank_test_score\n"
          ]
        }
      ]
    },
    {
      "cell_type": "code",
      "source": [
        "grid_table_rank = grid_table[['params','mean_test_score','std_test_score','rank_test_score']].loc[grid_table['rank_test_score']==1].sort_values(by='std_test_score', ascending=True)\n",
        "grid_table_rank"
      ],
      "metadata": {
        "colab": {
          "base_uri": "https://localhost:8080/",
          "height": 81
        },
        "id": "DJN24pTNjItk",
        "outputId": "210b5391-3da8-4255-9c62-79642fc7f636"
      },
      "execution_count": null,
      "outputs": [
        {
          "output_type": "execute_result",
          "data": {
            "text/plain": [
              "                 params  mean_test_score  std_test_score  rank_test_score\n",
              "39  {'n_neighbors': 40}         0.679449        0.041655                1"
            ],
            "text/html": [
              "\n",
              "  <div id=\"df-20117bd7-facd-43fa-a0e7-d70899c12ae6\">\n",
              "    <div class=\"colab-df-container\">\n",
              "      <div>\n",
              "<style scoped>\n",
              "    .dataframe tbody tr th:only-of-type {\n",
              "        vertical-align: middle;\n",
              "    }\n",
              "\n",
              "    .dataframe tbody tr th {\n",
              "        vertical-align: top;\n",
              "    }\n",
              "\n",
              "    .dataframe thead th {\n",
              "        text-align: right;\n",
              "    }\n",
              "</style>\n",
              "<table border=\"1\" class=\"dataframe\">\n",
              "  <thead>\n",
              "    <tr style=\"text-align: right;\">\n",
              "      <th></th>\n",
              "      <th>params</th>\n",
              "      <th>mean_test_score</th>\n",
              "      <th>std_test_score</th>\n",
              "      <th>rank_test_score</th>\n",
              "    </tr>\n",
              "  </thead>\n",
              "  <tbody>\n",
              "    <tr>\n",
              "      <th>39</th>\n",
              "      <td>{'n_neighbors': 40}</td>\n",
              "      <td>0.679449</td>\n",
              "      <td>0.041655</td>\n",
              "      <td>1</td>\n",
              "    </tr>\n",
              "  </tbody>\n",
              "</table>\n",
              "</div>\n",
              "      <button class=\"colab-df-convert\" onclick=\"convertToInteractive('df-20117bd7-facd-43fa-a0e7-d70899c12ae6')\"\n",
              "              title=\"Convert this dataframe to an interactive table.\"\n",
              "              style=\"display:none;\">\n",
              "        \n",
              "  <svg xmlns=\"http://www.w3.org/2000/svg\" height=\"24px\"viewBox=\"0 0 24 24\"\n",
              "       width=\"24px\">\n",
              "    <path d=\"M0 0h24v24H0V0z\" fill=\"none\"/>\n",
              "    <path d=\"M18.56 5.44l.94 2.06.94-2.06 2.06-.94-2.06-.94-.94-2.06-.94 2.06-2.06.94zm-11 1L8.5 8.5l.94-2.06 2.06-.94-2.06-.94L8.5 2.5l-.94 2.06-2.06.94zm10 10l.94 2.06.94-2.06 2.06-.94-2.06-.94-.94-2.06-.94 2.06-2.06.94z\"/><path d=\"M17.41 7.96l-1.37-1.37c-.4-.4-.92-.59-1.43-.59-.52 0-1.04.2-1.43.59L10.3 9.45l-7.72 7.72c-.78.78-.78 2.05 0 2.83L4 21.41c.39.39.9.59 1.41.59.51 0 1.02-.2 1.41-.59l7.78-7.78 2.81-2.81c.8-.78.8-2.07 0-2.86zM5.41 20L4 18.59l7.72-7.72 1.47 1.35L5.41 20z\"/>\n",
              "  </svg>\n",
              "      </button>\n",
              "      \n",
              "  <style>\n",
              "    .colab-df-container {\n",
              "      display:flex;\n",
              "      flex-wrap:wrap;\n",
              "      gap: 12px;\n",
              "    }\n",
              "\n",
              "    .colab-df-convert {\n",
              "      background-color: #E8F0FE;\n",
              "      border: none;\n",
              "      border-radius: 50%;\n",
              "      cursor: pointer;\n",
              "      display: none;\n",
              "      fill: #1967D2;\n",
              "      height: 32px;\n",
              "      padding: 0 0 0 0;\n",
              "      width: 32px;\n",
              "    }\n",
              "\n",
              "    .colab-df-convert:hover {\n",
              "      background-color: #E2EBFA;\n",
              "      box-shadow: 0px 1px 2px rgba(60, 64, 67, 0.3), 0px 1px 3px 1px rgba(60, 64, 67, 0.15);\n",
              "      fill: #174EA6;\n",
              "    }\n",
              "\n",
              "    [theme=dark] .colab-df-convert {\n",
              "      background-color: #3B4455;\n",
              "      fill: #D2E3FC;\n",
              "    }\n",
              "\n",
              "    [theme=dark] .colab-df-convert:hover {\n",
              "      background-color: #434B5C;\n",
              "      box-shadow: 0px 1px 3px 1px rgba(0, 0, 0, 0.15);\n",
              "      filter: drop-shadow(0px 1px 2px rgba(0, 0, 0, 0.3));\n",
              "      fill: #FFFFFF;\n",
              "    }\n",
              "  </style>\n",
              "\n",
              "      <script>\n",
              "        const buttonEl =\n",
              "          document.querySelector('#df-20117bd7-facd-43fa-a0e7-d70899c12ae6 button.colab-df-convert');\n",
              "        buttonEl.style.display =\n",
              "          google.colab.kernel.accessAllowed ? 'block' : 'none';\n",
              "\n",
              "        async function convertToInteractive(key) {\n",
              "          const element = document.querySelector('#df-20117bd7-facd-43fa-a0e7-d70899c12ae6');\n",
              "          const dataTable =\n",
              "            await google.colab.kernel.invokeFunction('convertToInteractive',\n",
              "                                                     [key], {});\n",
              "          if (!dataTable) return;\n",
              "\n",
              "          const docLinkHtml = 'Like what you see? Visit the ' +\n",
              "            '<a target=\"_blank\" href=https://colab.research.google.com/notebooks/data_table.ipynb>data table notebook</a>'\n",
              "            + ' to learn more about interactive tables.';\n",
              "          element.innerHTML = '';\n",
              "          dataTable['output_type'] = 'display_data';\n",
              "          await google.colab.output.renderOutput(dataTable, element);\n",
              "          const docLink = document.createElement('div');\n",
              "          docLink.innerHTML = docLinkHtml;\n",
              "          element.appendChild(docLink);\n",
              "        }\n",
              "      </script>\n",
              "    </div>\n",
              "  </div>\n",
              "  "
            ]
          },
          "metadata": {},
          "execution_count": 190
        }
      ]
    },
    {
      "cell_type": "code",
      "source": [
        "print(\"The best value of k = {} with {} of accuracy.\".format(grid.best_params_,grid.best_score_))"
      ],
      "metadata": {
        "colab": {
          "base_uri": "https://localhost:8080/"
        },
        "id": "8iHee4GojMfA",
        "outputId": "58fdd6ea-bec1-499d-86cd-25e3530ada02"
      },
      "execution_count": null,
      "outputs": [
        {
          "output_type": "stream",
          "name": "stdout",
          "text": [
            "The best value of k = {'n_neighbors': 40} with 0.6794486215538847 of accuracy.\n"
          ]
        }
      ]
    },
    {
      "cell_type": "code",
      "source": [
        "print(\"The best classifier is: {}\".format(grid.best_estimator_))"
      ],
      "metadata": {
        "colab": {
          "base_uri": "https://localhost:8080/"
        },
        "id": "ZSUMPIdHjQl-",
        "outputId": "c742228e-5bdd-460b-fec6-88e8c1235903"
      },
      "execution_count": null,
      "outputs": [
        {
          "output_type": "stream",
          "name": "stdout",
          "text": [
            "The best classifier is: KNeighborsClassifier(n_neighbors=40)\n"
          ]
        }
      ]
    },
    {
      "cell_type": "code",
      "source": [
        "import matplotlib.pyplot as plt"
      ],
      "metadata": {
        "id": "Ix6sYQh7jVvy"
      },
      "execution_count": null,
      "outputs": []
    },
    {
      "cell_type": "code",
      "source": [
        "graphic = grid.cv_results_['mean_test_score']\n",
        "graphic\n",
        "\n",
        "plt.figure(figsize=(10,5))\n",
        "plt.plot(k_list,graphic,color='navy',linestyle='dashed',marker='o')\n",
        "plt.xlabel('K Number of Neighbors', fontdict={'fontsize': 15})\n",
        "plt.ylabel('Accuracy', fontdict={'fontsize': 15})\n",
        "plt.title('K NUMBER X ACCURACY', fontdict={'fontsize': 30})\n",
        "plt.xticks(range(0,31,3),)\n",
        "#plt.xaxis.set_major_locator(MultipleLocator(3))\n",
        "plt.show()"
      ],
      "metadata": {
        "colab": {
          "base_uri": "https://localhost:8080/",
          "height": 368
        },
        "id": "Sk_SqXfxjY5V",
        "outputId": "f7d819db-2c31-461d-b7f0-0df26ba5b8c3"
      },
      "execution_count": null,
      "outputs": [
        {
          "output_type": "display_data",
          "data": {
            "text/plain": [
              "<Figure size 720x360 with 1 Axes>"
            ],
            "image/png": "[encoded data removed]"
          },
          "metadata": {}
        }
      ]
    },
    {
      "cell_type": "markdown",
      "source": [
        "#SVM"
      ],
      "metadata": {
        "id": "3LFvGAICo75h"
      }
    },
    {
      "cell_type": "code",
      "source": [
        "from sklearn.preprocessing import StandardScaler \n",
        "scale = StandardScaler()\n",
        "x_train_std = scale.fit_transform(x_train)\n",
        "x_test_std = scale.transform(x_test)"
      ],
      "metadata": {
        "id": "BWag040po9wF"
      },
      "execution_count": null,
      "outputs": []
    },
    {
      "cell_type": "code",
      "source": [],
      "metadata": {
        "id": "6d6cePqGpFij"
      },
      "execution_count": null,
      "outputs": []
    },
    {
      "cell_type": "code",
      "source": [
        "from sklearn.svm import SVC\n",
        "classifier_rbf = SVC(kernel = 'rbf', random_state= 0, probability=True)\n",
        "classifier_rbf.fit(x_train_std, y_train)\n",
        "#predicting\n",
        "svc_pred_rbf = classifier_rbf.predict(x_test_std)"
      ],
      "metadata": {
        "id": "8uO5nIafpY_v"
      },
      "execution_count": null,
      "outputs": []
    },
    {
      "cell_type": "code",
      "source": [
        "from sklearn import metrics\n",
        "print(\"Model Validation ==>\\n\")\n",
        "print(\"RBF Kernel Accuracy of SVC Classifier::\")\n",
        "print(metrics.accuracy_score(y_test,svc_pred_rbf))\n",
        "print(\"\\n\", \"Classification Report::\")\n",
        "print(metrics.classification_report(y_test,svc_pred_rbf), '\\n')"
      ],
      "metadata": {
        "colab": {
          "base_uri": "https://localhost:8080/"
        },
        "id": "XLYJERCtpgvc",
        "outputId": "39ac3490-0771-4ac5-b396-572c5ca9a452"
      },
      "execution_count": null,
      "outputs": [
        {
          "output_type": "stream",
          "name": "stdout",
          "text": [
            "Model Validation ==>\n",
            "\n",
            "RBF Kernel Accuracy of SVC Classifier::\n",
            "0.8421052631578947\n",
            "\n",
            " Classification Report::\n",
            "              precision    recall  f1-score   support\n",
            "\n",
            "           0       0.85      0.81      0.83        27\n",
            "           1       0.84      0.87      0.85        30\n",
            "\n",
            "    accuracy                           0.84        57\n",
            "   macro avg       0.84      0.84      0.84        57\n",
            "weighted avg       0.84      0.84      0.84        57\n",
            " \n",
            "\n"
          ]
        }
      ]
    },
    {
      "cell_type": "code",
      "source": [
        "model = SVC(kernel='linear')"
      ],
      "metadata": {
        "id": "R0UgisYVplg7"
      },
      "execution_count": null,
      "outputs": []
    },
    {
      "cell_type": "code",
      "source": [
        "model.fit(x_train, y_train)"
      ],
      "metadata": {
        "colab": {
          "base_uri": "https://localhost:8080/"
        },
        "id": "KaUeQU3PpuEy",
        "outputId": "d46ce7f7-e9b6-41c9-c8c7-557ca96ac105"
      },
      "execution_count": null,
      "outputs": [
        {
          "output_type": "execute_result",
          "data": {
            "text/plain": [
              "SVC(kernel='linear')"
            ]
          },
          "metadata": {},
          "execution_count": 199
        }
      ]
    },
    {
      "cell_type": "code",
      "source": [
        "predictions = model.predict(x_test)\n",
        "print(predictions)"
      ],
      "metadata": {
        "colab": {
          "base_uri": "https://localhost:8080/"
        },
        "id": "o0LhrD8Apx25",
        "outputId": "6588a5f3-368e-4330-8c64-5446c2b6fb04"
      },
      "execution_count": null,
      "outputs": [
        {
          "output_type": "stream",
          "name": "stdout",
          "text": [
            "[1 0 1 0 1 0 1 1 1 0 1 0 1 0 1 0 0 1 1 1 1 1 1 1 1 0 1 0 0 1 0 0 0 1 1 0 1\n",
            " 1 0 0 1 1 1 1 1 0 0 1 1 0 0 1 0 1 1 1 0]\n"
          ]
        }
      ]
    },
    {
      "cell_type": "code",
      "source": [
        "percentage = model.score(x_test, y_test)"
      ],
      "metadata": {
        "id": "WCPE7BRIp2hs"
      },
      "execution_count": null,
      "outputs": []
    },
    {
      "cell_type": "code",
      "source": [
        "from sklearn.metrics import confusion_matrix\n",
        "res = confusion_matrix(y_test, predictions)\n",
        "print(\"Confusion Matrix\")\n",
        "print(res)\n",
        "print(f\"Test Set: {len(x_test)}\")\n",
        "print(f\"Accuracy = {percentage} \")"
      ],
      "metadata": {
        "colab": {
          "base_uri": "https://localhost:8080/"
        },
        "id": "BiRVE2bhp7hW",
        "outputId": "ec6c3fdc-ad7c-4b55-d02a-ba3c65299af4"
      },
      "execution_count": null,
      "outputs": [
        {
          "output_type": "stream",
          "name": "stdout",
          "text": [
            "Confusion Matrix\n",
            "[[21  6]\n",
            " [ 2 28]]\n",
            "Test Set: 57\n",
            "Accuracy = 0.8596491228070176 \n"
          ]
        }
      ]
    },
    {
      "cell_type": "code",
      "source": [
        "metrics.plot_roc_curve(model ,x_test , y_test)"
      ],
      "metadata": {
        "colab": {
          "base_uri": "https://localhost:8080/",
          "height": 460
        },
        "id": "ThjrHY7gqFgD",
        "outputId": "d7441c32-9bdf-45c9-e377-301401c8b37a"
      },
      "execution_count": null,
      "outputs": [
        {
          "output_type": "stream",
          "name": "stderr",
          "text": [
            "/usr/local/lib/python3.7/dist-packages/sklearn/utils/deprecation.py:87: FutureWarning: Function plot_roc_curve is deprecated; Function :func:`plot_roc_curve` is deprecated in 1.0 and will be removed in 1.2. Use one of the class methods: :meth:`sklearn.metric.RocCurveDisplay.from_predictions` or :meth:`sklearn.metric.RocCurveDisplay.from_estimator`.\n",
            "  warnings.warn(msg, category=FutureWarning)\n"
          ]
        },
        {
          "output_type": "execute_result",
          "data": {
            "text/plain": [
              "<sklearn.metrics._plot.roc_curve.RocCurveDisplay at 0x7fd671b5f510>"
            ]
          },
          "metadata": {},
          "execution_count": 203
        },
        {
          "output_type": "display_data",
          "data": {
            "text/plain": [
              "<Figure size 720x432 with 1 Axes>"
            ],
            "image/png": "[encoded data removed]"
          },
          "metadata": {}
        }
      ]
    },
    {
      "cell_type": "code",
      "source": [],
      "metadata": {
        "id": "QvLRqeTnQo0q"
      },
      "execution_count": null,
      "outputs": []
    },
    {
      "cell_type": "markdown",
      "source": [
        "# Recall of the best model"
      ],
      "metadata": {
        "id": "JTgJ-U-OQpaj"
      }
    },
    {
      "cell_type": "code",
      "source": [
        "from sklearn.model_selection import train_test_split\n",
        "x_train, x_test, y_train, y_test= train_test_split(x, y, test_size=0.2, random_state=42)\n",
        "y_test"
      ],
      "metadata": {
        "colab": {
          "base_uri": "https://localhost:8080/"
        },
        "id": "Q3RcsAoHq2FJ",
        "outputId": "519fbdae-17a2-4ad4-a719-0070f68afe7c"
      },
      "execution_count": null,
      "outputs": [
        {
          "output_type": "execute_result",
          "data": {
            "text/plain": [
              "10     1\n",
              "270    0\n",
              "164    1\n",
              "218    0\n",
              "77     1\n",
              "245    0\n",
              "281    0\n",
              "177    0\n",
              "44     1\n",
              "237    0\n",
              "48     1\n",
              "284    0\n",
              "149    1\n",
              "175    0\n",
              "5      1\n",
              "229    0\n",
              "243    0\n",
              "146    1\n",
              "161    1\n",
              "35     1\n",
              "115    1\n",
              "62     1\n",
              "70     1\n",
              "230    0\n",
              "58     1\n",
              "97     1\n",
              "79     1\n",
              "294    0\n",
              "290    0\n",
              "114    1\n",
              "263    0\n",
              "165    0\n",
              "174    0\n",
              "47     1\n",
              "81     1\n",
              "217    0\n",
              "68     1\n",
              "84     1\n",
              "186    0\n",
              "193    0\n",
              "32     1\n",
              "23     1\n",
              "25     1\n",
              "138    1\n",
              "75     1\n",
              "211    0\n",
              "236    0\n",
              "261    0\n",
              "93     1\n",
              "212    0\n",
              "279    0\n",
              "182    0\n",
              "95     1\n",
              "6      1\n",
              "132    1\n",
              "271    0\n",
              "301    0\n",
              "Name: output, dtype: int64"
            ]
          },
          "metadata": {},
          "execution_count": 204
        }
      ]
    },
    {
      "cell_type": "code",
      "source": [
        "\n"
      ],
      "metadata": {
        "id": "7dKk_LH8q31N"
      },
      "execution_count": null,
      "outputs": []
    },
    {
      "cell_type": "code",
      "source": [],
      "metadata": {
        "id": "IOo1wdzUNIaP"
      },
      "execution_count": null,
      "outputs": []
    },
    {
      "cell_type": "code",
      "source": [
        "accuracy_score(y_test,y_pred)"
      ],
      "metadata": {
        "colab": {
          "base_uri": "https://localhost:8080/"
        },
        "id": "NwQlHqPwPedU",
        "outputId": "d426e6ee-71b3-4173-e255-8041631fa4ea"
      },
      "execution_count": null,
      "outputs": [
        {
          "output_type": "execute_result",
          "data": {
            "text/plain": [
              "0.8070175438596491"
            ]
          },
          "metadata": {},
          "execution_count": 205
        }
      ]
    },
    {
      "cell_type": "code",
      "source": [
        "lreg = LogisticRegression()"
      ],
      "metadata": {
        "id": "LQS38Bj-1I0g"
      },
      "execution_count": null,
      "outputs": []
    },
    {
      "cell_type": "code",
      "source": [
        "lreg.fit(x_train,y_train)"
      ],
      "metadata": {
        "colab": {
          "base_uri": "https://localhost:8080/"
        },
        "id": "C1wMUew11LfO",
        "outputId": "46d36e31-29d9-403b-e10b-7b20b3ef8ba5"
      },
      "execution_count": null,
      "outputs": [
        {
          "output_type": "stream",
          "name": "stderr",
          "text": [
            "/usr/local/lib/python3.7/dist-packages/sklearn/linear_model/_logistic.py:818: ConvergenceWarning: lbfgs failed to converge (status=1):\n",
            "STOP: TOTAL NO. of ITERATIONS REACHED LIMIT.\n",
            "\n",
            "Increase the number of iterations (max_iter) or scale the data as shown in:\n",
            "    https://scikit-learn.org/stable/modules/preprocessing.html\n",
            "Please also refer to the documentation for alternative solver options:\n",
            "    https://scikit-learn.org/stable/modules/linear_model.html#logistic-regression\n",
            "  extra_warning_msg=_LOGISTIC_SOLVER_CONVERGENCE_MSG,\n"
          ]
        },
        {
          "output_type": "execute_result",
          "data": {
            "text/plain": [
              "LogisticRegression()"
            ]
          },
          "metadata": {},
          "execution_count": 207
        }
      ]
    },
    {
      "cell_type": "code",
      "source": [
        "pred2 = lreg.predict(x_test)\n",
        "pred2\n"
      ],
      "metadata": {
        "colab": {
          "base_uri": "https://localhost:8080/"
        },
        "id": "ThsHpMP01VA2",
        "outputId": "9bc3fb54-e8cf-451b-8fa9-cecbfe65e536"
      },
      "execution_count": null,
      "outputs": [
        {
          "output_type": "execute_result",
          "data": {
            "text/plain": [
              "array([1, 0, 1, 0, 1, 0, 1, 1, 1, 0, 1, 0, 1, 0, 1, 0, 0, 1, 1, 1, 1, 1,\n",
              "       1, 1, 1, 0, 1, 0, 0, 1, 1, 0, 0, 1, 1, 0, 1, 1, 0, 0, 1, 1, 1, 1,\n",
              "       1, 0, 0, 1, 1, 0, 0, 1, 0, 1, 1, 1, 0])"
            ]
          },
          "metadata": {},
          "execution_count": 208
        }
      ]
    },
    {
      "cell_type": "code",
      "source": [
        "recall_score(y_test,pred2)*100"
      ],
      "metadata": {
        "colab": {
          "base_uri": "https://localhost:8080/"
        },
        "id": "XVog5wbx1jTB",
        "outputId": "8cbead8d-60d7-4e15-cf1d-1a3841d9b1f1"
      },
      "execution_count": null,
      "outputs": [
        {
          "output_type": "execute_result",
          "data": {
            "text/plain": [
              "93.33333333333333"
            ]
          },
          "metadata": {},
          "execution_count": 209
        }
      ]
    },
    {
      "cell_type": "markdown",
      "source": [
        "Building a predictive system"
      ],
      "metadata": {
        "id": "yoQEfV5sKHux"
      }
    },
    {
      "cell_type": "markdown",
      "source": [
        "# Building a predictive system"
      ],
      "metadata": {
        "id": "F5sS68pwRBWj"
      }
    },
    {
      "cell_type": "code",
      "source": [
        "input_data = (41,0,1,130,204,0,0,172,0,1.4,2,0,2)"
      ],
      "metadata": {
        "id": "0t0DYmH-KR-G"
      },
      "execution_count": null,
      "outputs": []
    },
    {
      "cell_type": "markdown",
      "source": [
        "Changing input data into numpy array"
      ],
      "metadata": {
        "id": "g4QQoaR8Khz5"
      }
    },
    {
      "cell_type": "code",
      "source": [
        "input_data_numpy_array = np.asarray(input_data)"
      ],
      "metadata": {
        "id": "9bsxNUENKf6w"
      },
      "execution_count": null,
      "outputs": []
    },
    {
      "cell_type": "markdown",
      "source": [
        "Reshaping as we are predicting one record only"
      ],
      "metadata": {
        "id": "ELIpv4VYMy-n"
      }
    },
    {
      "cell_type": "code",
      "source": [
        "input_data_reshaped = input_data_numpy_array.reshape(1,-1)"
      ],
      "metadata": {
        "id": "K_SX-ITqKxYi"
      },
      "execution_count": null,
      "outputs": []
    },
    {
      "cell_type": "markdown",
      "source": [
        "Prediction"
      ],
      "metadata": {
        "id": "LU3Hl5BZNelR"
      }
    },
    {
      "cell_type": "code",
      "source": [
        "prediction = lreg.predict(input_data_reshaped)\n",
        "print(prediction)\n",
        "\n",
        "if(prediction[0]==0):\n",
        "  print(\"The person does not have a chance of being prone to a heart attack\")\n",
        "else:\n",
        "  print(\"The person has a chance of being prone to a heart attack\")  "
      ],
      "metadata": {
        "colab": {
          "base_uri": "https://localhost:8080/"
        },
        "id": "mmAHMrRbLFrV",
        "outputId": "ba7f28f8-584a-489d-844c-ca7ee03cb228"
      },
      "execution_count": null,
      "outputs": [
        {
          "output_type": "stream",
          "name": "stdout",
          "text": [
            "[1]\n",
            "The person has a chance of being prone to a heart attack\n"
          ]
        },
        {
          "output_type": "stream",
          "name": "stderr",
          "text": [
            "/usr/local/lib/python3.7/dist-packages/sklearn/base.py:451: UserWarning: X does not have valid feature names, but LogisticRegression was fitted with feature names\n",
            "  \"X does not have valid feature names, but\"\n"
          ]
        }
      ]
    },
    {
      "cell_type": "code",
      "source": [
        "data"
      ],
      "metadata": {
        "colab": {
          "base_uri": "https://localhost:8080/",
          "height": 424
        },
        "id": "ySNSxCnRT1mF",
        "outputId": "d179b194-d164-471f-80cc-8ea0cf1f7c53"
      },
      "execution_count": null,
      "outputs": [
        {
          "output_type": "execute_result",
          "data": {
            "text/plain": [
              "     age  sex  cp  trtbps  chol  fbs  restecg  thalachh  exng  oldpeak  slp  \\\n",
              "0     63    1   3     145   233    1        0       150     0      2.3    0   \n",
              "1     37    1   2     130   250    0        1       187     0      3.5    0   \n",
              "2     41    0   1     130   204    0        0       172     0      1.4    2   \n",
              "3     56    1   1     120   236    0        1       178     0      0.8    2   \n",
              "4     57    0   0     120   354    0        1       163     1      0.6    2   \n",
              "..   ...  ...  ..     ...   ...  ...      ...       ...   ...      ...  ...   \n",
              "298   57    0   0     140   241    0        1       123     1      0.2    1   \n",
              "299   45    1   3     110   264    0        1       132     0      1.2    1   \n",
              "300   68    1   0     144   193    1        1       141     0      3.4    1   \n",
              "301   57    1   0     130   131    0        1       115     1      1.2    1   \n",
              "302   57    0   1     130   236    0        0       174     0      0.0    1   \n",
              "\n",
              "     caa  thall  output  \n",
              "0      0      1       1  \n",
              "1      0      2       1  \n",
              "2      0      2       1  \n",
              "3      0      2       1  \n",
              "4      0      2       1  \n",
              "..   ...    ...     ...  \n",
              "298    0      3       0  \n",
              "299    0      3       0  \n",
              "300    2      3       0  \n",
              "301    1      3       0  \n",
              "302    1      2       0  \n",
              "\n",
              "[284 rows x 14 columns]"
            ],
            "text/html": [
              "\n",
              "  <div id=\"df-eda9e0c9-59e1-406c-929f-282817331f68\">\n",
              "    <div class=\"colab-df-container\">\n",
              "      <div>\n",
              "<style scoped>\n",
              "    .dataframe tbody tr th:only-of-type {\n",
              "        vertical-align: middle;\n",
              "    }\n",
              "\n",
              "    .dataframe tbody tr th {\n",
              "        vertical-align: top;\n",
              "    }\n",
              "\n",
              "    .dataframe thead th {\n",
              "        text-align: right;\n",
              "    }\n",
              "</style>\n",
              "<table border=\"1\" class=\"dataframe\">\n",
              "  <thead>\n",
              "    <tr style=\"text-align: right;\">\n",
              "      <th></th>\n",
              "      <th>age</th>\n",
              "      <th>sex</th>\n",
              "      <th>cp</th>\n",
              "      <th>trtbps</th>\n",
              "      <th>chol</th>\n",
              "      <th>fbs</th>\n",
              "      <th>restecg</th>\n",
              "      <th>thalachh</th>\n",
              "      <th>exng</th>\n",
              "      <th>oldpeak</th>\n",
              "      <th>slp</th>\n",
              "      <th>caa</th>\n",
              "      <th>thall</th>\n",
              "      <th>output</th>\n",
              "    </tr>\n",
              "  </thead>\n",
              "  <tbody>\n",
              "    <tr>\n",
              "      <th>0</th>\n",
              "      <td>63</td>\n",
              "      <td>1</td>\n",
              "      <td>3</td>\n",
              "      <td>145</td>\n",
              "      <td>233</td>\n",
              "      <td>1</td>\n",
              "      <td>0</td>\n",
              "      <td>150</td>\n",
              "      <td>0</td>\n",
              "      <td>2.3</td>\n",
              "      <td>0</td>\n",
              "      <td>0</td>\n",
              "      <td>1</td>\n",
              "      <td>1</td>\n",
              "    </tr>\n",
              "    <tr>\n",
              "      <th>1</th>\n",
              "      <td>37</td>\n",
              "      <td>1</td>\n",
              "      <td>2</td>\n",
              "      <td>130</td>\n",
              "      <td>250</td>\n",
              "      <td>0</td>\n",
              "      <td>1</td>\n",
              "      <td>187</td>\n",
              "      <td>0</td>\n",
              "      <td>3.5</td>\n",
              "      <td>0</td>\n",
              "      <td>0</td>\n",
              "      <td>2</td>\n",
              "      <td>1</td>\n",
              "    </tr>\n",
              "    <tr>\n",
              "      <th>2</th>\n",
              "      <td>41</td>\n",
              "      <td>0</td>\n",
              "      <td>1</td>\n",
              "      <td>130</td>\n",
              "      <td>204</td>\n",
              "      <td>0</td>\n",
              "      <td>0</td>\n",
              "      <td>172</td>\n",
              "      <td>0</td>\n",
              "      <td>1.4</td>\n",
              "      <td>2</td>\n",
              "      <td>0</td>\n",
              "      <td>2</td>\n",
              "      <td>1</td>\n",
              "    </tr>\n",
              "    <tr>\n",
              "      <th>3</th>\n",
              "      <td>56</td>\n",
              "      <td>1</td>\n",
              "      <td>1</td>\n",
              "      <td>120</td>\n",
              "      <td>236</td>\n",
              "      <td>0</td>\n",
              "      <td>1</td>\n",
              "      <td>178</td>\n",
              "      <td>0</td>\n",
              "      <td>0.8</td>\n",
              "      <td>2</td>\n",
              "      <td>0</td>\n",
              "      <td>2</td>\n",
              "      <td>1</td>\n",
              "    </tr>\n",
              "    <tr>\n",
              "      <th>4</th>\n",
              "      <td>57</td>\n",
              "      <td>0</td>\n",
              "      <td>0</td>\n",
              "      <td>120</td>\n",
              "      <td>354</td>\n",
              "      <td>0</td>\n",
              "      <td>1</td>\n",
              "      <td>163</td>\n",
              "      <td>1</td>\n",
              "      <td>0.6</td>\n",
              "      <td>2</td>\n",
              "      <td>0</td>\n",
              "      <td>2</td>\n",
              "      <td>1</td>\n",
              "    </tr>\n",
              "    <tr>\n",
              "      <th>...</th>\n",
              "      <td>...</td>\n",
              "      <td>...</td>\n",
              "      <td>...</td>\n",
              "      <td>...</td>\n",
              "      <td>...</td>\n",
              "      <td>...</td>\n",
              "      <td>...</td>\n",
              "      <td>...</td>\n",
              "      <td>...</td>\n",
              "      <td>...</td>\n",
              "      <td>...</td>\n",
              "      <td>...</td>\n",
              "      <td>...</td>\n",
              "      <td>...</td>\n",
              "    </tr>\n",
              "    <tr>\n",
              "      <th>298</th>\n",
              "      <td>57</td>\n",
              "      <td>0</td>\n",
              "      <td>0</td>\n",
              "      <td>140</td>\n",
              "      <td>241</td>\n",
              "      <td>0</td>\n",
              "      <td>1</td>\n",
              "      <td>123</td>\n",
              "      <td>1</td>\n",
              "      <td>0.2</td>\n",
              "      <td>1</td>\n",
              "      <td>0</td>\n",
              "      <td>3</td>\n",
              "      <td>0</td>\n",
              "    </tr>\n",
              "    <tr>\n",
              "      <th>299</th>\n",
              "      <td>45</td>\n",
              "      <td>1</td>\n",
              "      <td>3</td>\n",
              "      <td>110</td>\n",
              "      <td>264</td>\n",
              "      <td>0</td>\n",
              "      <td>1</td>\n",
              "      <td>132</td>\n",
              "      <td>0</td>\n",
              "      <td>1.2</td>\n",
              "      <td>1</td>\n",
              "      <td>0</td>\n",
              "      <td>3</td>\n",
              "      <td>0</td>\n",
              "    </tr>\n",
              "    <tr>\n",
              "      <th>300</th>\n",
              "      <td>68</td>\n",
              "      <td>1</td>\n",
              "      <td>0</td>\n",
              "      <td>144</td>\n",
              "      <td>193</td>\n",
              "      <td>1</td>\n",
              "      <td>1</td>\n",
              "      <td>141</td>\n",
              "      <td>0</td>\n",
              "      <td>3.4</td>\n",
              "      <td>1</td>\n",
              "      <td>2</td>\n",
              "      <td>3</td>\n",
              "      <td>0</td>\n",
              "    </tr>\n",
              "    <tr>\n",
              "      <th>301</th>\n",
              "      <td>57</td>\n",
              "      <td>1</td>\n",
              "      <td>0</td>\n",
              "      <td>130</td>\n",
              "      <td>131</td>\n",
              "      <td>0</td>\n",
              "      <td>1</td>\n",
              "      <td>115</td>\n",
              "      <td>1</td>\n",
              "      <td>1.2</td>\n",
              "      <td>1</td>\n",
              "      <td>1</td>\n",
              "      <td>3</td>\n",
              "      <td>0</td>\n",
              "    </tr>\n",
              "    <tr>\n",
              "      <th>302</th>\n",
              "      <td>57</td>\n",
              "      <td>0</td>\n",
              "      <td>1</td>\n",
              "      <td>130</td>\n",
              "      <td>236</td>\n",
              "      <td>0</td>\n",
              "      <td>0</td>\n",
              "      <td>174</td>\n",
              "      <td>0</td>\n",
              "      <td>0.0</td>\n",
              "      <td>1</td>\n",
              "      <td>1</td>\n",
              "      <td>2</td>\n",
              "      <td>0</td>\n",
              "    </tr>\n",
              "  </tbody>\n",
              "</table>\n",
              "<p>284 rows × 14 columns</p>\n",
              "</div>\n",
              "      <button class=\"colab-df-convert\" onclick=\"convertToInteractive('df-eda9e0c9-59e1-406c-929f-282817331f68')\"\n",
              "              title=\"Convert this dataframe to an interactive table.\"\n",
              "              style=\"display:none;\">\n",
              "        \n",
              "  <svg xmlns=\"http://www.w3.org/2000/svg\" height=\"24px\"viewBox=\"0 0 24 24\"\n",
              "       width=\"24px\">\n",
              "    <path d=\"M0 0h24v24H0V0z\" fill=\"none\"/>\n",
              "    <path d=\"M18.56 5.44l.94 2.06.94-2.06 2.06-.94-2.06-.94-.94-2.06-.94 2.06-2.06.94zm-11 1L8.5 8.5l.94-2.06 2.06-.94-2.06-.94L8.5 2.5l-.94 2.06-2.06.94zm10 10l.94 2.06.94-2.06 2.06-.94-2.06-.94-.94-2.06-.94 2.06-2.06.94z\"/><path d=\"M17.41 7.96l-1.37-1.37c-.4-.4-.92-.59-1.43-.59-.52 0-1.04.2-1.43.59L10.3 9.45l-7.72 7.72c-.78.78-.78 2.05 0 2.83L4 21.41c.39.39.9.59 1.41.59.51 0 1.02-.2 1.41-.59l7.78-7.78 2.81-2.81c.8-.78.8-2.07 0-2.86zM5.41 20L4 18.59l7.72-7.72 1.47 1.35L5.41 20z\"/>\n",
              "  </svg>\n",
              "      </button>\n",
              "      \n",
              "  <style>\n",
              "    .colab-df-container {\n",
              "      display:flex;\n",
              "      flex-wrap:wrap;\n",
              "      gap: 12px;\n",
              "    }\n",
              "\n",
              "    .colab-df-convert {\n",
              "      background-color: #E8F0FE;\n",
              "      border: none;\n",
              "      border-radius: 50%;\n",
              "      cursor: pointer;\n",
              "      display: none;\n",
              "      fill: #1967D2;\n",
              "      height: 32px;\n",
              "      padding: 0 0 0 0;\n",
              "      width: 32px;\n",
              "    }\n",
              "\n",
              "    .colab-df-convert:hover {\n",
              "      background-color: #E2EBFA;\n",
              "      box-shadow: 0px 1px 2px rgba(60, 64, 67, 0.3), 0px 1px 3px 1px rgba(60, 64, 67, 0.15);\n",
              "      fill: #174EA6;\n",
              "    }\n",
              "\n",
              "    [theme=dark] .colab-df-convert {\n",
              "      background-color: #3B4455;\n",
              "      fill: #D2E3FC;\n",
              "    }\n",
              "\n",
              "    [theme=dark] .colab-df-convert:hover {\n",
              "      background-color: #434B5C;\n",
              "      box-shadow: 0px 1px 3px 1px rgba(0, 0, 0, 0.15);\n",
              "      filter: drop-shadow(0px 1px 2px rgba(0, 0, 0, 0.3));\n",
              "      fill: #FFFFFF;\n",
              "    }\n",
              "  </style>\n",
              "\n",
              "      <script>\n",
              "        const buttonEl =\n",
              "          document.querySelector('#df-eda9e0c9-59e1-406c-929f-282817331f68 button.colab-df-convert');\n",
              "        buttonEl.style.display =\n",
              "          google.colab.kernel.accessAllowed ? 'block' : 'none';\n",
              "\n",
              "        async function convertToInteractive(key) {\n",
              "          const element = document.querySelector('#df-eda9e0c9-59e1-406c-929f-282817331f68');\n",
              "          const dataTable =\n",
              "            await google.colab.kernel.invokeFunction('convertToInteractive',\n",
              "                                                     [key], {});\n",
              "          if (!dataTable) return;\n",
              "\n",
              "          const docLinkHtml = 'Like what you see? Visit the ' +\n",
              "            '<a target=\"_blank\" href=https://colab.research.google.com/notebooks/data_table.ipynb>data table notebook</a>'\n",
              "            + ' to learn more about interactive tables.';\n",
              "          element.innerHTML = '';\n",
              "          dataTable['output_type'] = 'display_data';\n",
              "          await google.colab.output.renderOutput(dataTable, element);\n",
              "          const docLink = document.createElement('div');\n",
              "          docLink.innerHTML = docLinkHtml;\n",
              "          element.appendChild(docLink);\n",
              "        }\n",
              "      </script>\n",
              "    </div>\n",
              "  </div>\n",
              "  "
            ]
          },
          "metadata": {},
          "execution_count": 220
        }
      ]
    },
    {
      "cell_type": "code",
      "source": [],
      "metadata": {
        "id": "NoatDENqVblW"
      },
      "execution_count": null,
      "outputs": []
    }
  ]
}