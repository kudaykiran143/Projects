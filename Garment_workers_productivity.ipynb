{
  "nbformat": 4,
  "nbformat_minor": 0,
  "metadata": {
    "colab": {
      "provenance": [],
      "include_colab_link": true
    },
    "kernelspec": {
      "name": "python3",
      "display_name": "Python 3"
    },
    "language_info": {
      "name": "python"
    }
  },
  "cells": [
    {
      "cell_type": "markdown",
      "metadata": {
        "id": "view-in-github",
        "colab_type": "text"
      },
      "source": [
        "<a href=\"https://colab.research.google.com/github/kudaykiran143/Projects/blob/main/Garment_workers_productivity.ipynb\" target=\"_parent\"><img src=\"https://colab.research.google.com/assets/colab-badge.svg\" alt=\"Open In Colab\"/></a>"
      ]
    },
    {
      "cell_type": "markdown",
      "source": [
        "Project Presentation Link"
      ],
      "metadata": {
        "id": "kzXceIW8zF3m"
      }
    },
    {
      "cell_type": "markdown",
      "source": [
        "https://drive.google.com/file/d/1l2A37b6oToTmrLY0HsP2CtpecyTPJ6lQ/view?usp=sharing"
      ],
      "metadata": {
        "id": "_vko-CYVzOiY"
      }
    },
    {
      "cell_type": "markdown",
      "metadata": {
        "id": "XZYsLeP0hHPO"
      },
      "source": [
        "##IMPORTING LIBRARIES"
      ]
    },
    {
      "cell_type": "code",
      "execution_count": null,
      "metadata": {
        "id": "jOcZZwCqVVgj"
      },
      "outputs": [],
      "source": [
        "import numpy as np\n",
        "import pandas as pd\n",
        "import seaborn as sns\n",
        "import matplotlib.pyplot as plt\n",
        "%matplotlib inline\n",
        "from sklearn.linear_model import LinearRegression\n",
        "import warnings\n",
        "warnings.filterwarnings('ignore')\n",
        "import sklearn\n",
        "import sklearn.metrics as met"
      ]
    },
    {
      "cell_type": "markdown",
      "metadata": {
        "id": "abbNYqtBVfUg"
      },
      "source": [
        "#LOADING THE DATASET"
      ]
    },
    {
      "cell_type": "code",
      "execution_count": null,
      "metadata": {
        "colab": {
          "base_uri": "https://localhost:8080/",
          "height": 488
        },
        "id": "WAb6FJHAtcMR",
        "outputId": "41644d51-964c-46d1-9822-15d1b1fa41ed"
      },
      "outputs": [
        {
          "output_type": "execute_result",
          "data": {
            "text/plain": [
              "           date   quarter  department        day  team  targeted_productivity  \\\n",
              "0      1/1/2015  Quarter1      sweing   Thursday     8                   0.80   \n",
              "1      1/1/2015  Quarter1  finishing    Thursday     1                   0.75   \n",
              "2      1/1/2015  Quarter1      sweing   Thursday    11                   0.80   \n",
              "3      1/1/2015  Quarter1      sweing   Thursday    12                   0.80   \n",
              "4      1/1/2015  Quarter1      sweing   Thursday     6                   0.80   \n",
              "...         ...       ...         ...        ...   ...                    ...   \n",
              "1192  3/11/2015  Quarter2   finishing  Wednesday    10                   0.75   \n",
              "1193  3/11/2015  Quarter2   finishing  Wednesday     8                   0.70   \n",
              "1194  3/11/2015  Quarter2   finishing  Wednesday     7                   0.65   \n",
              "1195  3/11/2015  Quarter2   finishing  Wednesday     9                   0.75   \n",
              "1196  3/11/2015  Quarter2   finishing  Wednesday     6                   0.70   \n",
              "\n",
              "        smv     wip  over_time  incentive  idle_time  idle_men  \\\n",
              "0     26.16  1108.0       7080         98        0.0         0   \n",
              "1      3.94     NaN        960          0        0.0         0   \n",
              "2     11.41   968.0       3660         50        0.0         0   \n",
              "3     11.41   968.0       3660         50        0.0         0   \n",
              "4     25.90  1170.0       1920         50        0.0         0   \n",
              "...     ...     ...        ...        ...        ...       ...   \n",
              "1192   2.90     NaN        960          0        0.0         0   \n",
              "1193   3.90     NaN        960          0        0.0         0   \n",
              "1194   3.90     NaN        960          0        0.0         0   \n",
              "1195   2.90     NaN       1800          0        0.0         0   \n",
              "1196   2.90     NaN        720          0        0.0         0   \n",
              "\n",
              "      no_of_style_change  no_of_workers  actual_productivity  \n",
              "0                      0           59.0             0.940725  \n",
              "1                      0            8.0             0.886500  \n",
              "2                      0           30.5             0.800570  \n",
              "3                      0           30.5             0.800570  \n",
              "4                      0           56.0             0.800382  \n",
              "...                  ...            ...                  ...  \n",
              "1192                   0            8.0             0.628333  \n",
              "1193                   0            8.0             0.625625  \n",
              "1194                   0            8.0             0.625625  \n",
              "1195                   0           15.0             0.505889  \n",
              "1196                   0            6.0             0.394722  \n",
              "\n",
              "[1197 rows x 15 columns]"
            ],
            "text/html": [
              "\n",
              "  <div id=\"df-3f416c49-1fcc-4635-8a0e-141d47a73eed\">\n",
              "    <div class=\"colab-df-container\">\n",
              "      <div>\n",
              "<style scoped>\n",
              "    .dataframe tbody tr th:only-of-type {\n",
              "        vertical-align: middle;\n",
              "    }\n",
              "\n",
              "    .dataframe tbody tr th {\n",
              "        vertical-align: top;\n",
              "    }\n",
              "\n",
              "    .dataframe thead th {\n",
              "        text-align: right;\n",
              "    }\n",
              "</style>\n",
              "<table border=\"1\" class=\"dataframe\">\n",
              "  <thead>\n",
              "    <tr style=\"text-align: right;\">\n",
              "      <th></th>\n",
              "      <th>date</th>\n",
              "      <th>quarter</th>\n",
              "      <th>department</th>\n",
              "      <th>day</th>\n",
              "      <th>team</th>\n",
              "      <th>targeted_productivity</th>\n",
              "      <th>smv</th>\n",
              "      <th>wip</th>\n",
              "      <th>over_time</th>\n",
              "      <th>incentive</th>\n",
              "      <th>idle_time</th>\n",
              "      <th>idle_men</th>\n",
              "      <th>no_of_style_change</th>\n",
              "      <th>no_of_workers</th>\n",
              "      <th>actual_productivity</th>\n",
              "    </tr>\n",
              "  </thead>\n",
              "  <tbody>\n",
              "    <tr>\n",
              "      <th>0</th>\n",
              "      <td>1/1/2015</td>\n",
              "      <td>Quarter1</td>\n",
              "      <td>sweing</td>\n",
              "      <td>Thursday</td>\n",
              "      <td>8</td>\n",
              "      <td>0.80</td>\n",
              "      <td>26.16</td>\n",
              "      <td>1108.0</td>\n",
              "      <td>7080</td>\n",
              "      <td>98</td>\n",
              "      <td>0.0</td>\n",
              "      <td>0</td>\n",
              "      <td>0</td>\n",
              "      <td>59.0</td>\n",
              "      <td>0.940725</td>\n",
              "    </tr>\n",
              "    <tr>\n",
              "      <th>1</th>\n",
              "      <td>1/1/2015</td>\n",
              "      <td>Quarter1</td>\n",
              "      <td>finishing</td>\n",
              "      <td>Thursday</td>\n",
              "      <td>1</td>\n",
              "      <td>0.75</td>\n",
              "      <td>3.94</td>\n",
              "      <td>NaN</td>\n",
              "      <td>960</td>\n",
              "      <td>0</td>\n",
              "      <td>0.0</td>\n",
              "      <td>0</td>\n",
              "      <td>0</td>\n",
              "      <td>8.0</td>\n",
              "      <td>0.886500</td>\n",
              "    </tr>\n",
              "    <tr>\n",
              "      <th>2</th>\n",
              "      <td>1/1/2015</td>\n",
              "      <td>Quarter1</td>\n",
              "      <td>sweing</td>\n",
              "      <td>Thursday</td>\n",
              "      <td>11</td>\n",
              "      <td>0.80</td>\n",
              "      <td>11.41</td>\n",
              "      <td>968.0</td>\n",
              "      <td>3660</td>\n",
              "      <td>50</td>\n",
              "      <td>0.0</td>\n",
              "      <td>0</td>\n",
              "      <td>0</td>\n",
              "      <td>30.5</td>\n",
              "      <td>0.800570</td>\n",
              "    </tr>\n",
              "    <tr>\n",
              "      <th>3</th>\n",
              "      <td>1/1/2015</td>\n",
              "      <td>Quarter1</td>\n",
              "      <td>sweing</td>\n",
              "      <td>Thursday</td>\n",
              "      <td>12</td>\n",
              "      <td>0.80</td>\n",
              "      <td>11.41</td>\n",
              "      <td>968.0</td>\n",
              "      <td>3660</td>\n",
              "      <td>50</td>\n",
              "      <td>0.0</td>\n",
              "      <td>0</td>\n",
              "      <td>0</td>\n",
              "      <td>30.5</td>\n",
              "      <td>0.800570</td>\n",
              "    </tr>\n",
              "    <tr>\n",
              "      <th>4</th>\n",
              "      <td>1/1/2015</td>\n",
              "      <td>Quarter1</td>\n",
              "      <td>sweing</td>\n",
              "      <td>Thursday</td>\n",
              "      <td>6</td>\n",
              "      <td>0.80</td>\n",
              "      <td>25.90</td>\n",
              "      <td>1170.0</td>\n",
              "      <td>1920</td>\n",
              "      <td>50</td>\n",
              "      <td>0.0</td>\n",
              "      <td>0</td>\n",
              "      <td>0</td>\n",
              "      <td>56.0</td>\n",
              "      <td>0.800382</td>\n",
              "    </tr>\n",
              "    <tr>\n",
              "      <th>...</th>\n",
              "      <td>...</td>\n",
              "      <td>...</td>\n",
              "      <td>...</td>\n",
              "      <td>...</td>\n",
              "      <td>...</td>\n",
              "      <td>...</td>\n",
              "      <td>...</td>\n",
              "      <td>...</td>\n",
              "      <td>...</td>\n",
              "      <td>...</td>\n",
              "      <td>...</td>\n",
              "      <td>...</td>\n",
              "      <td>...</td>\n",
              "      <td>...</td>\n",
              "      <td>...</td>\n",
              "    </tr>\n",
              "    <tr>\n",
              "      <th>1192</th>\n",
              "      <td>3/11/2015</td>\n",
              "      <td>Quarter2</td>\n",
              "      <td>finishing</td>\n",
              "      <td>Wednesday</td>\n",
              "      <td>10</td>\n",
              "      <td>0.75</td>\n",
              "      <td>2.90</td>\n",
              "      <td>NaN</td>\n",
              "      <td>960</td>\n",
              "      <td>0</td>\n",
              "      <td>0.0</td>\n",
              "      <td>0</td>\n",
              "      <td>0</td>\n",
              "      <td>8.0</td>\n",
              "      <td>0.628333</td>\n",
              "    </tr>\n",
              "    <tr>\n",
              "      <th>1193</th>\n",
              "      <td>3/11/2015</td>\n",
              "      <td>Quarter2</td>\n",
              "      <td>finishing</td>\n",
              "      <td>Wednesday</td>\n",
              "      <td>8</td>\n",
              "      <td>0.70</td>\n",
              "      <td>3.90</td>\n",
              "      <td>NaN</td>\n",
              "      <td>960</td>\n",
              "      <td>0</td>\n",
              "      <td>0.0</td>\n",
              "      <td>0</td>\n",
              "      <td>0</td>\n",
              "      <td>8.0</td>\n",
              "      <td>0.625625</td>\n",
              "    </tr>\n",
              "    <tr>\n",
              "      <th>1194</th>\n",
              "      <td>3/11/2015</td>\n",
              "      <td>Quarter2</td>\n",
              "      <td>finishing</td>\n",
              "      <td>Wednesday</td>\n",
              "      <td>7</td>\n",
              "      <td>0.65</td>\n",
              "      <td>3.90</td>\n",
              "      <td>NaN</td>\n",
              "      <td>960</td>\n",
              "      <td>0</td>\n",
              "      <td>0.0</td>\n",
              "      <td>0</td>\n",
              "      <td>0</td>\n",
              "      <td>8.0</td>\n",
              "      <td>0.625625</td>\n",
              "    </tr>\n",
              "    <tr>\n",
              "      <th>1195</th>\n",
              "      <td>3/11/2015</td>\n",
              "      <td>Quarter2</td>\n",
              "      <td>finishing</td>\n",
              "      <td>Wednesday</td>\n",
              "      <td>9</td>\n",
              "      <td>0.75</td>\n",
              "      <td>2.90</td>\n",
              "      <td>NaN</td>\n",
              "      <td>1800</td>\n",
              "      <td>0</td>\n",
              "      <td>0.0</td>\n",
              "      <td>0</td>\n",
              "      <td>0</td>\n",
              "      <td>15.0</td>\n",
              "      <td>0.505889</td>\n",
              "    </tr>\n",
              "    <tr>\n",
              "      <th>1196</th>\n",
              "      <td>3/11/2015</td>\n",
              "      <td>Quarter2</td>\n",
              "      <td>finishing</td>\n",
              "      <td>Wednesday</td>\n",
              "      <td>6</td>\n",
              "      <td>0.70</td>\n",
              "      <td>2.90</td>\n",
              "      <td>NaN</td>\n",
              "      <td>720</td>\n",
              "      <td>0</td>\n",
              "      <td>0.0</td>\n",
              "      <td>0</td>\n",
              "      <td>0</td>\n",
              "      <td>6.0</td>\n",
              "      <td>0.394722</td>\n",
              "    </tr>\n",
              "  </tbody>\n",
              "</table>\n",
              "<p>1197 rows × 15 columns</p>\n",
              "</div>\n",
              "      <button class=\"colab-df-convert\" onclick=\"convertToInteractive('df-3f416c49-1fcc-4635-8a0e-141d47a73eed')\"\n",
              "              title=\"Convert this dataframe to an interactive table.\"\n",
              "              style=\"display:none;\">\n",
              "        \n",
              "  <svg xmlns=\"http://www.w3.org/2000/svg\" height=\"24px\"viewBox=\"0 0 24 24\"\n",
              "       width=\"24px\">\n",
              "    <path d=\"M0 0h24v24H0V0z\" fill=\"none\"/>\n",
              "    <path d=\"M18.56 5.44l.94 2.06.94-2.06 2.06-.94-2.06-.94-.94-2.06-.94 2.06-2.06.94zm-11 1L8.5 8.5l.94-2.06 2.06-.94-2.06-.94L8.5 2.5l-.94 2.06-2.06.94zm10 10l.94 2.06.94-2.06 2.06-.94-2.06-.94-.94-2.06-.94 2.06-2.06.94z\"/><path d=\"M17.41 7.96l-1.37-1.37c-.4-.4-.92-.59-1.43-.59-.52 0-1.04.2-1.43.59L10.3 9.45l-7.72 7.72c-.78.78-.78 2.05 0 2.83L4 21.41c.39.39.9.59 1.41.59.51 0 1.02-.2 1.41-.59l7.78-7.78 2.81-2.81c.8-.78.8-2.07 0-2.86zM5.41 20L4 18.59l7.72-7.72 1.47 1.35L5.41 20z\"/>\n",
              "  </svg>\n",
              "      </button>\n",
              "      \n",
              "  <style>\n",
              "    .colab-df-container {\n",
              "      display:flex;\n",
              "      flex-wrap:wrap;\n",
              "      gap: 12px;\n",
              "    }\n",
              "\n",
              "    .colab-df-convert {\n",
              "      background-color: #E8F0FE;\n",
              "      border: none;\n",
              "      border-radius: 50%;\n",
              "      cursor: pointer;\n",
              "      display: none;\n",
              "      fill: #1967D2;\n",
              "      height: 32px;\n",
              "      padding: 0 0 0 0;\n",
              "      width: 32px;\n",
              "    }\n",
              "\n",
              "    .colab-df-convert:hover {\n",
              "      background-color: #E2EBFA;\n",
              "      box-shadow: 0px 1px 2px rgba(60, 64, 67, 0.3), 0px 1px 3px 1px rgba(60, 64, 67, 0.15);\n",
              "      fill: #174EA6;\n",
              "    }\n",
              "\n",
              "    [theme=dark] .colab-df-convert {\n",
              "      background-color: #3B4455;\n",
              "      fill: #D2E3FC;\n",
              "    }\n",
              "\n",
              "    [theme=dark] .colab-df-convert:hover {\n",
              "      background-color: #434B5C;\n",
              "      box-shadow: 0px 1px 3px 1px rgba(0, 0, 0, 0.15);\n",
              "      filter: drop-shadow(0px 1px 2px rgba(0, 0, 0, 0.3));\n",
              "      fill: #FFFFFF;\n",
              "    }\n",
              "  </style>\n",
              "\n",
              "      <script>\n",
              "        const buttonEl =\n",
              "          document.querySelector('#df-3f416c49-1fcc-4635-8a0e-141d47a73eed button.colab-df-convert');\n",
              "        buttonEl.style.display =\n",
              "          google.colab.kernel.accessAllowed ? 'block' : 'none';\n",
              "\n",
              "        async function convertToInteractive(key) {\n",
              "          const element = document.querySelector('#df-3f416c49-1fcc-4635-8a0e-141d47a73eed');\n",
              "          const dataTable =\n",
              "            await google.colab.kernel.invokeFunction('convertToInteractive',\n",
              "                                                     [key], {});\n",
              "          if (!dataTable) return;\n",
              "\n",
              "          const docLinkHtml = 'Like what you see? Visit the ' +\n",
              "            '<a target=\"_blank\" href=https://colab.research.google.com/notebooks/data_table.ipynb>data table notebook</a>'\n",
              "            + ' to learn more about interactive tables.';\n",
              "          element.innerHTML = '';\n",
              "          dataTable['output_type'] = 'display_data';\n",
              "          await google.colab.output.renderOutput(dataTable, element);\n",
              "          const docLink = document.createElement('div');\n",
              "          docLink.innerHTML = docLinkHtml;\n",
              "          element.appendChild(docLink);\n",
              "        }\n",
              "      </script>\n",
              "    </div>\n",
              "  </div>\n",
              "  "
            ]
          },
          "metadata": {},
          "execution_count": 2
        }
      ],
      "source": [
        "data=pd.read_csv(\"garments_worker_productivity.csv\")\n",
        "data"
      ]
    },
    {
      "cell_type": "code",
      "execution_count": null,
      "metadata": {
        "colab": {
          "base_uri": "https://localhost:8080/",
          "height": 270
        },
        "id": "B5UGGYOWtkR3",
        "outputId": "c37717b7-bba9-47c7-a418-bbe7e4f569da"
      },
      "outputs": [
        {
          "output_type": "execute_result",
          "data": {
            "text/plain": [
              "       date   quarter  department       day  team  targeted_productivity  \\\n",
              "0  1/1/2015  Quarter1      sweing  Thursday     8                   0.80   \n",
              "1  1/1/2015  Quarter1  finishing   Thursday     1                   0.75   \n",
              "2  1/1/2015  Quarter1      sweing  Thursday    11                   0.80   \n",
              "3  1/1/2015  Quarter1      sweing  Thursday    12                   0.80   \n",
              "4  1/1/2015  Quarter1      sweing  Thursday     6                   0.80   \n",
              "\n",
              "     smv     wip  over_time  incentive  idle_time  idle_men  \\\n",
              "0  26.16  1108.0       7080         98        0.0         0   \n",
              "1   3.94     NaN        960          0        0.0         0   \n",
              "2  11.41   968.0       3660         50        0.0         0   \n",
              "3  11.41   968.0       3660         50        0.0         0   \n",
              "4  25.90  1170.0       1920         50        0.0         0   \n",
              "\n",
              "   no_of_style_change  no_of_workers  actual_productivity  \n",
              "0                   0           59.0             0.940725  \n",
              "1                   0            8.0             0.886500  \n",
              "2                   0           30.5             0.800570  \n",
              "3                   0           30.5             0.800570  \n",
              "4                   0           56.0             0.800382  "
            ],
            "text/html": [
              "\n",
              "  <div id=\"df-cd4cfc43-8c70-4174-939a-4532e84ab72a\">\n",
              "    <div class=\"colab-df-container\">\n",
              "      <div>\n",
              "<style scoped>\n",
              "    .dataframe tbody tr th:only-of-type {\n",
              "        vertical-align: middle;\n",
              "    }\n",
              "\n",
              "    .dataframe tbody tr th {\n",
              "        vertical-align: top;\n",
              "    }\n",
              "\n",
              "    .dataframe thead th {\n",
              "        text-align: right;\n",
              "    }\n",
              "</style>\n",
              "<table border=\"1\" class=\"dataframe\">\n",
              "  <thead>\n",
              "    <tr style=\"text-align: right;\">\n",
              "      <th></th>\n",
              "      <th>date</th>\n",
              "      <th>quarter</th>\n",
              "      <th>department</th>\n",
              "      <th>day</th>\n",
              "      <th>team</th>\n",
              "      <th>targeted_productivity</th>\n",
              "      <th>smv</th>\n",
              "      <th>wip</th>\n",
              "      <th>over_time</th>\n",
              "      <th>incentive</th>\n",
              "      <th>idle_time</th>\n",
              "      <th>idle_men</th>\n",
              "      <th>no_of_style_change</th>\n",
              "      <th>no_of_workers</th>\n",
              "      <th>actual_productivity</th>\n",
              "    </tr>\n",
              "  </thead>\n",
              "  <tbody>\n",
              "    <tr>\n",
              "      <th>0</th>\n",
              "      <td>1/1/2015</td>\n",
              "      <td>Quarter1</td>\n",
              "      <td>sweing</td>\n",
              "      <td>Thursday</td>\n",
              "      <td>8</td>\n",
              "      <td>0.80</td>\n",
              "      <td>26.16</td>\n",
              "      <td>1108.0</td>\n",
              "      <td>7080</td>\n",
              "      <td>98</td>\n",
              "      <td>0.0</td>\n",
              "      <td>0</td>\n",
              "      <td>0</td>\n",
              "      <td>59.0</td>\n",
              "      <td>0.940725</td>\n",
              "    </tr>\n",
              "    <tr>\n",
              "      <th>1</th>\n",
              "      <td>1/1/2015</td>\n",
              "      <td>Quarter1</td>\n",
              "      <td>finishing</td>\n",
              "      <td>Thursday</td>\n",
              "      <td>1</td>\n",
              "      <td>0.75</td>\n",
              "      <td>3.94</td>\n",
              "      <td>NaN</td>\n",
              "      <td>960</td>\n",
              "      <td>0</td>\n",
              "      <td>0.0</td>\n",
              "      <td>0</td>\n",
              "      <td>0</td>\n",
              "      <td>8.0</td>\n",
              "      <td>0.886500</td>\n",
              "    </tr>\n",
              "    <tr>\n",
              "      <th>2</th>\n",
              "      <td>1/1/2015</td>\n",
              "      <td>Quarter1</td>\n",
              "      <td>sweing</td>\n",
              "      <td>Thursday</td>\n",
              "      <td>11</td>\n",
              "      <td>0.80</td>\n",
              "      <td>11.41</td>\n",
              "      <td>968.0</td>\n",
              "      <td>3660</td>\n",
              "      <td>50</td>\n",
              "      <td>0.0</td>\n",
              "      <td>0</td>\n",
              "      <td>0</td>\n",
              "      <td>30.5</td>\n",
              "      <td>0.800570</td>\n",
              "    </tr>\n",
              "    <tr>\n",
              "      <th>3</th>\n",
              "      <td>1/1/2015</td>\n",
              "      <td>Quarter1</td>\n",
              "      <td>sweing</td>\n",
              "      <td>Thursday</td>\n",
              "      <td>12</td>\n",
              "      <td>0.80</td>\n",
              "      <td>11.41</td>\n",
              "      <td>968.0</td>\n",
              "      <td>3660</td>\n",
              "      <td>50</td>\n",
              "      <td>0.0</td>\n",
              "      <td>0</td>\n",
              "      <td>0</td>\n",
              "      <td>30.5</td>\n",
              "      <td>0.800570</td>\n",
              "    </tr>\n",
              "    <tr>\n",
              "      <th>4</th>\n",
              "      <td>1/1/2015</td>\n",
              "      <td>Quarter1</td>\n",
              "      <td>sweing</td>\n",
              "      <td>Thursday</td>\n",
              "      <td>6</td>\n",
              "      <td>0.80</td>\n",
              "      <td>25.90</td>\n",
              "      <td>1170.0</td>\n",
              "      <td>1920</td>\n",
              "      <td>50</td>\n",
              "      <td>0.0</td>\n",
              "      <td>0</td>\n",
              "      <td>0</td>\n",
              "      <td>56.0</td>\n",
              "      <td>0.800382</td>\n",
              "    </tr>\n",
              "  </tbody>\n",
              "</table>\n",
              "</div>\n",
              "      <button class=\"colab-df-convert\" onclick=\"convertToInteractive('df-cd4cfc43-8c70-4174-939a-4532e84ab72a')\"\n",
              "              title=\"Convert this dataframe to an interactive table.\"\n",
              "              style=\"display:none;\">\n",
              "        \n",
              "  <svg xmlns=\"http://www.w3.org/2000/svg\" height=\"24px\"viewBox=\"0 0 24 24\"\n",
              "       width=\"24px\">\n",
              "    <path d=\"M0 0h24v24H0V0z\" fill=\"none\"/>\n",
              "    <path d=\"M18.56 5.44l.94 2.06.94-2.06 2.06-.94-2.06-.94-.94-2.06-.94 2.06-2.06.94zm-11 1L8.5 8.5l.94-2.06 2.06-.94-2.06-.94L8.5 2.5l-.94 2.06-2.06.94zm10 10l.94 2.06.94-2.06 2.06-.94-2.06-.94-.94-2.06-.94 2.06-2.06.94z\"/><path d=\"M17.41 7.96l-1.37-1.37c-.4-.4-.92-.59-1.43-.59-.52 0-1.04.2-1.43.59L10.3 9.45l-7.72 7.72c-.78.78-.78 2.05 0 2.83L4 21.41c.39.39.9.59 1.41.59.51 0 1.02-.2 1.41-.59l7.78-7.78 2.81-2.81c.8-.78.8-2.07 0-2.86zM5.41 20L4 18.59l7.72-7.72 1.47 1.35L5.41 20z\"/>\n",
              "  </svg>\n",
              "      </button>\n",
              "      \n",
              "  <style>\n",
              "    .colab-df-container {\n",
              "      display:flex;\n",
              "      flex-wrap:wrap;\n",
              "      gap: 12px;\n",
              "    }\n",
              "\n",
              "    .colab-df-convert {\n",
              "      background-color: #E8F0FE;\n",
              "      border: none;\n",
              "      border-radius: 50%;\n",
              "      cursor: pointer;\n",
              "      display: none;\n",
              "      fill: #1967D2;\n",
              "      height: 32px;\n",
              "      padding: 0 0 0 0;\n",
              "      width: 32px;\n",
              "    }\n",
              "\n",
              "    .colab-df-convert:hover {\n",
              "      background-color: #E2EBFA;\n",
              "      box-shadow: 0px 1px 2px rgba(60, 64, 67, 0.3), 0px 1px 3px 1px rgba(60, 64, 67, 0.15);\n",
              "      fill: #174EA6;\n",
              "    }\n",
              "\n",
              "    [theme=dark] .colab-df-convert {\n",
              "      background-color: #3B4455;\n",
              "      fill: #D2E3FC;\n",
              "    }\n",
              "\n",
              "    [theme=dark] .colab-df-convert:hover {\n",
              "      background-color: #434B5C;\n",
              "      box-shadow: 0px 1px 3px 1px rgba(0, 0, 0, 0.15);\n",
              "      filter: drop-shadow(0px 1px 2px rgba(0, 0, 0, 0.3));\n",
              "      fill: #FFFFFF;\n",
              "    }\n",
              "  </style>\n",
              "\n",
              "      <script>\n",
              "        const buttonEl =\n",
              "          document.querySelector('#df-cd4cfc43-8c70-4174-939a-4532e84ab72a button.colab-df-convert');\n",
              "        buttonEl.style.display =\n",
              "          google.colab.kernel.accessAllowed ? 'block' : 'none';\n",
              "\n",
              "        async function convertToInteractive(key) {\n",
              "          const element = document.querySelector('#df-cd4cfc43-8c70-4174-939a-4532e84ab72a');\n",
              "          const dataTable =\n",
              "            await google.colab.kernel.invokeFunction('convertToInteractive',\n",
              "                                                     [key], {});\n",
              "          if (!dataTable) return;\n",
              "\n",
              "          const docLinkHtml = 'Like what you see? Visit the ' +\n",
              "            '<a target=\"_blank\" href=https://colab.research.google.com/notebooks/data_table.ipynb>data table notebook</a>'\n",
              "            + ' to learn more about interactive tables.';\n",
              "          element.innerHTML = '';\n",
              "          dataTable['output_type'] = 'display_data';\n",
              "          await google.colab.output.renderOutput(dataTable, element);\n",
              "          const docLink = document.createElement('div');\n",
              "          docLink.innerHTML = docLinkHtml;\n",
              "          element.appendChild(docLink);\n",
              "        }\n",
              "      </script>\n",
              "    </div>\n",
              "  </div>\n",
              "  "
            ]
          },
          "metadata": {},
          "execution_count": 3
        }
      ],
      "source": [
        "data.head()"
      ]
    },
    {
      "cell_type": "code",
      "execution_count": null,
      "metadata": {
        "colab": {
          "base_uri": "https://localhost:8080/"
        },
        "id": "f4Hz1CaJk5oH",
        "outputId": "82c15855-7f5c-4945-db58-79f708cd77d7"
      },
      "outputs": [
        {
          "output_type": "stream",
          "name": "stdout",
          "text": [
            "<class 'pandas.core.frame.DataFrame'>\n",
            "RangeIndex: 1197 entries, 0 to 1196\n",
            "Data columns (total 15 columns):\n",
            " #   Column                 Non-Null Count  Dtype  \n",
            "---  ------                 --------------  -----  \n",
            " 0   date                   1197 non-null   object \n",
            " 1   quarter                1197 non-null   object \n",
            " 2   department             1197 non-null   object \n",
            " 3   day                    1197 non-null   object \n",
            " 4   team                   1197 non-null   int64  \n",
            " 5   targeted_productivity  1197 non-null   float64\n",
            " 6   smv                    1197 non-null   float64\n",
            " 7   wip                    691 non-null    float64\n",
            " 8   over_time              1197 non-null   int64  \n",
            " 9   incentive              1197 non-null   int64  \n",
            " 10  idle_time              1197 non-null   float64\n",
            " 11  idle_men               1197 non-null   int64  \n",
            " 12  no_of_style_change     1197 non-null   int64  \n",
            " 13  no_of_workers          1197 non-null   float64\n",
            " 14  actual_productivity    1197 non-null   float64\n",
            "dtypes: float64(6), int64(5), object(4)\n",
            "memory usage: 140.4+ KB\n"
          ]
        }
      ],
      "source": [
        "data.info()"
      ]
    },
    {
      "cell_type": "code",
      "execution_count": null,
      "metadata": {
        "colab": {
          "base_uri": "https://localhost:8080/"
        },
        "id": "FZj7qN4ntnQz",
        "outputId": "83be2123-d29e-41b2-c6d7-3baa4ead9b3c"
      },
      "outputs": [
        {
          "output_type": "execute_result",
          "data": {
            "text/plain": [
              "date                       0\n",
              "quarter                    0\n",
              "department                 0\n",
              "day                        0\n",
              "team                       0\n",
              "targeted_productivity      0\n",
              "smv                        0\n",
              "wip                      506\n",
              "over_time                  0\n",
              "incentive                  0\n",
              "idle_time                  0\n",
              "idle_men                   0\n",
              "no_of_style_change         0\n",
              "no_of_workers              0\n",
              "actual_productivity        0\n",
              "dtype: int64"
            ]
          },
          "metadata": {},
          "execution_count": 5
        }
      ],
      "source": [
        "data.isna().sum()"
      ]
    },
    {
      "cell_type": "code",
      "execution_count": null,
      "metadata": {
        "id": "_Kh6uhx-CmxV"
      },
      "outputs": [],
      "source": [
        "cat_var = [\"quarter\",\"department\",\"day\",\"date\",\"team\"]\n",
        "con_var = [\"targeted_productivity\",\"smv\",\"wip\",\"idle_time\",\"no_of_workers\",\"actual_productivity\",\"over_time\",\"incentive\",\"idle_men\",\"no_of_style_change\"]"
      ]
    },
    {
      "cell_type": "code",
      "execution_count": null,
      "metadata": {
        "colab": {
          "base_uri": "https://localhost:8080/",
          "height": 300
        },
        "id": "UhB9sp7gDVci",
        "outputId": "16927b33-32db-4ab5-f4e1-0d4677c05cf9"
      },
      "outputs": [
        {
          "output_type": "execute_result",
          "data": {
            "text/plain": [
              "              team\n",
              "count  1197.000000\n",
              "mean      6.426901\n",
              "std       3.463963\n",
              "min       1.000000\n",
              "25%       3.000000\n",
              "50%       6.000000\n",
              "75%       9.000000\n",
              "max      12.000000"
            ],
            "text/html": [
              "\n",
              "  <div id=\"df-fa1f6e2f-936e-400c-896b-11a91554c5be\">\n",
              "    <div class=\"colab-df-container\">\n",
              "      <div>\n",
              "<style scoped>\n",
              "    .dataframe tbody tr th:only-of-type {\n",
              "        vertical-align: middle;\n",
              "    }\n",
              "\n",
              "    .dataframe tbody tr th {\n",
              "        vertical-align: top;\n",
              "    }\n",
              "\n",
              "    .dataframe thead th {\n",
              "        text-align: right;\n",
              "    }\n",
              "</style>\n",
              "<table border=\"1\" class=\"dataframe\">\n",
              "  <thead>\n",
              "    <tr style=\"text-align: right;\">\n",
              "      <th></th>\n",
              "      <th>team</th>\n",
              "    </tr>\n",
              "  </thead>\n",
              "  <tbody>\n",
              "    <tr>\n",
              "      <th>count</th>\n",
              "      <td>1197.000000</td>\n",
              "    </tr>\n",
              "    <tr>\n",
              "      <th>mean</th>\n",
              "      <td>6.426901</td>\n",
              "    </tr>\n",
              "    <tr>\n",
              "      <th>std</th>\n",
              "      <td>3.463963</td>\n",
              "    </tr>\n",
              "    <tr>\n",
              "      <th>min</th>\n",
              "      <td>1.000000</td>\n",
              "    </tr>\n",
              "    <tr>\n",
              "      <th>25%</th>\n",
              "      <td>3.000000</td>\n",
              "    </tr>\n",
              "    <tr>\n",
              "      <th>50%</th>\n",
              "      <td>6.000000</td>\n",
              "    </tr>\n",
              "    <tr>\n",
              "      <th>75%</th>\n",
              "      <td>9.000000</td>\n",
              "    </tr>\n",
              "    <tr>\n",
              "      <th>max</th>\n",
              "      <td>12.000000</td>\n",
              "    </tr>\n",
              "  </tbody>\n",
              "</table>\n",
              "</div>\n",
              "      <button class=\"colab-df-convert\" onclick=\"convertToInteractive('df-fa1f6e2f-936e-400c-896b-11a91554c5be')\"\n",
              "              title=\"Convert this dataframe to an interactive table.\"\n",
              "              style=\"display:none;\">\n",
              "        \n",
              "  <svg xmlns=\"http://www.w3.org/2000/svg\" height=\"24px\"viewBox=\"0 0 24 24\"\n",
              "       width=\"24px\">\n",
              "    <path d=\"M0 0h24v24H0V0z\" fill=\"none\"/>\n",
              "    <path d=\"M18.56 5.44l.94 2.06.94-2.06 2.06-.94-2.06-.94-.94-2.06-.94 2.06-2.06.94zm-11 1L8.5 8.5l.94-2.06 2.06-.94-2.06-.94L8.5 2.5l-.94 2.06-2.06.94zm10 10l.94 2.06.94-2.06 2.06-.94-2.06-.94-.94-2.06-.94 2.06-2.06.94z\"/><path d=\"M17.41 7.96l-1.37-1.37c-.4-.4-.92-.59-1.43-.59-.52 0-1.04.2-1.43.59L10.3 9.45l-7.72 7.72c-.78.78-.78 2.05 0 2.83L4 21.41c.39.39.9.59 1.41.59.51 0 1.02-.2 1.41-.59l7.78-7.78 2.81-2.81c.8-.78.8-2.07 0-2.86zM5.41 20L4 18.59l7.72-7.72 1.47 1.35L5.41 20z\"/>\n",
              "  </svg>\n",
              "      </button>\n",
              "      \n",
              "  <style>\n",
              "    .colab-df-container {\n",
              "      display:flex;\n",
              "      flex-wrap:wrap;\n",
              "      gap: 12px;\n",
              "    }\n",
              "\n",
              "    .colab-df-convert {\n",
              "      background-color: #E8F0FE;\n",
              "      border: none;\n",
              "      border-radius: 50%;\n",
              "      cursor: pointer;\n",
              "      display: none;\n",
              "      fill: #1967D2;\n",
              "      height: 32px;\n",
              "      padding: 0 0 0 0;\n",
              "      width: 32px;\n",
              "    }\n",
              "\n",
              "    .colab-df-convert:hover {\n",
              "      background-color: #E2EBFA;\n",
              "      box-shadow: 0px 1px 2px rgba(60, 64, 67, 0.3), 0px 1px 3px 1px rgba(60, 64, 67, 0.15);\n",
              "      fill: #174EA6;\n",
              "    }\n",
              "\n",
              "    [theme=dark] .colab-df-convert {\n",
              "      background-color: #3B4455;\n",
              "      fill: #D2E3FC;\n",
              "    }\n",
              "\n",
              "    [theme=dark] .colab-df-convert:hover {\n",
              "      background-color: #434B5C;\n",
              "      box-shadow: 0px 1px 3px 1px rgba(0, 0, 0, 0.15);\n",
              "      filter: drop-shadow(0px 1px 2px rgba(0, 0, 0, 0.3));\n",
              "      fill: #FFFFFF;\n",
              "    }\n",
              "  </style>\n",
              "\n",
              "      <script>\n",
              "        const buttonEl =\n",
              "          document.querySelector('#df-fa1f6e2f-936e-400c-896b-11a91554c5be button.colab-df-convert');\n",
              "        buttonEl.style.display =\n",
              "          google.colab.kernel.accessAllowed ? 'block' : 'none';\n",
              "\n",
              "        async function convertToInteractive(key) {\n",
              "          const element = document.querySelector('#df-fa1f6e2f-936e-400c-896b-11a91554c5be');\n",
              "          const dataTable =\n",
              "            await google.colab.kernel.invokeFunction('convertToInteractive',\n",
              "                                                     [key], {});\n",
              "          if (!dataTable) return;\n",
              "\n",
              "          const docLinkHtml = 'Like what you see? Visit the ' +\n",
              "            '<a target=\"_blank\" href=https://colab.research.google.com/notebooks/data_table.ipynb>data table notebook</a>'\n",
              "            + ' to learn more about interactive tables.';\n",
              "          element.innerHTML = '';\n",
              "          dataTable['output_type'] = 'display_data';\n",
              "          await google.colab.output.renderOutput(dataTable, element);\n",
              "          const docLink = document.createElement('div');\n",
              "          docLink.innerHTML = docLinkHtml;\n",
              "          element.appendChild(docLink);\n",
              "        }\n",
              "      </script>\n",
              "    </div>\n",
              "  </div>\n",
              "  "
            ]
          },
          "metadata": {},
          "execution_count": 7
        }
      ],
      "source": [
        "data[cat_var].describe()"
      ]
    },
    {
      "cell_type": "code",
      "execution_count": null,
      "metadata": {
        "colab": {
          "base_uri": "https://localhost:8080/",
          "height": 344
        },
        "id": "ydQ7pg9MTO3G",
        "outputId": "55eb39ec-4384-4363-c599-a4e70e8de0f6"
      },
      "outputs": [
        {
          "output_type": "execute_result",
          "data": {
            "text/plain": [
              "       targeted_productivity          smv           wip    idle_time  \\\n",
              "count            1197.000000  1197.000000    691.000000  1197.000000   \n",
              "mean                0.729632    15.062172   1190.465991     0.730159   \n",
              "std                 0.097891    10.943219   1837.455001    12.709757   \n",
              "min                 0.070000     2.900000      7.000000     0.000000   \n",
              "25%                 0.700000     3.940000    774.500000     0.000000   \n",
              "50%                 0.750000    15.260000   1039.000000     0.000000   \n",
              "75%                 0.800000    24.260000   1252.500000     0.000000   \n",
              "max                 0.800000    54.560000  23122.000000   300.000000   \n",
              "\n",
              "       no_of_workers  actual_productivity     over_time    incentive  \\\n",
              "count    1197.000000          1197.000000   1197.000000  1197.000000   \n",
              "mean       34.609858             0.735091   4567.460317    38.210526   \n",
              "std        22.197687             0.174488   3348.823563   160.182643   \n",
              "min         2.000000             0.233705      0.000000     0.000000   \n",
              "25%         9.000000             0.650307   1440.000000     0.000000   \n",
              "50%        34.000000             0.773333   3960.000000     0.000000   \n",
              "75%        57.000000             0.850253   6960.000000    50.000000   \n",
              "max        89.000000             1.120437  25920.000000  3600.000000   \n",
              "\n",
              "          idle_men  no_of_style_change  \n",
              "count  1197.000000         1197.000000  \n",
              "mean      0.369256            0.150376  \n",
              "std       3.268987            0.427848  \n",
              "min       0.000000            0.000000  \n",
              "25%       0.000000            0.000000  \n",
              "50%       0.000000            0.000000  \n",
              "75%       0.000000            0.000000  \n",
              "max      45.000000            2.000000  "
            ],
            "text/html": [
              "\n",
              "  <div id=\"df-c9b10e2b-9bff-4495-92d6-f442a03ee96a\">\n",
              "    <div class=\"colab-df-container\">\n",
              "      <div>\n",
              "<style scoped>\n",
              "    .dataframe tbody tr th:only-of-type {\n",
              "        vertical-align: middle;\n",
              "    }\n",
              "\n",
              "    .dataframe tbody tr th {\n",
              "        vertical-align: top;\n",
              "    }\n",
              "\n",
              "    .dataframe thead th {\n",
              "        text-align: right;\n",
              "    }\n",
              "</style>\n",
              "<table border=\"1\" class=\"dataframe\">\n",
              "  <thead>\n",
              "    <tr style=\"text-align: right;\">\n",
              "      <th></th>\n",
              "      <th>targeted_productivity</th>\n",
              "      <th>smv</th>\n",
              "      <th>wip</th>\n",
              "      <th>idle_time</th>\n",
              "      <th>no_of_workers</th>\n",
              "      <th>actual_productivity</th>\n",
              "      <th>over_time</th>\n",
              "      <th>incentive</th>\n",
              "      <th>idle_men</th>\n",
              "      <th>no_of_style_change</th>\n",
              "    </tr>\n",
              "  </thead>\n",
              "  <tbody>\n",
              "    <tr>\n",
              "      <th>count</th>\n",
              "      <td>1197.000000</td>\n",
              "      <td>1197.000000</td>\n",
              "      <td>691.000000</td>\n",
              "      <td>1197.000000</td>\n",
              "      <td>1197.000000</td>\n",
              "      <td>1197.000000</td>\n",
              "      <td>1197.000000</td>\n",
              "      <td>1197.000000</td>\n",
              "      <td>1197.000000</td>\n",
              "      <td>1197.000000</td>\n",
              "    </tr>\n",
              "    <tr>\n",
              "      <th>mean</th>\n",
              "      <td>0.729632</td>\n",
              "      <td>15.062172</td>\n",
              "      <td>1190.465991</td>\n",
              "      <td>0.730159</td>\n",
              "      <td>34.609858</td>\n",
              "      <td>0.735091</td>\n",
              "      <td>4567.460317</td>\n",
              "      <td>38.210526</td>\n",
              "      <td>0.369256</td>\n",
              "      <td>0.150376</td>\n",
              "    </tr>\n",
              "    <tr>\n",
              "      <th>std</th>\n",
              "      <td>0.097891</td>\n",
              "      <td>10.943219</td>\n",
              "      <td>1837.455001</td>\n",
              "      <td>12.709757</td>\n",
              "      <td>22.197687</td>\n",
              "      <td>0.174488</td>\n",
              "      <td>3348.823563</td>\n",
              "      <td>160.182643</td>\n",
              "      <td>3.268987</td>\n",
              "      <td>0.427848</td>\n",
              "    </tr>\n",
              "    <tr>\n",
              "      <th>min</th>\n",
              "      <td>0.070000</td>\n",
              "      <td>2.900000</td>\n",
              "      <td>7.000000</td>\n",
              "      <td>0.000000</td>\n",
              "      <td>2.000000</td>\n",
              "      <td>0.233705</td>\n",
              "      <td>0.000000</td>\n",
              "      <td>0.000000</td>\n",
              "      <td>0.000000</td>\n",
              "      <td>0.000000</td>\n",
              "    </tr>\n",
              "    <tr>\n",
              "      <th>25%</th>\n",
              "      <td>0.700000</td>\n",
              "      <td>3.940000</td>\n",
              "      <td>774.500000</td>\n",
              "      <td>0.000000</td>\n",
              "      <td>9.000000</td>\n",
              "      <td>0.650307</td>\n",
              "      <td>1440.000000</td>\n",
              "      <td>0.000000</td>\n",
              "      <td>0.000000</td>\n",
              "      <td>0.000000</td>\n",
              "    </tr>\n",
              "    <tr>\n",
              "      <th>50%</th>\n",
              "      <td>0.750000</td>\n",
              "      <td>15.260000</td>\n",
              "      <td>1039.000000</td>\n",
              "      <td>0.000000</td>\n",
              "      <td>34.000000</td>\n",
              "      <td>0.773333</td>\n",
              "      <td>3960.000000</td>\n",
              "      <td>0.000000</td>\n",
              "      <td>0.000000</td>\n",
              "      <td>0.000000</td>\n",
              "    </tr>\n",
              "    <tr>\n",
              "      <th>75%</th>\n",
              "      <td>0.800000</td>\n",
              "      <td>24.260000</td>\n",
              "      <td>1252.500000</td>\n",
              "      <td>0.000000</td>\n",
              "      <td>57.000000</td>\n",
              "      <td>0.850253</td>\n",
              "      <td>6960.000000</td>\n",
              "      <td>50.000000</td>\n",
              "      <td>0.000000</td>\n",
              "      <td>0.000000</td>\n",
              "    </tr>\n",
              "    <tr>\n",
              "      <th>max</th>\n",
              "      <td>0.800000</td>\n",
              "      <td>54.560000</td>\n",
              "      <td>23122.000000</td>\n",
              "      <td>300.000000</td>\n",
              "      <td>89.000000</td>\n",
              "      <td>1.120437</td>\n",
              "      <td>25920.000000</td>\n",
              "      <td>3600.000000</td>\n",
              "      <td>45.000000</td>\n",
              "      <td>2.000000</td>\n",
              "    </tr>\n",
              "  </tbody>\n",
              "</table>\n",
              "</div>\n",
              "      <button class=\"colab-df-convert\" onclick=\"convertToInteractive('df-c9b10e2b-9bff-4495-92d6-f442a03ee96a')\"\n",
              "              title=\"Convert this dataframe to an interactive table.\"\n",
              "              style=\"display:none;\">\n",
              "        \n",
              "  <svg xmlns=\"http://www.w3.org/2000/svg\" height=\"24px\"viewBox=\"0 0 24 24\"\n",
              "       width=\"24px\">\n",
              "    <path d=\"M0 0h24v24H0V0z\" fill=\"none\"/>\n",
              "    <path d=\"M18.56 5.44l.94 2.06.94-2.06 2.06-.94-2.06-.94-.94-2.06-.94 2.06-2.06.94zm-11 1L8.5 8.5l.94-2.06 2.06-.94-2.06-.94L8.5 2.5l-.94 2.06-2.06.94zm10 10l.94 2.06.94-2.06 2.06-.94-2.06-.94-.94-2.06-.94 2.06-2.06.94z\"/><path d=\"M17.41 7.96l-1.37-1.37c-.4-.4-.92-.59-1.43-.59-.52 0-1.04.2-1.43.59L10.3 9.45l-7.72 7.72c-.78.78-.78 2.05 0 2.83L4 21.41c.39.39.9.59 1.41.59.51 0 1.02-.2 1.41-.59l7.78-7.78 2.81-2.81c.8-.78.8-2.07 0-2.86zM5.41 20L4 18.59l7.72-7.72 1.47 1.35L5.41 20z\"/>\n",
              "  </svg>\n",
              "      </button>\n",
              "      \n",
              "  <style>\n",
              "    .colab-df-container {\n",
              "      display:flex;\n",
              "      flex-wrap:wrap;\n",
              "      gap: 12px;\n",
              "    }\n",
              "\n",
              "    .colab-df-convert {\n",
              "      background-color: #E8F0FE;\n",
              "      border: none;\n",
              "      border-radius: 50%;\n",
              "      cursor: pointer;\n",
              "      display: none;\n",
              "      fill: #1967D2;\n",
              "      height: 32px;\n",
              "      padding: 0 0 0 0;\n",
              "      width: 32px;\n",
              "    }\n",
              "\n",
              "    .colab-df-convert:hover {\n",
              "      background-color: #E2EBFA;\n",
              "      box-shadow: 0px 1px 2px rgba(60, 64, 67, 0.3), 0px 1px 3px 1px rgba(60, 64, 67, 0.15);\n",
              "      fill: #174EA6;\n",
              "    }\n",
              "\n",
              "    [theme=dark] .colab-df-convert {\n",
              "      background-color: #3B4455;\n",
              "      fill: #D2E3FC;\n",
              "    }\n",
              "\n",
              "    [theme=dark] .colab-df-convert:hover {\n",
              "      background-color: #434B5C;\n",
              "      box-shadow: 0px 1px 3px 1px rgba(0, 0, 0, 0.15);\n",
              "      filter: drop-shadow(0px 1px 2px rgba(0, 0, 0, 0.3));\n",
              "      fill: #FFFFFF;\n",
              "    }\n",
              "  </style>\n",
              "\n",
              "      <script>\n",
              "        const buttonEl =\n",
              "          document.querySelector('#df-c9b10e2b-9bff-4495-92d6-f442a03ee96a button.colab-df-convert');\n",
              "        buttonEl.style.display =\n",
              "          google.colab.kernel.accessAllowed ? 'block' : 'none';\n",
              "\n",
              "        async function convertToInteractive(key) {\n",
              "          const element = document.querySelector('#df-c9b10e2b-9bff-4495-92d6-f442a03ee96a');\n",
              "          const dataTable =\n",
              "            await google.colab.kernel.invokeFunction('convertToInteractive',\n",
              "                                                     [key], {});\n",
              "          if (!dataTable) return;\n",
              "\n",
              "          const docLinkHtml = 'Like what you see? Visit the ' +\n",
              "            '<a target=\"_blank\" href=https://colab.research.google.com/notebooks/data_table.ipynb>data table notebook</a>'\n",
              "            + ' to learn more about interactive tables.';\n",
              "          element.innerHTML = '';\n",
              "          dataTable['output_type'] = 'display_data';\n",
              "          await google.colab.output.renderOutput(dataTable, element);\n",
              "          const docLink = document.createElement('div');\n",
              "          docLink.innerHTML = docLinkHtml;\n",
              "          element.appendChild(docLink);\n",
              "        }\n",
              "      </script>\n",
              "    </div>\n",
              "  </div>\n",
              "  "
            ]
          },
          "metadata": {},
          "execution_count": 8
        }
      ],
      "source": [
        "data[con_var].describe()"
      ]
    },
    {
      "cell_type": "code",
      "execution_count": null,
      "metadata": {
        "colab": {
          "base_uri": "https://localhost:8080/"
        },
        "id": "b6wAjeQhDwtS",
        "outputId": "2b33acf1-c809-498e-8fe8-a1fcdfb63353"
      },
      "outputs": [
        {
          "output_type": "execute_result",
          "data": {
            "text/plain": [
              "(1197, 15)"
            ]
          },
          "metadata": {},
          "execution_count": 9
        }
      ],
      "source": [
        "data.shape"
      ]
    },
    {
      "cell_type": "markdown",
      "metadata": {
        "id": "cG4E0s4Vl_rt"
      },
      "source": [
        "#DATA CLEANING"
      ]
    },
    {
      "cell_type": "code",
      "execution_count": null,
      "metadata": {
        "id": "cWoDhwHjvnqF"
      },
      "outputs": [],
      "source": [
        "#data=data.reset_index()"
      ]
    },
    {
      "cell_type": "code",
      "execution_count": null,
      "metadata": {
        "id": "0IrF8imV8ZYI"
      },
      "outputs": [],
      "source": [
        "data[\"wip\"].fillna(np.mean(data[\"wip\"]),inplace=True)"
      ]
    },
    {
      "cell_type": "code",
      "execution_count": null,
      "metadata": {
        "colab": {
          "base_uri": "https://localhost:8080/"
        },
        "id": "CGEh8XExuAws",
        "outputId": "5c04c4f1-bb95-466d-cad1-a3ef16544b9b"
      },
      "outputs": [
        {
          "output_type": "execute_result",
          "data": {
            "text/plain": [
              "sweing        691\n",
              "finishing     257\n",
              "finishing     249\n",
              "Name: department, dtype: int64"
            ]
          },
          "metadata": {},
          "execution_count": 12
        }
      ],
      "source": [
        "data['department'].value_counts()"
      ]
    },
    {
      "cell_type": "code",
      "execution_count": null,
      "metadata": {
        "id": "IJVAovKmuI9h"
      },
      "outputs": [],
      "source": [
        "data[\"department\"].replace('finishing ','finishing',inplace=True)"
      ]
    },
    {
      "cell_type": "code",
      "execution_count": null,
      "metadata": {
        "id": "HJYYp-Aj3W53"
      },
      "outputs": [],
      "source": [
        "data[\"day\"].replace('Monday',1,inplace=True)\n",
        "data[\"day\"].replace('Tuesday',1,inplace=True)\n",
        "data[\"day\"].replace('Wednesday',1,inplace=True)\n",
        "data[\"day\"].replace('Thursday',1,inplace=True)\n",
        "data[\"day\"].replace('Saturday',0,inplace=True)\n",
        "data[\"day\"].replace('Sunday',0,inplace=True)\n"
      ]
    },
    {
      "cell_type": "code",
      "execution_count": null,
      "metadata": {
        "id": "RS5C8H5k4Cyz"
      },
      "outputs": [],
      "source": [
        "data[\"quarter\"].replace('Quarter1',0,inplace=True)\n",
        "data[\"quarter\"].replace('Quarter2',0,inplace=True)\n",
        "data[\"quarter\"].replace('Quarter3',0,inplace=True)\n",
        "data[\"quarter\"].replace('Quarter4',1,inplace=True)\n",
        "data[\"quarter\"].replace('Quarter5',1,inplace=True)"
      ]
    },
    {
      "cell_type": "code",
      "execution_count": null,
      "metadata": {
        "id": "cOX_3U2l4hbJ"
      },
      "outputs": [],
      "source": [
        "data[\"department\"].replace('sweing',0,inplace=True)\n",
        "data[\"department\"].replace('finishing',1,inplace=True)\n"
      ]
    },
    {
      "cell_type": "code",
      "execution_count": null,
      "metadata": {
        "colab": {
          "base_uri": "https://localhost:8080/"
        },
        "id": "q56FL3tj_Fpr",
        "outputId": "6244f2af-839a-4fb0-fd41-6f4683621c2e"
      },
      "outputs": [
        {
          "output_type": "stream",
          "name": "stdout",
          "text": [
            "<class 'pandas.core.frame.DataFrame'>\n",
            "RangeIndex: 1197 entries, 0 to 1196\n",
            "Data columns (total 15 columns):\n",
            " #   Column                 Non-Null Count  Dtype  \n",
            "---  ------                 --------------  -----  \n",
            " 0   date                   1197 non-null   object \n",
            " 1   quarter                1197 non-null   int64  \n",
            " 2   department             1197 non-null   int64  \n",
            " 3   day                    1197 non-null   int64  \n",
            " 4   team                   1197 non-null   int64  \n",
            " 5   targeted_productivity  1197 non-null   float64\n",
            " 6   smv                    1197 non-null   float64\n",
            " 7   wip                    1197 non-null   float64\n",
            " 8   over_time              1197 non-null   int64  \n",
            " 9   incentive              1197 non-null   int64  \n",
            " 10  idle_time              1197 non-null   float64\n",
            " 11  idle_men               1197 non-null   int64  \n",
            " 12  no_of_style_change     1197 non-null   int64  \n",
            " 13  no_of_workers          1197 non-null   float64\n",
            " 14  actual_productivity    1197 non-null   float64\n",
            "dtypes: float64(6), int64(8), object(1)\n",
            "memory usage: 140.4+ KB\n"
          ]
        }
      ],
      "source": [
        "data.info()"
      ]
    },
    {
      "cell_type": "markdown",
      "metadata": {
        "id": "yZTGtbZLmIL-"
      },
      "source": [
        "##DROPPING DATE ATTRIBUTE"
      ]
    },
    {
      "cell_type": "code",
      "execution_count": null,
      "metadata": {
        "id": "cIpSZbOzIrdF"
      },
      "outputs": [],
      "source": [
        "data.drop(['date'],axis=1,inplace=True)"
      ]
    },
    {
      "cell_type": "code",
      "execution_count": null,
      "metadata": {
        "colab": {
          "base_uri": "https://localhost:8080/",
          "height": 488
        },
        "id": "yzGJuM1wJL3k",
        "outputId": "7786c6e8-2145-4a17-c060-51f667ac636e"
      },
      "outputs": [
        {
          "output_type": "execute_result",
          "data": {
            "text/plain": [
              "      quarter  department  day  team  targeted_productivity    smv  \\\n",
              "0           0           0    1     8                   0.80  26.16   \n",
              "1           0           1    1     1                   0.75   3.94   \n",
              "2           0           0    1    11                   0.80  11.41   \n",
              "3           0           0    1    12                   0.80  11.41   \n",
              "4           0           0    1     6                   0.80  25.90   \n",
              "...       ...         ...  ...   ...                    ...    ...   \n",
              "1192        0           1    1    10                   0.75   2.90   \n",
              "1193        0           1    1     8                   0.70   3.90   \n",
              "1194        0           1    1     7                   0.65   3.90   \n",
              "1195        0           1    1     9                   0.75   2.90   \n",
              "1196        0           1    1     6                   0.70   2.90   \n",
              "\n",
              "              wip  over_time  incentive  idle_time  idle_men  \\\n",
              "0     1108.000000       7080         98        0.0         0   \n",
              "1     1190.465991        960          0        0.0         0   \n",
              "2      968.000000       3660         50        0.0         0   \n",
              "3      968.000000       3660         50        0.0         0   \n",
              "4     1170.000000       1920         50        0.0         0   \n",
              "...           ...        ...        ...        ...       ...   \n",
              "1192  1190.465991        960          0        0.0         0   \n",
              "1193  1190.465991        960          0        0.0         0   \n",
              "1194  1190.465991        960          0        0.0         0   \n",
              "1195  1190.465991       1800          0        0.0         0   \n",
              "1196  1190.465991        720          0        0.0         0   \n",
              "\n",
              "      no_of_style_change  no_of_workers  actual_productivity  \n",
              "0                      0           59.0             0.940725  \n",
              "1                      0            8.0             0.886500  \n",
              "2                      0           30.5             0.800570  \n",
              "3                      0           30.5             0.800570  \n",
              "4                      0           56.0             0.800382  \n",
              "...                  ...            ...                  ...  \n",
              "1192                   0            8.0             0.628333  \n",
              "1193                   0            8.0             0.625625  \n",
              "1194                   0            8.0             0.625625  \n",
              "1195                   0           15.0             0.505889  \n",
              "1196                   0            6.0             0.394722  \n",
              "\n",
              "[1197 rows x 14 columns]"
            ],
            "text/html": [
              "\n",
              "  <div id=\"df-3a203e5e-91fb-418d-a0f3-13396c9bfd69\">\n",
              "    <div class=\"colab-df-container\">\n",
              "      <div>\n",
              "<style scoped>\n",
              "    .dataframe tbody tr th:only-of-type {\n",
              "        vertical-align: middle;\n",
              "    }\n",
              "\n",
              "    .dataframe tbody tr th {\n",
              "        vertical-align: top;\n",
              "    }\n",
              "\n",
              "    .dataframe thead th {\n",
              "        text-align: right;\n",
              "    }\n",
              "</style>\n",
              "<table border=\"1\" class=\"dataframe\">\n",
              "  <thead>\n",
              "    <tr style=\"text-align: right;\">\n",
              "      <th></th>\n",
              "      <th>quarter</th>\n",
              "      <th>department</th>\n",
              "      <th>day</th>\n",
              "      <th>team</th>\n",
              "      <th>targeted_productivity</th>\n",
              "      <th>smv</th>\n",
              "      <th>wip</th>\n",
              "      <th>over_time</th>\n",
              "      <th>incentive</th>\n",
              "      <th>idle_time</th>\n",
              "      <th>idle_men</th>\n",
              "      <th>no_of_style_change</th>\n",
              "      <th>no_of_workers</th>\n",
              "      <th>actual_productivity</th>\n",
              "    </tr>\n",
              "  </thead>\n",
              "  <tbody>\n",
              "    <tr>\n",
              "      <th>0</th>\n",
              "      <td>0</td>\n",
              "      <td>0</td>\n",
              "      <td>1</td>\n",
              "      <td>8</td>\n",
              "      <td>0.80</td>\n",
              "      <td>26.16</td>\n",
              "      <td>1108.000000</td>\n",
              "      <td>7080</td>\n",
              "      <td>98</td>\n",
              "      <td>0.0</td>\n",
              "      <td>0</td>\n",
              "      <td>0</td>\n",
              "      <td>59.0</td>\n",
              "      <td>0.940725</td>\n",
              "    </tr>\n",
              "    <tr>\n",
              "      <th>1</th>\n",
              "      <td>0</td>\n",
              "      <td>1</td>\n",
              "      <td>1</td>\n",
              "      <td>1</td>\n",
              "      <td>0.75</td>\n",
              "      <td>3.94</td>\n",
              "      <td>1190.465991</td>\n",
              "      <td>960</td>\n",
              "      <td>0</td>\n",
              "      <td>0.0</td>\n",
              "      <td>0</td>\n",
              "      <td>0</td>\n",
              "      <td>8.0</td>\n",
              "      <td>0.886500</td>\n",
              "    </tr>\n",
              "    <tr>\n",
              "      <th>2</th>\n",
              "      <td>0</td>\n",
              "      <td>0</td>\n",
              "      <td>1</td>\n",
              "      <td>11</td>\n",
              "      <td>0.80</td>\n",
              "      <td>11.41</td>\n",
              "      <td>968.000000</td>\n",
              "      <td>3660</td>\n",
              "      <td>50</td>\n",
              "      <td>0.0</td>\n",
              "      <td>0</td>\n",
              "      <td>0</td>\n",
              "      <td>30.5</td>\n",
              "      <td>0.800570</td>\n",
              "    </tr>\n",
              "    <tr>\n",
              "      <th>3</th>\n",
              "      <td>0</td>\n",
              "      <td>0</td>\n",
              "      <td>1</td>\n",
              "      <td>12</td>\n",
              "      <td>0.80</td>\n",
              "      <td>11.41</td>\n",
              "      <td>968.000000</td>\n",
              "      <td>3660</td>\n",
              "      <td>50</td>\n",
              "      <td>0.0</td>\n",
              "      <td>0</td>\n",
              "      <td>0</td>\n",
              "      <td>30.5</td>\n",
              "      <td>0.800570</td>\n",
              "    </tr>\n",
              "    <tr>\n",
              "      <th>4</th>\n",
              "      <td>0</td>\n",
              "      <td>0</td>\n",
              "      <td>1</td>\n",
              "      <td>6</td>\n",
              "      <td>0.80</td>\n",
              "      <td>25.90</td>\n",
              "      <td>1170.000000</td>\n",
              "      <td>1920</td>\n",
              "      <td>50</td>\n",
              "      <td>0.0</td>\n",
              "      <td>0</td>\n",
              "      <td>0</td>\n",
              "      <td>56.0</td>\n",
              "      <td>0.800382</td>\n",
              "    </tr>\n",
              "    <tr>\n",
              "      <th>...</th>\n",
              "      <td>...</td>\n",
              "      <td>...</td>\n",
              "      <td>...</td>\n",
              "      <td>...</td>\n",
              "      <td>...</td>\n",
              "      <td>...</td>\n",
              "      <td>...</td>\n",
              "      <td>...</td>\n",
              "      <td>...</td>\n",
              "      <td>...</td>\n",
              "      <td>...</td>\n",
              "      <td>...</td>\n",
              "      <td>...</td>\n",
              "      <td>...</td>\n",
              "    </tr>\n",
              "    <tr>\n",
              "      <th>1192</th>\n",
              "      <td>0</td>\n",
              "      <td>1</td>\n",
              "      <td>1</td>\n",
              "      <td>10</td>\n",
              "      <td>0.75</td>\n",
              "      <td>2.90</td>\n",
              "      <td>1190.465991</td>\n",
              "      <td>960</td>\n",
              "      <td>0</td>\n",
              "      <td>0.0</td>\n",
              "      <td>0</td>\n",
              "      <td>0</td>\n",
              "      <td>8.0</td>\n",
              "      <td>0.628333</td>\n",
              "    </tr>\n",
              "    <tr>\n",
              "      <th>1193</th>\n",
              "      <td>0</td>\n",
              "      <td>1</td>\n",
              "      <td>1</td>\n",
              "      <td>8</td>\n",
              "      <td>0.70</td>\n",
              "      <td>3.90</td>\n",
              "      <td>1190.465991</td>\n",
              "      <td>960</td>\n",
              "      <td>0</td>\n",
              "      <td>0.0</td>\n",
              "      <td>0</td>\n",
              "      <td>0</td>\n",
              "      <td>8.0</td>\n",
              "      <td>0.625625</td>\n",
              "    </tr>\n",
              "    <tr>\n",
              "      <th>1194</th>\n",
              "      <td>0</td>\n",
              "      <td>1</td>\n",
              "      <td>1</td>\n",
              "      <td>7</td>\n",
              "      <td>0.65</td>\n",
              "      <td>3.90</td>\n",
              "      <td>1190.465991</td>\n",
              "      <td>960</td>\n",
              "      <td>0</td>\n",
              "      <td>0.0</td>\n",
              "      <td>0</td>\n",
              "      <td>0</td>\n",
              "      <td>8.0</td>\n",
              "      <td>0.625625</td>\n",
              "    </tr>\n",
              "    <tr>\n",
              "      <th>1195</th>\n",
              "      <td>0</td>\n",
              "      <td>1</td>\n",
              "      <td>1</td>\n",
              "      <td>9</td>\n",
              "      <td>0.75</td>\n",
              "      <td>2.90</td>\n",
              "      <td>1190.465991</td>\n",
              "      <td>1800</td>\n",
              "      <td>0</td>\n",
              "      <td>0.0</td>\n",
              "      <td>0</td>\n",
              "      <td>0</td>\n",
              "      <td>15.0</td>\n",
              "      <td>0.505889</td>\n",
              "    </tr>\n",
              "    <tr>\n",
              "      <th>1196</th>\n",
              "      <td>0</td>\n",
              "      <td>1</td>\n",
              "      <td>1</td>\n",
              "      <td>6</td>\n",
              "      <td>0.70</td>\n",
              "      <td>2.90</td>\n",
              "      <td>1190.465991</td>\n",
              "      <td>720</td>\n",
              "      <td>0</td>\n",
              "      <td>0.0</td>\n",
              "      <td>0</td>\n",
              "      <td>0</td>\n",
              "      <td>6.0</td>\n",
              "      <td>0.394722</td>\n",
              "    </tr>\n",
              "  </tbody>\n",
              "</table>\n",
              "<p>1197 rows × 14 columns</p>\n",
              "</div>\n",
              "      <button class=\"colab-df-convert\" onclick=\"convertToInteractive('df-3a203e5e-91fb-418d-a0f3-13396c9bfd69')\"\n",
              "              title=\"Convert this dataframe to an interactive table.\"\n",
              "              style=\"display:none;\">\n",
              "        \n",
              "  <svg xmlns=\"http://www.w3.org/2000/svg\" height=\"24px\"viewBox=\"0 0 24 24\"\n",
              "       width=\"24px\">\n",
              "    <path d=\"M0 0h24v24H0V0z\" fill=\"none\"/>\n",
              "    <path d=\"M18.56 5.44l.94 2.06.94-2.06 2.06-.94-2.06-.94-.94-2.06-.94 2.06-2.06.94zm-11 1L8.5 8.5l.94-2.06 2.06-.94-2.06-.94L8.5 2.5l-.94 2.06-2.06.94zm10 10l.94 2.06.94-2.06 2.06-.94-2.06-.94-.94-2.06-.94 2.06-2.06.94z\"/><path d=\"M17.41 7.96l-1.37-1.37c-.4-.4-.92-.59-1.43-.59-.52 0-1.04.2-1.43.59L10.3 9.45l-7.72 7.72c-.78.78-.78 2.05 0 2.83L4 21.41c.39.39.9.59 1.41.59.51 0 1.02-.2 1.41-.59l7.78-7.78 2.81-2.81c.8-.78.8-2.07 0-2.86zM5.41 20L4 18.59l7.72-7.72 1.47 1.35L5.41 20z\"/>\n",
              "  </svg>\n",
              "      </button>\n",
              "      \n",
              "  <style>\n",
              "    .colab-df-container {\n",
              "      display:flex;\n",
              "      flex-wrap:wrap;\n",
              "      gap: 12px;\n",
              "    }\n",
              "\n",
              "    .colab-df-convert {\n",
              "      background-color: #E8F0FE;\n",
              "      border: none;\n",
              "      border-radius: 50%;\n",
              "      cursor: pointer;\n",
              "      display: none;\n",
              "      fill: #1967D2;\n",
              "      height: 32px;\n",
              "      padding: 0 0 0 0;\n",
              "      width: 32px;\n",
              "    }\n",
              "\n",
              "    .colab-df-convert:hover {\n",
              "      background-color: #E2EBFA;\n",
              "      box-shadow: 0px 1px 2px rgba(60, 64, 67, 0.3), 0px 1px 3px 1px rgba(60, 64, 67, 0.15);\n",
              "      fill: #174EA6;\n",
              "    }\n",
              "\n",
              "    [theme=dark] .colab-df-convert {\n",
              "      background-color: #3B4455;\n",
              "      fill: #D2E3FC;\n",
              "    }\n",
              "\n",
              "    [theme=dark] .colab-df-convert:hover {\n",
              "      background-color: #434B5C;\n",
              "      box-shadow: 0px 1px 3px 1px rgba(0, 0, 0, 0.15);\n",
              "      filter: drop-shadow(0px 1px 2px rgba(0, 0, 0, 0.3));\n",
              "      fill: #FFFFFF;\n",
              "    }\n",
              "  </style>\n",
              "\n",
              "      <script>\n",
              "        const buttonEl =\n",
              "          document.querySelector('#df-3a203e5e-91fb-418d-a0f3-13396c9bfd69 button.colab-df-convert');\n",
              "        buttonEl.style.display =\n",
              "          google.colab.kernel.accessAllowed ? 'block' : 'none';\n",
              "\n",
              "        async function convertToInteractive(key) {\n",
              "          const element = document.querySelector('#df-3a203e5e-91fb-418d-a0f3-13396c9bfd69');\n",
              "          const dataTable =\n",
              "            await google.colab.kernel.invokeFunction('convertToInteractive',\n",
              "                                                     [key], {});\n",
              "          if (!dataTable) return;\n",
              "\n",
              "          const docLinkHtml = 'Like what you see? Visit the ' +\n",
              "            '<a target=\"_blank\" href=https://colab.research.google.com/notebooks/data_table.ipynb>data table notebook</a>'\n",
              "            + ' to learn more about interactive tables.';\n",
              "          element.innerHTML = '';\n",
              "          dataTable['output_type'] = 'display_data';\n",
              "          await google.colab.output.renderOutput(dataTable, element);\n",
              "          const docLink = document.createElement('div');\n",
              "          docLink.innerHTML = docLinkHtml;\n",
              "          element.appendChild(docLink);\n",
              "        }\n",
              "      </script>\n",
              "    </div>\n",
              "  </div>\n",
              "  "
            ]
          },
          "metadata": {},
          "execution_count": 19
        }
      ],
      "source": [
        "data"
      ]
    },
    {
      "cell_type": "code",
      "execution_count": null,
      "metadata": {
        "colab": {
          "base_uri": "https://localhost:8080/"
        },
        "id": "jAU0HnEyJP8j",
        "outputId": "58d333d5-da27-4e6c-fc68-0b5fcf0aad88"
      },
      "outputs": [
        {
          "output_type": "execute_result",
          "data": {
            "text/plain": [
              "quarter                  0\n",
              "department               0\n",
              "day                      0\n",
              "team                     0\n",
              "targeted_productivity    0\n",
              "smv                      0\n",
              "wip                      0\n",
              "over_time                0\n",
              "incentive                0\n",
              "idle_time                0\n",
              "idle_men                 0\n",
              "no_of_style_change       0\n",
              "no_of_workers            0\n",
              "actual_productivity      0\n",
              "dtype: int64"
            ]
          },
          "metadata": {},
          "execution_count": 20
        }
      ],
      "source": [
        "data.isna().sum()"
      ]
    },
    {
      "cell_type": "code",
      "execution_count": null,
      "metadata": {
        "colab": {
          "base_uri": "https://localhost:8080/",
          "height": 270
        },
        "id": "TVXQTkHjJXm3",
        "outputId": "5eca19ce-ecc8-47f6-9d41-aa7bce2b5775"
      },
      "outputs": [
        {
          "output_type": "execute_result",
          "data": {
            "text/plain": [
              "   quarter  department  day  team  targeted_productivity    smv          wip  \\\n",
              "0        0           0    1     8                   0.80  26.16  1108.000000   \n",
              "1        0           1    1     1                   0.75   3.94  1190.465991   \n",
              "2        0           0    1    11                   0.80  11.41   968.000000   \n",
              "3        0           0    1    12                   0.80  11.41   968.000000   \n",
              "4        0           0    1     6                   0.80  25.90  1170.000000   \n",
              "\n",
              "   over_time  incentive  idle_time  idle_men  no_of_style_change  \\\n",
              "0       7080         98        0.0         0                   0   \n",
              "1        960          0        0.0         0                   0   \n",
              "2       3660         50        0.0         0                   0   \n",
              "3       3660         50        0.0         0                   0   \n",
              "4       1920         50        0.0         0                   0   \n",
              "\n",
              "   no_of_workers  actual_productivity  \n",
              "0           59.0             0.940725  \n",
              "1            8.0             0.886500  \n",
              "2           30.5             0.800570  \n",
              "3           30.5             0.800570  \n",
              "4           56.0             0.800382  "
            ],
            "text/html": [
              "\n",
              "  <div id=\"df-8defd8d9-5364-4a48-9631-7556f49e2bc4\">\n",
              "    <div class=\"colab-df-container\">\n",
              "      <div>\n",
              "<style scoped>\n",
              "    .dataframe tbody tr th:only-of-type {\n",
              "        vertical-align: middle;\n",
              "    }\n",
              "\n",
              "    .dataframe tbody tr th {\n",
              "        vertical-align: top;\n",
              "    }\n",
              "\n",
              "    .dataframe thead th {\n",
              "        text-align: right;\n",
              "    }\n",
              "</style>\n",
              "<table border=\"1\" class=\"dataframe\">\n",
              "  <thead>\n",
              "    <tr style=\"text-align: right;\">\n",
              "      <th></th>\n",
              "      <th>quarter</th>\n",
              "      <th>department</th>\n",
              "      <th>day</th>\n",
              "      <th>team</th>\n",
              "      <th>targeted_productivity</th>\n",
              "      <th>smv</th>\n",
              "      <th>wip</th>\n",
              "      <th>over_time</th>\n",
              "      <th>incentive</th>\n",
              "      <th>idle_time</th>\n",
              "      <th>idle_men</th>\n",
              "      <th>no_of_style_change</th>\n",
              "      <th>no_of_workers</th>\n",
              "      <th>actual_productivity</th>\n",
              "    </tr>\n",
              "  </thead>\n",
              "  <tbody>\n",
              "    <tr>\n",
              "      <th>0</th>\n",
              "      <td>0</td>\n",
              "      <td>0</td>\n",
              "      <td>1</td>\n",
              "      <td>8</td>\n",
              "      <td>0.80</td>\n",
              "      <td>26.16</td>\n",
              "      <td>1108.000000</td>\n",
              "      <td>7080</td>\n",
              "      <td>98</td>\n",
              "      <td>0.0</td>\n",
              "      <td>0</td>\n",
              "      <td>0</td>\n",
              "      <td>59.0</td>\n",
              "      <td>0.940725</td>\n",
              "    </tr>\n",
              "    <tr>\n",
              "      <th>1</th>\n",
              "      <td>0</td>\n",
              "      <td>1</td>\n",
              "      <td>1</td>\n",
              "      <td>1</td>\n",
              "      <td>0.75</td>\n",
              "      <td>3.94</td>\n",
              "      <td>1190.465991</td>\n",
              "      <td>960</td>\n",
              "      <td>0</td>\n",
              "      <td>0.0</td>\n",
              "      <td>0</td>\n",
              "      <td>0</td>\n",
              "      <td>8.0</td>\n",
              "      <td>0.886500</td>\n",
              "    </tr>\n",
              "    <tr>\n",
              "      <th>2</th>\n",
              "      <td>0</td>\n",
              "      <td>0</td>\n",
              "      <td>1</td>\n",
              "      <td>11</td>\n",
              "      <td>0.80</td>\n",
              "      <td>11.41</td>\n",
              "      <td>968.000000</td>\n",
              "      <td>3660</td>\n",
              "      <td>50</td>\n",
              "      <td>0.0</td>\n",
              "      <td>0</td>\n",
              "      <td>0</td>\n",
              "      <td>30.5</td>\n",
              "      <td>0.800570</td>\n",
              "    </tr>\n",
              "    <tr>\n",
              "      <th>3</th>\n",
              "      <td>0</td>\n",
              "      <td>0</td>\n",
              "      <td>1</td>\n",
              "      <td>12</td>\n",
              "      <td>0.80</td>\n",
              "      <td>11.41</td>\n",
              "      <td>968.000000</td>\n",
              "      <td>3660</td>\n",
              "      <td>50</td>\n",
              "      <td>0.0</td>\n",
              "      <td>0</td>\n",
              "      <td>0</td>\n",
              "      <td>30.5</td>\n",
              "      <td>0.800570</td>\n",
              "    </tr>\n",
              "    <tr>\n",
              "      <th>4</th>\n",
              "      <td>0</td>\n",
              "      <td>0</td>\n",
              "      <td>1</td>\n",
              "      <td>6</td>\n",
              "      <td>0.80</td>\n",
              "      <td>25.90</td>\n",
              "      <td>1170.000000</td>\n",
              "      <td>1920</td>\n",
              "      <td>50</td>\n",
              "      <td>0.0</td>\n",
              "      <td>0</td>\n",
              "      <td>0</td>\n",
              "      <td>56.0</td>\n",
              "      <td>0.800382</td>\n",
              "    </tr>\n",
              "  </tbody>\n",
              "</table>\n",
              "</div>\n",
              "      <button class=\"colab-df-convert\" onclick=\"convertToInteractive('df-8defd8d9-5364-4a48-9631-7556f49e2bc4')\"\n",
              "              title=\"Convert this dataframe to an interactive table.\"\n",
              "              style=\"display:none;\">\n",
              "        \n",
              "  <svg xmlns=\"http://www.w3.org/2000/svg\" height=\"24px\"viewBox=\"0 0 24 24\"\n",
              "       width=\"24px\">\n",
              "    <path d=\"M0 0h24v24H0V0z\" fill=\"none\"/>\n",
              "    <path d=\"M18.56 5.44l.94 2.06.94-2.06 2.06-.94-2.06-.94-.94-2.06-.94 2.06-2.06.94zm-11 1L8.5 8.5l.94-2.06 2.06-.94-2.06-.94L8.5 2.5l-.94 2.06-2.06.94zm10 10l.94 2.06.94-2.06 2.06-.94-2.06-.94-.94-2.06-.94 2.06-2.06.94z\"/><path d=\"M17.41 7.96l-1.37-1.37c-.4-.4-.92-.59-1.43-.59-.52 0-1.04.2-1.43.59L10.3 9.45l-7.72 7.72c-.78.78-.78 2.05 0 2.83L4 21.41c.39.39.9.59 1.41.59.51 0 1.02-.2 1.41-.59l7.78-7.78 2.81-2.81c.8-.78.8-2.07 0-2.86zM5.41 20L4 18.59l7.72-7.72 1.47 1.35L5.41 20z\"/>\n",
              "  </svg>\n",
              "      </button>\n",
              "      \n",
              "  <style>\n",
              "    .colab-df-container {\n",
              "      display:flex;\n",
              "      flex-wrap:wrap;\n",
              "      gap: 12px;\n",
              "    }\n",
              "\n",
              "    .colab-df-convert {\n",
              "      background-color: #E8F0FE;\n",
              "      border: none;\n",
              "      border-radius: 50%;\n",
              "      cursor: pointer;\n",
              "      display: none;\n",
              "      fill: #1967D2;\n",
              "      height: 32px;\n",
              "      padding: 0 0 0 0;\n",
              "      width: 32px;\n",
              "    }\n",
              "\n",
              "    .colab-df-convert:hover {\n",
              "      background-color: #E2EBFA;\n",
              "      box-shadow: 0px 1px 2px rgba(60, 64, 67, 0.3), 0px 1px 3px 1px rgba(60, 64, 67, 0.15);\n",
              "      fill: #174EA6;\n",
              "    }\n",
              "\n",
              "    [theme=dark] .colab-df-convert {\n",
              "      background-color: #3B4455;\n",
              "      fill: #D2E3FC;\n",
              "    }\n",
              "\n",
              "    [theme=dark] .colab-df-convert:hover {\n",
              "      background-color: #434B5C;\n",
              "      box-shadow: 0px 1px 3px 1px rgba(0, 0, 0, 0.15);\n",
              "      filter: drop-shadow(0px 1px 2px rgba(0, 0, 0, 0.3));\n",
              "      fill: #FFFFFF;\n",
              "    }\n",
              "  </style>\n",
              "\n",
              "      <script>\n",
              "        const buttonEl =\n",
              "          document.querySelector('#df-8defd8d9-5364-4a48-9631-7556f49e2bc4 button.colab-df-convert');\n",
              "        buttonEl.style.display =\n",
              "          google.colab.kernel.accessAllowed ? 'block' : 'none';\n",
              "\n",
              "        async function convertToInteractive(key) {\n",
              "          const element = document.querySelector('#df-8defd8d9-5364-4a48-9631-7556f49e2bc4');\n",
              "          const dataTable =\n",
              "            await google.colab.kernel.invokeFunction('convertToInteractive',\n",
              "                                                     [key], {});\n",
              "          if (!dataTable) return;\n",
              "\n",
              "          const docLinkHtml = 'Like what you see? Visit the ' +\n",
              "            '<a target=\"_blank\" href=https://colab.research.google.com/notebooks/data_table.ipynb>data table notebook</a>'\n",
              "            + ' to learn more about interactive tables.';\n",
              "          element.innerHTML = '';\n",
              "          dataTable['output_type'] = 'display_data';\n",
              "          await google.colab.output.renderOutput(dataTable, element);\n",
              "          const docLink = document.createElement('div');\n",
              "          docLink.innerHTML = docLinkHtml;\n",
              "          element.appendChild(docLink);\n",
              "        }\n",
              "      </script>\n",
              "    </div>\n",
              "  </div>\n",
              "  "
            ]
          },
          "metadata": {},
          "execution_count": 21
        }
      ],
      "source": [
        "data.head()"
      ]
    },
    {
      "cell_type": "code",
      "execution_count": null,
      "metadata": {
        "colab": {
          "base_uri": "https://localhost:8080/"
        },
        "id": "jquEZR0qKK2R",
        "outputId": "c2186c89-c4e5-4e9f-ba0c-bfbbf404ccd1"
      },
      "outputs": [
        {
          "output_type": "execute_result",
          "data": {
            "text/plain": [
              "0    691\n",
              "1    506\n",
              "Name: department, dtype: int64"
            ]
          },
          "metadata": {},
          "execution_count": 22
        }
      ],
      "source": [
        "data['department'].value_counts()"
      ]
    },
    {
      "cell_type": "markdown",
      "metadata": {
        "id": "zKmFnV_CmQDp"
      },
      "source": [
        "##CHECKING FOR OUTLIERS"
      ]
    },
    {
      "cell_type": "code",
      "execution_count": null,
      "metadata": {
        "colab": {
          "base_uri": "https://localhost:8080/",
          "height": 724
        },
        "id": "pHSocAA5LPPX",
        "outputId": "748947c0-04bc-456e-ec55-f0cec1a1c103"
      },
      "outputs": [
        {
          "output_type": "execute_result",
          "data": {
            "text/plain": [
              "(array([ 0,  1,  2,  3,  4,  5,  6,  7,  8,  9, 10, 11, 12, 13]),\n",
              " <a list of 14 Text major ticklabel objects>)"
            ]
          },
          "metadata": {},
          "execution_count": 23
        },
        {
          "output_type": "display_data",
          "data": {
            "text/plain": [
              "<Figure size 720x720 with 1 Axes>"
            ],
            "image/png": "[encoded data removed]"
          },
          "metadata": {
            "needs_background": "light"
          }
        }
      ],
      "source": [
        "plt.figure(figsize=(10,10))\n",
        "p = sns.boxplot(data = data,orient = 'v',width=0.8)\n",
        "plt.xticks(rotation=90)"
      ]
    },
    {
      "cell_type": "markdown",
      "metadata": {
        "id": "Itd0fzPumaaj"
      },
      "source": [
        "##REMOVING OUTLIERS USING INTER QUARTILE METHOD"
      ]
    },
    {
      "cell_type": "code",
      "execution_count": null,
      "metadata": {
        "colab": {
          "base_uri": "https://localhost:8080/"
        },
        "id": "u2SxTFHULjny",
        "outputId": "882bbd57-f330-44e1-e7f6-c83a19035c8c"
      },
      "outputs": [
        {
          "output_type": "execute_result",
          "data": {
            "text/plain": [
              "(0.0, 50.0)"
            ]
          },
          "metadata": {},
          "execution_count": 24
        }
      ],
      "source": [
        "Q1 = data.incentive.quantile(0.25)\n",
        "Q3 = data.incentive.quantile(0.75)\n",
        "Q1, Q3"
      ]
    },
    {
      "cell_type": "code",
      "execution_count": null,
      "metadata": {
        "colab": {
          "base_uri": "https://localhost:8080/"
        },
        "id": "ghMzsQxdL2-V",
        "outputId": "2b94f1d2-c48e-448c-e670-733121424dea"
      },
      "outputs": [
        {
          "output_type": "execute_result",
          "data": {
            "text/plain": [
              "50.0"
            ]
          },
          "metadata": {},
          "execution_count": 25
        }
      ],
      "source": [
        "Inter_quartile_range = Q3 - Q1\n",
        "Inter_quartile_range"
      ]
    },
    {
      "cell_type": "code",
      "execution_count": null,
      "metadata": {
        "colab": {
          "base_uri": "https://localhost:8080/"
        },
        "id": "gxeR1tg_MBYW",
        "outputId": "e19ae553-2d9a-40ef-938d-eab8924daaf2"
      },
      "outputs": [
        {
          "output_type": "execute_result",
          "data": {
            "text/plain": [
              "(-75.0, 125.0)"
            ]
          },
          "metadata": {},
          "execution_count": 26
        }
      ],
      "source": [
        "lower_limit = Q1 - 1.5*Inter_quartile_range\n",
        "upper_limit = Q3 + 1.5*Inter_quartile_range\n",
        "lower_limit,upper_limit"
      ]
    },
    {
      "cell_type": "code",
      "execution_count": null,
      "metadata": {
        "colab": {
          "base_uri": "https://localhost:8080/",
          "height": 458
        },
        "id": "X_PcDvv_MUQk",
        "outputId": "183bc1bf-a88c-4c8b-d778-7316b7b424dd"
      },
      "outputs": [
        {
          "output_type": "execute_result",
          "data": {
            "text/plain": [
              "      quarter  department  day  team  targeted_productivity    smv  \\\n",
              "730         0           0    1     1                   0.80  22.52   \n",
              "1128        0           1    1    11                   0.80   2.90   \n",
              "1129        0           1    1    12                   0.80   4.60   \n",
              "1130        0           1    1     5                   0.60   3.94   \n",
              "1133        0           1    1     9                   0.75   2.90   \n",
              "1137        0           1    1     3                   0.80   4.60   \n",
              "1138        0           1    1     4                   0.75   3.94   \n",
              "1139        0           1    1     1                   0.75   3.94   \n",
              "1143        0           1    1     2                   0.70   3.90   \n",
              "1148        0           1    1    10                   0.70   2.90   \n",
              "1149        0           1    1     8                   0.65   3.90   \n",
              "\n",
              "              wip  over_time  incentive  idle_time  idle_men  \\\n",
              "730   1397.000000          0        138        0.0         0   \n",
              "1128  1190.465991          0        960        0.0         0   \n",
              "1129  1190.465991          0       1080        0.0         0   \n",
              "1130  1190.465991          0       2880        0.0         0   \n",
              "1133  1190.465991          0       3600        0.0         0   \n",
              "1137  1190.465991          0       1440        0.0         0   \n",
              "1138  1190.465991          0        960        0.0         0   \n",
              "1139  1190.465991          0        960        0.0         0   \n",
              "1143  1190.465991          0       1200        0.0         0   \n",
              "1148  1190.465991          0        960        0.0         0   \n",
              "1149  1190.465991          0        960        0.0         0   \n",
              "\n",
              "      no_of_style_change  no_of_workers  actual_productivity  \n",
              "730                    0           57.0             1.100484  \n",
              "1128                   0            8.0             0.960625  \n",
              "1129                   0            9.0             0.902963  \n",
              "1130                   0           12.0             0.864343  \n",
              "1133                   0           15.0             0.841000  \n",
              "1137                   0           12.0             0.795417  \n",
              "1138                   0            8.0             0.795388  \n",
              "1139                   0            8.0             0.794567  \n",
              "1143                   0           10.0             0.682500  \n",
              "1148                   0            8.0             0.477292  \n",
              "1149                   0            8.0             0.264062  "
            ],
            "text/html": [
              "\n",
              "  <div id=\"df-9515eca5-c211-4a08-8535-af22c8a50202\">\n",
              "    <div class=\"colab-df-container\">\n",
              "      <div>\n",
              "<style scoped>\n",
              "    .dataframe tbody tr th:only-of-type {\n",
              "        vertical-align: middle;\n",
              "    }\n",
              "\n",
              "    .dataframe tbody tr th {\n",
              "        vertical-align: top;\n",
              "    }\n",
              "\n",
              "    .dataframe thead th {\n",
              "        text-align: right;\n",
              "    }\n",
              "</style>\n",
              "<table border=\"1\" class=\"dataframe\">\n",
              "  <thead>\n",
              "    <tr style=\"text-align: right;\">\n",
              "      <th></th>\n",
              "      <th>quarter</th>\n",
              "      <th>department</th>\n",
              "      <th>day</th>\n",
              "      <th>team</th>\n",
              "      <th>targeted_productivity</th>\n",
              "      <th>smv</th>\n",
              "      <th>wip</th>\n",
              "      <th>over_time</th>\n",
              "      <th>incentive</th>\n",
              "      <th>idle_time</th>\n",
              "      <th>idle_men</th>\n",
              "      <th>no_of_style_change</th>\n",
              "      <th>no_of_workers</th>\n",
              "      <th>actual_productivity</th>\n",
              "    </tr>\n",
              "  </thead>\n",
              "  <tbody>\n",
              "    <tr>\n",
              "      <th>730</th>\n",
              "      <td>0</td>\n",
              "      <td>0</td>\n",
              "      <td>1</td>\n",
              "      <td>1</td>\n",
              "      <td>0.80</td>\n",
              "      <td>22.52</td>\n",
              "      <td>1397.000000</td>\n",
              "      <td>0</td>\n",
              "      <td>138</td>\n",
              "      <td>0.0</td>\n",
              "      <td>0</td>\n",
              "      <td>0</td>\n",
              "      <td>57.0</td>\n",
              "      <td>1.100484</td>\n",
              "    </tr>\n",
              "    <tr>\n",
              "      <th>1128</th>\n",
              "      <td>0</td>\n",
              "      <td>1</td>\n",
              "      <td>1</td>\n",
              "      <td>11</td>\n",
              "      <td>0.80</td>\n",
              "      <td>2.90</td>\n",
              "      <td>1190.465991</td>\n",
              "      <td>0</td>\n",
              "      <td>960</td>\n",
              "      <td>0.0</td>\n",
              "      <td>0</td>\n",
              "      <td>0</td>\n",
              "      <td>8.0</td>\n",
              "      <td>0.960625</td>\n",
              "    </tr>\n",
              "    <tr>\n",
              "      <th>1129</th>\n",
              "      <td>0</td>\n",
              "      <td>1</td>\n",
              "      <td>1</td>\n",
              "      <td>12</td>\n",
              "      <td>0.80</td>\n",
              "      <td>4.60</td>\n",
              "      <td>1190.465991</td>\n",
              "      <td>0</td>\n",
              "      <td>1080</td>\n",
              "      <td>0.0</td>\n",
              "      <td>0</td>\n",
              "      <td>0</td>\n",
              "      <td>9.0</td>\n",
              "      <td>0.902963</td>\n",
              "    </tr>\n",
              "    <tr>\n",
              "      <th>1130</th>\n",
              "      <td>0</td>\n",
              "      <td>1</td>\n",
              "      <td>1</td>\n",
              "      <td>5</td>\n",
              "      <td>0.60</td>\n",
              "      <td>3.94</td>\n",
              "      <td>1190.465991</td>\n",
              "      <td>0</td>\n",
              "      <td>2880</td>\n",
              "      <td>0.0</td>\n",
              "      <td>0</td>\n",
              "      <td>0</td>\n",
              "      <td>12.0</td>\n",
              "      <td>0.864343</td>\n",
              "    </tr>\n",
              "    <tr>\n",
              "      <th>1133</th>\n",
              "      <td>0</td>\n",
              "      <td>1</td>\n",
              "      <td>1</td>\n",
              "      <td>9</td>\n",
              "      <td>0.75</td>\n",
              "      <td>2.90</td>\n",
              "      <td>1190.465991</td>\n",
              "      <td>0</td>\n",
              "      <td>3600</td>\n",
              "      <td>0.0</td>\n",
              "      <td>0</td>\n",
              "      <td>0</td>\n",
              "      <td>15.0</td>\n",
              "      <td>0.841000</td>\n",
              "    </tr>\n",
              "    <tr>\n",
              "      <th>1137</th>\n",
              "      <td>0</td>\n",
              "      <td>1</td>\n",
              "      <td>1</td>\n",
              "      <td>3</td>\n",
              "      <td>0.80</td>\n",
              "      <td>4.60</td>\n",
              "      <td>1190.465991</td>\n",
              "      <td>0</td>\n",
              "      <td>1440</td>\n",
              "      <td>0.0</td>\n",
              "      <td>0</td>\n",
              "      <td>0</td>\n",
              "      <td>12.0</td>\n",
              "      <td>0.795417</td>\n",
              "    </tr>\n",
              "    <tr>\n",
              "      <th>1138</th>\n",
              "      <td>0</td>\n",
              "      <td>1</td>\n",
              "      <td>1</td>\n",
              "      <td>4</td>\n",
              "      <td>0.75</td>\n",
              "      <td>3.94</td>\n",
              "      <td>1190.465991</td>\n",
              "      <td>0</td>\n",
              "      <td>960</td>\n",
              "      <td>0.0</td>\n",
              "      <td>0</td>\n",
              "      <td>0</td>\n",
              "      <td>8.0</td>\n",
              "      <td>0.795388</td>\n",
              "    </tr>\n",
              "    <tr>\n",
              "      <th>1139</th>\n",
              "      <td>0</td>\n",
              "      <td>1</td>\n",
              "      <td>1</td>\n",
              "      <td>1</td>\n",
              "      <td>0.75</td>\n",
              "      <td>3.94</td>\n",
              "      <td>1190.465991</td>\n",
              "      <td>0</td>\n",
              "      <td>960</td>\n",
              "      <td>0.0</td>\n",
              "      <td>0</td>\n",
              "      <td>0</td>\n",
              "      <td>8.0</td>\n",
              "      <td>0.794567</td>\n",
              "    </tr>\n",
              "    <tr>\n",
              "      <th>1143</th>\n",
              "      <td>0</td>\n",
              "      <td>1</td>\n",
              "      <td>1</td>\n",
              "      <td>2</td>\n",
              "      <td>0.70</td>\n",
              "      <td>3.90</td>\n",
              "      <td>1190.465991</td>\n",
              "      <td>0</td>\n",
              "      <td>1200</td>\n",
              "      <td>0.0</td>\n",
              "      <td>0</td>\n",
              "      <td>0</td>\n",
              "      <td>10.0</td>\n",
              "      <td>0.682500</td>\n",
              "    </tr>\n",
              "    <tr>\n",
              "      <th>1148</th>\n",
              "      <td>0</td>\n",
              "      <td>1</td>\n",
              "      <td>1</td>\n",
              "      <td>10</td>\n",
              "      <td>0.70</td>\n",
              "      <td>2.90</td>\n",
              "      <td>1190.465991</td>\n",
              "      <td>0</td>\n",
              "      <td>960</td>\n",
              "      <td>0.0</td>\n",
              "      <td>0</td>\n",
              "      <td>0</td>\n",
              "      <td>8.0</td>\n",
              "      <td>0.477292</td>\n",
              "    </tr>\n",
              "    <tr>\n",
              "      <th>1149</th>\n",
              "      <td>0</td>\n",
              "      <td>1</td>\n",
              "      <td>1</td>\n",
              "      <td>8</td>\n",
              "      <td>0.65</td>\n",
              "      <td>3.90</td>\n",
              "      <td>1190.465991</td>\n",
              "      <td>0</td>\n",
              "      <td>960</td>\n",
              "      <td>0.0</td>\n",
              "      <td>0</td>\n",
              "      <td>0</td>\n",
              "      <td>8.0</td>\n",
              "      <td>0.264062</td>\n",
              "    </tr>\n",
              "  </tbody>\n",
              "</table>\n",
              "</div>\n",
              "      <button class=\"colab-df-convert\" onclick=\"convertToInteractive('df-9515eca5-c211-4a08-8535-af22c8a50202')\"\n",
              "              title=\"Convert this dataframe to an interactive table.\"\n",
              "              style=\"display:none;\">\n",
              "        \n",
              "  <svg xmlns=\"http://www.w3.org/2000/svg\" height=\"24px\"viewBox=\"0 0 24 24\"\n",
              "       width=\"24px\">\n",
              "    <path d=\"M0 0h24v24H0V0z\" fill=\"none\"/>\n",
              "    <path d=\"M18.56 5.44l.94 2.06.94-2.06 2.06-.94-2.06-.94-.94-2.06-.94 2.06-2.06.94zm-11 1L8.5 8.5l.94-2.06 2.06-.94-2.06-.94L8.5 2.5l-.94 2.06-2.06.94zm10 10l.94 2.06.94-2.06 2.06-.94-2.06-.94-.94-2.06-.94 2.06-2.06.94z\"/><path d=\"M17.41 7.96l-1.37-1.37c-.4-.4-.92-.59-1.43-.59-.52 0-1.04.2-1.43.59L10.3 9.45l-7.72 7.72c-.78.78-.78 2.05 0 2.83L4 21.41c.39.39.9.59 1.41.59.51 0 1.02-.2 1.41-.59l7.78-7.78 2.81-2.81c.8-.78.8-2.07 0-2.86zM5.41 20L4 18.59l7.72-7.72 1.47 1.35L5.41 20z\"/>\n",
              "  </svg>\n",
              "      </button>\n",
              "      \n",
              "  <style>\n",
              "    .colab-df-container {\n",
              "      display:flex;\n",
              "      flex-wrap:wrap;\n",
              "      gap: 12px;\n",
              "    }\n",
              "\n",
              "    .colab-df-convert {\n",
              "      background-color: #E8F0FE;\n",
              "      border: none;\n",
              "      border-radius: 50%;\n",
              "      cursor: pointer;\n",
              "      display: none;\n",
              "      fill: #1967D2;\n",
              "      height: 32px;\n",
              "      padding: 0 0 0 0;\n",
              "      width: 32px;\n",
              "    }\n",
              "\n",
              "    .colab-df-convert:hover {\n",
              "      background-color: #E2EBFA;\n",
              "      box-shadow: 0px 1px 2px rgba(60, 64, 67, 0.3), 0px 1px 3px 1px rgba(60, 64, 67, 0.15);\n",
              "      fill: #174EA6;\n",
              "    }\n",
              "\n",
              "    [theme=dark] .colab-df-convert {\n",
              "      background-color: #3B4455;\n",
              "      fill: #D2E3FC;\n",
              "    }\n",
              "\n",
              "    [theme=dark] .colab-df-convert:hover {\n",
              "      background-color: #434B5C;\n",
              "      box-shadow: 0px 1px 3px 1px rgba(0, 0, 0, 0.15);\n",
              "      filter: drop-shadow(0px 1px 2px rgba(0, 0, 0, 0.3));\n",
              "      fill: #FFFFFF;\n",
              "    }\n",
              "  </style>\n",
              "\n",
              "      <script>\n",
              "        const buttonEl =\n",
              "          document.querySelector('#df-9515eca5-c211-4a08-8535-af22c8a50202 button.colab-df-convert');\n",
              "        buttonEl.style.display =\n",
              "          google.colab.kernel.accessAllowed ? 'block' : 'none';\n",
              "\n",
              "        async function convertToInteractive(key) {\n",
              "          const element = document.querySelector('#df-9515eca5-c211-4a08-8535-af22c8a50202');\n",
              "          const dataTable =\n",
              "            await google.colab.kernel.invokeFunction('convertToInteractive',\n",
              "                                                     [key], {});\n",
              "          if (!dataTable) return;\n",
              "\n",
              "          const docLinkHtml = 'Like what you see? Visit the ' +\n",
              "            '<a target=\"_blank\" href=https://colab.research.google.com/notebooks/data_table.ipynb>data table notebook</a>'\n",
              "            + ' to learn more about interactive tables.';\n",
              "          element.innerHTML = '';\n",
              "          dataTable['output_type'] = 'display_data';\n",
              "          await google.colab.output.renderOutput(dataTable, element);\n",
              "          const docLink = document.createElement('div');\n",
              "          docLink.innerHTML = docLinkHtml;\n",
              "          element.appendChild(docLink);\n",
              "        }\n",
              "      </script>\n",
              "    </div>\n",
              "  </div>\n",
              "  "
            ]
          },
          "metadata": {},
          "execution_count": 27
        }
      ],
      "source": [
        "data[(data.incentive<lower_limit)|(data.incentive>upper_limit)]"
      ]
    },
    {
      "cell_type": "code",
      "execution_count": null,
      "metadata": {
        "id": "7k9Ol3jaMnKZ"
      },
      "outputs": [],
      "source": [
        "datai = data[(data.incentive>lower_limit)&(data.incentive<upper_limit)]"
      ]
    },
    {
      "cell_type": "code",
      "execution_count": null,
      "metadata": {
        "colab": {
          "base_uri": "https://localhost:8080/"
        },
        "id": "JebaIL6BMyIL",
        "outputId": "6b537827-9789-420f-efed-d277caec6725"
      },
      "outputs": [
        {
          "output_type": "execute_result",
          "data": {
            "text/plain": [
              "(1186, 14)"
            ]
          },
          "metadata": {},
          "execution_count": 29
        }
      ],
      "source": [
        "datai.shape"
      ]
    },
    {
      "cell_type": "code",
      "execution_count": null,
      "metadata": {
        "colab": {
          "base_uri": "https://localhost:8080/"
        },
        "id": "XHA4CLcMMz86",
        "outputId": "283e3b29-8f28-4fac-e28c-51ded3d85ca6"
      },
      "outputs": [
        {
          "output_type": "execute_result",
          "data": {
            "text/plain": [
              "(1440.0, 6960.0)"
            ]
          },
          "metadata": {},
          "execution_count": 30
        }
      ],
      "source": [
        "Q1 = datai.over_time.quantile(0.25)\n",
        "Q3 = datai.over_time.quantile(0.75)\n",
        "Q1 , Q3"
      ]
    },
    {
      "cell_type": "code",
      "execution_count": null,
      "metadata": {
        "colab": {
          "base_uri": "https://localhost:8080/"
        },
        "id": "VZH_tS7LNA1s",
        "outputId": "9c895ad9-0714-4383-b885-c71f37c7edf8"
      },
      "outputs": [
        {
          "output_type": "execute_result",
          "data": {
            "text/plain": [
              "5520.0"
            ]
          },
          "metadata": {},
          "execution_count": 31
        }
      ],
      "source": [
        "Inter_quartile_range = Q3 - Q1\n",
        "Inter_quartile_range"
      ]
    },
    {
      "cell_type": "code",
      "execution_count": null,
      "metadata": {
        "colab": {
          "base_uri": "https://localhost:8080/"
        },
        "id": "cp8Zoq21NIyL",
        "outputId": "e61eb287-fed7-4a02-9a6d-98c901c717f9"
      },
      "outputs": [
        {
          "output_type": "execute_result",
          "data": {
            "text/plain": [
              "(-6840.0, 15240.0)"
            ]
          },
          "metadata": {},
          "execution_count": 32
        }
      ],
      "source": [
        "lower_limit = Q1 - 1.5*Inter_quartile_range\n",
        "upper_limit = Q3 + 1.5*Inter_quartile_range\n",
        "lower_limit,upper_limit"
      ]
    },
    {
      "cell_type": "code",
      "execution_count": null,
      "metadata": {
        "colab": {
          "base_uri": "https://localhost:8080/",
          "height": 145
        },
        "id": "4imVhNkoNgeS",
        "outputId": "25f73740-d432-41d7-ba1a-13c73f429810"
      },
      "outputs": [
        {
          "output_type": "execute_result",
          "data": {
            "text/plain": [
              "     quarter  department  day  team  targeted_productivity    smv    wip  \\\n",
              "146        0           0    1    11                   0.35  12.52  287.0   \n",
              "\n",
              "     over_time  incentive  idle_time  idle_men  no_of_style_change  \\\n",
              "146      25920         38        0.0         0                   0   \n",
              "\n",
              "     no_of_workers  actual_productivity  \n",
              "146           54.0             0.349951  "
            ],
            "text/html": [
              "\n",
              "  <div id=\"df-63db99f1-6052-44c0-a578-b2d5371eae07\">\n",
              "    <div class=\"colab-df-container\">\n",
              "      <div>\n",
              "<style scoped>\n",
              "    .dataframe tbody tr th:only-of-type {\n",
              "        vertical-align: middle;\n",
              "    }\n",
              "\n",
              "    .dataframe tbody tr th {\n",
              "        vertical-align: top;\n",
              "    }\n",
              "\n",
              "    .dataframe thead th {\n",
              "        text-align: right;\n",
              "    }\n",
              "</style>\n",
              "<table border=\"1\" class=\"dataframe\">\n",
              "  <thead>\n",
              "    <tr style=\"text-align: right;\">\n",
              "      <th></th>\n",
              "      <th>quarter</th>\n",
              "      <th>department</th>\n",
              "      <th>day</th>\n",
              "      <th>team</th>\n",
              "      <th>targeted_productivity</th>\n",
              "      <th>smv</th>\n",
              "      <th>wip</th>\n",
              "      <th>over_time</th>\n",
              "      <th>incentive</th>\n",
              "      <th>idle_time</th>\n",
              "      <th>idle_men</th>\n",
              "      <th>no_of_style_change</th>\n",
              "      <th>no_of_workers</th>\n",
              "      <th>actual_productivity</th>\n",
              "    </tr>\n",
              "  </thead>\n",
              "  <tbody>\n",
              "    <tr>\n",
              "      <th>146</th>\n",
              "      <td>0</td>\n",
              "      <td>0</td>\n",
              "      <td>1</td>\n",
              "      <td>11</td>\n",
              "      <td>0.35</td>\n",
              "      <td>12.52</td>\n",
              "      <td>287.0</td>\n",
              "      <td>25920</td>\n",
              "      <td>38</td>\n",
              "      <td>0.0</td>\n",
              "      <td>0</td>\n",
              "      <td>0</td>\n",
              "      <td>54.0</td>\n",
              "      <td>0.349951</td>\n",
              "    </tr>\n",
              "  </tbody>\n",
              "</table>\n",
              "</div>\n",
              "      <button class=\"colab-df-convert\" onclick=\"convertToInteractive('df-63db99f1-6052-44c0-a578-b2d5371eae07')\"\n",
              "              title=\"Convert this dataframe to an interactive table.\"\n",
              "              style=\"display:none;\">\n",
              "        \n",
              "  <svg xmlns=\"http://www.w3.org/2000/svg\" height=\"24px\"viewBox=\"0 0 24 24\"\n",
              "       width=\"24px\">\n",
              "    <path d=\"M0 0h24v24H0V0z\" fill=\"none\"/>\n",
              "    <path d=\"M18.56 5.44l.94 2.06.94-2.06 2.06-.94-2.06-.94-.94-2.06-.94 2.06-2.06.94zm-11 1L8.5 8.5l.94-2.06 2.06-.94-2.06-.94L8.5 2.5l-.94 2.06-2.06.94zm10 10l.94 2.06.94-2.06 2.06-.94-2.06-.94-.94-2.06-.94 2.06-2.06.94z\"/><path d=\"M17.41 7.96l-1.37-1.37c-.4-.4-.92-.59-1.43-.59-.52 0-1.04.2-1.43.59L10.3 9.45l-7.72 7.72c-.78.78-.78 2.05 0 2.83L4 21.41c.39.39.9.59 1.41.59.51 0 1.02-.2 1.41-.59l7.78-7.78 2.81-2.81c.8-.78.8-2.07 0-2.86zM5.41 20L4 18.59l7.72-7.72 1.47 1.35L5.41 20z\"/>\n",
              "  </svg>\n",
              "      </button>\n",
              "      \n",
              "  <style>\n",
              "    .colab-df-container {\n",
              "      display:flex;\n",
              "      flex-wrap:wrap;\n",
              "      gap: 12px;\n",
              "    }\n",
              "\n",
              "    .colab-df-convert {\n",
              "      background-color: #E8F0FE;\n",
              "      border: none;\n",
              "      border-radius: 50%;\n",
              "      cursor: pointer;\n",
              "      display: none;\n",
              "      fill: #1967D2;\n",
              "      height: 32px;\n",
              "      padding: 0 0 0 0;\n",
              "      width: 32px;\n",
              "    }\n",
              "\n",
              "    .colab-df-convert:hover {\n",
              "      background-color: #E2EBFA;\n",
              "      box-shadow: 0px 1px 2px rgba(60, 64, 67, 0.3), 0px 1px 3px 1px rgba(60, 64, 67, 0.15);\n",
              "      fill: #174EA6;\n",
              "    }\n",
              "\n",
              "    [theme=dark] .colab-df-convert {\n",
              "      background-color: #3B4455;\n",
              "      fill: #D2E3FC;\n",
              "    }\n",
              "\n",
              "    [theme=dark] .colab-df-convert:hover {\n",
              "      background-color: #434B5C;\n",
              "      box-shadow: 0px 1px 3px 1px rgba(0, 0, 0, 0.15);\n",
              "      filter: drop-shadow(0px 1px 2px rgba(0, 0, 0, 0.3));\n",
              "      fill: #FFFFFF;\n",
              "    }\n",
              "  </style>\n",
              "\n",
              "      <script>\n",
              "        const buttonEl =\n",
              "          document.querySelector('#df-63db99f1-6052-44c0-a578-b2d5371eae07 button.colab-df-convert');\n",
              "        buttonEl.style.display =\n",
              "          google.colab.kernel.accessAllowed ? 'block' : 'none';\n",
              "\n",
              "        async function convertToInteractive(key) {\n",
              "          const element = document.querySelector('#df-63db99f1-6052-44c0-a578-b2d5371eae07');\n",
              "          const dataTable =\n",
              "            await google.colab.kernel.invokeFunction('convertToInteractive',\n",
              "                                                     [key], {});\n",
              "          if (!dataTable) return;\n",
              "\n",
              "          const docLinkHtml = 'Like what you see? Visit the ' +\n",
              "            '<a target=\"_blank\" href=https://colab.research.google.com/notebooks/data_table.ipynb>data table notebook</a>'\n",
              "            + ' to learn more about interactive tables.';\n",
              "          element.innerHTML = '';\n",
              "          dataTable['output_type'] = 'display_data';\n",
              "          await google.colab.output.renderOutput(dataTable, element);\n",
              "          const docLink = document.createElement('div');\n",
              "          docLink.innerHTML = docLinkHtml;\n",
              "          element.appendChild(docLink);\n",
              "        }\n",
              "      </script>\n",
              "    </div>\n",
              "  </div>\n",
              "  "
            ]
          },
          "metadata": {},
          "execution_count": 33
        }
      ],
      "source": [
        "datai[(datai.over_time<lower_limit)|(datai.over_time>upper_limit)]"
      ]
    },
    {
      "cell_type": "code",
      "execution_count": null,
      "metadata": {
        "id": "-SJv3THaN1j3"
      },
      "outputs": [],
      "source": [
        "datao = datai[(datai.over_time>lower_limit)&(datai.over_time<upper_limit)]"
      ]
    },
    {
      "cell_type": "code",
      "execution_count": null,
      "metadata": {
        "colab": {
          "base_uri": "https://localhost:8080/"
        },
        "id": "V1cLEzH0OMWn",
        "outputId": "772b38ef-b4ea-465e-8f3e-9765bd4d5244"
      },
      "outputs": [
        {
          "output_type": "execute_result",
          "data": {
            "text/plain": [
              "(1185, 14)"
            ]
          },
          "metadata": {},
          "execution_count": 35
        }
      ],
      "source": [
        "datao.shape"
      ]
    },
    {
      "cell_type": "code",
      "execution_count": null,
      "metadata": {
        "colab": {
          "base_uri": "https://localhost:8080/",
          "height": 561
        },
        "id": "tJHU_PFGOOF8",
        "outputId": "fffb38b3-f659-4bbc-d3aa-16ee80489ade"
      },
      "outputs": [
        {
          "output_type": "execute_result",
          "data": {
            "text/plain": [
              "(array([ 0,  1,  2,  3,  4,  5,  6,  7,  8,  9, 10, 11, 12, 13]),\n",
              " <a list of 14 Text major ticklabel objects>)"
            ]
          },
          "metadata": {},
          "execution_count": 36
        },
        {
          "output_type": "display_data",
          "data": {
            "text/plain": [
              "<Figure size 720x504 with 1 Axes>"
            ],
            "image/png": "[encoded data removed]"
          },
          "metadata": {
            "needs_background": "light"
          }
        }
      ],
      "source": [
        "plt.figure(figsize=(10,7))\n",
        "p = sns.boxplot(data = datao, orient = 'v',width=0.8)\n",
        "plt.xticks(rotation=90)"
      ]
    },
    {
      "cell_type": "code",
      "execution_count": null,
      "metadata": {
        "colab": {
          "base_uri": "https://localhost:8080/"
        },
        "id": "BOU38J2H6e00",
        "outputId": "6494530d-541c-4e21-c703-6690e9e41042"
      },
      "outputs": [
        {
          "output_type": "execute_result",
          "data": {
            "text/plain": [
              "(970.0, 1190.4659913169319)"
            ]
          },
          "metadata": {},
          "execution_count": 37
        }
      ],
      "source": [
        "Q1 = datao.wip.quantile(0.25)\n",
        "Q3 = datao.wip.quantile(0.75)\n",
        "Q1, Q3"
      ]
    },
    {
      "cell_type": "code",
      "execution_count": null,
      "metadata": {
        "colab": {
          "base_uri": "https://localhost:8080/"
        },
        "id": "PWxffHnk6zg2",
        "outputId": "4bbdfd6e-3dff-4412-b9da-4d12322e5783"
      },
      "outputs": [
        {
          "output_type": "execute_result",
          "data": {
            "text/plain": [
              "220.46599131693188"
            ]
          },
          "metadata": {},
          "execution_count": 38
        }
      ],
      "source": [
        "Inter_quartile_range = Q3 - Q1\n",
        "Inter_quartile_range"
      ]
    },
    {
      "cell_type": "code",
      "execution_count": null,
      "metadata": {
        "colab": {
          "base_uri": "https://localhost:8080/"
        },
        "id": "DKSe7_7566wg",
        "outputId": "68dc7bfd-e60b-4dd2-fd4c-5e9f472f1f88"
      },
      "outputs": [
        {
          "output_type": "execute_result",
          "data": {
            "text/plain": [
              "(639.3010130246022, 1521.1649782923296)"
            ]
          },
          "metadata": {},
          "execution_count": 39
        }
      ],
      "source": [
        "lower_limit = Q1 - 1.5*Inter_quartile_range\n",
        "upper_limit = Q3 + 1.5*Inter_quartile_range\n",
        "lower_limit,upper_limit"
      ]
    },
    {
      "cell_type": "code",
      "execution_count": null,
      "metadata": {
        "colab": {
          "base_uri": "https://localhost:8080/",
          "height": 488
        },
        "id": "8KGQDtL067VZ",
        "outputId": "98093a72-d2c7-4a43-af74-667fa9f2fd35"
      },
      "outputs": [
        {
          "output_type": "execute_result",
          "data": {
            "text/plain": [
              "      quarter  department  day  team  targeted_productivity    smv     wip  \\\n",
              "11          0           0    1    10                   0.75  19.31   578.0   \n",
              "32          0           0    0    10                   0.75  19.31   610.0   \n",
              "36          0           0    0     4                   0.70  23.69   544.0   \n",
              "43          0           0    0     6                   0.80  11.61   539.0   \n",
              "54          0           0    0    11                   0.75  19.31   513.0   \n",
              "...       ...         ...  ...   ...                    ...    ...     ...   \n",
              "1160        0           0    1    11                   0.80  11.41   338.0   \n",
              "1178        0           0    1    12                   0.80  15.26   470.0   \n",
              "1180        0           0    1    11                   0.80  11.41   560.0   \n",
              "1183        0           0    1    10                   0.75  21.82  1674.0   \n",
              "1184        0           0    1     9                   0.75  18.79   290.0   \n",
              "\n",
              "      over_time  incentive  idle_time  idle_men  no_of_style_change  \\\n",
              "11         6480         45        0.0         0                   0   \n",
              "32         6480         56        0.0         0                   0   \n",
              "36        13800          0        0.0         0                   0   \n",
              "43         6975         50        0.0         0                   0   \n",
              "54         6480         45        0.0         0                   0   \n",
              "...         ...        ...        ...       ...                 ...   \n",
              "1160       3420         50        0.0         0                   0   \n",
              "1178       4080         63        0.0         0                   0   \n",
              "1180       3420         50        0.0         0                   0   \n",
              "1183       6000         34        0.0         0                   0   \n",
              "1184       5040         45        0.0         0                   0   \n",
              "\n",
              "      no_of_workers  actual_productivity  \n",
              "11             54.0             0.712205  \n",
              "32             54.0             0.787300  \n",
              "36             60.0             0.700134  \n",
              "43             31.0             0.879714  \n",
              "54             54.0             0.750348  \n",
              "...             ...                  ...  \n",
              "1160           58.0             0.800035  \n",
              "1178           34.0             0.800402  \n",
              "1180           58.0             0.800035  \n",
              "1183           50.0             0.750608  \n",
              "1184           52.0             0.750347  \n",
              "\n",
              "[162 rows x 14 columns]"
            ],
            "text/html": [
              "\n",
              "  <div id=\"df-47f4cd4c-7761-4ad1-b536-8267768d4dde\">\n",
              "    <div class=\"colab-df-container\">\n",
              "      <div>\n",
              "<style scoped>\n",
              "    .dataframe tbody tr th:only-of-type {\n",
              "        vertical-align: middle;\n",
              "    }\n",
              "\n",
              "    .dataframe tbody tr th {\n",
              "        vertical-align: top;\n",
              "    }\n",
              "\n",
              "    .dataframe thead th {\n",
              "        text-align: right;\n",
              "    }\n",
              "</style>\n",
              "<table border=\"1\" class=\"dataframe\">\n",
              "  <thead>\n",
              "    <tr style=\"text-align: right;\">\n",
              "      <th></th>\n",
              "      <th>quarter</th>\n",
              "      <th>department</th>\n",
              "      <th>day</th>\n",
              "      <th>team</th>\n",
              "      <th>targeted_productivity</th>\n",
              "      <th>smv</th>\n",
              "      <th>wip</th>\n",
              "      <th>over_time</th>\n",
              "      <th>incentive</th>\n",
              "      <th>idle_time</th>\n",
              "      <th>idle_men</th>\n",
              "      <th>no_of_style_change</th>\n",
              "      <th>no_of_workers</th>\n",
              "      <th>actual_productivity</th>\n",
              "    </tr>\n",
              "  </thead>\n",
              "  <tbody>\n",
              "    <tr>\n",
              "      <th>11</th>\n",
              "      <td>0</td>\n",
              "      <td>0</td>\n",
              "      <td>1</td>\n",
              "      <td>10</td>\n",
              "      <td>0.75</td>\n",
              "      <td>19.31</td>\n",
              "      <td>578.0</td>\n",
              "      <td>6480</td>\n",
              "      <td>45</td>\n",
              "      <td>0.0</td>\n",
              "      <td>0</td>\n",
              "      <td>0</td>\n",
              "      <td>54.0</td>\n",
              "      <td>0.712205</td>\n",
              "    </tr>\n",
              "    <tr>\n",
              "      <th>32</th>\n",
              "      <td>0</td>\n",
              "      <td>0</td>\n",
              "      <td>0</td>\n",
              "      <td>10</td>\n",
              "      <td>0.75</td>\n",
              "      <td>19.31</td>\n",
              "      <td>610.0</td>\n",
              "      <td>6480</td>\n",
              "      <td>56</td>\n",
              "      <td>0.0</td>\n",
              "      <td>0</td>\n",
              "      <td>0</td>\n",
              "      <td>54.0</td>\n",
              "      <td>0.787300</td>\n",
              "    </tr>\n",
              "    <tr>\n",
              "      <th>36</th>\n",
              "      <td>0</td>\n",
              "      <td>0</td>\n",
              "      <td>0</td>\n",
              "      <td>4</td>\n",
              "      <td>0.70</td>\n",
              "      <td>23.69</td>\n",
              "      <td>544.0</td>\n",
              "      <td>13800</td>\n",
              "      <td>0</td>\n",
              "      <td>0.0</td>\n",
              "      <td>0</td>\n",
              "      <td>0</td>\n",
              "      <td>60.0</td>\n",
              "      <td>0.700134</td>\n",
              "    </tr>\n",
              "    <tr>\n",
              "      <th>43</th>\n",
              "      <td>0</td>\n",
              "      <td>0</td>\n",
              "      <td>0</td>\n",
              "      <td>6</td>\n",
              "      <td>0.80</td>\n",
              "      <td>11.61</td>\n",
              "      <td>539.0</td>\n",
              "      <td>6975</td>\n",
              "      <td>50</td>\n",
              "      <td>0.0</td>\n",
              "      <td>0</td>\n",
              "      <td>0</td>\n",
              "      <td>31.0</td>\n",
              "      <td>0.879714</td>\n",
              "    </tr>\n",
              "    <tr>\n",
              "      <th>54</th>\n",
              "      <td>0</td>\n",
              "      <td>0</td>\n",
              "      <td>0</td>\n",
              "      <td>11</td>\n",
              "      <td>0.75</td>\n",
              "      <td>19.31</td>\n",
              "      <td>513.0</td>\n",
              "      <td>6480</td>\n",
              "      <td>45</td>\n",
              "      <td>0.0</td>\n",
              "      <td>0</td>\n",
              "      <td>0</td>\n",
              "      <td>54.0</td>\n",
              "      <td>0.750348</td>\n",
              "    </tr>\n",
              "    <tr>\n",
              "      <th>...</th>\n",
              "      <td>...</td>\n",
              "      <td>...</td>\n",
              "      <td>...</td>\n",
              "      <td>...</td>\n",
              "      <td>...</td>\n",
              "      <td>...</td>\n",
              "      <td>...</td>\n",
              "      <td>...</td>\n",
              "      <td>...</td>\n",
              "      <td>...</td>\n",
              "      <td>...</td>\n",
              "      <td>...</td>\n",
              "      <td>...</td>\n",
              "      <td>...</td>\n",
              "    </tr>\n",
              "    <tr>\n",
              "      <th>1160</th>\n",
              "      <td>0</td>\n",
              "      <td>0</td>\n",
              "      <td>1</td>\n",
              "      <td>11</td>\n",
              "      <td>0.80</td>\n",
              "      <td>11.41</td>\n",
              "      <td>338.0</td>\n",
              "      <td>3420</td>\n",
              "      <td>50</td>\n",
              "      <td>0.0</td>\n",
              "      <td>0</td>\n",
              "      <td>0</td>\n",
              "      <td>58.0</td>\n",
              "      <td>0.800035</td>\n",
              "    </tr>\n",
              "    <tr>\n",
              "      <th>1178</th>\n",
              "      <td>0</td>\n",
              "      <td>0</td>\n",
              "      <td>1</td>\n",
              "      <td>12</td>\n",
              "      <td>0.80</td>\n",
              "      <td>15.26</td>\n",
              "      <td>470.0</td>\n",
              "      <td>4080</td>\n",
              "      <td>63</td>\n",
              "      <td>0.0</td>\n",
              "      <td>0</td>\n",
              "      <td>0</td>\n",
              "      <td>34.0</td>\n",
              "      <td>0.800402</td>\n",
              "    </tr>\n",
              "    <tr>\n",
              "      <th>1180</th>\n",
              "      <td>0</td>\n",
              "      <td>0</td>\n",
              "      <td>1</td>\n",
              "      <td>11</td>\n",
              "      <td>0.80</td>\n",
              "      <td>11.41</td>\n",
              "      <td>560.0</td>\n",
              "      <td>3420</td>\n",
              "      <td>50</td>\n",
              "      <td>0.0</td>\n",
              "      <td>0</td>\n",
              "      <td>0</td>\n",
              "      <td>58.0</td>\n",
              "      <td>0.800035</td>\n",
              "    </tr>\n",
              "    <tr>\n",
              "      <th>1183</th>\n",
              "      <td>0</td>\n",
              "      <td>0</td>\n",
              "      <td>1</td>\n",
              "      <td>10</td>\n",
              "      <td>0.75</td>\n",
              "      <td>21.82</td>\n",
              "      <td>1674.0</td>\n",
              "      <td>6000</td>\n",
              "      <td>34</td>\n",
              "      <td>0.0</td>\n",
              "      <td>0</td>\n",
              "      <td>0</td>\n",
              "      <td>50.0</td>\n",
              "      <td>0.750608</td>\n",
              "    </tr>\n",
              "    <tr>\n",
              "      <th>1184</th>\n",
              "      <td>0</td>\n",
              "      <td>0</td>\n",
              "      <td>1</td>\n",
              "      <td>9</td>\n",
              "      <td>0.75</td>\n",
              "      <td>18.79</td>\n",
              "      <td>290.0</td>\n",
              "      <td>5040</td>\n",
              "      <td>45</td>\n",
              "      <td>0.0</td>\n",
              "      <td>0</td>\n",
              "      <td>0</td>\n",
              "      <td>52.0</td>\n",
              "      <td>0.750347</td>\n",
              "    </tr>\n",
              "  </tbody>\n",
              "</table>\n",
              "<p>162 rows × 14 columns</p>\n",
              "</div>\n",
              "      <button class=\"colab-df-convert\" onclick=\"convertToInteractive('df-47f4cd4c-7761-4ad1-b536-8267768d4dde')\"\n",
              "              title=\"Convert this dataframe to an interactive table.\"\n",
              "              style=\"display:none;\">\n",
              "        \n",
              "  <svg xmlns=\"http://www.w3.org/2000/svg\" height=\"24px\"viewBox=\"0 0 24 24\"\n",
              "       width=\"24px\">\n",
              "    <path d=\"M0 0h24v24H0V0z\" fill=\"none\"/>\n",
              "    <path d=\"M18.56 5.44l.94 2.06.94-2.06 2.06-.94-2.06-.94-.94-2.06-.94 2.06-2.06.94zm-11 1L8.5 8.5l.94-2.06 2.06-.94-2.06-.94L8.5 2.5l-.94 2.06-2.06.94zm10 10l.94 2.06.94-2.06 2.06-.94-2.06-.94-.94-2.06-.94 2.06-2.06.94z\"/><path d=\"M17.41 7.96l-1.37-1.37c-.4-.4-.92-.59-1.43-.59-.52 0-1.04.2-1.43.59L10.3 9.45l-7.72 7.72c-.78.78-.78 2.05 0 2.83L4 21.41c.39.39.9.59 1.41.59.51 0 1.02-.2 1.41-.59l7.78-7.78 2.81-2.81c.8-.78.8-2.07 0-2.86zM5.41 20L4 18.59l7.72-7.72 1.47 1.35L5.41 20z\"/>\n",
              "  </svg>\n",
              "      </button>\n",
              "      \n",
              "  <style>\n",
              "    .colab-df-container {\n",
              "      display:flex;\n",
              "      flex-wrap:wrap;\n",
              "      gap: 12px;\n",
              "    }\n",
              "\n",
              "    .colab-df-convert {\n",
              "      background-color: #E8F0FE;\n",
              "      border: none;\n",
              "      border-radius: 50%;\n",
              "      cursor: pointer;\n",
              "      display: none;\n",
              "      fill: #1967D2;\n",
              "      height: 32px;\n",
              "      padding: 0 0 0 0;\n",
              "      width: 32px;\n",
              "    }\n",
              "\n",
              "    .colab-df-convert:hover {\n",
              "      background-color: #E2EBFA;\n",
              "      box-shadow: 0px 1px 2px rgba(60, 64, 67, 0.3), 0px 1px 3px 1px rgba(60, 64, 67, 0.15);\n",
              "      fill: #174EA6;\n",
              "    }\n",
              "\n",
              "    [theme=dark] .colab-df-convert {\n",
              "      background-color: #3B4455;\n",
              "      fill: #D2E3FC;\n",
              "    }\n",
              "\n",
              "    [theme=dark] .colab-df-convert:hover {\n",
              "      background-color: #434B5C;\n",
              "      box-shadow: 0px 1px 3px 1px rgba(0, 0, 0, 0.15);\n",
              "      filter: drop-shadow(0px 1px 2px rgba(0, 0, 0, 0.3));\n",
              "      fill: #FFFFFF;\n",
              "    }\n",
              "  </style>\n",
              "\n",
              "      <script>\n",
              "        const buttonEl =\n",
              "          document.querySelector('#df-47f4cd4c-7761-4ad1-b536-8267768d4dde button.colab-df-convert');\n",
              "        buttonEl.style.display =\n",
              "          google.colab.kernel.accessAllowed ? 'block' : 'none';\n",
              "\n",
              "        async function convertToInteractive(key) {\n",
              "          const element = document.querySelector('#df-47f4cd4c-7761-4ad1-b536-8267768d4dde');\n",
              "          const dataTable =\n",
              "            await google.colab.kernel.invokeFunction('convertToInteractive',\n",
              "                                                     [key], {});\n",
              "          if (!dataTable) return;\n",
              "\n",
              "          const docLinkHtml = 'Like what you see? Visit the ' +\n",
              "            '<a target=\"_blank\" href=https://colab.research.google.com/notebooks/data_table.ipynb>data table notebook</a>'\n",
              "            + ' to learn more about interactive tables.';\n",
              "          element.innerHTML = '';\n",
              "          dataTable['output_type'] = 'display_data';\n",
              "          await google.colab.output.renderOutput(dataTable, element);\n",
              "          const docLink = document.createElement('div');\n",
              "          docLink.innerHTML = docLinkHtml;\n",
              "          element.appendChild(docLink);\n",
              "        }\n",
              "      </script>\n",
              "    </div>\n",
              "  </div>\n",
              "  "
            ]
          },
          "metadata": {},
          "execution_count": 40
        }
      ],
      "source": [
        "datao[(datao.wip<lower_limit)|(datao.wip>upper_limit)]"
      ]
    },
    {
      "cell_type": "code",
      "execution_count": null,
      "metadata": {
        "id": "85926q9r7Pcd"
      },
      "outputs": [],
      "source": [
        "dataw = datao[(datao.wip>lower_limit)&(datao.wip<upper_limit)]"
      ]
    },
    {
      "cell_type": "code",
      "execution_count": null,
      "metadata": {
        "colab": {
          "base_uri": "https://localhost:8080/",
          "height": 724
        },
        "id": "CFqdbukj7qYQ",
        "outputId": "550e4db3-d8c9-4030-87ca-12c132204d50"
      },
      "outputs": [
        {
          "output_type": "execute_result",
          "data": {
            "text/plain": [
              "(array([ 0,  1,  2,  3,  4,  5,  6,  7,  8,  9, 10, 11, 12, 13]),\n",
              " <a list of 14 Text major ticklabel objects>)"
            ]
          },
          "metadata": {},
          "execution_count": 42
        },
        {
          "output_type": "display_data",
          "data": {
            "text/plain": [
              "<Figure size 720x720 with 1 Axes>"
            ],
            "image/png": "[encoded data removed]"
          },
          "metadata": {
            "needs_background": "light"
          }
        }
      ],
      "source": [
        "plt.figure(figsize=(10,10))\n",
        "p = sns.boxplot(data = dataw,orient = 'v',width=0.8)\n",
        "plt.xticks(rotation=90)"
      ]
    },
    {
      "cell_type": "code",
      "execution_count": null,
      "metadata": {
        "colab": {
          "base_uri": "https://localhost:8080/"
        },
        "id": "I-sOxNvaF_oB",
        "outputId": "ec80e7cd-5ecc-443e-831a-a4a19ecdec30"
      },
      "outputs": [
        {
          "output_type": "execute_result",
          "data": {
            "text/plain": [
              "(0.0, 0.0)"
            ]
          },
          "metadata": {},
          "execution_count": 43
        }
      ],
      "source": [
        "Q1 = datao.idle_time.quantile(0.25)\n",
        "Q3 = datao.idle_time.quantile(0.75)\n",
        "Q1, Q3"
      ]
    },
    {
      "cell_type": "code",
      "execution_count": null,
      "metadata": {
        "colab": {
          "base_uri": "https://localhost:8080/"
        },
        "id": "5g0GHwqdGEVx",
        "outputId": "35bb03a7-e778-4bce-fe91-ec7433b48a23"
      },
      "outputs": [
        {
          "output_type": "execute_result",
          "data": {
            "text/plain": [
              "0.0"
            ]
          },
          "metadata": {},
          "execution_count": 44
        }
      ],
      "source": [
        "Inter_quartile_range = Q3 - Q1\n",
        "Inter_quartile_range"
      ]
    },
    {
      "cell_type": "code",
      "execution_count": null,
      "metadata": {
        "colab": {
          "base_uri": "https://localhost:8080/"
        },
        "id": "Oy-zjrcXGI48",
        "outputId": "3200c699-9bf9-4773-ca1a-6cb1263bfac3"
      },
      "outputs": [
        {
          "output_type": "execute_result",
          "data": {
            "text/plain": [
              "(0.0, 0.0)"
            ]
          },
          "metadata": {},
          "execution_count": 45
        }
      ],
      "source": [
        "lower_limit = Q1 - 1.5*Inter_quartile_range\n",
        "upper_limit = Q3 + 1.5*Inter_quartile_range\n",
        "lower_limit,upper_limit"
      ]
    },
    {
      "cell_type": "code",
      "execution_count": null,
      "metadata": {
        "colab": {
          "base_uri": "https://localhost:8080/",
          "height": 333
        },
        "id": "gbwZ3QpJGPfY",
        "outputId": "c8312b5b-d4d7-4159-9669-31b9185ebc69"
      },
      "outputs": [
        {
          "output_type": "execute_result",
          "data": {
            "text/plain": [
              "      quarter  department  day  team  targeted_productivity    smv     wip  \\\n",
              "650         0           0    0     7                   0.70  24.26   658.0   \n",
              "654         0           0    0     8                   0.70  24.26   652.0   \n",
              "822         0           0    1    10                   0.65  18.22   741.0   \n",
              "841         0           0    1    10                   0.70  19.68  1119.0   \n",
              "843         0           0    1     8                   0.65  29.40   962.0   \n",
              "1001        0           0    0     7                   0.80  30.10   934.0   \n",
              "1085        0           0    1     7                   0.80  30.10   834.0   \n",
              "\n",
              "      over_time  incentive  idle_time  idle_men  no_of_style_change  \\\n",
              "650        6960          0      270.0        45                   0   \n",
              "654        6840          0      300.0        37                   0   \n",
              "822           0          0        8.0        35                   1   \n",
              "841        5640          0        8.0        35                   1   \n",
              "843        4560          0        4.5        30                   2   \n",
              "1001       6960          0        3.5        15                   0   \n",
              "1085       1200          0        4.0        40                   0   \n",
              "\n",
              "      no_of_workers  actual_productivity  \n",
              "650            58.0             0.662270  \n",
              "654            57.0             0.365319  \n",
              "822            49.0             0.302117  \n",
              "841            47.0             0.303574  \n",
              "843            57.0             0.251399  \n",
              "1001           58.0             0.579511  \n",
              "1085           59.0             0.366054  "
            ],
            "text/html": [
              "\n",
              "  <div id=\"df-b7044a38-c00f-47c3-8f7c-ff88deb2f16d\">\n",
              "    <div class=\"colab-df-container\">\n",
              "      <div>\n",
              "<style scoped>\n",
              "    .dataframe tbody tr th:only-of-type {\n",
              "        vertical-align: middle;\n",
              "    }\n",
              "\n",
              "    .dataframe tbody tr th {\n",
              "        vertical-align: top;\n",
              "    }\n",
              "\n",
              "    .dataframe thead th {\n",
              "        text-align: right;\n",
              "    }\n",
              "</style>\n",
              "<table border=\"1\" class=\"dataframe\">\n",
              "  <thead>\n",
              "    <tr style=\"text-align: right;\">\n",
              "      <th></th>\n",
              "      <th>quarter</th>\n",
              "      <th>department</th>\n",
              "      <th>day</th>\n",
              "      <th>team</th>\n",
              "      <th>targeted_productivity</th>\n",
              "      <th>smv</th>\n",
              "      <th>wip</th>\n",
              "      <th>over_time</th>\n",
              "      <th>incentive</th>\n",
              "      <th>idle_time</th>\n",
              "      <th>idle_men</th>\n",
              "      <th>no_of_style_change</th>\n",
              "      <th>no_of_workers</th>\n",
              "      <th>actual_productivity</th>\n",
              "    </tr>\n",
              "  </thead>\n",
              "  <tbody>\n",
              "    <tr>\n",
              "      <th>650</th>\n",
              "      <td>0</td>\n",
              "      <td>0</td>\n",
              "      <td>0</td>\n",
              "      <td>7</td>\n",
              "      <td>0.70</td>\n",
              "      <td>24.26</td>\n",
              "      <td>658.0</td>\n",
              "      <td>6960</td>\n",
              "      <td>0</td>\n",
              "      <td>270.0</td>\n",
              "      <td>45</td>\n",
              "      <td>0</td>\n",
              "      <td>58.0</td>\n",
              "      <td>0.662270</td>\n",
              "    </tr>\n",
              "    <tr>\n",
              "      <th>654</th>\n",
              "      <td>0</td>\n",
              "      <td>0</td>\n",
              "      <td>0</td>\n",
              "      <td>8</td>\n",
              "      <td>0.70</td>\n",
              "      <td>24.26</td>\n",
              "      <td>652.0</td>\n",
              "      <td>6840</td>\n",
              "      <td>0</td>\n",
              "      <td>300.0</td>\n",
              "      <td>37</td>\n",
              "      <td>0</td>\n",
              "      <td>57.0</td>\n",
              "      <td>0.365319</td>\n",
              "    </tr>\n",
              "    <tr>\n",
              "      <th>822</th>\n",
              "      <td>0</td>\n",
              "      <td>0</td>\n",
              "      <td>1</td>\n",
              "      <td>10</td>\n",
              "      <td>0.65</td>\n",
              "      <td>18.22</td>\n",
              "      <td>741.0</td>\n",
              "      <td>0</td>\n",
              "      <td>0</td>\n",
              "      <td>8.0</td>\n",
              "      <td>35</td>\n",
              "      <td>1</td>\n",
              "      <td>49.0</td>\n",
              "      <td>0.302117</td>\n",
              "    </tr>\n",
              "    <tr>\n",
              "      <th>841</th>\n",
              "      <td>0</td>\n",
              "      <td>0</td>\n",
              "      <td>1</td>\n",
              "      <td>10</td>\n",
              "      <td>0.70</td>\n",
              "      <td>19.68</td>\n",
              "      <td>1119.0</td>\n",
              "      <td>5640</td>\n",
              "      <td>0</td>\n",
              "      <td>8.0</td>\n",
              "      <td>35</td>\n",
              "      <td>1</td>\n",
              "      <td>47.0</td>\n",
              "      <td>0.303574</td>\n",
              "    </tr>\n",
              "    <tr>\n",
              "      <th>843</th>\n",
              "      <td>0</td>\n",
              "      <td>0</td>\n",
              "      <td>1</td>\n",
              "      <td>8</td>\n",
              "      <td>0.65</td>\n",
              "      <td>29.40</td>\n",
              "      <td>962.0</td>\n",
              "      <td>4560</td>\n",
              "      <td>0</td>\n",
              "      <td>4.5</td>\n",
              "      <td>30</td>\n",
              "      <td>2</td>\n",
              "      <td>57.0</td>\n",
              "      <td>0.251399</td>\n",
              "    </tr>\n",
              "    <tr>\n",
              "      <th>1001</th>\n",
              "      <td>0</td>\n",
              "      <td>0</td>\n",
              "      <td>0</td>\n",
              "      <td>7</td>\n",
              "      <td>0.80</td>\n",
              "      <td>30.10</td>\n",
              "      <td>934.0</td>\n",
              "      <td>6960</td>\n",
              "      <td>0</td>\n",
              "      <td>3.5</td>\n",
              "      <td>15</td>\n",
              "      <td>0</td>\n",
              "      <td>58.0</td>\n",
              "      <td>0.579511</td>\n",
              "    </tr>\n",
              "    <tr>\n",
              "      <th>1085</th>\n",
              "      <td>0</td>\n",
              "      <td>0</td>\n",
              "      <td>1</td>\n",
              "      <td>7</td>\n",
              "      <td>0.80</td>\n",
              "      <td>30.10</td>\n",
              "      <td>834.0</td>\n",
              "      <td>1200</td>\n",
              "      <td>0</td>\n",
              "      <td>4.0</td>\n",
              "      <td>40</td>\n",
              "      <td>0</td>\n",
              "      <td>59.0</td>\n",
              "      <td>0.366054</td>\n",
              "    </tr>\n",
              "  </tbody>\n",
              "</table>\n",
              "</div>\n",
              "      <button class=\"colab-df-convert\" onclick=\"convertToInteractive('df-b7044a38-c00f-47c3-8f7c-ff88deb2f16d')\"\n",
              "              title=\"Convert this dataframe to an interactive table.\"\n",
              "              style=\"display:none;\">\n",
              "        \n",
              "  <svg xmlns=\"http://www.w3.org/2000/svg\" height=\"24px\"viewBox=\"0 0 24 24\"\n",
              "       width=\"24px\">\n",
              "    <path d=\"M0 0h24v24H0V0z\" fill=\"none\"/>\n",
              "    <path d=\"M18.56 5.44l.94 2.06.94-2.06 2.06-.94-2.06-.94-.94-2.06-.94 2.06-2.06.94zm-11 1L8.5 8.5l.94-2.06 2.06-.94-2.06-.94L8.5 2.5l-.94 2.06-2.06.94zm10 10l.94 2.06.94-2.06 2.06-.94-2.06-.94-.94-2.06-.94 2.06-2.06.94z\"/><path d=\"M17.41 7.96l-1.37-1.37c-.4-.4-.92-.59-1.43-.59-.52 0-1.04.2-1.43.59L10.3 9.45l-7.72 7.72c-.78.78-.78 2.05 0 2.83L4 21.41c.39.39.9.59 1.41.59.51 0 1.02-.2 1.41-.59l7.78-7.78 2.81-2.81c.8-.78.8-2.07 0-2.86zM5.41 20L4 18.59l7.72-7.72 1.47 1.35L5.41 20z\"/>\n",
              "  </svg>\n",
              "      </button>\n",
              "      \n",
              "  <style>\n",
              "    .colab-df-container {\n",
              "      display:flex;\n",
              "      flex-wrap:wrap;\n",
              "      gap: 12px;\n",
              "    }\n",
              "\n",
              "    .colab-df-convert {\n",
              "      background-color: #E8F0FE;\n",
              "      border: none;\n",
              "      border-radius: 50%;\n",
              "      cursor: pointer;\n",
              "      display: none;\n",
              "      fill: #1967D2;\n",
              "      height: 32px;\n",
              "      padding: 0 0 0 0;\n",
              "      width: 32px;\n",
              "    }\n",
              "\n",
              "    .colab-df-convert:hover {\n",
              "      background-color: #E2EBFA;\n",
              "      box-shadow: 0px 1px 2px rgba(60, 64, 67, 0.3), 0px 1px 3px 1px rgba(60, 64, 67, 0.15);\n",
              "      fill: #174EA6;\n",
              "    }\n",
              "\n",
              "    [theme=dark] .colab-df-convert {\n",
              "      background-color: #3B4455;\n",
              "      fill: #D2E3FC;\n",
              "    }\n",
              "\n",
              "    [theme=dark] .colab-df-convert:hover {\n",
              "      background-color: #434B5C;\n",
              "      box-shadow: 0px 1px 3px 1px rgba(0, 0, 0, 0.15);\n",
              "      filter: drop-shadow(0px 1px 2px rgba(0, 0, 0, 0.3));\n",
              "      fill: #FFFFFF;\n",
              "    }\n",
              "  </style>\n",
              "\n",
              "      <script>\n",
              "        const buttonEl =\n",
              "          document.querySelector('#df-b7044a38-c00f-47c3-8f7c-ff88deb2f16d button.colab-df-convert');\n",
              "        buttonEl.style.display =\n",
              "          google.colab.kernel.accessAllowed ? 'block' : 'none';\n",
              "\n",
              "        async function convertToInteractive(key) {\n",
              "          const element = document.querySelector('#df-b7044a38-c00f-47c3-8f7c-ff88deb2f16d');\n",
              "          const dataTable =\n",
              "            await google.colab.kernel.invokeFunction('convertToInteractive',\n",
              "                                                     [key], {});\n",
              "          if (!dataTable) return;\n",
              "\n",
              "          const docLinkHtml = 'Like what you see? Visit the ' +\n",
              "            '<a target=\"_blank\" href=https://colab.research.google.com/notebooks/data_table.ipynb>data table notebook</a>'\n",
              "            + ' to learn more about interactive tables.';\n",
              "          element.innerHTML = '';\n",
              "          dataTable['output_type'] = 'display_data';\n",
              "          await google.colab.output.renderOutput(dataTable, element);\n",
              "          const docLink = document.createElement('div');\n",
              "          docLink.innerHTML = docLinkHtml;\n",
              "          element.appendChild(docLink);\n",
              "        }\n",
              "      </script>\n",
              "    </div>\n",
              "  </div>\n",
              "  "
            ]
          },
          "metadata": {},
          "execution_count": 46
        }
      ],
      "source": [
        "dataw[(dataw.idle_time<lower_limit)|(dataw.idle_time>upper_limit)]"
      ]
    },
    {
      "cell_type": "code",
      "execution_count": null,
      "metadata": {
        "id": "L7sobHXiGjG0"
      },
      "outputs": [],
      "source": [
        "datad = dataw[(dataw.idle_time>lower_limit)&(dataw.idle_time<upper_limit)]"
      ]
    },
    {
      "cell_type": "code",
      "execution_count": null,
      "metadata": {
        "colab": {
          "base_uri": "https://localhost:8080/",
          "height": 728
        },
        "id": "g7f9Rt4IGo52",
        "outputId": "69ca88e6-87bb-4c52-fcfd-7dee221201d1"
      },
      "outputs": [
        {
          "output_type": "execute_result",
          "data": {
            "text/plain": [
              "(array([ 0,  1,  2,  3,  4,  5,  6,  7,  8,  9, 10, 11, 12, 13]),\n",
              " <a list of 14 Text major ticklabel objects>)"
            ]
          },
          "metadata": {},
          "execution_count": 48
        },
        {
          "output_type": "display_data",
          "data": {
            "text/plain": [
              "<Figure size 720x720 with 1 Axes>"
            ],
            "image/png": "[encoded data removed]"
          },
          "metadata": {
            "needs_background": "light"
          }
        }
      ],
      "source": [
        "plt.figure(figsize=(10,10))\n",
        "p = sns.boxplot(data = datad,orient = 'v',width=0.8)\n",
        "plt.xticks(rotation=90)"
      ]
    },
    {
      "cell_type": "code",
      "execution_count": null,
      "metadata": {
        "colab": {
          "base_uri": "https://localhost:8080/",
          "height": 297
        },
        "id": "TXZSyN2nER8r",
        "outputId": "fe2fa784-3165-42bd-a92f-bcc16a763da9"
      },
      "outputs": [
        {
          "output_type": "execute_result",
          "data": {
            "text/plain": [
              "<matplotlib.axes._subplots.AxesSubplot at 0x7f3379896b20>"
            ]
          },
          "metadata": {},
          "execution_count": 49
        },
        {
          "output_type": "display_data",
          "data": {
            "text/plain": [
              "<Figure size 432x288 with 1 Axes>"
            ],
            "image/png": "[encoded data removed]"
          },
          "metadata": {
            "needs_background": "light"
          }
        }
      ],
      "source": [
        "sns.boxplot(x=dataw['targeted_productivity'])"
      ]
    },
    {
      "cell_type": "code",
      "source": [
        "datao.info()"
      ],
      "metadata": {
        "colab": {
          "base_uri": "https://localhost:8080/"
        },
        "id": "PXjI-Yc1fyJ5",
        "outputId": "4a4895fe-ce9f-4066-b459-dcc177735aee"
      },
      "execution_count": null,
      "outputs": [
        {
          "output_type": "stream",
          "name": "stdout",
          "text": [
            "<class 'pandas.core.frame.DataFrame'>\n",
            "Int64Index: 1185 entries, 0 to 1196\n",
            "Data columns (total 14 columns):\n",
            " #   Column                 Non-Null Count  Dtype  \n",
            "---  ------                 --------------  -----  \n",
            " 0   quarter                1185 non-null   int64  \n",
            " 1   department             1185 non-null   int64  \n",
            " 2   day                    1185 non-null   int64  \n",
            " 3   team                   1185 non-null   int64  \n",
            " 4   targeted_productivity  1185 non-null   float64\n",
            " 5   smv                    1185 non-null   float64\n",
            " 6   wip                    1185 non-null   float64\n",
            " 7   over_time              1185 non-null   int64  \n",
            " 8   incentive              1185 non-null   int64  \n",
            " 9   idle_time              1185 non-null   float64\n",
            " 10  idle_men               1185 non-null   int64  \n",
            " 11  no_of_style_change     1185 non-null   int64  \n",
            " 12  no_of_workers          1185 non-null   float64\n",
            " 13  actual_productivity    1185 non-null   float64\n",
            "dtypes: float64(6), int64(8)\n",
            "memory usage: 138.9 KB\n"
          ]
        }
      ]
    },
    {
      "cell_type": "markdown",
      "metadata": {
        "id": "o6uE1NYImiMP"
      },
      "source": [
        "#EDA "
      ]
    },
    {
      "cell_type": "markdown",
      "metadata": {
        "id": "u-ysDGQjf1Ka"
      },
      "source": [
        "##PIE CHARTS"
      ]
    },
    {
      "cell_type": "code",
      "execution_count": null,
      "metadata": {
        "colab": {
          "base_uri": "https://localhost:8080/",
          "height": 248
        },
        "id": "8weHUP7UKHCV",
        "outputId": "013dd53d-f5b3-4de0-9e0a-8942d73cb571"
      },
      "outputs": [
        {
          "output_type": "display_data",
          "data": {
            "text/plain": [
              "<Figure size 432x288 with 1 Axes>"
            ],
            "image/png": "[encoded data removed]"
          },
          "metadata": {}
        }
      ],
      "source": [
        "datao['department'].value_counts().plot(kind='pie', autopct=\"%.2f\")\n",
        "plt.show()"
      ]
    },
    {
      "cell_type": "code",
      "execution_count": null,
      "metadata": {
        "colab": {
          "base_uri": "https://localhost:8080/",
          "height": 264
        },
        "id": "v4KaNVBzH_RI",
        "outputId": "02d27d5f-fb59-4ee1-e0c6-a04de9c75fd1"
      },
      "outputs": [
        {
          "output_type": "display_data",
          "data": {
            "text/plain": [
              "<Figure size 432x288 with 1 Axes>"
            ],
            "image/png": "[encoded data removed]"
          },
          "metadata": {}
        }
      ],
      "source": [
        "plt.title(\"Quarters\")\n",
        "datao['quarter'].value_counts().plot(kind='pie')\n",
        "plt.show()"
      ]
    },
    {
      "cell_type": "code",
      "execution_count": null,
      "metadata": {
        "id": "wzexT7n_KmUJ"
      },
      "outputs": [],
      "source": [
        "quarters = datao['quarter'].unique()"
      ]
    },
    {
      "cell_type": "code",
      "execution_count": null,
      "metadata": {
        "colab": {
          "base_uri": "https://localhost:8080/",
          "height": 580
        },
        "id": "ISeA2kK3KUhu",
        "outputId": "35755bdf-f0b3-402a-c8cc-8081545903c0"
      },
      "outputs": [
        {
          "output_type": "display_data",
          "data": {
            "text/plain": [
              "<Figure size 432x288 with 1 Axes>"
            ],
            "image/png": "[encoded data removed]"
          },
          "metadata": {}
        },
        {
          "output_type": "stream",
          "name": "stdout",
          "text": [
            "\n",
            "\n"
          ]
        },
        {
          "output_type": "display_data",
          "data": {
            "text/plain": [
              "<Figure size 432x288 with 1 Axes>"
            ],
            "image/png": "[encoded data removed]"
          },
          "metadata": {}
        },
        {
          "output_type": "stream",
          "name": "stdout",
          "text": [
            "\n",
            "\n"
          ]
        }
      ],
      "source": [
        "#Department in each Quarter\n",
        "for quarter in quarters:\n",
        "    qcounter = datao['department'][datao['quarter'] == quarter].value_counts()\n",
        "    plt.pie(qcounter, autopct=\"%.2f\", labels=qcounter.keys())\n",
        "    plt.title(f\"Department in {quarter}\")\n",
        "    #plt.xlabel(f\"Total:{sum(qcounter)}\")\n",
        "    plt.show()\n",
        "    print(\"\\n\")"
      ]
    },
    {
      "cell_type": "markdown",
      "metadata": {
        "id": "TpXjveTvf_NT"
      },
      "source": [
        "##HIST PLOT"
      ]
    },
    {
      "cell_type": "code",
      "execution_count": null,
      "metadata": {
        "colab": {
          "base_uri": "https://localhost:8080/",
          "height": 351
        },
        "id": "jvJydWLlto7P",
        "outputId": "59004430-78a4-4e0c-b6c0-bdee6caf201b"
      },
      "outputs": [
        {
          "output_type": "execute_result",
          "data": {
            "text/plain": [
              "<matplotlib.axes._subplots.AxesSubplot at 0x7f337973d640>"
            ]
          },
          "metadata": {},
          "execution_count": 55
        },
        {
          "output_type": "display_data",
          "data": {
            "text/plain": [
              "<Figure size 720x360 with 1 Axes>"
            ],
            "image/png": "[encoded data removed]"
          },
          "metadata": {
            "needs_background": "light"
          }
        }
      ],
      "source": [
        "plt.figure(figsize=(10,5))\n",
        "sns.countplot(x='department',hue='quarter',data=datao)"
      ]
    },
    {
      "cell_type": "code",
      "execution_count": null,
      "metadata": {
        "id": "52-ppnETPxh6"
      },
      "outputs": [],
      "source": [
        "import pandas as pd\n",
        "import seaborn as sb\n",
        "from matplotlib import pyplot as plt"
      ]
    },
    {
      "cell_type": "code",
      "execution_count": null,
      "metadata": {
        "colab": {
          "base_uri": "https://localhost:8080/",
          "height": 265
        },
        "id": "wY7otTx_LCm6",
        "outputId": "99bac445-7fa6-4f87-f80e-7f1585251929"
      },
      "outputs": [
        {
          "output_type": "display_data",
          "data": {
            "text/plain": [
              "<Figure size 432x288 with 1 Axes>"
            ],
            "image/png": "[encoded data removed]"
          },
          "metadata": {
            "needs_background": "light"
          }
        }
      ],
      "source": [
        "sns.histplot(data=datao[['targeted_productivity', 'actual_productivity']], element='poly')\n",
        "plt.show()"
      ]
    },
    {
      "cell_type": "code",
      "execution_count": null,
      "metadata": {
        "colab": {
          "base_uri": "https://localhost:8080/",
          "height": 614
        },
        "id": "PmVjA6aXLgzc",
        "outputId": "c22debad-e1eb-4ec9-8b70-3e0322e8a28d"
      },
      "outputs": [
        {
          "output_type": "display_data",
          "data": {
            "text/plain": [
              "<Figure size 432x288 with 1 Axes>"
            ],
            "image/png": "[encoded data removed]"
          },
          "metadata": {
            "needs_background": "light"
          }
        },
        {
          "output_type": "stream",
          "name": "stdout",
          "text": [
            "\n",
            "\n"
          ]
        },
        {
          "output_type": "display_data",
          "data": {
            "text/plain": [
              "<Figure size 432x288 with 1 Axes>"
            ],
            "image/png": "[encoded data removed]"
          },
          "metadata": {
            "needs_background": "light"
          }
        },
        {
          "output_type": "stream",
          "name": "stdout",
          "text": [
            "\n",
            "\n"
          ]
        }
      ],
      "source": [
        "#Incentives per Quarter\n",
        "for quarter in quarters:\n",
        "    plt.title(f\"Incentives in {quarter}\")\n",
        "    datao['incentive'][(datao['quarter'] == quarter) & (datao['incentive']>0)].plot(kind='hist', rwidth=0.95)\n",
        "    plt.show()\n",
        "    print('\\n')"
      ]
    },
    {
      "cell_type": "code",
      "execution_count": null,
      "metadata": {
        "colab": {
          "base_uri": "https://localhost:8080/",
          "height": 614
        },
        "id": "ntush67CLv4_",
        "outputId": "55bc0643-bb4b-405c-8348-1395027a2a10"
      },
      "outputs": [
        {
          "output_type": "display_data",
          "data": {
            "text/plain": [
              "<Figure size 432x288 with 1 Axes>"
            ],
            "image/png": "[encoded data removed]"
          },
          "metadata": {
            "needs_background": "light"
          }
        },
        {
          "output_type": "stream",
          "name": "stdout",
          "text": [
            "\n",
            "\n"
          ]
        },
        {
          "output_type": "display_data",
          "data": {
            "text/plain": [
              "<Figure size 432x288 with 1 Axes>"
            ],
            "image/png": "[encoded data removed]"
          },
          "metadata": {
            "needs_background": "light"
          }
        },
        {
          "output_type": "stream",
          "name": "stdout",
          "text": [
            "\n",
            "\n"
          ]
        }
      ],
      "source": [
        "#Incentives per weekdays\n",
        "days = datao['day'].unique()\n",
        "for day in days:\n",
        "    plt.title(f\"Incentives on {day}\")\n",
        "    datao['incentive'][(datao['day'] == day) & (datao['incentive']>0)].plot(kind='hist', rwidth=0.95)\n",
        "    plt.show()\n",
        "    print('\\n')"
      ]
    },
    {
      "cell_type": "code",
      "execution_count": null,
      "metadata": {
        "colab": {
          "base_uri": "https://localhost:8080/",
          "height": 614
        },
        "id": "wFPAG6JfL824",
        "outputId": "9d1fc798-6b65-4754-ca80-ed7ea703e11d"
      },
      "outputs": [
        {
          "output_type": "display_data",
          "data": {
            "text/plain": [
              "<Figure size 432x288 with 1 Axes>"
            ],
            "image/png": "[encoded data removed]"
          },
          "metadata": {
            "needs_background": "light"
          }
        },
        {
          "output_type": "stream",
          "name": "stdout",
          "text": [
            "\n",
            "\n"
          ]
        },
        {
          "output_type": "display_data",
          "data": {
            "text/plain": [
              "<Figure size 432x288 with 1 Axes>"
            ],
            "image/png": "[encoded data removed]"
          },
          "metadata": {
            "needs_background": "light"
          }
        },
        {
          "output_type": "stream",
          "name": "stdout",
          "text": [
            "\n",
            "\n"
          ]
        }
      ],
      "source": [
        "#Incentives for sweing vs Incentives for finishing\n",
        "depts = datao['department'].unique()\n",
        "for dept in depts:\n",
        "    plt.title(f\"Incentives on {dept}\")\n",
        "    datao['incentive'][(datao['department'] == dept) & (datao['incentive']>1)].plot(kind='hist', rwidth=0.95)\n",
        "    plt.show()\n",
        "    print('\\n')  "
      ]
    },
    {
      "cell_type": "markdown",
      "metadata": {
        "id": "RkkuTtqXmp_2"
      },
      "source": [
        "##PAIR PLOT"
      ]
    },
    {
      "cell_type": "code",
      "execution_count": null,
      "metadata": {
        "colab": {
          "base_uri": "https://localhost:8080/",
          "height": 296
        },
        "id": "iDqp_0dlOiUR",
        "outputId": "e0ccaaf4-c7e2-4be8-ad17-ec93385c1fc8"
      },
      "outputs": [
        {
          "output_type": "execute_result",
          "data": {
            "text/plain": [
              "<seaborn.axisgrid.PairGrid at 0x7f3379536220>"
            ]
          },
          "metadata": {},
          "execution_count": 61
        },
        {
          "output_type": "display_data",
          "data": {
            "text/plain": [
              "<Figure size 2469.6x504 with 7 Axes>"
            ],
            "image/png": "[encoded data removed]"
          },
          "metadata": {
            "needs_background": "light"
          }
        }
      ],
      "source": [
        "sns.pairplot(datao.sample(200),x_vars=['quarter','department','team','smv','over_time','incentive','no_of_workers'],y_vars='actual_productivity',size=7 , aspect=0.7 , kind = 'reg')"
      ]
    },
    {
      "cell_type": "markdown",
      "metadata": {
        "id": "HFa26LdUmtdG"
      },
      "source": [
        "##HEAT MAP"
      ]
    },
    {
      "cell_type": "code",
      "execution_count": null,
      "metadata": {
        "colab": {
          "base_uri": "https://localhost:8080/",
          "height": 558
        },
        "id": "SOg4cnTcPCXQ",
        "outputId": "a992abd8-7fac-42fd-ae70-a30846403071"
      },
      "outputs": [
        {
          "output_type": "display_data",
          "data": {
            "text/plain": [
              "<Figure size 960x480 with 2 Axes>"
            ],
            "image/png": "[encoded data removed]"
          },
          "metadata": {
            "needs_background": "light"
          }
        }
      ],
      "source": [
        "corr_data=datao.iloc[:,:].corr()\n",
        "plt.figure(figsize=(10,5),dpi=96)\n",
        "sns.heatmap(data = corr_data,annot = True,cmap = 'coolwarm')\n",
        "plt.show()"
      ]
    },
    {
      "cell_type": "markdown",
      "metadata": {
        "id": "RG184tZ8m5yD"
      },
      "source": [
        "#PREDICTIVE ANALYSIS"
      ]
    },
    {
      "cell_type": "code",
      "execution_count": null,
      "metadata": {
        "id": "8CBIkPAqPajv"
      },
      "outputs": [],
      "source": [
        "import statsmodels.formula.api as smf"
      ]
    },
    {
      "cell_type": "code",
      "execution_count": null,
      "metadata": {
        "colab": {
          "base_uri": "https://localhost:8080/"
        },
        "id": "A60ignjdPfDv",
        "outputId": "f7e4c0b3-74f4-40ac-f435-cb5222854987"
      },
      "outputs": [
        {
          "output_type": "execute_result",
          "data": {
            "text/plain": [
              "0.38307891353096324"
            ]
          },
          "metadata": {},
          "execution_count": 193
        }
      ],
      "source": [
        "lm1 = smf.ols(formula='actual_productivity ~ targeted_productivity+idle_men+no_of_style_change+wip+no_of_workers+over_time+day+quarter+team+department+incentive+smv',data=datao).fit()\n",
        "\n",
        "lm1.rsquared"
      ]
    },
    {
      "cell_type": "code",
      "execution_count": null,
      "metadata": {
        "colab": {
          "base_uri": "https://localhost:8080/"
        },
        "id": "DcymBebKNhcT",
        "outputId": "16d131d0-9da8-4200-c914-5f6b01c4f8aa"
      },
      "outputs": [
        {
          "output_type": "execute_result",
          "data": {
            "text/plain": [
              "Intercept                2.725940e-01\n",
              "targeted_productivity    4.576600e-01\n",
              "idle_men                -4.737085e-03\n",
              "no_of_style_change      -7.045596e-03\n",
              "wip                     -7.611511e-07\n",
              "no_of_workers            2.882500e-03\n",
              "over_time               -4.222086e-06\n",
              "day                     -3.268695e-03\n",
              "quarter                 -7.866385e-03\n",
              "team                    -5.742115e-03\n",
              "department               1.803563e-01\n",
              "incentive                3.266672e-03\n",
              "smv                     -4.447136e-03\n",
              "dtype: float64"
            ]
          },
          "metadata": {},
          "execution_count": 65
        }
      ],
      "source": [
        "lm1.params"
      ]
    },
    {
      "cell_type": "code",
      "execution_count": null,
      "metadata": {
        "colab": {
          "base_uri": "https://localhost:8080/",
          "height": 705
        },
        "id": "t-TmGE76Px3Q",
        "outputId": "c83c4cf0-b116-4923-ea90-f671fb476678"
      },
      "outputs": [
        {
          "output_type": "execute_result",
          "data": {
            "text/plain": [
              "<class 'statsmodels.iolib.summary.Summary'>\n",
              "\"\"\"\n",
              "                             OLS Regression Results                            \n",
              "===============================================================================\n",
              "Dep. Variable:     actual_productivity   R-squared:                       0.383\n",
              "Model:                             OLS   Adj. R-squared:                  0.377\n",
              "Method:                  Least Squares   F-statistic:                     60.65\n",
              "Date:                 Fri, 16 Dec 2022   Prob (F-statistic):          5.87e-114\n",
              "Time:                         12:40:18   Log-Likelihood:                 679.51\n",
              "No. Observations:                 1185   AIC:                            -1333.\n",
              "Df Residuals:                     1172   BIC:                            -1267.\n",
              "Df Model:                           12                                         \n",
              "Covariance Type:             nonrobust                                         \n",
              "=========================================================================================\n",
              "                            coef    std err          t      P>|t|      [0.025      0.975]\n",
              "-----------------------------------------------------------------------------------------\n",
              "Intercept                 0.2726      0.046      5.889      0.000       0.182       0.363\n",
              "targeted_productivity     0.4577      0.045     10.079      0.000       0.369       0.547\n",
              "idle_men                 -0.0047      0.001     -3.764      0.000      -0.007      -0.002\n",
              "no_of_style_change       -0.0070      0.011     -0.632      0.527      -0.029       0.015\n",
              "wip                   -7.612e-07   2.89e-06     -0.263      0.792   -6.43e-06    4.91e-06\n",
              "no_of_workers             0.0029      0.001      4.151      0.000       0.002       0.004\n",
              "over_time             -4.222e-06   1.93e-06     -2.185      0.029   -8.01e-06   -4.31e-07\n",
              "day                      -0.0033      0.009     -0.383      0.702      -0.020       0.013\n",
              "quarter                  -0.0079      0.010     -0.825      0.410      -0.027       0.011\n",
              "team                     -0.0057      0.001     -4.627      0.000      -0.008      -0.003\n",
              "department                0.1804      0.027      6.757      0.000       0.128       0.233\n",
              "incentive                 0.0033      0.000     14.179      0.000       0.003       0.004\n",
              "smv                      -0.0044      0.001     -4.816      0.000      -0.006      -0.003\n",
              "==============================================================================\n",
              "Omnibus:                      173.519   Durbin-Watson:                   1.259\n",
              "Prob(Omnibus):                  0.000   Jarque-Bera (JB):              352.389\n",
              "Skew:                          -0.866   Prob(JB):                     3.02e-77\n",
              "Kurtosis:                       5.034   Cond. No.                     8.59e+04\n",
              "==============================================================================\n",
              "\n",
              "Notes:\n",
              "[1] Standard Errors assume that the covariance matrix of the errors is correctly specified.\n",
              "[2] The condition number is large, 8.59e+04. This might indicate that there are\n",
              "strong multicollinearity or other numerical problems.\n",
              "\"\"\""
            ],
            "text/html": [
              "<table class=\"simpletable\">\n",
              "<caption>OLS Regression Results</caption>\n",
              "<tr>\n",
              "  <th>Dep. Variable:</th>    <td>actual_productivity</td> <th>  R-squared:         </th> <td>   0.383</td> \n",
              "</tr>\n",
              "<tr>\n",
              "  <th>Model:</th>                    <td>OLS</td>         <th>  Adj. R-squared:    </th> <td>   0.377</td> \n",
              "</tr>\n",
              "<tr>\n",
              "  <th>Method:</th>              <td>Least Squares</td>    <th>  F-statistic:       </th> <td>   60.65</td> \n",
              "</tr>\n",
              "<tr>\n",
              "  <th>Date:</th>              <td>Fri, 16 Dec 2022</td>   <th>  Prob (F-statistic):</th> <td>5.87e-114</td>\n",
              "</tr>\n",
              "<tr>\n",
              "  <th>Time:</th>                  <td>12:40:18</td>       <th>  Log-Likelihood:    </th> <td>  679.51</td> \n",
              "</tr>\n",
              "<tr>\n",
              "  <th>No. Observations:</th>       <td>  1185</td>        <th>  AIC:               </th> <td>  -1333.</td> \n",
              "</tr>\n",
              "<tr>\n",
              "  <th>Df Residuals:</th>           <td>  1172</td>        <th>  BIC:               </th> <td>  -1267.</td> \n",
              "</tr>\n",
              "<tr>\n",
              "  <th>Df Model:</th>               <td>    12</td>        <th>                     </th>     <td> </td>    \n",
              "</tr>\n",
              "<tr>\n",
              "  <th>Covariance Type:</th>       <td>nonrobust</td>      <th>                     </th>     <td> </td>    \n",
              "</tr>\n",
              "</table>\n",
              "<table class=\"simpletable\">\n",
              "<tr>\n",
              "            <td></td>               <th>coef</th>     <th>std err</th>      <th>t</th>      <th>P>|t|</th>  <th>[0.025</th>    <th>0.975]</th>  \n",
              "</tr>\n",
              "<tr>\n",
              "  <th>Intercept</th>             <td>    0.2726</td> <td>    0.046</td> <td>    5.889</td> <td> 0.000</td> <td>    0.182</td> <td>    0.363</td>\n",
              "</tr>\n",
              "<tr>\n",
              "  <th>targeted_productivity</th> <td>    0.4577</td> <td>    0.045</td> <td>   10.079</td> <td> 0.000</td> <td>    0.369</td> <td>    0.547</td>\n",
              "</tr>\n",
              "<tr>\n",
              "  <th>idle_men</th>              <td>   -0.0047</td> <td>    0.001</td> <td>   -3.764</td> <td> 0.000</td> <td>   -0.007</td> <td>   -0.002</td>\n",
              "</tr>\n",
              "<tr>\n",
              "  <th>no_of_style_change</th>    <td>   -0.0070</td> <td>    0.011</td> <td>   -0.632</td> <td> 0.527</td> <td>   -0.029</td> <td>    0.015</td>\n",
              "</tr>\n",
              "<tr>\n",
              "  <th>wip</th>                   <td>-7.612e-07</td> <td> 2.89e-06</td> <td>   -0.263</td> <td> 0.792</td> <td>-6.43e-06</td> <td> 4.91e-06</td>\n",
              "</tr>\n",
              "<tr>\n",
              "  <th>no_of_workers</th>         <td>    0.0029</td> <td>    0.001</td> <td>    4.151</td> <td> 0.000</td> <td>    0.002</td> <td>    0.004</td>\n",
              "</tr>\n",
              "<tr>\n",
              "  <th>over_time</th>             <td>-4.222e-06</td> <td> 1.93e-06</td> <td>   -2.185</td> <td> 0.029</td> <td>-8.01e-06</td> <td>-4.31e-07</td>\n",
              "</tr>\n",
              "<tr>\n",
              "  <th>day</th>                   <td>   -0.0033</td> <td>    0.009</td> <td>   -0.383</td> <td> 0.702</td> <td>   -0.020</td> <td>    0.013</td>\n",
              "</tr>\n",
              "<tr>\n",
              "  <th>quarter</th>               <td>   -0.0079</td> <td>    0.010</td> <td>   -0.825</td> <td> 0.410</td> <td>   -0.027</td> <td>    0.011</td>\n",
              "</tr>\n",
              "<tr>\n",
              "  <th>team</th>                  <td>   -0.0057</td> <td>    0.001</td> <td>   -4.627</td> <td> 0.000</td> <td>   -0.008</td> <td>   -0.003</td>\n",
              "</tr>\n",
              "<tr>\n",
              "  <th>department</th>            <td>    0.1804</td> <td>    0.027</td> <td>    6.757</td> <td> 0.000</td> <td>    0.128</td> <td>    0.233</td>\n",
              "</tr>\n",
              "<tr>\n",
              "  <th>incentive</th>             <td>    0.0033</td> <td>    0.000</td> <td>   14.179</td> <td> 0.000</td> <td>    0.003</td> <td>    0.004</td>\n",
              "</tr>\n",
              "<tr>\n",
              "  <th>smv</th>                   <td>   -0.0044</td> <td>    0.001</td> <td>   -4.816</td> <td> 0.000</td> <td>   -0.006</td> <td>   -0.003</td>\n",
              "</tr>\n",
              "</table>\n",
              "<table class=\"simpletable\">\n",
              "<tr>\n",
              "  <th>Omnibus:</th>       <td>173.519</td> <th>  Durbin-Watson:     </th> <td>   1.259</td>\n",
              "</tr>\n",
              "<tr>\n",
              "  <th>Prob(Omnibus):</th> <td> 0.000</td>  <th>  Jarque-Bera (JB):  </th> <td> 352.389</td>\n",
              "</tr>\n",
              "<tr>\n",
              "  <th>Skew:</th>          <td>-0.866</td>  <th>  Prob(JB):          </th> <td>3.02e-77</td>\n",
              "</tr>\n",
              "<tr>\n",
              "  <th>Kurtosis:</th>      <td> 5.034</td>  <th>  Cond. No.          </th> <td>8.59e+04</td>\n",
              "</tr>\n",
              "</table><br/><br/>Notes:<br/>[1] Standard Errors assume that the covariance matrix of the errors is correctly specified.<br/>[2] The condition number is large, 8.59e+04. This might indicate that there are<br/>strong multicollinearity or other numerical problems."
            ]
          },
          "metadata": {},
          "execution_count": 66
        }
      ],
      "source": [
        "lm1.summary()"
      ]
    },
    {
      "cell_type": "code",
      "execution_count": null,
      "metadata": {
        "id": "4zsYhKM1heZn"
      },
      "outputs": [],
      "source": [
        "data=data.reset_index()"
      ]
    },
    {
      "cell_type": "code",
      "execution_count": null,
      "metadata": {
        "colab": {
          "base_uri": "https://localhost:8080/",
          "height": 270
        },
        "id": "gIXT70Gzhjt6",
        "outputId": "2075cb32-0875-41f0-fdcd-e8e34c489f5a"
      },
      "outputs": [
        {
          "output_type": "execute_result",
          "data": {
            "text/plain": [
              "   index  quarter  department  day  team  targeted_productivity    smv  \\\n",
              "0      0        0           0    1     8                   0.80  26.16   \n",
              "1      1        0           1    1     1                   0.75   3.94   \n",
              "2      2        0           0    1    11                   0.80  11.41   \n",
              "3      3        0           0    1    12                   0.80  11.41   \n",
              "4      4        0           0    1     6                   0.80  25.90   \n",
              "\n",
              "           wip  over_time  incentive  idle_time  idle_men  no_of_style_change  \\\n",
              "0  1108.000000       7080         98        0.0         0                   0   \n",
              "1  1190.465991        960          0        0.0         0                   0   \n",
              "2   968.000000       3660         50        0.0         0                   0   \n",
              "3   968.000000       3660         50        0.0         0                   0   \n",
              "4  1170.000000       1920         50        0.0         0                   0   \n",
              "\n",
              "   no_of_workers  actual_productivity  \n",
              "0           59.0             0.940725  \n",
              "1            8.0             0.886500  \n",
              "2           30.5             0.800570  \n",
              "3           30.5             0.800570  \n",
              "4           56.0             0.800382  "
            ],
            "text/html": [
              "\n",
              "  <div id=\"df-b0436000-b905-4228-9ec5-6817db8ad8fe\">\n",
              "    <div class=\"colab-df-container\">\n",
              "      <div>\n",
              "<style scoped>\n",
              "    .dataframe tbody tr th:only-of-type {\n",
              "        vertical-align: middle;\n",
              "    }\n",
              "\n",
              "    .dataframe tbody tr th {\n",
              "        vertical-align: top;\n",
              "    }\n",
              "\n",
              "    .dataframe thead th {\n",
              "        text-align: right;\n",
              "    }\n",
              "</style>\n",
              "<table border=\"1\" class=\"dataframe\">\n",
              "  <thead>\n",
              "    <tr style=\"text-align: right;\">\n",
              "      <th></th>\n",
              "      <th>index</th>\n",
              "      <th>quarter</th>\n",
              "      <th>department</th>\n",
              "      <th>day</th>\n",
              "      <th>team</th>\n",
              "      <th>targeted_productivity</th>\n",
              "      <th>smv</th>\n",
              "      <th>wip</th>\n",
              "      <th>over_time</th>\n",
              "      <th>incentive</th>\n",
              "      <th>idle_time</th>\n",
              "      <th>idle_men</th>\n",
              "      <th>no_of_style_change</th>\n",
              "      <th>no_of_workers</th>\n",
              "      <th>actual_productivity</th>\n",
              "    </tr>\n",
              "  </thead>\n",
              "  <tbody>\n",
              "    <tr>\n",
              "      <th>0</th>\n",
              "      <td>0</td>\n",
              "      <td>0</td>\n",
              "      <td>0</td>\n",
              "      <td>1</td>\n",
              "      <td>8</td>\n",
              "      <td>0.80</td>\n",
              "      <td>26.16</td>\n",
              "      <td>1108.000000</td>\n",
              "      <td>7080</td>\n",
              "      <td>98</td>\n",
              "      <td>0.0</td>\n",
              "      <td>0</td>\n",
              "      <td>0</td>\n",
              "      <td>59.0</td>\n",
              "      <td>0.940725</td>\n",
              "    </tr>\n",
              "    <tr>\n",
              "      <th>1</th>\n",
              "      <td>1</td>\n",
              "      <td>0</td>\n",
              "      <td>1</td>\n",
              "      <td>1</td>\n",
              "      <td>1</td>\n",
              "      <td>0.75</td>\n",
              "      <td>3.94</td>\n",
              "      <td>1190.465991</td>\n",
              "      <td>960</td>\n",
              "      <td>0</td>\n",
              "      <td>0.0</td>\n",
              "      <td>0</td>\n",
              "      <td>0</td>\n",
              "      <td>8.0</td>\n",
              "      <td>0.886500</td>\n",
              "    </tr>\n",
              "    <tr>\n",
              "      <th>2</th>\n",
              "      <td>2</td>\n",
              "      <td>0</td>\n",
              "      <td>0</td>\n",
              "      <td>1</td>\n",
              "      <td>11</td>\n",
              "      <td>0.80</td>\n",
              "      <td>11.41</td>\n",
              "      <td>968.000000</td>\n",
              "      <td>3660</td>\n",
              "      <td>50</td>\n",
              "      <td>0.0</td>\n",
              "      <td>0</td>\n",
              "      <td>0</td>\n",
              "      <td>30.5</td>\n",
              "      <td>0.800570</td>\n",
              "    </tr>\n",
              "    <tr>\n",
              "      <th>3</th>\n",
              "      <td>3</td>\n",
              "      <td>0</td>\n",
              "      <td>0</td>\n",
              "      <td>1</td>\n",
              "      <td>12</td>\n",
              "      <td>0.80</td>\n",
              "      <td>11.41</td>\n",
              "      <td>968.000000</td>\n",
              "      <td>3660</td>\n",
              "      <td>50</td>\n",
              "      <td>0.0</td>\n",
              "      <td>0</td>\n",
              "      <td>0</td>\n",
              "      <td>30.5</td>\n",
              "      <td>0.800570</td>\n",
              "    </tr>\n",
              "    <tr>\n",
              "      <th>4</th>\n",
              "      <td>4</td>\n",
              "      <td>0</td>\n",
              "      <td>0</td>\n",
              "      <td>1</td>\n",
              "      <td>6</td>\n",
              "      <td>0.80</td>\n",
              "      <td>25.90</td>\n",
              "      <td>1170.000000</td>\n",
              "      <td>1920</td>\n",
              "      <td>50</td>\n",
              "      <td>0.0</td>\n",
              "      <td>0</td>\n",
              "      <td>0</td>\n",
              "      <td>56.0</td>\n",
              "      <td>0.800382</td>\n",
              "    </tr>\n",
              "  </tbody>\n",
              "</table>\n",
              "</div>\n",
              "      <button class=\"colab-df-convert\" onclick=\"convertToInteractive('df-b0436000-b905-4228-9ec5-6817db8ad8fe')\"\n",
              "              title=\"Convert this dataframe to an interactive table.\"\n",
              "              style=\"display:none;\">\n",
              "        \n",
              "  <svg xmlns=\"http://www.w3.org/2000/svg\" height=\"24px\"viewBox=\"0 0 24 24\"\n",
              "       width=\"24px\">\n",
              "    <path d=\"M0 0h24v24H0V0z\" fill=\"none\"/>\n",
              "    <path d=\"M18.56 5.44l.94 2.06.94-2.06 2.06-.94-2.06-.94-.94-2.06-.94 2.06-2.06.94zm-11 1L8.5 8.5l.94-2.06 2.06-.94-2.06-.94L8.5 2.5l-.94 2.06-2.06.94zm10 10l.94 2.06.94-2.06 2.06-.94-2.06-.94-.94-2.06-.94 2.06-2.06.94z\"/><path d=\"M17.41 7.96l-1.37-1.37c-.4-.4-.92-.59-1.43-.59-.52 0-1.04.2-1.43.59L10.3 9.45l-7.72 7.72c-.78.78-.78 2.05 0 2.83L4 21.41c.39.39.9.59 1.41.59.51 0 1.02-.2 1.41-.59l7.78-7.78 2.81-2.81c.8-.78.8-2.07 0-2.86zM5.41 20L4 18.59l7.72-7.72 1.47 1.35L5.41 20z\"/>\n",
              "  </svg>\n",
              "      </button>\n",
              "      \n",
              "  <style>\n",
              "    .colab-df-container {\n",
              "      display:flex;\n",
              "      flex-wrap:wrap;\n",
              "      gap: 12px;\n",
              "    }\n",
              "\n",
              "    .colab-df-convert {\n",
              "      background-color: #E8F0FE;\n",
              "      border: none;\n",
              "      border-radius: 50%;\n",
              "      cursor: pointer;\n",
              "      display: none;\n",
              "      fill: #1967D2;\n",
              "      height: 32px;\n",
              "      padding: 0 0 0 0;\n",
              "      width: 32px;\n",
              "    }\n",
              "\n",
              "    .colab-df-convert:hover {\n",
              "      background-color: #E2EBFA;\n",
              "      box-shadow: 0px 1px 2px rgba(60, 64, 67, 0.3), 0px 1px 3px 1px rgba(60, 64, 67, 0.15);\n",
              "      fill: #174EA6;\n",
              "    }\n",
              "\n",
              "    [theme=dark] .colab-df-convert {\n",
              "      background-color: #3B4455;\n",
              "      fill: #D2E3FC;\n",
              "    }\n",
              "\n",
              "    [theme=dark] .colab-df-convert:hover {\n",
              "      background-color: #434B5C;\n",
              "      box-shadow: 0px 1px 3px 1px rgba(0, 0, 0, 0.15);\n",
              "      filter: drop-shadow(0px 1px 2px rgba(0, 0, 0, 0.3));\n",
              "      fill: #FFFFFF;\n",
              "    }\n",
              "  </style>\n",
              "\n",
              "      <script>\n",
              "        const buttonEl =\n",
              "          document.querySelector('#df-b0436000-b905-4228-9ec5-6817db8ad8fe button.colab-df-convert');\n",
              "        buttonEl.style.display =\n",
              "          google.colab.kernel.accessAllowed ? 'block' : 'none';\n",
              "\n",
              "        async function convertToInteractive(key) {\n",
              "          const element = document.querySelector('#df-b0436000-b905-4228-9ec5-6817db8ad8fe');\n",
              "          const dataTable =\n",
              "            await google.colab.kernel.invokeFunction('convertToInteractive',\n",
              "                                                     [key], {});\n",
              "          if (!dataTable) return;\n",
              "\n",
              "          const docLinkHtml = 'Like what you see? Visit the ' +\n",
              "            '<a target=\"_blank\" href=https://colab.research.google.com/notebooks/data_table.ipynb>data table notebook</a>'\n",
              "            + ' to learn more about interactive tables.';\n",
              "          element.innerHTML = '';\n",
              "          dataTable['output_type'] = 'display_data';\n",
              "          await google.colab.output.renderOutput(dataTable, element);\n",
              "          const docLink = document.createElement('div');\n",
              "          docLink.innerHTML = docLinkHtml;\n",
              "          element.appendChild(docLink);\n",
              "        }\n",
              "      </script>\n",
              "    </div>\n",
              "  </div>\n",
              "  "
            ]
          },
          "metadata": {},
          "execution_count": 68
        }
      ],
      "source": [
        "data.head()"
      ]
    },
    {
      "cell_type": "code",
      "execution_count": null,
      "metadata": {
        "colab": {
          "base_uri": "https://localhost:8080/",
          "height": 296
        },
        "id": "G5gZ_nn2hpMd",
        "outputId": "1b7ed396-42eb-4547-a0df-39a818345abf"
      },
      "outputs": [
        {
          "output_type": "execute_result",
          "data": {
            "text/plain": [
              "<matplotlib.axes._subplots.AxesSubplot at 0x7f337079d190>"
            ]
          },
          "metadata": {},
          "execution_count": 69
        },
        {
          "output_type": "display_data",
          "data": {
            "text/plain": [
              "<Figure size 432x288 with 1 Axes>"
            ],
            "image/png": "[encoded data removed]"
          },
          "metadata": {
            "needs_background": "light"
          }
        }
      ],
      "source": [
        "sns.scatterplot(x='index',y='actual_productivity',data=data)"
      ]
    },
    {
      "cell_type": "markdown",
      "metadata": {
        "id": "Kt6w_ya0ncHV"
      },
      "source": [
        "#SPLITTING THE DATA USING TRAIN-TEST"
      ]
    },
    {
      "cell_type": "code",
      "execution_count": null,
      "metadata": {
        "id": "3CJzD9GfpWvy"
      },
      "outputs": [],
      "source": [
        "x = datao.drop(['actual_productivity'],axis=1)\n",
        "y = datao.actual_productivity"
      ]
    },
    {
      "cell_type": "code",
      "execution_count": null,
      "metadata": {
        "id": "qSsG9XRxpZBu"
      },
      "outputs": [],
      "source": [
        "from sklearn.model_selection import train_test_split\n",
        "x_train,x_test,y_train,y_test = train_test_split(x, y, test_size=0.3,random_state=42)"
      ]
    },
    {
      "cell_type": "code",
      "execution_count": null,
      "metadata": {
        "colab": {
          "base_uri": "https://localhost:8080/"
        },
        "id": "BMZmP7Q_pbnk",
        "outputId": "70c81e1f-1c28-4c43-967a-86fcfdff03b4"
      },
      "outputs": [
        {
          "output_type": "stream",
          "name": "stdout",
          "text": [
            "(829, 13)\n",
            "(356, 13)\n",
            "(829,)\n",
            "(356,)\n"
          ]
        }
      ],
      "source": [
        "print(x_train.shape)\n",
        "print(x_test.shape)\n",
        "print(y_train.shape)\n",
        "print(y_test.shape)"
      ]
    },
    {
      "cell_type": "code",
      "execution_count": null,
      "metadata": {
        "colab": {
          "base_uri": "https://localhost:8080/"
        },
        "id": "area2mJMqnxc",
        "outputId": "44acf8cb-33d0-48ba-9639-ffb9fe758a1d"
      },
      "outputs": [
        {
          "output_type": "stream",
          "name": "stdout",
          "text": [
            "[0.70013953 0.49552826 0.71087768 0.75815879 0.64276024 0.7862291\n",
            " 0.66517843 0.62938957 0.742006   0.79735792 0.89071247 0.74001328\n",
            " 0.4284245  1.06374346 0.84125363 0.81993279 0.56728468 0.55091188\n",
            " 0.48433785 0.68579547 0.70123421 0.79942755 0.53394694 0.79948909\n",
            " 0.52422625 0.57079388 0.72249542 0.70772214 0.62709594 0.76033212\n",
            " 0.74152563 0.78101058 0.68439533 0.59837958 0.70546692 0.81342048\n",
            " 0.66948145 1.01765802 0.77318617 0.82122051 0.77476183 0.76003022\n",
            " 0.58268869 0.7895939  0.70460791 0.8695213  0.8626819  0.73248486\n",
            " 0.86302512 0.74983794 0.88439323 0.63667152 0.80530322 0.83933751\n",
            " 0.63812946 0.77289331 0.77550663 0.67295603 0.74015235 0.78071771\n",
            " 0.7773301  0.67231748 0.77247846 0.75238561 0.76261593 0.7498304\n",
            " 0.63931376 0.70890386 0.8794371  0.68211181 0.984879   0.80559608\n",
            " 0.78107385 0.68325408 0.65356878 0.72847691 0.99340295 0.74378223\n",
            " 0.79362898 0.84123099 0.74054103 1.02381924 0.57152846 0.76836279\n",
            " 0.72217998 0.7751372  0.73880647 0.45025407 0.59941204 1.03825313\n",
            " 0.74905899 0.55491924 0.69669678 0.59961958 0.89710649 0.79327679\n",
            " 0.56811521 0.60523095 0.78718804 0.54977968 0.76671585 0.76133752\n",
            " 0.78314672 0.66010253 0.71191263 0.80963942 0.64291304 1.05902905\n",
            " 0.81050517 0.63228602 0.71358298 0.75280279 0.35267591 0.8250744\n",
            " 0.5911172  0.7442988  0.67005546 0.6488959  0.73765807 0.77289331\n",
            " 0.63643262 0.69428352 0.77899788 0.76511242 0.78260115 0.72770844\n",
            " 0.58960587 0.56905887 0.7750078  0.79477626 0.68207851 0.64226997\n",
            " 0.54189855 0.84128785 0.7476351  0.75348027 0.71429699 0.79088688\n",
            " 0.67066787 0.54357915 0.79423267 0.6233587  0.67260459 0.79055238\n",
            " 0.72580395 0.73768613 0.71790872 0.64236625 0.6419239  0.7264893\n",
            " 0.751353   0.7433507  0.79326559 0.7654629  0.68330414 0.74332337\n",
            " 1.03293076 0.65039997 0.73191623 0.84702559 0.89068441 0.72461426\n",
            " 0.80530322 0.80530322 0.63609748 0.74000786 0.75679153 0.75194086\n",
            " 0.89775105 0.74539893 0.75421307 0.72477555 0.76092621 0.73972566\n",
            " 0.68537835 0.76751322 0.78703402 0.64342463 0.57931446 0.72359458\n",
            " 0.63449499 0.72770844 0.76372438 0.6304909  0.83130053 0.73305759\n",
            " 0.77289331 0.5524038  0.75226757 0.73886826 0.82314116 0.6296828\n",
            " 0.79451434 0.74215101 0.74752527 0.70196024 0.80122542 0.83479508\n",
            " 0.93701607 0.74340017 0.71595541 0.78351418 0.76516696 0.75258964\n",
            " 0.55643718 0.751353   0.53394694 0.80489651 0.88577487 0.78691584\n",
            " 0.75753046 0.75588352 0.66932284 0.79652715 0.74488921 0.70607417\n",
            " 0.59204881 0.72076731 0.78960449 0.70207852 0.782484   0.72950323\n",
            " 0.77142673 0.754603   0.57471066 0.83154472 0.70971173 0.80127137\n",
            " 0.72320142 0.82490433 0.51376623 0.75913571 0.74826604 0.74597837\n",
            " 0.5980945  0.70013953 0.81667084 0.7841118  0.68010522 0.74080163\n",
            " 1.04184775 0.56217812 1.02805011 0.78153022 0.65040874 0.57304852\n",
            " 0.76039952 0.71840947 0.50996177 0.71140189 0.79328439 0.74905899\n",
            " 0.58916145 0.80559608 0.75147976 0.75300512 0.59298662 0.73847419\n",
            " 0.55634204 0.72950323 0.60291683 0.74275716 0.70906796 0.72770844\n",
            " 0.65580064 0.77928625 0.77635571 0.78934224 0.75588352 0.74283517\n",
            " 0.83673005 0.7189121  0.61839445 0.74873792 0.82285543 0.73245812\n",
            " 0.69476389 0.63608517 1.04028762 0.90870997 0.69158302 1.02691962\n",
            " 0.68211928 0.42509905 0.72477053 0.91367224 0.7750078  0.90600662\n",
            " 0.78071771 0.56928275 0.73544379 0.66368497 0.74376471 0.81245765\n",
            " 0.49999293 0.7116943  0.68499042 0.75889145 0.80077269 0.6358599\n",
            " 0.77289331 0.792054   0.54888911 0.5613682  0.67844229 0.75399091\n",
            " 0.51942194 0.72627698 0.59733342 0.65454338 0.79616794 0.66941276\n",
            " 0.82833372 0.74973349 0.74458118 0.75188727 0.69824262 0.76671585\n",
            " 0.80865238 0.73789396 0.71371008 0.75491538 0.77426806 0.65776642\n",
            " 0.79556084 0.63273055 0.70752535 0.555515   0.79169242 0.80161574\n",
            " 0.78044552 0.51792493 0.64476398 0.80724302 0.71521086 0.75725405\n",
            " 0.76768513 0.76268366 0.72921016 0.75753046 0.63013062 0.77936364\n",
            " 0.79453089 0.72664417 0.8250744  0.76163958 0.76033212 0.89068638\n",
            " 0.78944135 0.99134638 0.39163452 0.77897868 0.80299748 0.7376444\n",
            " 0.59626743 0.77708721]\n",
            "0.30049874162504614\n"
          ]
        }
      ],
      "source": [
        "x = datao.drop(['actual_productivity'],axis=1)\n",
        "y = datao.actual_productivity\n",
        "lm1 = LinearRegression()\n",
        "lm1.fit(x_train,y_train)\n",
        "y_pred = lm1.predict(x_test)\n",
        "print(y_pred)\n",
        "print(np.sqrt(met.mean_absolute_error(y_test,y_pred)))"
      ]
    },
    {
      "cell_type": "code",
      "execution_count": null,
      "metadata": {
        "id": "VRobBZo8_CnH"
      },
      "outputs": [],
      "source": [
        "import statsmodels.formula.api as smf"
      ]
    },
    {
      "cell_type": "code",
      "execution_count": null,
      "metadata": {
        "colab": {
          "base_uri": "https://localhost:8080/"
        },
        "id": "bVRvWhFO_JB1",
        "outputId": "6e770bec-bd60-4024-d1d3-6c13f44a2e50"
      },
      "outputs": [
        {
          "output_type": "execute_result",
          "data": {
            "text/plain": [
              "0.38307891353096324"
            ]
          },
          "metadata": {},
          "execution_count": 75
        }
      ],
      "source": [
        "lm1 = smf.ols(formula='actual_productivity ~ targeted_productivity+idle_men+no_of_style_change+wip+no_of_workers+over_time+day+quarter+team+department+incentive+smv',data=datao).fit()\n",
        "\n",
        "lm1.rsquared"
      ]
    },
    {
      "cell_type": "code",
      "execution_count": null,
      "metadata": {
        "colab": {
          "base_uri": "https://localhost:8080/"
        },
        "id": "ym7_lKGj-42D",
        "outputId": "e2b1b706-d8fe-40c9-c1b6-473f166617c5"
      },
      "outputs": [
        {
          "output_type": "execute_result",
          "data": {
            "text/plain": [
              "Intercept                2.725940e-01\n",
              "targeted_productivity    4.576600e-01\n",
              "idle_men                -4.737085e-03\n",
              "no_of_style_change      -7.045596e-03\n",
              "wip                     -7.611511e-07\n",
              "no_of_workers            2.882500e-03\n",
              "over_time               -4.222086e-06\n",
              "day                     -3.268695e-03\n",
              "quarter                 -7.866385e-03\n",
              "team                    -5.742115e-03\n",
              "department               1.803563e-01\n",
              "incentive                3.266672e-03\n",
              "smv                     -4.447136e-03\n",
              "dtype: float64"
            ]
          },
          "metadata": {},
          "execution_count": 76
        }
      ],
      "source": [
        "lm1.params"
      ]
    },
    {
      "cell_type": "code",
      "execution_count": null,
      "metadata": {
        "colab": {
          "base_uri": "https://localhost:8080/",
          "height": 705
        },
        "id": "C1agvgxo-5DQ",
        "outputId": "5153a6ef-161f-43db-93a7-15b932ee9afc"
      },
      "outputs": [
        {
          "output_type": "execute_result",
          "data": {
            "text/plain": [
              "<class 'statsmodels.iolib.summary.Summary'>\n",
              "\"\"\"\n",
              "                             OLS Regression Results                            \n",
              "===============================================================================\n",
              "Dep. Variable:     actual_productivity   R-squared:                       0.383\n",
              "Model:                             OLS   Adj. R-squared:                  0.377\n",
              "Method:                  Least Squares   F-statistic:                     60.65\n",
              "Date:                 Thu, 15 Dec 2022   Prob (F-statistic):          5.87e-114\n",
              "Time:                         10:48:48   Log-Likelihood:                 679.51\n",
              "No. Observations:                 1185   AIC:                            -1333.\n",
              "Df Residuals:                     1172   BIC:                            -1267.\n",
              "Df Model:                           12                                         \n",
              "Covariance Type:             nonrobust                                         \n",
              "=========================================================================================\n",
              "                            coef    std err          t      P>|t|      [0.025      0.975]\n",
              "-----------------------------------------------------------------------------------------\n",
              "Intercept                 0.2726      0.046      5.889      0.000       0.182       0.363\n",
              "targeted_productivity     0.4577      0.045     10.079      0.000       0.369       0.547\n",
              "idle_men                 -0.0047      0.001     -3.764      0.000      -0.007      -0.002\n",
              "no_of_style_change       -0.0070      0.011     -0.632      0.527      -0.029       0.015\n",
              "wip                   -7.612e-07   2.89e-06     -0.263      0.792   -6.43e-06    4.91e-06\n",
              "no_of_workers             0.0029      0.001      4.151      0.000       0.002       0.004\n",
              "over_time             -4.222e-06   1.93e-06     -2.185      0.029   -8.01e-06   -4.31e-07\n",
              "day                      -0.0033      0.009     -0.383      0.702      -0.020       0.013\n",
              "quarter                  -0.0079      0.010     -0.825      0.410      -0.027       0.011\n",
              "team                     -0.0057      0.001     -4.627      0.000      -0.008      -0.003\n",
              "department                0.1804      0.027      6.757      0.000       0.128       0.233\n",
              "incentive                 0.0033      0.000     14.179      0.000       0.003       0.004\n",
              "smv                      -0.0044      0.001     -4.816      0.000      -0.006      -0.003\n",
              "==============================================================================\n",
              "Omnibus:                      173.519   Durbin-Watson:                   1.259\n",
              "Prob(Omnibus):                  0.000   Jarque-Bera (JB):              352.389\n",
              "Skew:                          -0.866   Prob(JB):                     3.02e-77\n",
              "Kurtosis:                       5.034   Cond. No.                     8.59e+04\n",
              "==============================================================================\n",
              "\n",
              "Notes:\n",
              "[1] Standard Errors assume that the covariance matrix of the errors is correctly specified.\n",
              "[2] The condition number is large, 8.59e+04. This might indicate that there are\n",
              "strong multicollinearity or other numerical problems.\n",
              "\"\"\""
            ],
            "text/html": [
              "<table class=\"simpletable\">\n",
              "<caption>OLS Regression Results</caption>\n",
              "<tr>\n",
              "  <th>Dep. Variable:</th>    <td>actual_productivity</td> <th>  R-squared:         </th> <td>   0.383</td> \n",
              "</tr>\n",
              "<tr>\n",
              "  <th>Model:</th>                    <td>OLS</td>         <th>  Adj. R-squared:    </th> <td>   0.377</td> \n",
              "</tr>\n",
              "<tr>\n",
              "  <th>Method:</th>              <td>Least Squares</td>    <th>  F-statistic:       </th> <td>   60.65</td> \n",
              "</tr>\n",
              "<tr>\n",
              "  <th>Date:</th>              <td>Thu, 15 Dec 2022</td>   <th>  Prob (F-statistic):</th> <td>5.87e-114</td>\n",
              "</tr>\n",
              "<tr>\n",
              "  <th>Time:</th>                  <td>10:48:48</td>       <th>  Log-Likelihood:    </th> <td>  679.51</td> \n",
              "</tr>\n",
              "<tr>\n",
              "  <th>No. Observations:</th>       <td>  1185</td>        <th>  AIC:               </th> <td>  -1333.</td> \n",
              "</tr>\n",
              "<tr>\n",
              "  <th>Df Residuals:</th>           <td>  1172</td>        <th>  BIC:               </th> <td>  -1267.</td> \n",
              "</tr>\n",
              "<tr>\n",
              "  <th>Df Model:</th>               <td>    12</td>        <th>                     </th>     <td> </td>    \n",
              "</tr>\n",
              "<tr>\n",
              "  <th>Covariance Type:</th>       <td>nonrobust</td>      <th>                     </th>     <td> </td>    \n",
              "</tr>\n",
              "</table>\n",
              "<table class=\"simpletable\">\n",
              "<tr>\n",
              "            <td></td>               <th>coef</th>     <th>std err</th>      <th>t</th>      <th>P>|t|</th>  <th>[0.025</th>    <th>0.975]</th>  \n",
              "</tr>\n",
              "<tr>\n",
              "  <th>Intercept</th>             <td>    0.2726</td> <td>    0.046</td> <td>    5.889</td> <td> 0.000</td> <td>    0.182</td> <td>    0.363</td>\n",
              "</tr>\n",
              "<tr>\n",
              "  <th>targeted_productivity</th> <td>    0.4577</td> <td>    0.045</td> <td>   10.079</td> <td> 0.000</td> <td>    0.369</td> <td>    0.547</td>\n",
              "</tr>\n",
              "<tr>\n",
              "  <th>idle_men</th>              <td>   -0.0047</td> <td>    0.001</td> <td>   -3.764</td> <td> 0.000</td> <td>   -0.007</td> <td>   -0.002</td>\n",
              "</tr>\n",
              "<tr>\n",
              "  <th>no_of_style_change</th>    <td>   -0.0070</td> <td>    0.011</td> <td>   -0.632</td> <td> 0.527</td> <td>   -0.029</td> <td>    0.015</td>\n",
              "</tr>\n",
              "<tr>\n",
              "  <th>wip</th>                   <td>-7.612e-07</td> <td> 2.89e-06</td> <td>   -0.263</td> <td> 0.792</td> <td>-6.43e-06</td> <td> 4.91e-06</td>\n",
              "</tr>\n",
              "<tr>\n",
              "  <th>no_of_workers</th>         <td>    0.0029</td> <td>    0.001</td> <td>    4.151</td> <td> 0.000</td> <td>    0.002</td> <td>    0.004</td>\n",
              "</tr>\n",
              "<tr>\n",
              "  <th>over_time</th>             <td>-4.222e-06</td> <td> 1.93e-06</td> <td>   -2.185</td> <td> 0.029</td> <td>-8.01e-06</td> <td>-4.31e-07</td>\n",
              "</tr>\n",
              "<tr>\n",
              "  <th>day</th>                   <td>   -0.0033</td> <td>    0.009</td> <td>   -0.383</td> <td> 0.702</td> <td>   -0.020</td> <td>    0.013</td>\n",
              "</tr>\n",
              "<tr>\n",
              "  <th>quarter</th>               <td>   -0.0079</td> <td>    0.010</td> <td>   -0.825</td> <td> 0.410</td> <td>   -0.027</td> <td>    0.011</td>\n",
              "</tr>\n",
              "<tr>\n",
              "  <th>team</th>                  <td>   -0.0057</td> <td>    0.001</td> <td>   -4.627</td> <td> 0.000</td> <td>   -0.008</td> <td>   -0.003</td>\n",
              "</tr>\n",
              "<tr>\n",
              "  <th>department</th>            <td>    0.1804</td> <td>    0.027</td> <td>    6.757</td> <td> 0.000</td> <td>    0.128</td> <td>    0.233</td>\n",
              "</tr>\n",
              "<tr>\n",
              "  <th>incentive</th>             <td>    0.0033</td> <td>    0.000</td> <td>   14.179</td> <td> 0.000</td> <td>    0.003</td> <td>    0.004</td>\n",
              "</tr>\n",
              "<tr>\n",
              "  <th>smv</th>                   <td>   -0.0044</td> <td>    0.001</td> <td>   -4.816</td> <td> 0.000</td> <td>   -0.006</td> <td>   -0.003</td>\n",
              "</tr>\n",
              "</table>\n",
              "<table class=\"simpletable\">\n",
              "<tr>\n",
              "  <th>Omnibus:</th>       <td>173.519</td> <th>  Durbin-Watson:     </th> <td>   1.259</td>\n",
              "</tr>\n",
              "<tr>\n",
              "  <th>Prob(Omnibus):</th> <td> 0.000</td>  <th>  Jarque-Bera (JB):  </th> <td> 352.389</td>\n",
              "</tr>\n",
              "<tr>\n",
              "  <th>Skew:</th>          <td>-0.866</td>  <th>  Prob(JB):          </th> <td>3.02e-77</td>\n",
              "</tr>\n",
              "<tr>\n",
              "  <th>Kurtosis:</th>      <td> 5.034</td>  <th>  Cond. No.          </th> <td>8.59e+04</td>\n",
              "</tr>\n",
              "</table><br/><br/>Notes:<br/>[1] Standard Errors assume that the covariance matrix of the errors is correctly specified.<br/>[2] The condition number is large, 8.59e+04. This might indicate that there are<br/>strong multicollinearity or other numerical problems."
            ]
          },
          "metadata": {},
          "execution_count": 77
        }
      ],
      "source": [
        "lm1.summary()"
      ]
    },
    {
      "cell_type": "code",
      "execution_count": null,
      "metadata": {
        "id": "uN1yC9CU5XuH"
      },
      "outputs": [],
      "source": [
        "x = datao.drop(['actual_productivity'],axis=1)\n",
        "y = datao.actual_productivity"
      ]
    },
    {
      "cell_type": "code",
      "execution_count": null,
      "metadata": {
        "id": "ONkDbpPG5X8J"
      },
      "outputs": [],
      "source": [
        "from sklearn.model_selection import train_test_split\n",
        "x_train,x_test,y_train,y_test = train_test_split(x, y, test_size=0.4,random_state=42)"
      ]
    },
    {
      "cell_type": "code",
      "execution_count": null,
      "metadata": {
        "colab": {
          "base_uri": "https://localhost:8080/"
        },
        "id": "ykuVfl515YG9",
        "outputId": "cd1fb74d-d1bc-4646-e349-f73fda89f459"
      },
      "outputs": [
        {
          "output_type": "stream",
          "name": "stdout",
          "text": [
            "(711, 13)\n",
            "(474, 13)\n",
            "(711,)\n",
            "(474,)\n"
          ]
        }
      ],
      "source": [
        "print(x_train.shape)\n",
        "print(x_test.shape)\n",
        "print(y_train.shape)\n",
        "print(y_test.shape)"
      ]
    },
    {
      "cell_type": "code",
      "execution_count": null,
      "metadata": {
        "colab": {
          "base_uri": "https://localhost:8080/"
        },
        "id": "LgJYjxtj5YQg",
        "outputId": "80c81cec-e6c1-46f5-a7b9-32fe429025ed"
      },
      "outputs": [
        {
          "output_type": "stream",
          "name": "stdout",
          "text": [
            "[0.69751526 0.50106199 0.70625351 0.74987254 0.653562   0.78133119\n",
            " 0.66145201 0.63269324 0.73242907 0.79500702 0.88509145 0.7307867\n",
            " 0.42119424 1.07450511 0.83349474 0.82508067 0.56328254 0.5697418\n",
            " 0.47643287 0.68728999 0.70405894 0.79045884 0.5435083  0.79054686\n",
            " 0.53261826 0.56704488 0.71989088 0.71463968 0.64047613 0.75155583\n",
            " 0.73593674 0.78370487 0.68714823 0.57730016 0.69891487 0.81726729\n",
            " 0.66234983 1.02127294 0.7750507  0.82516926 0.76487421 0.76211442\n",
            " 0.58760793 0.7918554  0.69681707 0.87741764 0.86985463 0.73324895\n",
            " 0.8605294  0.74343737 0.87775407 0.63786429 0.79820444 0.84169285\n",
            " 0.62149083 0.76464202 0.76355365 0.67151498 0.74720386 0.77329619\n",
            " 0.78374658 0.67833308 0.77461122 0.7558449  0.76865631 0.74108324\n",
            " 0.64678354 0.70719785 0.8842063  0.6878033  0.98598713 0.80861312\n",
            " 0.77678313 0.68039906 0.65435586 0.72743952 0.99503252 0.73326483\n",
            " 0.80281063 0.83346234 0.7347833  1.0276923  0.5760496  0.76041101\n",
            " 0.73148896 0.76523226 0.73636868 0.45060565 0.58830229 1.03960051\n",
            " 0.74960138 0.56450161 0.69096085 0.60406717 0.90183357 0.79617651\n",
            " 0.57593306 0.61563053 0.79014746 0.55819806 0.75819943 0.7644767\n",
            " 0.77503723 0.64577354 0.71573093 0.8112583  0.64593515 1.06976043\n",
            " 0.80808468 0.6228128  0.70745462 0.75035407 0.34802877 0.82119852\n",
            " 0.5936312  0.74225831 0.66087479 0.65448284 0.72672044 0.76464202\n",
            " 0.62906944 0.69339335 0.77142995 0.76861268 0.79260548 0.72403593\n",
            " 0.59306339 0.56634722 0.77234682 0.79020082 0.68606732 0.64685625\n",
            " 0.53102245 0.83354368 0.73550024 0.76004953 0.70695428 0.7880187\n",
            " 0.65871225 0.54748781 0.7867369  0.63397398 0.66473525 0.7995906\n",
            " 0.71755823 0.73300416 0.72591241 0.63754672 0.64638852 0.71565458\n",
            " 0.7424327  0.74672761 0.78403843 0.7587155  0.69068982 0.74008089\n",
            " 1.03525597 0.66091333 0.73038373 0.85813002 0.88505131 0.73270703\n",
            " 0.79820444 0.79820444 0.63386284 0.73077895 0.75112493 0.74753359\n",
            " 0.9010791  0.74446287 0.74866606 0.72378336 0.75883953 0.73309939\n",
            " 0.68165711 0.76490665 0.78608597 0.66094707 0.578219   0.71417729\n",
            " 0.63946773 0.72403593 0.77023496 0.61661542 0.82632123 0.72134529\n",
            " 0.76464202 0.54941561 0.74524897 0.73645705 0.82815733 0.64371613\n",
            " 0.80146898 0.74618956 0.75039989 0.69582384 0.79901169 0.83208855\n",
            " 0.94901653 0.74019074 0.71900372 0.77649366 0.76432167 0.74224055\n",
            " 0.56650899 0.7424327  0.5435083  0.79780833 0.89813409 0.79263716\n",
            " 0.74887529 0.74666371 0.66394603 0.79021528 0.73383429 0.69429142\n",
            " 0.5872546  0.72380555 0.79187054 0.69580674 0.78007285 0.72289569\n",
            " 0.76738356 0.73400589 0.56517188 0.83804979 0.70843903 0.794022\n",
            " 0.71559099 0.83367894 0.5095656  0.75511692 0.7283716  0.73760816\n",
            " 0.60815931 0.69751526 0.81130606 0.79048716 0.6897364  0.73158441\n",
            " 1.05485334 0.56516142 1.03029153 0.78115222 0.6593482  0.57217675\n",
            " 0.75904851 0.71108749 0.51769606 0.705897   0.78334319 0.74960138\n",
            " 0.57770585 0.80861312 0.74985712 0.74551768 0.57929004 0.72903785\n",
            " 0.54922547 0.72289569 0.5978338  0.73648881 0.69883432 0.72403593\n",
            " 0.66267191 0.78295759 0.77861175 0.79401484 0.74666371 0.75212712\n",
            " 0.82948725 0.70771363 0.62534292 0.74010982 0.81754849 0.7305659\n",
            " 0.68720766 0.63384524 1.04300877 0.91153783 0.69796008 1.04484293\n",
            " 0.67575887 0.43380082 0.71784338 0.92005615 0.77234682 0.90409842\n",
            " 0.77329619 0.56105349 0.75278884 0.65067504 0.73311134 0.80720328\n",
            " 0.50094199 0.70537523 0.68232489 0.74954526 0.79397343 0.64954451\n",
            " 0.76464202 0.78531359 0.56179847 0.55556029 0.68549522 0.75638237\n",
            " 0.50792435 0.72215321 0.59323791 0.66189937 0.79309499 0.67055824\n",
            " 0.83136161 0.75863607 0.74891207 0.74508433 0.70830205 0.75819943\n",
            " 0.80335622 0.72698668 0.70802192 0.74655241 0.7693433  0.66447819\n",
            " 0.79199781 0.62092808 0.70167899 0.56522671 0.7882888  0.80661567\n",
            " 0.77578589 0.50895023 0.65478518 0.8108247  0.72131537 0.75338369\n",
            " 0.76484263 0.76472899 0.71659771 0.74887529 0.61625329 0.78149329\n",
            " 0.79866702 0.72214539 0.82119852 0.76551004 0.75155583 0.88505413\n",
            " 0.79864684 1.00283418 0.39787038 0.77140248 0.80706655 0.73602497\n",
            " 0.59053382 0.76647876 0.55140751 0.73081029 0.67040739 0.72266642\n",
            " 0.66175952 0.74594679 0.69725033 0.42083462 0.7750989  0.73158441\n",
            " 0.84935275 0.76556732 0.70781213 0.69884868 0.70103907 0.32093387\n",
            " 0.58193544 0.48623247 0.69973829 0.72718283 0.75208571 0.7805995\n",
            " 0.33283898 0.73169489 0.77077836 0.51918786 0.81505571 0.56702465\n",
            " 0.71772223 0.65435867 0.6898903  0.83313609 0.99138445 0.70749034\n",
            " 0.63768722 0.72680797 0.79780833 0.63768508 0.82454627 0.97675784\n",
            " 1.04435594 0.80586104 1.05479595 0.75115576 0.69751526 0.47298435\n",
            " 0.55511481 0.79293846 1.04301686 0.64856393 0.79890985 0.67081164\n",
            " 0.80819844 0.77500237 0.9282241  0.68570831 0.76176047 0.52853702\n",
            " 0.7951887  0.38324035 0.78870648 0.89675855 0.78149329 0.73094936\n",
            " 0.78149329 0.74817529 0.68348984 0.76682234 0.72144627 0.5000152\n",
            " 0.74234877 0.78262266 0.64492656 0.66844435 0.76551733 0.80586104\n",
            " 0.73158441 0.92772085 0.8498069  0.72903785 0.73602497 0.77581301\n",
            " 0.75115576 0.74588912 0.66115748 0.48128128 0.73978197 0.71488163\n",
            " 0.7750507  0.80738563 0.8335215  0.50679433 0.55336865 0.77448725\n",
            " 0.76590423 0.72146626 0.76002946 0.74867925 0.69807019 0.72188047\n",
            " 0.68701516 0.69162693 0.84423519 0.73160306 0.7050292  0.78296122\n",
            " 0.80816112 0.91805924 0.80979628 0.63817762 0.77654879 0.67095203\n",
            " 0.78768572 0.76712779 0.7728238  0.72424516 0.55744304 0.3584168 ]\n",
            "0.3054127718932946\n"
          ]
        }
      ],
      "source": [
        "x = datao.drop(['actual_productivity'],axis=1)\n",
        "y = datao.actual_productivity\n",
        "lm1 = LinearRegression()\n",
        "lm1.fit(x_train,y_train)\n",
        "y_pred = lm1.predict(x_test)\n",
        "print(y_pred)\n",
        "print(np.sqrt(met.mean_absolute_error(y_test,y_pred)))"
      ]
    },
    {
      "cell_type": "code",
      "execution_count": null,
      "metadata": {
        "id": "8piJEIWh_bHW"
      },
      "outputs": [],
      "source": [
        "import statsmodels.formula.api as smf"
      ]
    },
    {
      "cell_type": "code",
      "execution_count": null,
      "metadata": {
        "colab": {
          "base_uri": "https://localhost:8080/"
        },
        "id": "ZWiXTCBH_hAN",
        "outputId": "4047dac7-51a3-4785-ca54-39fee102c2b2"
      },
      "outputs": [
        {
          "output_type": "execute_result",
          "data": {
            "text/plain": [
              "0.38307891353096324"
            ]
          },
          "metadata": {},
          "execution_count": 85
        }
      ],
      "source": [
        "lm1 = smf.ols(formula='actual_productivity ~ targeted_productivity+idle_men+no_of_style_change+wip+no_of_workers+over_time+day+quarter+team+department+incentive+smv',data=datao).fit()\n",
        "\n",
        "lm1.rsquared"
      ]
    },
    {
      "cell_type": "code",
      "execution_count": null,
      "metadata": {
        "colab": {
          "base_uri": "https://localhost:8080/"
        },
        "id": "pZMZY7qO-WBO",
        "outputId": "0a659783-8865-42d4-dff2-a7c11dfdfb16"
      },
      "outputs": [
        {
          "output_type": "execute_result",
          "data": {
            "text/plain": [
              "Intercept                2.725940e-01\n",
              "targeted_productivity    4.576600e-01\n",
              "idle_men                -4.737085e-03\n",
              "no_of_style_change      -7.045596e-03\n",
              "wip                     -7.611511e-07\n",
              "no_of_workers            2.882500e-03\n",
              "over_time               -4.222086e-06\n",
              "day                     -3.268695e-03\n",
              "quarter                 -7.866385e-03\n",
              "team                    -5.742115e-03\n",
              "department               1.803563e-01\n",
              "incentive                3.266672e-03\n",
              "smv                     -4.447136e-03\n",
              "dtype: float64"
            ]
          },
          "metadata": {},
          "execution_count": 82
        }
      ],
      "source": [
        "lm1.params"
      ]
    },
    {
      "cell_type": "code",
      "execution_count": null,
      "metadata": {
        "colab": {
          "base_uri": "https://localhost:8080/",
          "height": 705
        },
        "id": "fs8APg5w-WKc",
        "outputId": "733175fa-2dca-40c0-b0bc-4fd98c5cdfbb"
      },
      "outputs": [
        {
          "output_type": "execute_result",
          "data": {
            "text/plain": [
              "<class 'statsmodels.iolib.summary.Summary'>\n",
              "\"\"\"\n",
              "                             OLS Regression Results                            \n",
              "===============================================================================\n",
              "Dep. Variable:     actual_productivity   R-squared:                       0.383\n",
              "Model:                             OLS   Adj. R-squared:                  0.377\n",
              "Method:                  Least Squares   F-statistic:                     60.65\n",
              "Date:                 Thu, 15 Dec 2022   Prob (F-statistic):          5.87e-114\n",
              "Time:                         10:48:49   Log-Likelihood:                 679.51\n",
              "No. Observations:                 1185   AIC:                            -1333.\n",
              "Df Residuals:                     1172   BIC:                            -1267.\n",
              "Df Model:                           12                                         \n",
              "Covariance Type:             nonrobust                                         \n",
              "=========================================================================================\n",
              "                            coef    std err          t      P>|t|      [0.025      0.975]\n",
              "-----------------------------------------------------------------------------------------\n",
              "Intercept                 0.2726      0.046      5.889      0.000       0.182       0.363\n",
              "targeted_productivity     0.4577      0.045     10.079      0.000       0.369       0.547\n",
              "idle_men                 -0.0047      0.001     -3.764      0.000      -0.007      -0.002\n",
              "no_of_style_change       -0.0070      0.011     -0.632      0.527      -0.029       0.015\n",
              "wip                   -7.612e-07   2.89e-06     -0.263      0.792   -6.43e-06    4.91e-06\n",
              "no_of_workers             0.0029      0.001      4.151      0.000       0.002       0.004\n",
              "over_time             -4.222e-06   1.93e-06     -2.185      0.029   -8.01e-06   -4.31e-07\n",
              "day                      -0.0033      0.009     -0.383      0.702      -0.020       0.013\n",
              "quarter                  -0.0079      0.010     -0.825      0.410      -0.027       0.011\n",
              "team                     -0.0057      0.001     -4.627      0.000      -0.008      -0.003\n",
              "department                0.1804      0.027      6.757      0.000       0.128       0.233\n",
              "incentive                 0.0033      0.000     14.179      0.000       0.003       0.004\n",
              "smv                      -0.0044      0.001     -4.816      0.000      -0.006      -0.003\n",
              "==============================================================================\n",
              "Omnibus:                      173.519   Durbin-Watson:                   1.259\n",
              "Prob(Omnibus):                  0.000   Jarque-Bera (JB):              352.389\n",
              "Skew:                          -0.866   Prob(JB):                     3.02e-77\n",
              "Kurtosis:                       5.034   Cond. No.                     8.59e+04\n",
              "==============================================================================\n",
              "\n",
              "Notes:\n",
              "[1] Standard Errors assume that the covariance matrix of the errors is correctly specified.\n",
              "[2] The condition number is large, 8.59e+04. This might indicate that there are\n",
              "strong multicollinearity or other numerical problems.\n",
              "\"\"\""
            ],
            "text/html": [
              "<table class=\"simpletable\">\n",
              "<caption>OLS Regression Results</caption>\n",
              "<tr>\n",
              "  <th>Dep. Variable:</th>    <td>actual_productivity</td> <th>  R-squared:         </th> <td>   0.383</td> \n",
              "</tr>\n",
              "<tr>\n",
              "  <th>Model:</th>                    <td>OLS</td>         <th>  Adj. R-squared:    </th> <td>   0.377</td> \n",
              "</tr>\n",
              "<tr>\n",
              "  <th>Method:</th>              <td>Least Squares</td>    <th>  F-statistic:       </th> <td>   60.65</td> \n",
              "</tr>\n",
              "<tr>\n",
              "  <th>Date:</th>              <td>Thu, 15 Dec 2022</td>   <th>  Prob (F-statistic):</th> <td>5.87e-114</td>\n",
              "</tr>\n",
              "<tr>\n",
              "  <th>Time:</th>                  <td>10:48:49</td>       <th>  Log-Likelihood:    </th> <td>  679.51</td> \n",
              "</tr>\n",
              "<tr>\n",
              "  <th>No. Observations:</th>       <td>  1185</td>        <th>  AIC:               </th> <td>  -1333.</td> \n",
              "</tr>\n",
              "<tr>\n",
              "  <th>Df Residuals:</th>           <td>  1172</td>        <th>  BIC:               </th> <td>  -1267.</td> \n",
              "</tr>\n",
              "<tr>\n",
              "  <th>Df Model:</th>               <td>    12</td>        <th>                     </th>     <td> </td>    \n",
              "</tr>\n",
              "<tr>\n",
              "  <th>Covariance Type:</th>       <td>nonrobust</td>      <th>                     </th>     <td> </td>    \n",
              "</tr>\n",
              "</table>\n",
              "<table class=\"simpletable\">\n",
              "<tr>\n",
              "            <td></td>               <th>coef</th>     <th>std err</th>      <th>t</th>      <th>P>|t|</th>  <th>[0.025</th>    <th>0.975]</th>  \n",
              "</tr>\n",
              "<tr>\n",
              "  <th>Intercept</th>             <td>    0.2726</td> <td>    0.046</td> <td>    5.889</td> <td> 0.000</td> <td>    0.182</td> <td>    0.363</td>\n",
              "</tr>\n",
              "<tr>\n",
              "  <th>targeted_productivity</th> <td>    0.4577</td> <td>    0.045</td> <td>   10.079</td> <td> 0.000</td> <td>    0.369</td> <td>    0.547</td>\n",
              "</tr>\n",
              "<tr>\n",
              "  <th>idle_men</th>              <td>   -0.0047</td> <td>    0.001</td> <td>   -3.764</td> <td> 0.000</td> <td>   -0.007</td> <td>   -0.002</td>\n",
              "</tr>\n",
              "<tr>\n",
              "  <th>no_of_style_change</th>    <td>   -0.0070</td> <td>    0.011</td> <td>   -0.632</td> <td> 0.527</td> <td>   -0.029</td> <td>    0.015</td>\n",
              "</tr>\n",
              "<tr>\n",
              "  <th>wip</th>                   <td>-7.612e-07</td> <td> 2.89e-06</td> <td>   -0.263</td> <td> 0.792</td> <td>-6.43e-06</td> <td> 4.91e-06</td>\n",
              "</tr>\n",
              "<tr>\n",
              "  <th>no_of_workers</th>         <td>    0.0029</td> <td>    0.001</td> <td>    4.151</td> <td> 0.000</td> <td>    0.002</td> <td>    0.004</td>\n",
              "</tr>\n",
              "<tr>\n",
              "  <th>over_time</th>             <td>-4.222e-06</td> <td> 1.93e-06</td> <td>   -2.185</td> <td> 0.029</td> <td>-8.01e-06</td> <td>-4.31e-07</td>\n",
              "</tr>\n",
              "<tr>\n",
              "  <th>day</th>                   <td>   -0.0033</td> <td>    0.009</td> <td>   -0.383</td> <td> 0.702</td> <td>   -0.020</td> <td>    0.013</td>\n",
              "</tr>\n",
              "<tr>\n",
              "  <th>quarter</th>               <td>   -0.0079</td> <td>    0.010</td> <td>   -0.825</td> <td> 0.410</td> <td>   -0.027</td> <td>    0.011</td>\n",
              "</tr>\n",
              "<tr>\n",
              "  <th>team</th>                  <td>   -0.0057</td> <td>    0.001</td> <td>   -4.627</td> <td> 0.000</td> <td>   -0.008</td> <td>   -0.003</td>\n",
              "</tr>\n",
              "<tr>\n",
              "  <th>department</th>            <td>    0.1804</td> <td>    0.027</td> <td>    6.757</td> <td> 0.000</td> <td>    0.128</td> <td>    0.233</td>\n",
              "</tr>\n",
              "<tr>\n",
              "  <th>incentive</th>             <td>    0.0033</td> <td>    0.000</td> <td>   14.179</td> <td> 0.000</td> <td>    0.003</td> <td>    0.004</td>\n",
              "</tr>\n",
              "<tr>\n",
              "  <th>smv</th>                   <td>   -0.0044</td> <td>    0.001</td> <td>   -4.816</td> <td> 0.000</td> <td>   -0.006</td> <td>   -0.003</td>\n",
              "</tr>\n",
              "</table>\n",
              "<table class=\"simpletable\">\n",
              "<tr>\n",
              "  <th>Omnibus:</th>       <td>173.519</td> <th>  Durbin-Watson:     </th> <td>   1.259</td>\n",
              "</tr>\n",
              "<tr>\n",
              "  <th>Prob(Omnibus):</th> <td> 0.000</td>  <th>  Jarque-Bera (JB):  </th> <td> 352.389</td>\n",
              "</tr>\n",
              "<tr>\n",
              "  <th>Skew:</th>          <td>-0.866</td>  <th>  Prob(JB):          </th> <td>3.02e-77</td>\n",
              "</tr>\n",
              "<tr>\n",
              "  <th>Kurtosis:</th>      <td> 5.034</td>  <th>  Cond. No.          </th> <td>8.59e+04</td>\n",
              "</tr>\n",
              "</table><br/><br/>Notes:<br/>[1] Standard Errors assume that the covariance matrix of the errors is correctly specified.<br/>[2] The condition number is large, 8.59e+04. This might indicate that there are<br/>strong multicollinearity or other numerical problems."
            ]
          },
          "metadata": {},
          "execution_count": 85
        }
      ],
      "source": [
        "lm1.summary()"
      ]
    },
    {
      "cell_type": "code",
      "execution_count": null,
      "metadata": {
        "id": "kuMVXwOsBZu-"
      },
      "outputs": [],
      "source": [
        "x = datao.drop(['actual_productivity'],axis=1)\n",
        "y = datao.actual_productivity"
      ]
    },
    {
      "cell_type": "code",
      "execution_count": null,
      "metadata": {
        "id": "wpZQiGPMBkR4"
      },
      "outputs": [],
      "source": [
        "from sklearn.model_selection import train_test_split\n",
        "x_train,x_test,y_train,y_test = train_test_split(x, y, test_size=0.2,random_state=42)"
      ]
    },
    {
      "cell_type": "code",
      "execution_count": null,
      "metadata": {
        "colab": {
          "base_uri": "https://localhost:8080/"
        },
        "id": "xYM5xhamBpPr",
        "outputId": "d40f1147-7207-4ab7-8bab-99c53c45f136"
      },
      "outputs": [
        {
          "output_type": "stream",
          "name": "stdout",
          "text": [
            "(948, 13)\n",
            "(237, 13)\n",
            "(948,)\n",
            "(237,)\n"
          ]
        }
      ],
      "source": [
        "print(x_train.shape)\n",
        "print(x_test.shape)\n",
        "print(y_train.shape)\n",
        "print(y_test.shape)"
      ]
    },
    {
      "cell_type": "code",
      "execution_count": null,
      "metadata": {
        "colab": {
          "base_uri": "https://localhost:8080/"
        },
        "id": "WyjtR2SFCBzU",
        "outputId": "42651e3b-9ccd-4efa-a2ae-f6bd72d2e057"
      },
      "outputs": [
        {
          "output_type": "stream",
          "name": "stdout",
          "text": [
            "[0.7111845  0.51461916 0.72018075 0.76114098 0.6505796  0.78567313\n",
            " 0.66319405 0.64624305 0.74706967 0.79806679 0.88525396 0.74283626\n",
            " 0.43760214 1.0625493  0.83896607 0.82192102 0.57289593 0.5820658\n",
            " 0.47553136 0.69059955 0.71432    0.79549485 0.56288268 0.79554868\n",
            " 0.55408946 0.56995149 0.73197486 0.71803806 0.64988062 0.76369111\n",
            " 0.74007914 0.78701484 0.69039522 0.59022662 0.70696775 0.81699572\n",
            " 0.67213202 1.01584741 0.77958944 0.82507122 0.77323114 0.75284676\n",
            " 0.59478959 0.79659709 0.70600796 0.86580236 0.86457671 0.74175101\n",
            " 0.85638681 0.75241658 0.88335959 0.63566498 0.80595908 0.83627601\n",
            " 0.63213343 0.77597821 0.7757573  0.68373549 0.74309541 0.78340362\n",
            " 0.77724029 0.67607142 0.77661966 0.75760937 0.7684754  0.75449508\n",
            " 0.65148946 0.71956085 0.8783429  0.69423332 0.98325617 0.80957031\n",
            " 0.78382904 0.69548308 0.66690253 0.73007006 0.99116297 0.74500264\n",
            " 0.79707066 0.83894625 0.74688951 1.0216149  0.57078949 0.7718402\n",
            " 0.73452734 0.76794893 0.74184522 0.45677002 0.58884656 1.03720946\n",
            " 0.75658401 0.56734974 0.7067925  0.61882039 0.89458014 0.79802043\n",
            " 0.58085466 0.61102266 0.79279655 0.56255827 0.7701965  0.75960064\n",
            " 0.7872244  0.65793395 0.71633915 0.81164788 0.65214631 1.05810903\n",
            " 0.80768281 0.63431754 0.71693164 0.75926761 0.35215546 0.82380414\n",
            " 0.59971099 0.7509611  0.66907129 0.65375607 0.73461061 0.77597821\n",
            " 0.64274455 0.70070985 0.77947612 0.76983469 0.78586033 0.73627241\n",
            " 0.59395796 0.56703242 0.7766862  0.79491848 0.68648814 0.65043006\n",
            " 0.540026   0.838996   0.74349689 0.75635913 0.72200275 0.78935319\n",
            " 0.67142222 0.5559325  0.79543758 0.62811282 0.67854184 0.78985607\n",
            " 0.72906611 0.73826523 0.72782328 0.64431124 0.66060857 0.72042615\n",
            " 0.75556742 0.7403064  0.7897267  0.75970402 0.68728852 0.74306591\n",
            " 1.03228832 0.6612911  0.73695242 0.84922148 0.88522941 0.73741092\n",
            " 0.80595908 0.80595908 0.62468796 0.74283152 0.75188963 0.75564528\n",
            " 0.89476224 0.74453629 0.75983801 0.72374796 0.76347857 0.73929449\n",
            " 0.68618973 0.7695194  0.78629659 0.66229062 0.57869108 0.72268666\n",
            " 0.64182908 0.73627241 0.7690349  0.63472428 0.8257486  0.72471554\n",
            " 0.77597821 0.55183175 0.75627897 0.74189926 0.82578894 0.65247526\n",
            " 0.79288053 0.75188582 0.75321276 0.70825714 0.79384714 0.83259737\n",
            " 0.93599645 0.74313309 0.72564768 0.7762919  0.77109832 0.75641802\n",
            " 0.5624025  0.75556742 0.56288268 0.80443314 0.88307367 0.79343011\n",
            " 0.76134912 0.75970542 0.67033199 0.79742072 0.746943   0.71043223\n",
            " 0.59794425 0.73139568 0.79660635 0.71132361 0.77794105 0.73671118\n",
            " 0.76830342 0.75951513 0.57306722 0.83319707 0.71678613 0.80126931\n",
            " 0.73035811 0.82788792 0.52448336 0.76399602 0.74978492 0.7516195\n",
            " 0.59452477 0.7111845  0.81639601]\n",
            "0.2937392547549112\n"
          ]
        }
      ],
      "source": [
        "x = datao.drop(['actual_productivity'],axis=1)\n",
        "y = datao.actual_productivity\n",
        "lm1 = LinearRegression()\n",
        "lm1.fit(x_train,y_train)\n",
        "y_pred = lm1.predict(x_test)\n",
        "print(y_pred)\n",
        "print(np.sqrt(met.mean_absolute_error(y_test,y_pred)))"
      ]
    },
    {
      "cell_type": "code",
      "execution_count": null,
      "metadata": {
        "id": "wkqK1iB1CpJr"
      },
      "outputs": [],
      "source": [
        "import statsmodels.formula.api as smf"
      ]
    },
    {
      "cell_type": "code",
      "execution_count": null,
      "metadata": {
        "colab": {
          "base_uri": "https://localhost:8080/"
        },
        "id": "C8sVKdsoC2il",
        "outputId": "8cdee94d-e7ad-4e68-d776-af98da64b336"
      },
      "outputs": [
        {
          "output_type": "execute_result",
          "data": {
            "text/plain": [
              "0.38307891353096324"
            ]
          },
          "metadata": {},
          "execution_count": 91
        }
      ],
      "source": [
        "lm1 = smf.ols(formula='actual_productivity ~ targeted_productivity+idle_men+no_of_style_change+wip+no_of_workers+over_time+day+quarter+team+department+incentive+smv',data=datao).fit()\n",
        "\n",
        "lm1.rsquared"
      ]
    },
    {
      "cell_type": "code",
      "execution_count": null,
      "metadata": {
        "colab": {
          "base_uri": "https://localhost:8080/"
        },
        "id": "G3JCmoc--WkK",
        "outputId": "c0358bae-a576-4e3e-9f36-aa93382f6d20"
      },
      "outputs": [
        {
          "output_type": "execute_result",
          "data": {
            "text/plain": [
              "Intercept                2.725940e-01\n",
              "targeted_productivity    4.576600e-01\n",
              "idle_men                -4.737085e-03\n",
              "no_of_style_change      -7.045596e-03\n",
              "wip                     -7.611511e-07\n",
              "no_of_workers            2.882500e-03\n",
              "over_time               -4.222086e-06\n",
              "day                     -3.268695e-03\n",
              "quarter                 -7.866385e-03\n",
              "team                    -5.742115e-03\n",
              "department               1.803563e-01\n",
              "incentive                3.266672e-03\n",
              "smv                     -4.447136e-03\n",
              "dtype: float64"
            ]
          },
          "metadata": {},
          "execution_count": 92
        }
      ],
      "source": [
        "lm1.params"
      ]
    },
    {
      "cell_type": "code",
      "execution_count": null,
      "metadata": {
        "colab": {
          "base_uri": "https://localhost:8080/",
          "height": 705
        },
        "id": "KDhUfx6J-Wnr",
        "outputId": "13d3392e-c9f9-41c8-daed-f4b84f420bb5"
      },
      "outputs": [
        {
          "output_type": "execute_result",
          "data": {
            "text/plain": [
              "<class 'statsmodels.iolib.summary.Summary'>\n",
              "\"\"\"\n",
              "                             OLS Regression Results                            \n",
              "===============================================================================\n",
              "Dep. Variable:     actual_productivity   R-squared:                       0.383\n",
              "Model:                             OLS   Adj. R-squared:                  0.377\n",
              "Method:                  Least Squares   F-statistic:                     60.65\n",
              "Date:                 Thu, 15 Dec 2022   Prob (F-statistic):          5.87e-114\n",
              "Time:                         10:48:49   Log-Likelihood:                 679.51\n",
              "No. Observations:                 1185   AIC:                            -1333.\n",
              "Df Residuals:                     1172   BIC:                            -1267.\n",
              "Df Model:                           12                                         \n",
              "Covariance Type:             nonrobust                                         \n",
              "=========================================================================================\n",
              "                            coef    std err          t      P>|t|      [0.025      0.975]\n",
              "-----------------------------------------------------------------------------------------\n",
              "Intercept                 0.2726      0.046      5.889      0.000       0.182       0.363\n",
              "targeted_productivity     0.4577      0.045     10.079      0.000       0.369       0.547\n",
              "idle_men                 -0.0047      0.001     -3.764      0.000      -0.007      -0.002\n",
              "no_of_style_change       -0.0070      0.011     -0.632      0.527      -0.029       0.015\n",
              "wip                   -7.612e-07   2.89e-06     -0.263      0.792   -6.43e-06    4.91e-06\n",
              "no_of_workers             0.0029      0.001      4.151      0.000       0.002       0.004\n",
              "over_time             -4.222e-06   1.93e-06     -2.185      0.029   -8.01e-06   -4.31e-07\n",
              "day                      -0.0033      0.009     -0.383      0.702      -0.020       0.013\n",
              "quarter                  -0.0079      0.010     -0.825      0.410      -0.027       0.011\n",
              "team                     -0.0057      0.001     -4.627      0.000      -0.008      -0.003\n",
              "department                0.1804      0.027      6.757      0.000       0.128       0.233\n",
              "incentive                 0.0033      0.000     14.179      0.000       0.003       0.004\n",
              "smv                      -0.0044      0.001     -4.816      0.000      -0.006      -0.003\n",
              "==============================================================================\n",
              "Omnibus:                      173.519   Durbin-Watson:                   1.259\n",
              "Prob(Omnibus):                  0.000   Jarque-Bera (JB):              352.389\n",
              "Skew:                          -0.866   Prob(JB):                     3.02e-77\n",
              "Kurtosis:                       5.034   Cond. No.                     8.59e+04\n",
              "==============================================================================\n",
              "\n",
              "Notes:\n",
              "[1] Standard Errors assume that the covariance matrix of the errors is correctly specified.\n",
              "[2] The condition number is large, 8.59e+04. This might indicate that there are\n",
              "strong multicollinearity or other numerical problems.\n",
              "\"\"\""
            ],
            "text/html": [
              "<table class=\"simpletable\">\n",
              "<caption>OLS Regression Results</caption>\n",
              "<tr>\n",
              "  <th>Dep. Variable:</th>    <td>actual_productivity</td> <th>  R-squared:         </th> <td>   0.383</td> \n",
              "</tr>\n",
              "<tr>\n",
              "  <th>Model:</th>                    <td>OLS</td>         <th>  Adj. R-squared:    </th> <td>   0.377</td> \n",
              "</tr>\n",
              "<tr>\n",
              "  <th>Method:</th>              <td>Least Squares</td>    <th>  F-statistic:       </th> <td>   60.65</td> \n",
              "</tr>\n",
              "<tr>\n",
              "  <th>Date:</th>              <td>Thu, 15 Dec 2022</td>   <th>  Prob (F-statistic):</th> <td>5.87e-114</td>\n",
              "</tr>\n",
              "<tr>\n",
              "  <th>Time:</th>                  <td>10:48:49</td>       <th>  Log-Likelihood:    </th> <td>  679.51</td> \n",
              "</tr>\n",
              "<tr>\n",
              "  <th>No. Observations:</th>       <td>  1185</td>        <th>  AIC:               </th> <td>  -1333.</td> \n",
              "</tr>\n",
              "<tr>\n",
              "  <th>Df Residuals:</th>           <td>  1172</td>        <th>  BIC:               </th> <td>  -1267.</td> \n",
              "</tr>\n",
              "<tr>\n",
              "  <th>Df Model:</th>               <td>    12</td>        <th>                     </th>     <td> </td>    \n",
              "</tr>\n",
              "<tr>\n",
              "  <th>Covariance Type:</th>       <td>nonrobust</td>      <th>                     </th>     <td> </td>    \n",
              "</tr>\n",
              "</table>\n",
              "<table class=\"simpletable\">\n",
              "<tr>\n",
              "            <td></td>               <th>coef</th>     <th>std err</th>      <th>t</th>      <th>P>|t|</th>  <th>[0.025</th>    <th>0.975]</th>  \n",
              "</tr>\n",
              "<tr>\n",
              "  <th>Intercept</th>             <td>    0.2726</td> <td>    0.046</td> <td>    5.889</td> <td> 0.000</td> <td>    0.182</td> <td>    0.363</td>\n",
              "</tr>\n",
              "<tr>\n",
              "  <th>targeted_productivity</th> <td>    0.4577</td> <td>    0.045</td> <td>   10.079</td> <td> 0.000</td> <td>    0.369</td> <td>    0.547</td>\n",
              "</tr>\n",
              "<tr>\n",
              "  <th>idle_men</th>              <td>   -0.0047</td> <td>    0.001</td> <td>   -3.764</td> <td> 0.000</td> <td>   -0.007</td> <td>   -0.002</td>\n",
              "</tr>\n",
              "<tr>\n",
              "  <th>no_of_style_change</th>    <td>   -0.0070</td> <td>    0.011</td> <td>   -0.632</td> <td> 0.527</td> <td>   -0.029</td> <td>    0.015</td>\n",
              "</tr>\n",
              "<tr>\n",
              "  <th>wip</th>                   <td>-7.612e-07</td> <td> 2.89e-06</td> <td>   -0.263</td> <td> 0.792</td> <td>-6.43e-06</td> <td> 4.91e-06</td>\n",
              "</tr>\n",
              "<tr>\n",
              "  <th>no_of_workers</th>         <td>    0.0029</td> <td>    0.001</td> <td>    4.151</td> <td> 0.000</td> <td>    0.002</td> <td>    0.004</td>\n",
              "</tr>\n",
              "<tr>\n",
              "  <th>over_time</th>             <td>-4.222e-06</td> <td> 1.93e-06</td> <td>   -2.185</td> <td> 0.029</td> <td>-8.01e-06</td> <td>-4.31e-07</td>\n",
              "</tr>\n",
              "<tr>\n",
              "  <th>day</th>                   <td>   -0.0033</td> <td>    0.009</td> <td>   -0.383</td> <td> 0.702</td> <td>   -0.020</td> <td>    0.013</td>\n",
              "</tr>\n",
              "<tr>\n",
              "  <th>quarter</th>               <td>   -0.0079</td> <td>    0.010</td> <td>   -0.825</td> <td> 0.410</td> <td>   -0.027</td> <td>    0.011</td>\n",
              "</tr>\n",
              "<tr>\n",
              "  <th>team</th>                  <td>   -0.0057</td> <td>    0.001</td> <td>   -4.627</td> <td> 0.000</td> <td>   -0.008</td> <td>   -0.003</td>\n",
              "</tr>\n",
              "<tr>\n",
              "  <th>department</th>            <td>    0.1804</td> <td>    0.027</td> <td>    6.757</td> <td> 0.000</td> <td>    0.128</td> <td>    0.233</td>\n",
              "</tr>\n",
              "<tr>\n",
              "  <th>incentive</th>             <td>    0.0033</td> <td>    0.000</td> <td>   14.179</td> <td> 0.000</td> <td>    0.003</td> <td>    0.004</td>\n",
              "</tr>\n",
              "<tr>\n",
              "  <th>smv</th>                   <td>   -0.0044</td> <td>    0.001</td> <td>   -4.816</td> <td> 0.000</td> <td>   -0.006</td> <td>   -0.003</td>\n",
              "</tr>\n",
              "</table>\n",
              "<table class=\"simpletable\">\n",
              "<tr>\n",
              "  <th>Omnibus:</th>       <td>173.519</td> <th>  Durbin-Watson:     </th> <td>   1.259</td>\n",
              "</tr>\n",
              "<tr>\n",
              "  <th>Prob(Omnibus):</th> <td> 0.000</td>  <th>  Jarque-Bera (JB):  </th> <td> 352.389</td>\n",
              "</tr>\n",
              "<tr>\n",
              "  <th>Skew:</th>          <td>-0.866</td>  <th>  Prob(JB):          </th> <td>3.02e-77</td>\n",
              "</tr>\n",
              "<tr>\n",
              "  <th>Kurtosis:</th>      <td> 5.034</td>  <th>  Cond. No.          </th> <td>8.59e+04</td>\n",
              "</tr>\n",
              "</table><br/><br/>Notes:<br/>[1] Standard Errors assume that the covariance matrix of the errors is correctly specified.<br/>[2] The condition number is large, 8.59e+04. This might indicate that there are<br/>strong multicollinearity or other numerical problems."
            ]
          },
          "metadata": {},
          "execution_count": 93
        }
      ],
      "source": [
        "lm1.summary()"
      ]
    },
    {
      "cell_type": "code",
      "execution_count": null,
      "metadata": {
        "id": "e84x74BfDixt"
      },
      "outputs": [],
      "source": [
        "x = datao.drop(['actual_productivity'],axis=1)\n",
        "y = datao.actual_productivity"
      ]
    },
    {
      "cell_type": "code",
      "execution_count": null,
      "metadata": {
        "id": "C32Kx3xpDpz5"
      },
      "outputs": [],
      "source": [
        "from sklearn.model_selection import train_test_split\n",
        "x_train,x_test,y_train,y_test = train_test_split(x, y, test_size=0.3,random_state=42)"
      ]
    },
    {
      "cell_type": "code",
      "execution_count": null,
      "metadata": {
        "colab": {
          "base_uri": "https://localhost:8080/"
        },
        "id": "px1aGbBuDv6K",
        "outputId": "4f171736-7432-453f-83fc-93e21f92d2d5"
      },
      "outputs": [
        {
          "output_type": "stream",
          "name": "stdout",
          "text": [
            "(829, 13)\n",
            "(356, 13)\n",
            "(829,)\n",
            "(356,)\n"
          ]
        }
      ],
      "source": [
        "print(x_train.shape)\n",
        "print(x_test.shape)\n",
        "print(y_train.shape)\n",
        "print(y_test.shape)"
      ]
    },
    {
      "cell_type": "code",
      "execution_count": null,
      "metadata": {
        "colab": {
          "base_uri": "https://localhost:8080/"
        },
        "id": "lSd2_kdtD2Ty",
        "outputId": "0f2df46d-3475-49ee-e2a3-55dbeda8cb04"
      },
      "outputs": [
        {
          "output_type": "stream",
          "name": "stdout",
          "text": [
            "[0.70013953 0.49552826 0.71087768 0.75815879 0.64276024 0.7862291\n",
            " 0.66517843 0.62938957 0.742006   0.79735792 0.89071247 0.74001328\n",
            " 0.4284245  1.06374346 0.84125363 0.81993279 0.56728468 0.55091188\n",
            " 0.48433785 0.68579547 0.70123421 0.79942755 0.53394694 0.79948909\n",
            " 0.52422625 0.57079388 0.72249542 0.70772214 0.62709594 0.76033212\n",
            " 0.74152563 0.78101058 0.68439533 0.59837958 0.70546692 0.81342048\n",
            " 0.66948145 1.01765802 0.77318617 0.82122051 0.77476183 0.76003022\n",
            " 0.58268869 0.7895939  0.70460791 0.8695213  0.8626819  0.73248486\n",
            " 0.86302512 0.74983794 0.88439323 0.63667152 0.80530322 0.83933751\n",
            " 0.63812946 0.77289331 0.77550663 0.67295603 0.74015235 0.78071771\n",
            " 0.7773301  0.67231748 0.77247846 0.75238561 0.76261593 0.7498304\n",
            " 0.63931376 0.70890386 0.8794371  0.68211181 0.984879   0.80559608\n",
            " 0.78107385 0.68325408 0.65356878 0.72847691 0.99340295 0.74378223\n",
            " 0.79362898 0.84123099 0.74054103 1.02381924 0.57152846 0.76836279\n",
            " 0.72217998 0.7751372  0.73880647 0.45025407 0.59941204 1.03825313\n",
            " 0.74905899 0.55491924 0.69669678 0.59961958 0.89710649 0.79327679\n",
            " 0.56811521 0.60523095 0.78718804 0.54977968 0.76671585 0.76133752\n",
            " 0.78314672 0.66010253 0.71191263 0.80963942 0.64291304 1.05902905\n",
            " 0.81050517 0.63228602 0.71358298 0.75280279 0.35267591 0.8250744\n",
            " 0.5911172  0.7442988  0.67005546 0.6488959  0.73765807 0.77289331\n",
            " 0.63643262 0.69428352 0.77899788 0.76511242 0.78260115 0.72770844\n",
            " 0.58960587 0.56905887 0.7750078  0.79477626 0.68207851 0.64226997\n",
            " 0.54189855 0.84128785 0.7476351  0.75348027 0.71429699 0.79088688\n",
            " 0.67066787 0.54357915 0.79423267 0.6233587  0.67260459 0.79055238\n",
            " 0.72580395 0.73768613 0.71790872 0.64236625 0.6419239  0.7264893\n",
            " 0.751353   0.7433507  0.79326559 0.7654629  0.68330414 0.74332337\n",
            " 1.03293076 0.65039997 0.73191623 0.84702559 0.89068441 0.72461426\n",
            " 0.80530322 0.80530322 0.63609748 0.74000786 0.75679153 0.75194086\n",
            " 0.89775105 0.74539893 0.75421307 0.72477555 0.76092621 0.73972566\n",
            " 0.68537835 0.76751322 0.78703402 0.64342463 0.57931446 0.72359458\n",
            " 0.63449499 0.72770844 0.76372438 0.6304909  0.83130053 0.73305759\n",
            " 0.77289331 0.5524038  0.75226757 0.73886826 0.82314116 0.6296828\n",
            " 0.79451434 0.74215101 0.74752527 0.70196024 0.80122542 0.83479508\n",
            " 0.93701607 0.74340017 0.71595541 0.78351418 0.76516696 0.75258964\n",
            " 0.55643718 0.751353   0.53394694 0.80489651 0.88577487 0.78691584\n",
            " 0.75753046 0.75588352 0.66932284 0.79652715 0.74488921 0.70607417\n",
            " 0.59204881 0.72076731 0.78960449 0.70207852 0.782484   0.72950323\n",
            " 0.77142673 0.754603   0.57471066 0.83154472 0.70971173 0.80127137\n",
            " 0.72320142 0.82490433 0.51376623 0.75913571 0.74826604 0.74597837\n",
            " 0.5980945  0.70013953 0.81667084 0.7841118  0.68010522 0.74080163\n",
            " 1.04184775 0.56217812 1.02805011 0.78153022 0.65040874 0.57304852\n",
            " 0.76039952 0.71840947 0.50996177 0.71140189 0.79328439 0.74905899\n",
            " 0.58916145 0.80559608 0.75147976 0.75300512 0.59298662 0.73847419\n",
            " 0.55634204 0.72950323 0.60291683 0.74275716 0.70906796 0.72770844\n",
            " 0.65580064 0.77928625 0.77635571 0.78934224 0.75588352 0.74283517\n",
            " 0.83673005 0.7189121  0.61839445 0.74873792 0.82285543 0.73245812\n",
            " 0.69476389 0.63608517 1.04028762 0.90870997 0.69158302 1.02691962\n",
            " 0.68211928 0.42509905 0.72477053 0.91367224 0.7750078  0.90600662\n",
            " 0.78071771 0.56928275 0.73544379 0.66368497 0.74376471 0.81245765\n",
            " 0.49999293 0.7116943  0.68499042 0.75889145 0.80077269 0.6358599\n",
            " 0.77289331 0.792054   0.54888911 0.5613682  0.67844229 0.75399091\n",
            " 0.51942194 0.72627698 0.59733342 0.65454338 0.79616794 0.66941276\n",
            " 0.82833372 0.74973349 0.74458118 0.75188727 0.69824262 0.76671585\n",
            " 0.80865238 0.73789396 0.71371008 0.75491538 0.77426806 0.65776642\n",
            " 0.79556084 0.63273055 0.70752535 0.555515   0.79169242 0.80161574\n",
            " 0.78044552 0.51792493 0.64476398 0.80724302 0.71521086 0.75725405\n",
            " 0.76768513 0.76268366 0.72921016 0.75753046 0.63013062 0.77936364\n",
            " 0.79453089 0.72664417 0.8250744  0.76163958 0.76033212 0.89068638\n",
            " 0.78944135 0.99134638 0.39163452 0.77897868 0.80299748 0.7376444\n",
            " 0.59626743 0.77708721]\n",
            "0.30049874162504614\n"
          ]
        }
      ],
      "source": [
        "x = datao.drop(['actual_productivity'],axis=1)\n",
        "y = datao.actual_productivity\n",
        "lm1 = LinearRegression()\n",
        "lm1.fit(x_train,y_train)\n",
        "y_pred = lm1.predict(x_test)\n",
        "print(y_pred)\n",
        "print(np.sqrt(met.mean_absolute_error(y_test,y_pred)))"
      ]
    },
    {
      "cell_type": "code",
      "source": [
        "from sklearn import metrics"
      ],
      "metadata": {
        "id": "aVrbOL1y_Zla"
      },
      "execution_count": null,
      "outputs": []
    },
    {
      "cell_type": "code",
      "source": [
        "print(metrics.accuracy_score(y_test,y_pred))"
      ],
      "metadata": {
        "colab": {
          "base_uri": "https://localhost:8080/",
          "height": 311
        },
        "id": "dbL4Cxed_PIT",
        "outputId": "8e880c97-be64-4bf1-fdc2-42281a3ab1f0"
      },
      "execution_count": null,
      "outputs": [
        {
          "output_type": "error",
          "ename": "ValueError",
          "evalue": "ignored",
          "traceback": [
            "\u001b[0;31m---------------------------------------------------------------------------\u001b[0m",
            "\u001b[0;31mValueError\u001b[0m                                Traceback (most recent call last)",
            "\u001b[0;32m<ipython-input-101-6034b3a41a49>\u001b[0m in \u001b[0;36m<module>\u001b[0;34m\u001b[0m\n\u001b[0;32m----> 1\u001b[0;31m \u001b[0mprint\u001b[0m\u001b[0;34m(\u001b[0m\u001b[0mmetrics\u001b[0m\u001b[0;34m.\u001b[0m\u001b[0maccuracy_score\u001b[0m\u001b[0;34m(\u001b[0m\u001b[0my_test\u001b[0m\u001b[0;34m,\u001b[0m\u001b[0my_pred\u001b[0m\u001b[0;34m)\u001b[0m\u001b[0;34m)\u001b[0m\u001b[0;34m\u001b[0m\u001b[0;34m\u001b[0m\u001b[0m\n\u001b[0m",
            "\u001b[0;32m/usr/local/lib/python3.8/dist-packages/sklearn/metrics/_classification.py\u001b[0m in \u001b[0;36maccuracy_score\u001b[0;34m(y_true, y_pred, normalize, sample_weight)\u001b[0m\n\u001b[1;32m    209\u001b[0m \u001b[0;34m\u001b[0m\u001b[0m\n\u001b[1;32m    210\u001b[0m     \u001b[0;31m# Compute accuracy for each possible representation\u001b[0m\u001b[0;34m\u001b[0m\u001b[0;34m\u001b[0m\u001b[0;34m\u001b[0m\u001b[0m\n\u001b[0;32m--> 211\u001b[0;31m     \u001b[0my_type\u001b[0m\u001b[0;34m,\u001b[0m \u001b[0my_true\u001b[0m\u001b[0;34m,\u001b[0m \u001b[0my_pred\u001b[0m \u001b[0;34m=\u001b[0m \u001b[0m_check_targets\u001b[0m\u001b[0;34m(\u001b[0m\u001b[0my_true\u001b[0m\u001b[0;34m,\u001b[0m \u001b[0my_pred\u001b[0m\u001b[0;34m)\u001b[0m\u001b[0;34m\u001b[0m\u001b[0;34m\u001b[0m\u001b[0m\n\u001b[0m\u001b[1;32m    212\u001b[0m     \u001b[0mcheck_consistent_length\u001b[0m\u001b[0;34m(\u001b[0m\u001b[0my_true\u001b[0m\u001b[0;34m,\u001b[0m \u001b[0my_pred\u001b[0m\u001b[0;34m,\u001b[0m \u001b[0msample_weight\u001b[0m\u001b[0;34m)\u001b[0m\u001b[0;34m\u001b[0m\u001b[0;34m\u001b[0m\u001b[0m\n\u001b[1;32m    213\u001b[0m     \u001b[0;32mif\u001b[0m \u001b[0my_type\u001b[0m\u001b[0;34m.\u001b[0m\u001b[0mstartswith\u001b[0m\u001b[0;34m(\u001b[0m\u001b[0;34m\"multilabel\"\u001b[0m\u001b[0;34m)\u001b[0m\u001b[0;34m:\u001b[0m\u001b[0;34m\u001b[0m\u001b[0;34m\u001b[0m\u001b[0m\n",
            "\u001b[0;32m/usr/local/lib/python3.8/dist-packages/sklearn/metrics/_classification.py\u001b[0m in \u001b[0;36m_check_targets\u001b[0;34m(y_true, y_pred)\u001b[0m\n\u001b[1;32m    102\u001b[0m     \u001b[0;31m# No metrics support \"multiclass-multioutput\" format\u001b[0m\u001b[0;34m\u001b[0m\u001b[0;34m\u001b[0m\u001b[0;34m\u001b[0m\u001b[0m\n\u001b[1;32m    103\u001b[0m     \u001b[0;32mif\u001b[0m \u001b[0my_type\u001b[0m \u001b[0;32mnot\u001b[0m \u001b[0;32min\u001b[0m \u001b[0;34m[\u001b[0m\u001b[0;34m\"binary\"\u001b[0m\u001b[0;34m,\u001b[0m \u001b[0;34m\"multiclass\"\u001b[0m\u001b[0;34m,\u001b[0m \u001b[0;34m\"multilabel-indicator\"\u001b[0m\u001b[0;34m]\u001b[0m\u001b[0;34m:\u001b[0m\u001b[0;34m\u001b[0m\u001b[0;34m\u001b[0m\u001b[0m\n\u001b[0;32m--> 104\u001b[0;31m         \u001b[0;32mraise\u001b[0m \u001b[0mValueError\u001b[0m\u001b[0;34m(\u001b[0m\u001b[0;34m\"{0} is not supported\"\u001b[0m\u001b[0;34m.\u001b[0m\u001b[0mformat\u001b[0m\u001b[0;34m(\u001b[0m\u001b[0my_type\u001b[0m\u001b[0;34m)\u001b[0m\u001b[0;34m)\u001b[0m\u001b[0;34m\u001b[0m\u001b[0;34m\u001b[0m\u001b[0m\n\u001b[0m\u001b[1;32m    105\u001b[0m \u001b[0;34m\u001b[0m\u001b[0m\n\u001b[1;32m    106\u001b[0m     \u001b[0;32mif\u001b[0m \u001b[0my_type\u001b[0m \u001b[0;32min\u001b[0m \u001b[0;34m[\u001b[0m\u001b[0;34m\"binary\"\u001b[0m\u001b[0;34m,\u001b[0m \u001b[0;34m\"multiclass\"\u001b[0m\u001b[0;34m]\u001b[0m\u001b[0;34m:\u001b[0m\u001b[0;34m\u001b[0m\u001b[0;34m\u001b[0m\u001b[0m\n",
            "\u001b[0;31mValueError\u001b[0m: continuous is not supported"
          ]
        }
      ]
    },
    {
      "cell_type": "code",
      "execution_count": null,
      "metadata": {
        "id": "gZAQlsLSEYk2"
      },
      "outputs": [],
      "source": [
        "import statsmodels.formula.api as smf"
      ]
    },
    {
      "cell_type": "code",
      "execution_count": null,
      "metadata": {
        "colab": {
          "base_uri": "https://localhost:8080/"
        },
        "id": "ijGj-6nJEeEy",
        "outputId": "cab3f0f4-92e4-4b45-8137-4c40462d6b29"
      },
      "outputs": [
        {
          "output_type": "execute_result",
          "data": {
            "text/plain": [
              "0.38307891353096324"
            ]
          },
          "metadata": {},
          "execution_count": 99
        }
      ],
      "source": [
        "lm1 = smf.ols(formula='actual_productivity ~ targeted_productivity+idle_men+no_of_style_change+wip+no_of_workers+over_time+day+quarter+team+department+incentive+smv',data=datao).fit()\n",
        "\n",
        "lm1.rsquared"
      ]
    },
    {
      "cell_type": "code",
      "execution_count": null,
      "metadata": {
        "colab": {
          "base_uri": "https://localhost:8080/"
        },
        "id": "wENrxcREDXGu",
        "outputId": "1f8d6547-e757-44b2-ea04-b75043d81528"
      },
      "outputs": [
        {
          "output_type": "execute_result",
          "data": {
            "text/plain": [
              "Intercept                2.725940e-01\n",
              "targeted_productivity    4.576600e-01\n",
              "idle_men                -4.737085e-03\n",
              "no_of_style_change      -7.045596e-03\n",
              "wip                     -7.611511e-07\n",
              "no_of_workers            2.882500e-03\n",
              "over_time               -4.222086e-06\n",
              "day                     -3.268695e-03\n",
              "quarter                 -7.866385e-03\n",
              "team                    -5.742115e-03\n",
              "department               1.803563e-01\n",
              "incentive                3.266672e-03\n",
              "smv                     -4.447136e-03\n",
              "dtype: float64"
            ]
          },
          "metadata": {},
          "execution_count": 100
        }
      ],
      "source": [
        "lm1.params"
      ]
    },
    {
      "cell_type": "code",
      "execution_count": null,
      "metadata": {
        "colab": {
          "base_uri": "https://localhost:8080/",
          "height": 705
        },
        "id": "EyLq3VbhDXLR",
        "outputId": "783402aa-8886-4c01-9b65-578b053e880c"
      },
      "outputs": [
        {
          "output_type": "execute_result",
          "data": {
            "text/plain": [
              "<class 'statsmodels.iolib.summary.Summary'>\n",
              "\"\"\"\n",
              "                             OLS Regression Results                            \n",
              "===============================================================================\n",
              "Dep. Variable:     actual_productivity   R-squared:                       0.383\n",
              "Model:                             OLS   Adj. R-squared:                  0.377\n",
              "Method:                  Least Squares   F-statistic:                     60.65\n",
              "Date:                 Thu, 15 Dec 2022   Prob (F-statistic):          5.87e-114\n",
              "Time:                         10:48:50   Log-Likelihood:                 679.51\n",
              "No. Observations:                 1185   AIC:                            -1333.\n",
              "Df Residuals:                     1172   BIC:                            -1267.\n",
              "Df Model:                           12                                         \n",
              "Covariance Type:             nonrobust                                         \n",
              "=========================================================================================\n",
              "                            coef    std err          t      P>|t|      [0.025      0.975]\n",
              "-----------------------------------------------------------------------------------------\n",
              "Intercept                 0.2726      0.046      5.889      0.000       0.182       0.363\n",
              "targeted_productivity     0.4577      0.045     10.079      0.000       0.369       0.547\n",
              "idle_men                 -0.0047      0.001     -3.764      0.000      -0.007      -0.002\n",
              "no_of_style_change       -0.0070      0.011     -0.632      0.527      -0.029       0.015\n",
              "wip                   -7.612e-07   2.89e-06     -0.263      0.792   -6.43e-06    4.91e-06\n",
              "no_of_workers             0.0029      0.001      4.151      0.000       0.002       0.004\n",
              "over_time             -4.222e-06   1.93e-06     -2.185      0.029   -8.01e-06   -4.31e-07\n",
              "day                      -0.0033      0.009     -0.383      0.702      -0.020       0.013\n",
              "quarter                  -0.0079      0.010     -0.825      0.410      -0.027       0.011\n",
              "team                     -0.0057      0.001     -4.627      0.000      -0.008      -0.003\n",
              "department                0.1804      0.027      6.757      0.000       0.128       0.233\n",
              "incentive                 0.0033      0.000     14.179      0.000       0.003       0.004\n",
              "smv                      -0.0044      0.001     -4.816      0.000      -0.006      -0.003\n",
              "==============================================================================\n",
              "Omnibus:                      173.519   Durbin-Watson:                   1.259\n",
              "Prob(Omnibus):                  0.000   Jarque-Bera (JB):              352.389\n",
              "Skew:                          -0.866   Prob(JB):                     3.02e-77\n",
              "Kurtosis:                       5.034   Cond. No.                     8.59e+04\n",
              "==============================================================================\n",
              "\n",
              "Notes:\n",
              "[1] Standard Errors assume that the covariance matrix of the errors is correctly specified.\n",
              "[2] The condition number is large, 8.59e+04. This might indicate that there are\n",
              "strong multicollinearity or other numerical problems.\n",
              "\"\"\""
            ],
            "text/html": [
              "<table class=\"simpletable\">\n",
              "<caption>OLS Regression Results</caption>\n",
              "<tr>\n",
              "  <th>Dep. Variable:</th>    <td>actual_productivity</td> <th>  R-squared:         </th> <td>   0.383</td> \n",
              "</tr>\n",
              "<tr>\n",
              "  <th>Model:</th>                    <td>OLS</td>         <th>  Adj. R-squared:    </th> <td>   0.377</td> \n",
              "</tr>\n",
              "<tr>\n",
              "  <th>Method:</th>              <td>Least Squares</td>    <th>  F-statistic:       </th> <td>   60.65</td> \n",
              "</tr>\n",
              "<tr>\n",
              "  <th>Date:</th>              <td>Thu, 15 Dec 2022</td>   <th>  Prob (F-statistic):</th> <td>5.87e-114</td>\n",
              "</tr>\n",
              "<tr>\n",
              "  <th>Time:</th>                  <td>10:48:50</td>       <th>  Log-Likelihood:    </th> <td>  679.51</td> \n",
              "</tr>\n",
              "<tr>\n",
              "  <th>No. Observations:</th>       <td>  1185</td>        <th>  AIC:               </th> <td>  -1333.</td> \n",
              "</tr>\n",
              "<tr>\n",
              "  <th>Df Residuals:</th>           <td>  1172</td>        <th>  BIC:               </th> <td>  -1267.</td> \n",
              "</tr>\n",
              "<tr>\n",
              "  <th>Df Model:</th>               <td>    12</td>        <th>                     </th>     <td> </td>    \n",
              "</tr>\n",
              "<tr>\n",
              "  <th>Covariance Type:</th>       <td>nonrobust</td>      <th>                     </th>     <td> </td>    \n",
              "</tr>\n",
              "</table>\n",
              "<table class=\"simpletable\">\n",
              "<tr>\n",
              "            <td></td>               <th>coef</th>     <th>std err</th>      <th>t</th>      <th>P>|t|</th>  <th>[0.025</th>    <th>0.975]</th>  \n",
              "</tr>\n",
              "<tr>\n",
              "  <th>Intercept</th>             <td>    0.2726</td> <td>    0.046</td> <td>    5.889</td> <td> 0.000</td> <td>    0.182</td> <td>    0.363</td>\n",
              "</tr>\n",
              "<tr>\n",
              "  <th>targeted_productivity</th> <td>    0.4577</td> <td>    0.045</td> <td>   10.079</td> <td> 0.000</td> <td>    0.369</td> <td>    0.547</td>\n",
              "</tr>\n",
              "<tr>\n",
              "  <th>idle_men</th>              <td>   -0.0047</td> <td>    0.001</td> <td>   -3.764</td> <td> 0.000</td> <td>   -0.007</td> <td>   -0.002</td>\n",
              "</tr>\n",
              "<tr>\n",
              "  <th>no_of_style_change</th>    <td>   -0.0070</td> <td>    0.011</td> <td>   -0.632</td> <td> 0.527</td> <td>   -0.029</td> <td>    0.015</td>\n",
              "</tr>\n",
              "<tr>\n",
              "  <th>wip</th>                   <td>-7.612e-07</td> <td> 2.89e-06</td> <td>   -0.263</td> <td> 0.792</td> <td>-6.43e-06</td> <td> 4.91e-06</td>\n",
              "</tr>\n",
              "<tr>\n",
              "  <th>no_of_workers</th>         <td>    0.0029</td> <td>    0.001</td> <td>    4.151</td> <td> 0.000</td> <td>    0.002</td> <td>    0.004</td>\n",
              "</tr>\n",
              "<tr>\n",
              "  <th>over_time</th>             <td>-4.222e-06</td> <td> 1.93e-06</td> <td>   -2.185</td> <td> 0.029</td> <td>-8.01e-06</td> <td>-4.31e-07</td>\n",
              "</tr>\n",
              "<tr>\n",
              "  <th>day</th>                   <td>   -0.0033</td> <td>    0.009</td> <td>   -0.383</td> <td> 0.702</td> <td>   -0.020</td> <td>    0.013</td>\n",
              "</tr>\n",
              "<tr>\n",
              "  <th>quarter</th>               <td>   -0.0079</td> <td>    0.010</td> <td>   -0.825</td> <td> 0.410</td> <td>   -0.027</td> <td>    0.011</td>\n",
              "</tr>\n",
              "<tr>\n",
              "  <th>team</th>                  <td>   -0.0057</td> <td>    0.001</td> <td>   -4.627</td> <td> 0.000</td> <td>   -0.008</td> <td>   -0.003</td>\n",
              "</tr>\n",
              "<tr>\n",
              "  <th>department</th>            <td>    0.1804</td> <td>    0.027</td> <td>    6.757</td> <td> 0.000</td> <td>    0.128</td> <td>    0.233</td>\n",
              "</tr>\n",
              "<tr>\n",
              "  <th>incentive</th>             <td>    0.0033</td> <td>    0.000</td> <td>   14.179</td> <td> 0.000</td> <td>    0.003</td> <td>    0.004</td>\n",
              "</tr>\n",
              "<tr>\n",
              "  <th>smv</th>                   <td>   -0.0044</td> <td>    0.001</td> <td>   -4.816</td> <td> 0.000</td> <td>   -0.006</td> <td>   -0.003</td>\n",
              "</tr>\n",
              "</table>\n",
              "<table class=\"simpletable\">\n",
              "<tr>\n",
              "  <th>Omnibus:</th>       <td>173.519</td> <th>  Durbin-Watson:     </th> <td>   1.259</td>\n",
              "</tr>\n",
              "<tr>\n",
              "  <th>Prob(Omnibus):</th> <td> 0.000</td>  <th>  Jarque-Bera (JB):  </th> <td> 352.389</td>\n",
              "</tr>\n",
              "<tr>\n",
              "  <th>Skew:</th>          <td>-0.866</td>  <th>  Prob(JB):          </th> <td>3.02e-77</td>\n",
              "</tr>\n",
              "<tr>\n",
              "  <th>Kurtosis:</th>      <td> 5.034</td>  <th>  Cond. No.          </th> <td>8.59e+04</td>\n",
              "</tr>\n",
              "</table><br/><br/>Notes:<br/>[1] Standard Errors assume that the covariance matrix of the errors is correctly specified.<br/>[2] The condition number is large, 8.59e+04. This might indicate that there are<br/>strong multicollinearity or other numerical problems."
            ]
          },
          "metadata": {},
          "execution_count": 101
        }
      ],
      "source": [
        "lm1.summary()"
      ]
    },
    {
      "cell_type": "code",
      "execution_count": null,
      "metadata": {
        "id": "Hr4wYsFJDXPP"
      },
      "outputs": [],
      "source": []
    },
    {
      "cell_type": "code",
      "execution_count": null,
      "metadata": {
        "id": "cuqRBXGm-Wq0"
      },
      "outputs": [],
      "source": []
    },
    {
      "cell_type": "markdown",
      "metadata": {
        "id": "p5mIPGpNnsGD"
      },
      "source": [
        "#FITTING THE LINEAR REGRESSION MODEL"
      ]
    },
    {
      "cell_type": "code",
      "execution_count": null,
      "metadata": {
        "colab": {
          "base_uri": "https://localhost:8080/"
        },
        "id": "XK-rqndIDIZd",
        "outputId": "b993c3a9-9841-47a4-e29e-52a6e1c84069"
      },
      "outputs": [
        {
          "output_type": "stream",
          "name": "stdout",
          "text": [
            "[0.7111845  0.51461916 0.72018075 0.76114098 0.6505796  0.78567313\n",
            " 0.66319405 0.64624305 0.74706967 0.79806679 0.88525396 0.74283626\n",
            " 0.43760214 1.0625493  0.83896607 0.82192102 0.57289593 0.5820658\n",
            " 0.47553136 0.69059955 0.71432    0.79549485 0.56288268 0.79554868\n",
            " 0.55408946 0.56995149 0.73197486 0.71803806 0.64988062 0.76369111\n",
            " 0.74007914 0.78701484 0.69039522 0.59022662 0.70696775 0.81699572\n",
            " 0.67213202 1.01584741 0.77958944 0.82507122 0.77323114 0.75284676\n",
            " 0.59478959 0.79659709 0.70600796 0.86580236 0.86457671 0.74175101\n",
            " 0.85638681 0.75241658 0.88335959 0.63566498 0.80595908 0.83627601\n",
            " 0.63213343 0.77597821 0.7757573  0.68373549 0.74309541 0.78340362\n",
            " 0.77724029 0.67607142 0.77661966 0.75760937 0.7684754  0.75449508\n",
            " 0.65148946 0.71956085 0.8783429  0.69423332 0.98325617 0.80957031\n",
            " 0.78382904 0.69548308 0.66690253 0.73007006 0.99116297 0.74500264\n",
            " 0.79707066 0.83894625 0.74688951 1.0216149  0.57078949 0.7718402\n",
            " 0.73452734 0.76794893 0.74184522 0.45677002 0.58884656 1.03720946\n",
            " 0.75658401 0.56734974 0.7067925  0.61882039 0.89458014 0.79802043\n",
            " 0.58085466 0.61102266 0.79279655 0.56255827 0.7701965  0.75960064\n",
            " 0.7872244  0.65793395 0.71633915 0.81164788 0.65214631 1.05810903\n",
            " 0.80768281 0.63431754 0.71693164 0.75926761 0.35215546 0.82380414\n",
            " 0.59971099 0.7509611  0.66907129 0.65375607 0.73461061 0.77597821\n",
            " 0.64274455 0.70070985 0.77947612 0.76983469 0.78586033 0.73627241\n",
            " 0.59395796 0.56703242 0.7766862  0.79491848 0.68648814 0.65043006\n",
            " 0.540026   0.838996   0.74349689 0.75635913 0.72200275 0.78935319\n",
            " 0.67142222 0.5559325  0.79543758 0.62811282 0.67854184 0.78985607\n",
            " 0.72906611 0.73826523 0.72782328 0.64431124 0.66060857 0.72042615\n",
            " 0.75556742 0.7403064  0.7897267  0.75970402 0.68728852 0.74306591\n",
            " 1.03228832 0.6612911  0.73695242 0.84922148 0.88522941 0.73741092\n",
            " 0.80595908 0.80595908 0.62468796 0.74283152 0.75188963 0.75564528\n",
            " 0.89476224 0.74453629 0.75983801 0.72374796 0.76347857 0.73929449\n",
            " 0.68618973 0.7695194  0.78629659 0.66229062 0.57869108 0.72268666\n",
            " 0.64182908 0.73627241 0.7690349  0.63472428 0.8257486  0.72471554\n",
            " 0.77597821 0.55183175 0.75627897 0.74189926 0.82578894 0.65247526\n",
            " 0.79288053 0.75188582 0.75321276 0.70825714 0.79384714 0.83259737\n",
            " 0.93599645 0.74313309 0.72564768 0.7762919  0.77109832 0.75641802\n",
            " 0.5624025  0.75556742 0.56288268 0.80443314 0.88307367 0.79343011\n",
            " 0.76134912 0.75970542 0.67033199 0.79742072 0.746943   0.71043223\n",
            " 0.59794425 0.73139568 0.79660635 0.71132361 0.77794105 0.73671118\n",
            " 0.76830342 0.75951513 0.57306722 0.83319707 0.71678613 0.80126931\n",
            " 0.73035811 0.82788792 0.52448336 0.76399602 0.74978492 0.7516195\n",
            " 0.59452477 0.7111845  0.81639601]\n",
            "0.12106810804204726\n"
          ]
        }
      ],
      "source": [
        "x = datao.drop(['actual_productivity'],axis=1)\n",
        "y = datao.actual_productivity\n",
        "lm1 = LinearRegression()\n",
        "lm1.fit(x_train,y_train)\n",
        "y_pred = lm1.predict(x_test)\n",
        "print(y_pred)\n",
        "print(np.sqrt(met.mean_squared_error(y_test,y_pred)))"
      ]
    },
    {
      "cell_type": "code",
      "execution_count": null,
      "metadata": {
        "colab": {
          "base_uri": "https://localhost:8080/"
        },
        "id": "MieqIJBAP4Ns",
        "outputId": "beeb76cc-66e3-40a2-ffc9-c605b6abb737"
      },
      "outputs": [
        {
          "output_type": "stream",
          "name": "stdout",
          "text": [
            "0.25685837806283207\n",
            "[-1.31781424e-02  1.88560459e-01 -1.05709357e-02 -5.85769694e-03\n",
            "  4.68368316e-01 -4.84604581e-03 -3.05830049e-07 -3.26490151e-06\n",
            "  3.45295892e-03  5.43334271e-04 -5.64200969e-03  8.57202036e-04\n",
            "  2.97026231e-03]\n"
          ]
        }
      ],
      "source": [
        "print(lm1.intercept_)\n",
        "print(lm1.coef_)"
      ]
    },
    {
      "cell_type": "code",
      "execution_count": null,
      "metadata": {
        "colab": {
          "base_uri": "https://localhost:8080/",
          "height": 488
        },
        "id": "VdFBJ7WJOF4t",
        "outputId": "2ffed0f1-ab68-42b5-8508-c7bd2f7c1002"
      },
      "outputs": [
        {
          "output_type": "execute_result",
          "data": {
            "text/plain": [
              "      index  quarter  department  day  team  targeted_productivity    smv  \\\n",
              "0         0        0           0    1     8                   0.80  26.16   \n",
              "1         1        0           1    1     1                   0.75   3.94   \n",
              "2         2        0           0    1    11                   0.80  11.41   \n",
              "3         3        0           0    1    12                   0.80  11.41   \n",
              "4         4        0           0    1     6                   0.80  25.90   \n",
              "...     ...      ...         ...  ...   ...                    ...    ...   \n",
              "1192   1192        0           1    1    10                   0.75   2.90   \n",
              "1193   1193        0           1    1     8                   0.70   3.90   \n",
              "1194   1194        0           1    1     7                   0.65   3.90   \n",
              "1195   1195        0           1    1     9                   0.75   2.90   \n",
              "1196   1196        0           1    1     6                   0.70   2.90   \n",
              "\n",
              "              wip  over_time  incentive  idle_time  idle_men  \\\n",
              "0     1108.000000       7080         98        0.0         0   \n",
              "1     1190.465991        960          0        0.0         0   \n",
              "2      968.000000       3660         50        0.0         0   \n",
              "3      968.000000       3660         50        0.0         0   \n",
              "4     1170.000000       1920         50        0.0         0   \n",
              "...           ...        ...        ...        ...       ...   \n",
              "1192  1190.465991        960          0        0.0         0   \n",
              "1193  1190.465991        960          0        0.0         0   \n",
              "1194  1190.465991        960          0        0.0         0   \n",
              "1195  1190.465991       1800          0        0.0         0   \n",
              "1196  1190.465991        720          0        0.0         0   \n",
              "\n",
              "      no_of_style_change  no_of_workers  actual_productivity  \n",
              "0                      0           59.0             0.940725  \n",
              "1                      0            8.0             0.886500  \n",
              "2                      0           30.5             0.800570  \n",
              "3                      0           30.5             0.800570  \n",
              "4                      0           56.0             0.800382  \n",
              "...                  ...            ...                  ...  \n",
              "1192                   0            8.0             0.628333  \n",
              "1193                   0            8.0             0.625625  \n",
              "1194                   0            8.0             0.625625  \n",
              "1195                   0           15.0             0.505889  \n",
              "1196                   0            6.0             0.394722  \n",
              "\n",
              "[1197 rows x 15 columns]"
            ],
            "text/html": [
              "\n",
              "  <div id=\"df-3df3f720-9b0b-4114-a8ba-f8c89556db92\">\n",
              "    <div class=\"colab-df-container\">\n",
              "      <div>\n",
              "<style scoped>\n",
              "    .dataframe tbody tr th:only-of-type {\n",
              "        vertical-align: middle;\n",
              "    }\n",
              "\n",
              "    .dataframe tbody tr th {\n",
              "        vertical-align: top;\n",
              "    }\n",
              "\n",
              "    .dataframe thead th {\n",
              "        text-align: right;\n",
              "    }\n",
              "</style>\n",
              "<table border=\"1\" class=\"dataframe\">\n",
              "  <thead>\n",
              "    <tr style=\"text-align: right;\">\n",
              "      <th></th>\n",
              "      <th>index</th>\n",
              "      <th>quarter</th>\n",
              "      <th>department</th>\n",
              "      <th>day</th>\n",
              "      <th>team</th>\n",
              "      <th>targeted_productivity</th>\n",
              "      <th>smv</th>\n",
              "      <th>wip</th>\n",
              "      <th>over_time</th>\n",
              "      <th>incentive</th>\n",
              "      <th>idle_time</th>\n",
              "      <th>idle_men</th>\n",
              "      <th>no_of_style_change</th>\n",
              "      <th>no_of_workers</th>\n",
              "      <th>actual_productivity</th>\n",
              "    </tr>\n",
              "  </thead>\n",
              "  <tbody>\n",
              "    <tr>\n",
              "      <th>0</th>\n",
              "      <td>0</td>\n",
              "      <td>0</td>\n",
              "      <td>0</td>\n",
              "      <td>1</td>\n",
              "      <td>8</td>\n",
              "      <td>0.80</td>\n",
              "      <td>26.16</td>\n",
              "      <td>1108.000000</td>\n",
              "      <td>7080</td>\n",
              "      <td>98</td>\n",
              "      <td>0.0</td>\n",
              "      <td>0</td>\n",
              "      <td>0</td>\n",
              "      <td>59.0</td>\n",
              "      <td>0.940725</td>\n",
              "    </tr>\n",
              "    <tr>\n",
              "      <th>1</th>\n",
              "      <td>1</td>\n",
              "      <td>0</td>\n",
              "      <td>1</td>\n",
              "      <td>1</td>\n",
              "      <td>1</td>\n",
              "      <td>0.75</td>\n",
              "      <td>3.94</td>\n",
              "      <td>1190.465991</td>\n",
              "      <td>960</td>\n",
              "      <td>0</td>\n",
              "      <td>0.0</td>\n",
              "      <td>0</td>\n",
              "      <td>0</td>\n",
              "      <td>8.0</td>\n",
              "      <td>0.886500</td>\n",
              "    </tr>\n",
              "    <tr>\n",
              "      <th>2</th>\n",
              "      <td>2</td>\n",
              "      <td>0</td>\n",
              "      <td>0</td>\n",
              "      <td>1</td>\n",
              "      <td>11</td>\n",
              "      <td>0.80</td>\n",
              "      <td>11.41</td>\n",
              "      <td>968.000000</td>\n",
              "      <td>3660</td>\n",
              "      <td>50</td>\n",
              "      <td>0.0</td>\n",
              "      <td>0</td>\n",
              "      <td>0</td>\n",
              "      <td>30.5</td>\n",
              "      <td>0.800570</td>\n",
              "    </tr>\n",
              "    <tr>\n",
              "      <th>3</th>\n",
              "      <td>3</td>\n",
              "      <td>0</td>\n",
              "      <td>0</td>\n",
              "      <td>1</td>\n",
              "      <td>12</td>\n",
              "      <td>0.80</td>\n",
              "      <td>11.41</td>\n",
              "      <td>968.000000</td>\n",
              "      <td>3660</td>\n",
              "      <td>50</td>\n",
              "      <td>0.0</td>\n",
              "      <td>0</td>\n",
              "      <td>0</td>\n",
              "      <td>30.5</td>\n",
              "      <td>0.800570</td>\n",
              "    </tr>\n",
              "    <tr>\n",
              "      <th>4</th>\n",
              "      <td>4</td>\n",
              "      <td>0</td>\n",
              "      <td>0</td>\n",
              "      <td>1</td>\n",
              "      <td>6</td>\n",
              "      <td>0.80</td>\n",
              "      <td>25.90</td>\n",
              "      <td>1170.000000</td>\n",
              "      <td>1920</td>\n",
              "      <td>50</td>\n",
              "      <td>0.0</td>\n",
              "      <td>0</td>\n",
              "      <td>0</td>\n",
              "      <td>56.0</td>\n",
              "      <td>0.800382</td>\n",
              "    </tr>\n",
              "    <tr>\n",
              "      <th>...</th>\n",
              "      <td>...</td>\n",
              "      <td>...</td>\n",
              "      <td>...</td>\n",
              "      <td>...</td>\n",
              "      <td>...</td>\n",
              "      <td>...</td>\n",
              "      <td>...</td>\n",
              "      <td>...</td>\n",
              "      <td>...</td>\n",
              "      <td>...</td>\n",
              "      <td>...</td>\n",
              "      <td>...</td>\n",
              "      <td>...</td>\n",
              "      <td>...</td>\n",
              "      <td>...</td>\n",
              "    </tr>\n",
              "    <tr>\n",
              "      <th>1192</th>\n",
              "      <td>1192</td>\n",
              "      <td>0</td>\n",
              "      <td>1</td>\n",
              "      <td>1</td>\n",
              "      <td>10</td>\n",
              "      <td>0.75</td>\n",
              "      <td>2.90</td>\n",
              "      <td>1190.465991</td>\n",
              "      <td>960</td>\n",
              "      <td>0</td>\n",
              "      <td>0.0</td>\n",
              "      <td>0</td>\n",
              "      <td>0</td>\n",
              "      <td>8.0</td>\n",
              "      <td>0.628333</td>\n",
              "    </tr>\n",
              "    <tr>\n",
              "      <th>1193</th>\n",
              "      <td>1193</td>\n",
              "      <td>0</td>\n",
              "      <td>1</td>\n",
              "      <td>1</td>\n",
              "      <td>8</td>\n",
              "      <td>0.70</td>\n",
              "      <td>3.90</td>\n",
              "      <td>1190.465991</td>\n",
              "      <td>960</td>\n",
              "      <td>0</td>\n",
              "      <td>0.0</td>\n",
              "      <td>0</td>\n",
              "      <td>0</td>\n",
              "      <td>8.0</td>\n",
              "      <td>0.625625</td>\n",
              "    </tr>\n",
              "    <tr>\n",
              "      <th>1194</th>\n",
              "      <td>1194</td>\n",
              "      <td>0</td>\n",
              "      <td>1</td>\n",
              "      <td>1</td>\n",
              "      <td>7</td>\n",
              "      <td>0.65</td>\n",
              "      <td>3.90</td>\n",
              "      <td>1190.465991</td>\n",
              "      <td>960</td>\n",
              "      <td>0</td>\n",
              "      <td>0.0</td>\n",
              "      <td>0</td>\n",
              "      <td>0</td>\n",
              "      <td>8.0</td>\n",
              "      <td>0.625625</td>\n",
              "    </tr>\n",
              "    <tr>\n",
              "      <th>1195</th>\n",
              "      <td>1195</td>\n",
              "      <td>0</td>\n",
              "      <td>1</td>\n",
              "      <td>1</td>\n",
              "      <td>9</td>\n",
              "      <td>0.75</td>\n",
              "      <td>2.90</td>\n",
              "      <td>1190.465991</td>\n",
              "      <td>1800</td>\n",
              "      <td>0</td>\n",
              "      <td>0.0</td>\n",
              "      <td>0</td>\n",
              "      <td>0</td>\n",
              "      <td>15.0</td>\n",
              "      <td>0.505889</td>\n",
              "    </tr>\n",
              "    <tr>\n",
              "      <th>1196</th>\n",
              "      <td>1196</td>\n",
              "      <td>0</td>\n",
              "      <td>1</td>\n",
              "      <td>1</td>\n",
              "      <td>6</td>\n",
              "      <td>0.70</td>\n",
              "      <td>2.90</td>\n",
              "      <td>1190.465991</td>\n",
              "      <td>720</td>\n",
              "      <td>0</td>\n",
              "      <td>0.0</td>\n",
              "      <td>0</td>\n",
              "      <td>0</td>\n",
              "      <td>6.0</td>\n",
              "      <td>0.394722</td>\n",
              "    </tr>\n",
              "  </tbody>\n",
              "</table>\n",
              "<p>1197 rows × 15 columns</p>\n",
              "</div>\n",
              "      <button class=\"colab-df-convert\" onclick=\"convertToInteractive('df-3df3f720-9b0b-4114-a8ba-f8c89556db92')\"\n",
              "              title=\"Convert this dataframe to an interactive table.\"\n",
              "              style=\"display:none;\">\n",
              "        \n",
              "  <svg xmlns=\"http://www.w3.org/2000/svg\" height=\"24px\"viewBox=\"0 0 24 24\"\n",
              "       width=\"24px\">\n",
              "    <path d=\"M0 0h24v24H0V0z\" fill=\"none\"/>\n",
              "    <path d=\"M18.56 5.44l.94 2.06.94-2.06 2.06-.94-2.06-.94-.94-2.06-.94 2.06-2.06.94zm-11 1L8.5 8.5l.94-2.06 2.06-.94-2.06-.94L8.5 2.5l-.94 2.06-2.06.94zm10 10l.94 2.06.94-2.06 2.06-.94-2.06-.94-.94-2.06-.94 2.06-2.06.94z\"/><path d=\"M17.41 7.96l-1.37-1.37c-.4-.4-.92-.59-1.43-.59-.52 0-1.04.2-1.43.59L10.3 9.45l-7.72 7.72c-.78.78-.78 2.05 0 2.83L4 21.41c.39.39.9.59 1.41.59.51 0 1.02-.2 1.41-.59l7.78-7.78 2.81-2.81c.8-.78.8-2.07 0-2.86zM5.41 20L4 18.59l7.72-7.72 1.47 1.35L5.41 20z\"/>\n",
              "  </svg>\n",
              "      </button>\n",
              "      \n",
              "  <style>\n",
              "    .colab-df-container {\n",
              "      display:flex;\n",
              "      flex-wrap:wrap;\n",
              "      gap: 12px;\n",
              "    }\n",
              "\n",
              "    .colab-df-convert {\n",
              "      background-color: #E8F0FE;\n",
              "      border: none;\n",
              "      border-radius: 50%;\n",
              "      cursor: pointer;\n",
              "      display: none;\n",
              "      fill: #1967D2;\n",
              "      height: 32px;\n",
              "      padding: 0 0 0 0;\n",
              "      width: 32px;\n",
              "    }\n",
              "\n",
              "    .colab-df-convert:hover {\n",
              "      background-color: #E2EBFA;\n",
              "      box-shadow: 0px 1px 2px rgba(60, 64, 67, 0.3), 0px 1px 3px 1px rgba(60, 64, 67, 0.15);\n",
              "      fill: #174EA6;\n",
              "    }\n",
              "\n",
              "    [theme=dark] .colab-df-convert {\n",
              "      background-color: #3B4455;\n",
              "      fill: #D2E3FC;\n",
              "    }\n",
              "\n",
              "    [theme=dark] .colab-df-convert:hover {\n",
              "      background-color: #434B5C;\n",
              "      box-shadow: 0px 1px 3px 1px rgba(0, 0, 0, 0.15);\n",
              "      filter: drop-shadow(0px 1px 2px rgba(0, 0, 0, 0.3));\n",
              "      fill: #FFFFFF;\n",
              "    }\n",
              "  </style>\n",
              "\n",
              "      <script>\n",
              "        const buttonEl =\n",
              "          document.querySelector('#df-3df3f720-9b0b-4114-a8ba-f8c89556db92 button.colab-df-convert');\n",
              "        buttonEl.style.display =\n",
              "          google.colab.kernel.accessAllowed ? 'block' : 'none';\n",
              "\n",
              "        async function convertToInteractive(key) {\n",
              "          const element = document.querySelector('#df-3df3f720-9b0b-4114-a8ba-f8c89556db92');\n",
              "          const dataTable =\n",
              "            await google.colab.kernel.invokeFunction('convertToInteractive',\n",
              "                                                     [key], {});\n",
              "          if (!dataTable) return;\n",
              "\n",
              "          const docLinkHtml = 'Like what you see? Visit the ' +\n",
              "            '<a target=\"_blank\" href=https://colab.research.google.com/notebooks/data_table.ipynb>data table notebook</a>'\n",
              "            + ' to learn more about interactive tables.';\n",
              "          element.innerHTML = '';\n",
              "          dataTable['output_type'] = 'display_data';\n",
              "          await google.colab.output.renderOutput(dataTable, element);\n",
              "          const docLink = document.createElement('div');\n",
              "          docLink.innerHTML = docLinkHtml;\n",
              "          element.appendChild(docLink);\n",
              "        }\n",
              "      </script>\n",
              "    </div>\n",
              "  </div>\n",
              "  "
            ]
          },
          "metadata": {},
          "execution_count": 104
        }
      ],
      "source": [
        "data\n"
      ]
    },
    {
      "cell_type": "markdown",
      "metadata": {
        "id": "o_OZ1WgEgtON"
      },
      "source": [
        "#NEURAL NETWORK"
      ]
    },
    {
      "cell_type": "code",
      "execution_count": null,
      "metadata": {
        "id": "iEQeZ_yWiXsY"
      },
      "outputs": [],
      "source": [
        "import tensorflow as tf"
      ]
    },
    {
      "cell_type": "code",
      "execution_count": null,
      "metadata": {
        "id": "LykcmFbpidqP"
      },
      "outputs": [],
      "source": [
        "x = datao.drop(['actual_productivity'],axis=1)\n",
        "y = datao.actual_productivity"
      ]
    },
    {
      "cell_type": "code",
      "execution_count": null,
      "metadata": {
        "colab": {
          "base_uri": "https://localhost:8080/"
        },
        "id": "zbOtbKKAijIr",
        "outputId": "f8de3da1-b99b-4393-e08e-54f570adb063"
      },
      "outputs": [
        {
          "output_type": "execute_result",
          "data": {
            "text/plain": [
              "320     0.958902\n",
              "958     0.449965\n",
              "1193    0.625625\n",
              "86      0.888687\n",
              "992     0.707446\n",
              "          ...   \n",
              "139     0.800025\n",
              "1045    0.309333\n",
              "995     0.683551\n",
              "225     0.821354\n",
              "725     0.618361\n",
              "Name: actual_productivity, Length: 237, dtype: float64"
            ]
          },
          "metadata": {},
          "execution_count": 107
        }
      ],
      "source": [
        "from sklearn.model_selection import train_test_split\n",
        "x_train, x_test, y_train, y_test=train_test_split(x,y, test_size=0.20, random_state=42)\n",
        "y_test"
      ]
    },
    {
      "cell_type": "code",
      "execution_count": null,
      "metadata": {
        "id": "l2JADPJAioBI"
      },
      "outputs": [],
      "source": [
        "tf.random.set_seed(42)\n",
        "\n",
        "#Step 1:Creating the model\n",
        "\n",
        "model=tf.keras.Sequential([\n",
        "                           tf.keras.layers.Dense(12),\n",
        "                           tf.keras.layers.Dense(9),\n",
        "                           tf.keras.layers.Dense(6),\n",
        "                           tf.keras.layers.Dense(3),\n",
        "                           tf.keras.layers.Dense(1)\n",
        "                          ])\n",
        "\n",
        "#Step 2:Compiling the model\n",
        "\n",
        "model.compile(loss=tf.keras.losses.mae,\n",
        "              optimizer=tf.keras.optimizers.Adam(),\n",
        "              metrics=[\"mse\"])\n",
        "\n",
        "#Step 3:Fit the model\n",
        "\n",
        "history = model.fit(x_train,y_train,epochs=2000,verbose=0)"
      ]
    },
    {
      "cell_type": "code",
      "execution_count": null,
      "metadata": {
        "colab": {
          "base_uri": "https://localhost:8080/"
        },
        "id": "EAeU4cexmGM8",
        "outputId": "4fad3b21-814a-4b81-cc05-e2d3230eda28"
      },
      "outputs": [
        {
          "output_type": "stream",
          "name": "stdout",
          "text": [
            "8/8 [==============================] - 0s 2ms/step - loss: 0.0893 - mse: 0.0162\n"
          ]
        },
        {
          "output_type": "execute_result",
          "data": {
            "text/plain": [
              "[0.08933789283037186, 0.01615665853023529]"
            ]
          },
          "metadata": {},
          "execution_count": 145
        }
      ],
      "source": [
        "model.evaluate(x_test,y_test)"
      ]
    },
    {
      "cell_type": "code",
      "execution_count": null,
      "metadata": {
        "colab": {
          "base_uri": "https://localhost:8080/",
          "height": 296
        },
        "id": "cGwwfMl-mM7p",
        "outputId": "3aa14b20-40f8-4eed-83bc-0125793132cd"
      },
      "outputs": [
        {
          "output_type": "execute_result",
          "data": {
            "text/plain": [
              "Text(0.5, 0, 'epochs')"
            ]
          },
          "metadata": {},
          "execution_count": 146
        },
        {
          "output_type": "display_data",
          "data": {
            "text/plain": [
              "<Figure size 432x288 with 1 Axes>"
            ],
            "image/png": "[encoded data removed]"
          },
          "metadata": {
            "needs_background": "light"
          }
        }
      ],
      "source": [
        "pd.DataFrame(history.history).plot()\n",
        "plt.ylabel(\"loss\")\n",
        "plt.xlabel(\"epochs\")"
      ]
    },
    {
      "cell_type": "code",
      "execution_count": null,
      "metadata": {
        "id": "gjjAR_vvBwTB"
      },
      "outputs": [],
      "source": [
        "import tensorflow as tf"
      ]
    },
    {
      "cell_type": "code",
      "execution_count": null,
      "metadata": {
        "id": "eAr_f4XjBwO6"
      },
      "outputs": [],
      "source": [
        "x = datao.drop(['actual_productivity'],axis=1)\n",
        "y = datao.actual_productivity"
      ]
    },
    {
      "cell_type": "code",
      "execution_count": null,
      "metadata": {
        "colab": {
          "base_uri": "https://localhost:8080/"
        },
        "id": "RFTc4xolBwK1",
        "outputId": "bad87761-03e7-4d9d-9e9b-76eda6e30129"
      },
      "outputs": [
        {
          "output_type": "execute_result",
          "data": {
            "text/plain": [
              "320     0.958902\n",
              "958     0.449965\n",
              "1193    0.625625\n",
              "86      0.888687\n",
              "992     0.707446\n",
              "          ...   \n",
              "139     0.800025\n",
              "1045    0.309333\n",
              "995     0.683551\n",
              "225     0.821354\n",
              "725     0.618361\n",
              "Name: actual_productivity, Length: 237, dtype: float64"
            ]
          },
          "metadata": {},
          "execution_count": 113
        }
      ],
      "source": [
        "from sklearn.model_selection import train_test_split\n",
        "x_train, x_test, y_train, y_test=train_test_split(x,y, test_size=0.20, random_state=42)\n",
        "y_test"
      ]
    },
    {
      "cell_type": "code",
      "execution_count": null,
      "metadata": {
        "id": "Xt8uEp1ABwBz"
      },
      "outputs": [],
      "source": [
        "tf.random.set_seed(42)\n",
        "\n",
        "#Step 1:Creating the model\n",
        "\n",
        "model=tf.keras.Sequential([\n",
        "                           tf.keras.layers.Dense(12),\n",
        "                           tf.keras.layers.Dense(9),\n",
        "                           tf.keras.layers.Dense(6),\n",
        "                           tf.keras.layers.Dense(3),\n",
        "                           tf.keras.layers.Dense(1)\n",
        "                          ])\n",
        "\n",
        "#Step 2:Compiling the model\n",
        "\n",
        "model.compile(loss=tf.keras.losses.mae,\n",
        "              optimizer=tf.keras.optimizers.SGD(),\n",
        "              metrics=[\"mse\"])\n",
        "\n",
        "#Step 3:Fit the model\n",
        "\n",
        "history = model.fit(x_train,y_train,epochs=2000,verbose=0)"
      ]
    },
    {
      "cell_type": "code",
      "execution_count": null,
      "metadata": {
        "colab": {
          "base_uri": "https://localhost:8080/"
        },
        "id": "u96FKedcBv5U",
        "outputId": "94e6a0fd-1fb9-4918-a674-3646ba681f50"
      },
      "outputs": [
        {
          "output_type": "stream",
          "name": "stdout",
          "text": [
            "8/8 [==============================] - 0s 2ms/step - loss: nan - mse: nan\n"
          ]
        },
        {
          "output_type": "execute_result",
          "data": {
            "text/plain": [
              "[nan, nan]"
            ]
          },
          "metadata": {},
          "execution_count": 148
        }
      ],
      "source": [
        "model.evaluate(x_test,y_test)"
      ]
    },
    {
      "cell_type": "code",
      "execution_count": null,
      "metadata": {
        "colab": {
          "base_uri": "https://localhost:8080/",
          "height": 296
        },
        "id": "nqnC4KqnBvp-",
        "outputId": "40377292-fa22-4748-cbcd-cf650b24906d"
      },
      "outputs": [
        {
          "output_type": "execute_result",
          "data": {
            "text/plain": [
              "Text(0.5, 0, 'epochs')"
            ]
          },
          "metadata": {},
          "execution_count": 116
        },
        {
          "output_type": "display_data",
          "data": {
            "text/plain": [
              "<Figure size 432x288 with 1 Axes>"
            ],
            "image/png": "[encoded data removed]"
          },
          "metadata": {
            "needs_background": "light"
          }
        }
      ],
      "source": [
        "pd.DataFrame(history.history).plot()\n",
        "plt.ylabel(\"loss\")\n",
        "plt.xlabel(\"epochs\")"
      ]
    },
    {
      "cell_type": "code",
      "source": [
        "x = datao.drop(['actual_productivity'],axis=1)\n",
        "y = datao.actual_productivity"
      ],
      "metadata": {
        "id": "2bcqVWK8lnP5"
      },
      "execution_count": null,
      "outputs": []
    },
    {
      "cell_type": "code",
      "source": [
        "from sklearn.model_selection import train_test_split\n",
        "x_train, x_test, y_train, y_test=train_test_split(x,y, test_size=0.20, random_state=42)\n",
        "y_test"
      ],
      "metadata": {
        "colab": {
          "base_uri": "https://localhost:8080/"
        },
        "id": "yytFGZARltxB",
        "outputId": "a9694d7b-ecda-4c61-9e0b-7707538c3601"
      },
      "execution_count": null,
      "outputs": [
        {
          "output_type": "execute_result",
          "data": {
            "text/plain": [
              "320     0.958902\n",
              "958     0.449965\n",
              "1193    0.625625\n",
              "86      0.888687\n",
              "992     0.707446\n",
              "          ...   \n",
              "139     0.800025\n",
              "1045    0.309333\n",
              "995     0.683551\n",
              "225     0.821354\n",
              "725     0.618361\n",
              "Name: actual_productivity, Length: 237, dtype: float64"
            ]
          },
          "metadata": {},
          "execution_count": 118
        }
      ]
    },
    {
      "cell_type": "markdown",
      "metadata": {
        "id": "xdVBRLY2UeTR"
      },
      "source": [
        "#BAGGING"
      ]
    },
    {
      "cell_type": "markdown",
      "metadata": {
        "id": "fYV0i9BhUf3x"
      },
      "source": [
        "##BAGGING REGRESSOR"
      ]
    },
    {
      "cell_type": "code",
      "execution_count": null,
      "metadata": {
        "id": "VCDqxalCxBY9"
      },
      "outputs": [],
      "source": [
        "from sklearn import datasets\n",
        "from sklearn.model_selection import train_test_split\n",
        "from sklearn.metrics import accuracy_score\n",
        "from sklearn.model_selection import cross_val_score\n",
        "from sklearn.ensemble import BaggingRegressor\n",
        "import sklearn.metrics as metrics"
      ]
    },
    {
      "cell_type": "code",
      "execution_count": null,
      "metadata": {
        "id": "W6bnM7gPyd_b"
      },
      "outputs": [],
      "source": [
        "clf = BaggingRegressor(n_estimators = 200,\n",
        "                       max_samples = 0.8,\n",
        "                       random_state = 42)"
      ]
    },
    {
      "cell_type": "code",
      "execution_count": null,
      "metadata": {
        "id": "t9pO1Un0yh9b"
      },
      "outputs": [],
      "source": [
        "a = clf.fit(x_train, y_train)"
      ]
    },
    {
      "cell_type": "code",
      "execution_count": null,
      "metadata": {
        "colab": {
          "base_uri": "https://localhost:8080/"
        },
        "id": "FjsJLqWyysco",
        "outputId": "dd1815c6-b314-4824-f31a-58589f091058"
      },
      "outputs": [
        {
          "output_type": "execute_result",
          "data": {
            "text/plain": [
              "0.010900807390713628"
            ]
          },
          "metadata": {},
          "execution_count": 142
        }
      ],
      "source": [
        "mae = metrics.mean_squared_error(y_test, a.predict(x_test))\n",
        "mae"
      ]
    },
    {
      "cell_type": "code",
      "source": [
        "clf.rsquared"
      ],
      "metadata": {
        "colab": {
          "base_uri": "https://localhost:8080/",
          "height": 165
        },
        "id": "Mpx1yEgYOMS8",
        "outputId": "e7061a91-265d-411b-d4f1-da3a499a7c2d"
      },
      "execution_count": null,
      "outputs": [
        {
          "output_type": "error",
          "ename": "AttributeError",
          "evalue": "ignored",
          "traceback": [
            "\u001b[0;31m---------------------------------------------------------------------------\u001b[0m",
            "\u001b[0;31mAttributeError\u001b[0m                            Traceback (most recent call last)",
            "\u001b[0;32m<ipython-input-192-dbdfc9031fdc>\u001b[0m in \u001b[0;36m<module>\u001b[0;34m\u001b[0m\n\u001b[0;32m----> 1\u001b[0;31m \u001b[0mclf\u001b[0m\u001b[0;34m.\u001b[0m\u001b[0mrsquared\u001b[0m\u001b[0;34m\u001b[0m\u001b[0;34m\u001b[0m\u001b[0m\n\u001b[0m",
            "\u001b[0;31mAttributeError\u001b[0m: 'BaggingRegressor' object has no attribute 'rsquared'"
          ]
        }
      ]
    },
    {
      "cell_type": "markdown",
      "metadata": {
        "id": "T4KvE6PfVndM"
      },
      "source": [
        "#BOOSTING"
      ]
    },
    {
      "cell_type": "markdown",
      "metadata": {
        "id": "pCoBpz8OVvTC"
      },
      "source": [
        "##ADAPTIVE BOOSTING(ADA BOOST)"
      ]
    },
    {
      "cell_type": "code",
      "execution_count": null,
      "metadata": {
        "id": "QIzy05i_Vwrr"
      },
      "outputs": [],
      "source": [
        "from sklearn.ensemble import AdaBoostRegressor\n",
        "from sklearn.tree import DecisionTreeRegressor\n",
        "adaboost = AdaBoostRegressor(n_estimators=200,learning_rate=0.3,\n",
        "                              random_state=42)"
      ]
    },
    {
      "cell_type": "code",
      "execution_count": null,
      "metadata": {
        "id": "NXS5f7twV1RD"
      },
      "outputs": [],
      "source": [
        "d = adaboost.fit(x_train, y_train)"
      ]
    },
    {
      "cell_type": "code",
      "execution_count": null,
      "metadata": {
        "colab": {
          "base_uri": "https://localhost:8080/"
        },
        "id": "L-iOEGDJV3q1",
        "outputId": "f2f4e3b9-80bd-4ceb-f0cb-52734dc5300c"
      },
      "outputs": [
        {
          "output_type": "execute_result",
          "data": {
            "text/plain": [
              "0.08247708007084935"
            ]
          },
          "metadata": {},
          "execution_count": 152
        }
      ],
      "source": [
        "mae = metrics.mean_absolute_error(y_test, d.predict(x_test))\n",
        "mae"
      ]
    },
    {
      "cell_type": "markdown",
      "metadata": {
        "id": "Vu-LqkcrWEKq"
      },
      "source": [
        "##GRADIENT BOOSTING MACHINE(GBM)"
      ]
    },
    {
      "cell_type": "code",
      "execution_count": null,
      "metadata": {
        "id": "gCF3XgDGWFgD"
      },
      "outputs": [],
      "source": [
        "from sklearn.ensemble import GradientBoostingRegressor\n",
        "grad_boost= GradientBoostingRegressor(learning_rate=0.1,\n",
        "                                      n_estimators=200,\n",
        "                                      max_depth=5,\n",
        "                                      random_state=42)"
      ]
    },
    {
      "cell_type": "code",
      "execution_count": null,
      "metadata": {
        "id": "cs2cceuYWIUS"
      },
      "outputs": [],
      "source": [
        "e = grad_boost.fit(x_train, y_train)"
      ]
    },
    {
      "cell_type": "code",
      "execution_count": null,
      "metadata": {
        "colab": {
          "base_uri": "https://localhost:8080/"
        },
        "id": "-lSmB9w-WLZw",
        "outputId": "3d8003a7-dc84-40ad-9c7f-c3c02df3a761"
      },
      "outputs": [
        {
          "output_type": "execute_result",
          "data": {
            "text/plain": [
              "0.0659018354318026"
            ]
          },
          "metadata": {},
          "execution_count": 165
        }
      ],
      "source": [
        "mae = metrics.mean_absolute_error(y_test, e.predict(x_test))\n",
        "mae"
      ]
    },
    {
      "cell_type": "markdown",
      "metadata": {
        "id": "TVRgv6KXWV9P"
      },
      "source": [
        "##EXTREME GRADIENT BOOSTING(XGB)"
      ]
    },
    {
      "cell_type": "code",
      "execution_count": null,
      "metadata": {
        "id": "siImJ4WeWXRK"
      },
      "outputs": [],
      "source": [
        "import xgboost as xgb\n",
        "from xgboost import XGBRegressor\n",
        "xgb_boost=xgb.XGBRegressor(random_state=42,\n",
        "                           n_estimators=200,\n",
        "                           max_depth=7,\n",
        "                           learning_rate=0.1)"
      ]
    },
    {
      "cell_type": "code",
      "execution_count": null,
      "metadata": {
        "colab": {
          "base_uri": "https://localhost:8080/"
        },
        "id": "EhJxrE3gWaL0",
        "outputId": "cc7d3eef-4638-42d8-8378-2f2ed4208104"
      },
      "outputs": [
        {
          "output_type": "stream",
          "name": "stdout",
          "text": [
            "[13:25:33] WARNING: /workspace/src/objective/regression_obj.cu:152: reg:linear is now deprecated in favor of reg:squarederror.\n"
          ]
        }
      ],
      "source": [
        "f = xgb_boost.fit(x_train, y_train)"
      ]
    },
    {
      "cell_type": "code",
      "execution_count": null,
      "metadata": {
        "colab": {
          "base_uri": "https://localhost:8080/"
        },
        "id": "7IMzNuVyWdu6",
        "outputId": "e75acdf5-a96a-4195-e3b6-decc028c0ddb"
      },
      "outputs": [
        {
          "output_type": "execute_result",
          "data": {
            "text/plain": [
              "0.06713546208750588"
            ]
          },
          "metadata": {},
          "execution_count": 174
        }
      ],
      "source": [
        "mae = metrics.mean_absolute_error(y_test, f.predict(x_test))\n",
        "mae"
      ]
    },
    {
      "cell_type": "markdown",
      "metadata": {
        "id": "FqJGdGBEtDLX"
      },
      "source": [
        "#Decision Tree\n"
      ]
    },
    {
      "cell_type": "code",
      "execution_count": null,
      "metadata": {
        "id": "gxMKMykRsxCg"
      },
      "outputs": [],
      "source": [
        "from sklearn.tree import DecisionTreeRegressor"
      ]
    },
    {
      "cell_type": "code",
      "execution_count": null,
      "metadata": {
        "id": "tG9aFsQdsxwT"
      },
      "outputs": [],
      "source": [
        "tree = DecisionTreeRegressor(max_depth=7,random_state=42)"
      ]
    },
    {
      "cell_type": "code",
      "source": [
        "from sklearn.model_selection import train_test_split\n",
        "x_train, x_test, y_train, y_test=train_test_split(x,y, test_size=0.3, random_state=42)\n",
        "y_test"
      ],
      "metadata": {
        "colab": {
          "base_uri": "https://localhost:8080/"
        },
        "id": "lMSMHRw9Cy9j",
        "outputId": "d04fae56-7850-4b94-ad8f-aa4ccb308743"
      },
      "execution_count": null,
      "outputs": [
        {
          "output_type": "execute_result",
          "data": {
            "text/plain": [
              "320     0.958902\n",
              "958     0.449965\n",
              "1193    0.625625\n",
              "86      0.888687\n",
              "992     0.707446\n",
              "          ...   \n",
              "120     0.800000\n",
              "552     0.845069\n",
              "920     0.325000\n",
              "1146    0.600041\n",
              "72      0.800246\n",
              "Name: actual_productivity, Length: 356, dtype: float64"
            ]
          },
          "metadata": {},
          "execution_count": 116
        }
      ]
    },
    {
      "cell_type": "code",
      "execution_count": null,
      "metadata": {
        "id": "Y6NrSEf4s2uH"
      },
      "outputs": [],
      "source": [
        "b = tree.fit(x_train, y_train)"
      ]
    },
    {
      "cell_type": "code",
      "execution_count": null,
      "metadata": {
        "colab": {
          "base_uri": "https://localhost:8080/"
        },
        "id": "t_r0d-44s5wz",
        "outputId": "d67d2e4e-1118-439b-83f7-4f636c4d034c"
      },
      "outputs": [
        {
          "output_type": "execute_result",
          "data": {
            "text/plain": [
              "0.08487091919043883"
            ]
          },
          "metadata": {},
          "execution_count": 118
        }
      ],
      "source": [
        "mae = metrics.mean_absolute_error(y_test, b.predict(x_test))\n",
        "mae"
      ]
    },
    {
      "cell_type": "markdown",
      "metadata": {
        "id": "nLsn5YRjtmYg"
      },
      "source": [
        "#Random Forest"
      ]
    },
    {
      "cell_type": "code",
      "execution_count": null,
      "metadata": {
        "id": "ONQu79lgtVMS"
      },
      "outputs": [],
      "source": [
        "from sklearn.ensemble import RandomForestRegressor"
      ]
    },
    {
      "cell_type": "code",
      "execution_count": null,
      "metadata": {
        "id": "9byss0vdtZyc"
      },
      "outputs": [],
      "source": [
        "rf = RandomForestRegressor(n_estimators =200, random_state = 42)"
      ]
    },
    {
      "cell_type": "code",
      "source": [
        "from sklearn.model_selection import train_test_split\n",
        "x_train, x_test, y_train, y_test=train_test_split(x,y, test_size=0.2, random_state=42)\n",
        "y_test"
      ],
      "metadata": {
        "colab": {
          "base_uri": "https://localhost:8080/"
        },
        "id": "Ri1zXmlpEKjG",
        "outputId": "5d8a5fb4-eb1b-456c-aadd-9c7ba53b1347"
      },
      "execution_count": null,
      "outputs": [
        {
          "output_type": "execute_result",
          "data": {
            "text/plain": [
              "320     0.958902\n",
              "958     0.449965\n",
              "1193    0.625625\n",
              "86      0.888687\n",
              "992     0.707446\n",
              "          ...   \n",
              "139     0.800025\n",
              "1045    0.309333\n",
              "995     0.683551\n",
              "225     0.821354\n",
              "725     0.618361\n",
              "Name: actual_productivity, Length: 237, dtype: float64"
            ]
          },
          "metadata": {},
          "execution_count": 176
        }
      ]
    },
    {
      "cell_type": "code",
      "execution_count": null,
      "metadata": {
        "id": "1EISp0tJtajY"
      },
      "outputs": [],
      "source": [
        "c = rf.fit(x_train, y_train)"
      ]
    },
    {
      "cell_type": "code",
      "execution_count": null,
      "metadata": {
        "colab": {
          "base_uri": "https://localhost:8080/"
        },
        "id": "2WRkf1J9t0tD",
        "outputId": "3d19e60d-c2f2-415e-a033-d3b9761feab9"
      },
      "outputs": [
        {
          "output_type": "execute_result",
          "data": {
            "text/plain": [
              "0.06536412554264698"
            ]
          },
          "metadata": {},
          "execution_count": 187
        }
      ],
      "source": [
        "mae = metrics.mean_absolute_error(y_test, c.predict(x_test))\n",
        "mae"
      ]
    },
    {
      "cell_type": "code",
      "source": [
        "import numpy as numpy\n",
        "import matplotlib.pyplot as plt"
      ],
      "metadata": {
        "id": "H664tnDWXb5X"
      },
      "execution_count": null,
      "outputs": []
    },
    {
      "cell_type": "code",
      "source": [
        "data = {'LinearRegression':0.289, 'NeuralNetwork':0.104,  'Decisiontree':0.079, 'Randomforest': 0.065,'BaggingRegressor':0.010 ,'Adaboost':0.082, 'GBoost':0.064, 'XGBoost':0.062}\n",
        "courses = list(data.keys())\n",
        "values = list(data.values())\n",
        "\n",
        "fig = plt.figure(figsize = (15, 7))\n",
        "plt.bar(courses, values, color = 'red',width=0.5)\n",
        "plt.xlabel(\"ML Algorithms\")\n",
        "plt.ylabel(\"MAE value\")\n",
        "plt.title(\"Comparison of MAE values of different algorithms\")\n",
        "plt.show()"
      ],
      "metadata": {
        "colab": {
          "base_uri": "https://localhost:8080/",
          "height": 458
        },
        "id": "DXkFAgEWXkBm",
        "outputId": "7a5606bd-d167-4d81-c859-5d24538124f8"
      },
      "execution_count": null,
      "outputs": [
        {
          "output_type": "display_data",
          "data": {
            "text/plain": [
              "<Figure size 1080x504 with 1 Axes>"
            ],
            "image/png": "[encoded data removed]"
          },
          "metadata": {
            "needs_background": "light"
          }
        }
      ]
    },
    {
      "cell_type": "code",
      "source": [],
      "metadata": {
        "id": "ESadlyTqa9Sg"
      },
      "execution_count": null,
      "outputs": []
    },
    {
      "cell_type": "markdown",
      "source": [
        "# Building a predictive system"
      ],
      "metadata": {
        "id": "SNrqmgeIa_bq"
      }
    },
    {
      "cell_type": "code",
      "source": [
        "input_data = (1,1,8,0.8,26.16,1108,7080,98,0,0,0,59)"
      ],
      "metadata": {
        "id": "fuzuPc3EbEKU"
      },
      "execution_count": null,
      "outputs": []
    },
    {
      "cell_type": "code",
      "source": [
        "input_data_numpy_array = np.asarray(input_data)"
      ],
      "metadata": {
        "id": "Xic3x5oDf-_O"
      },
      "execution_count": null,
      "outputs": []
    },
    {
      "cell_type": "code",
      "source": [],
      "metadata": {
        "id": "QeQM9h0-bHbR"
      },
      "execution_count": null,
      "outputs": []
    },
    {
      "cell_type": "code",
      "source": [],
      "metadata": {
        "colab": {
          "base_uri": "https://localhost:8080/",
          "height": 165
        },
        "id": "vseu8A0mfvgK",
        "outputId": "2189c33e-fff0-41a7-d316-a9e7ca4f94f7"
      },
      "execution_count": null,
      "outputs": [
        {
          "output_type": "error",
          "ename": "ValueError",
          "evalue": "ignored",
          "traceback": [
            "\u001b[0;31m---------------------------------------------------------------------------\u001b[0m",
            "\u001b[0;31mValueError\u001b[0m                                Traceback (most recent call last)",
            "\u001b[0;32m<ipython-input-173-f2d966d6ed97>\u001b[0m in \u001b[0;36m<module>\u001b[0;34m\u001b[0m\n\u001b[0;32m----> 1\u001b[0;31m \u001b[0minput_data_reshaped\u001b[0m \u001b[0;34m=\u001b[0m \u001b[0minput_data_numpy_array\u001b[0m\u001b[0;34m.\u001b[0m\u001b[0mreshape\u001b[0m\u001b[0;34m(\u001b[0m\u001b[0;36m30\u001b[0m\u001b[0;34m,\u001b[0m\u001b[0;36m1\u001b[0m\u001b[0;34m)\u001b[0m\u001b[0;34m\u001b[0m\u001b[0;34m\u001b[0m\u001b[0m\n\u001b[0m",
            "\u001b[0;31mValueError\u001b[0m: cannot reshape array of size 13 into shape (30,1)"
          ]
        }
      ]
    },
    {
      "cell_type": "code",
      "source": [
        "prediction = f(input_data_numpy_array)\n",
        "print(prediction)"
      ],
      "metadata": {
        "colab": {
          "base_uri": "https://localhost:8080/",
          "height": 183
        },
        "id": "nEcn5NuZgyxf",
        "outputId": "9ca8405a-2fc3-4e03-b082-f65cee09d9f3"
      },
      "execution_count": null,
      "outputs": [
        {
          "output_type": "error",
          "ename": "TypeError",
          "evalue": "ignored",
          "traceback": [
            "\u001b[0;31m---------------------------------------------------------------------------\u001b[0m",
            "\u001b[0;31mTypeError\u001b[0m                                 Traceback (most recent call last)",
            "\u001b[0;32m<ipython-input-175-de7b61df1a81>\u001b[0m in \u001b[0;36m<module>\u001b[0;34m\u001b[0m\n\u001b[0;32m----> 1\u001b[0;31m \u001b[0mprediction\u001b[0m \u001b[0;34m=\u001b[0m \u001b[0mf\u001b[0m\u001b[0;34m(\u001b[0m\u001b[0minput_data_numpy_array\u001b[0m\u001b[0;34m)\u001b[0m\u001b[0;34m\u001b[0m\u001b[0;34m\u001b[0m\u001b[0m\n\u001b[0m\u001b[1;32m      2\u001b[0m \u001b[0mprint\u001b[0m\u001b[0;34m(\u001b[0m\u001b[0mprediction\u001b[0m\u001b[0;34m)\u001b[0m\u001b[0;34m\u001b[0m\u001b[0;34m\u001b[0m\u001b[0m\n",
            "\u001b[0;31mTypeError\u001b[0m: 'XGBRegressor' object is not callable"
          ]
        }
      ]
    },
    {
      "cell_type": "code",
      "source": [],
      "metadata": {
        "id": "AwjsZu3chB0J"
      },
      "execution_count": null,
      "outputs": []
    },
    {
      "cell_type": "code",
      "source": [],
      "metadata": {
        "id": "XYb2RRtaBrzA"
      },
      "execution_count": null,
      "outputs": []
    },
    {
      "cell_type": "markdown",
      "source": [
        "# KNN"
      ],
      "metadata": {
        "id": "ukWi_6rqBsM0"
      }
    },
    {
      "cell_type": "code",
      "source": [
        "from sklearn.neighbors import KNeighborsClassifier"
      ],
      "metadata": {
        "id": "tUXLkEe9Bugc"
      },
      "execution_count": null,
      "outputs": []
    },
    {
      "cell_type": "code",
      "source": [
        "x = datao.drop(['actual_productivity'],axis=1)\n",
        "y = datao.actual_productivity"
      ],
      "metadata": {
        "id": "uc2brnlAB4td"
      },
      "execution_count": null,
      "outputs": []
    },
    {
      "cell_type": "code",
      "source": [
        "from sklearn.model_selection import train_test_split\n",
        "x_train, x_test, y_train, y_test=train_test_split(x,y, test_size=0.20, random_state=42)\n",
        "y_test"
      ],
      "metadata": {
        "colab": {
          "base_uri": "https://localhost:8080/"
        },
        "id": "0iCuCPIcCBMV",
        "outputId": "22debe3b-0616-47fc-d1ce-fbe471ec0096"
      },
      "execution_count": null,
      "outputs": [
        {
          "output_type": "execute_result",
          "data": {
            "text/plain": [
              "320     0.958902\n",
              "958     0.449965\n",
              "1193    0.625625\n",
              "86      0.888687\n",
              "992     0.707446\n",
              "          ...   \n",
              "139     0.800025\n",
              "1045    0.309333\n",
              "995     0.683551\n",
              "225     0.821354\n",
              "725     0.618361\n",
              "Name: actual_productivity, Length: 237, dtype: float64"
            ]
          },
          "metadata": {},
          "execution_count": 104
        }
      ]
    },
    {
      "cell_type": "code",
      "source": [
        "model=KNeighborsClassifier(n_neighbors=5)\n",
        "model.fit(x_train,y_train)\n",
        "y_pred=model.predict(x_test)\n"
      ],
      "metadata": {
        "colab": {
          "base_uri": "https://localhost:8080/",
          "height": 346
        },
        "id": "9oiP9XW-CGlD",
        "outputId": "2e79d1e0-6731-4e80-d83f-5da221792a9b"
      },
      "execution_count": null,
      "outputs": [
        {
          "output_type": "error",
          "ename": "ValueError",
          "evalue": "ignored",
          "traceback": [
            "\u001b[0;31m---------------------------------------------------------------------------\u001b[0m",
            "\u001b[0;31mValueError\u001b[0m                                Traceback (most recent call last)",
            "\u001b[0;32m<ipython-input-106-e4fb8223afca>\u001b[0m in \u001b[0;36m<module>\u001b[0;34m\u001b[0m\n\u001b[1;32m      1\u001b[0m \u001b[0mmodel\u001b[0m\u001b[0;34m=\u001b[0m\u001b[0mKNeighborsClassifier\u001b[0m\u001b[0;34m(\u001b[0m\u001b[0mn_neighbors\u001b[0m\u001b[0;34m=\u001b[0m\u001b[0;36m5\u001b[0m\u001b[0;34m)\u001b[0m\u001b[0;34m\u001b[0m\u001b[0;34m\u001b[0m\u001b[0m\n\u001b[0;32m----> 2\u001b[0;31m \u001b[0mmodel\u001b[0m\u001b[0;34m.\u001b[0m\u001b[0mfit\u001b[0m\u001b[0;34m(\u001b[0m\u001b[0mx_train\u001b[0m\u001b[0;34m,\u001b[0m\u001b[0my_train\u001b[0m\u001b[0;34m)\u001b[0m\u001b[0;34m\u001b[0m\u001b[0;34m\u001b[0m\u001b[0m\n\u001b[0m\u001b[1;32m      3\u001b[0m \u001b[0my_pred\u001b[0m\u001b[0;34m=\u001b[0m\u001b[0mmodel\u001b[0m\u001b[0;34m.\u001b[0m\u001b[0mpredict\u001b[0m\u001b[0;34m(\u001b[0m\u001b[0mx_test\u001b[0m\u001b[0;34m)\u001b[0m\u001b[0;34m\u001b[0m\u001b[0;34m\u001b[0m\u001b[0m\n",
            "\u001b[0;32m/usr/local/lib/python3.8/dist-packages/sklearn/neighbors/_classification.py\u001b[0m in \u001b[0;36mfit\u001b[0;34m(self, X, y)\u001b[0m\n\u001b[1;32m    196\u001b[0m         \u001b[0mself\u001b[0m\u001b[0;34m.\u001b[0m\u001b[0mweights\u001b[0m \u001b[0;34m=\u001b[0m \u001b[0m_check_weights\u001b[0m\u001b[0;34m(\u001b[0m\u001b[0mself\u001b[0m\u001b[0;34m.\u001b[0m\u001b[0mweights\u001b[0m\u001b[0;34m)\u001b[0m\u001b[0;34m\u001b[0m\u001b[0;34m\u001b[0m\u001b[0m\n\u001b[1;32m    197\u001b[0m \u001b[0;34m\u001b[0m\u001b[0m\n\u001b[0;32m--> 198\u001b[0;31m         \u001b[0;32mreturn\u001b[0m \u001b[0mself\u001b[0m\u001b[0;34m.\u001b[0m\u001b[0m_fit\u001b[0m\u001b[0;34m(\u001b[0m\u001b[0mX\u001b[0m\u001b[0;34m,\u001b[0m \u001b[0my\u001b[0m\u001b[0;34m)\u001b[0m\u001b[0;34m\u001b[0m\u001b[0;34m\u001b[0m\u001b[0m\n\u001b[0m\u001b[1;32m    199\u001b[0m \u001b[0;34m\u001b[0m\u001b[0m\n\u001b[1;32m    200\u001b[0m     \u001b[0;32mdef\u001b[0m \u001b[0mpredict\u001b[0m\u001b[0;34m(\u001b[0m\u001b[0mself\u001b[0m\u001b[0;34m,\u001b[0m \u001b[0mX\u001b[0m\u001b[0;34m)\u001b[0m\u001b[0;34m:\u001b[0m\u001b[0;34m\u001b[0m\u001b[0;34m\u001b[0m\u001b[0m\n",
            "\u001b[0;32m/usr/local/lib/python3.8/dist-packages/sklearn/neighbors/_base.py\u001b[0m in \u001b[0;36m_fit\u001b[0;34m(self, X, y)\u001b[0m\n\u001b[1;32m    418\u001b[0m                     \u001b[0mself\u001b[0m\u001b[0;34m.\u001b[0m\u001b[0moutputs_2d_\u001b[0m \u001b[0;34m=\u001b[0m \u001b[0;32mTrue\u001b[0m\u001b[0;34m\u001b[0m\u001b[0;34m\u001b[0m\u001b[0m\n\u001b[1;32m    419\u001b[0m \u001b[0;34m\u001b[0m\u001b[0m\n\u001b[0;32m--> 420\u001b[0;31m                 \u001b[0mcheck_classification_targets\u001b[0m\u001b[0;34m(\u001b[0m\u001b[0my\u001b[0m\u001b[0;34m)\u001b[0m\u001b[0;34m\u001b[0m\u001b[0;34m\u001b[0m\u001b[0m\n\u001b[0m\u001b[1;32m    421\u001b[0m                 \u001b[0mself\u001b[0m\u001b[0;34m.\u001b[0m\u001b[0mclasses_\u001b[0m \u001b[0;34m=\u001b[0m \u001b[0;34m[\u001b[0m\u001b[0;34m]\u001b[0m\u001b[0;34m\u001b[0m\u001b[0;34m\u001b[0m\u001b[0m\n\u001b[1;32m    422\u001b[0m                 \u001b[0mself\u001b[0m\u001b[0;34m.\u001b[0m\u001b[0m_y\u001b[0m \u001b[0;34m=\u001b[0m \u001b[0mnp\u001b[0m\u001b[0;34m.\u001b[0m\u001b[0mempty\u001b[0m\u001b[0;34m(\u001b[0m\u001b[0my\u001b[0m\u001b[0;34m.\u001b[0m\u001b[0mshape\u001b[0m\u001b[0;34m,\u001b[0m \u001b[0mdtype\u001b[0m\u001b[0;34m=\u001b[0m\u001b[0mint\u001b[0m\u001b[0;34m)\u001b[0m\u001b[0;34m\u001b[0m\u001b[0;34m\u001b[0m\u001b[0m\n",
            "\u001b[0;32m/usr/local/lib/python3.8/dist-packages/sklearn/utils/multiclass.py\u001b[0m in \u001b[0;36mcheck_classification_targets\u001b[0;34m(y)\u001b[0m\n\u001b[1;32m    195\u001b[0m         \u001b[0;34m\"multilabel-sequences\"\u001b[0m\u001b[0;34m,\u001b[0m\u001b[0;34m\u001b[0m\u001b[0;34m\u001b[0m\u001b[0m\n\u001b[1;32m    196\u001b[0m     ]:\n\u001b[0;32m--> 197\u001b[0;31m         \u001b[0;32mraise\u001b[0m \u001b[0mValueError\u001b[0m\u001b[0;34m(\u001b[0m\u001b[0;34m\"Unknown label type: %r\"\u001b[0m \u001b[0;34m%\u001b[0m \u001b[0my_type\u001b[0m\u001b[0;34m)\u001b[0m\u001b[0;34m\u001b[0m\u001b[0;34m\u001b[0m\u001b[0m\n\u001b[0m\u001b[1;32m    198\u001b[0m \u001b[0;34m\u001b[0m\u001b[0m\n\u001b[1;32m    199\u001b[0m \u001b[0;34m\u001b[0m\u001b[0m\n",
            "\u001b[0;31mValueError\u001b[0m: Unknown label type: 'continuous'"
          ]
        }
      ]
    }
  ]
}